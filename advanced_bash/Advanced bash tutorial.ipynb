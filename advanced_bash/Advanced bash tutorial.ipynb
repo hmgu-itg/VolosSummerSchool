{
 "cells": [
  {
   "cell_type": "markdown",
   "metadata": {},
   "source": [
    "# Advanced Bash tutorial\n",
    "\n",
    "**Topics covered in this tutorial**:\n",
    "\n",
    "* Text processing tools: grep, sed, cut, awk, join, tr and paste.\n",
    "* Simple variable handling.\n",
    "* Loops.\n",
    "* Conditionals.\n",
    "* Pipes, backticks and brackets.\n",
    "* Functions (?).\n"
   ]
  },
  {
   "cell_type": "markdown",
   "metadata": {},
   "source": [
    "## Text processing tools\n",
    "\n",
    "Taking a look at the content of the files (as mentioned in the previous workshop):"
   ]
  },
  {
   "cell_type": "code",
   "execution_count": null,
   "metadata": {
    "collapsed": true
   },
   "outputs": [],
   "source": [
    "%%bash\n",
    "\n",
    "# display the first n-rows of the file:\n",
    "head -n10 filename\n",
    "\n",
    "# list all lines:\n",
    "cat filename\n",
    "\n",
    "# view lines:\n",
    "less filename\n",
    "\n",
    "# displaying the last 10 lines of a file:\n",
    "tail -n10 filename"
   ]
  },
  {
   "cell_type": "markdown",
   "metadata": {},
   "source": [
    "### grep\n",
    "\n",
    "Filters lines of a file based on a defined criteria."
   ]
  },
  {
   "cell_type": "code",
   "execution_count": null,
   "metadata": {
    "collapsed": true
   },
   "outputs": [],
   "source": [
    "%%bash\n",
    "\n",
    "# extracting variants that are associated with height:\n",
    "grep height filename\n",
    "grep -i height filename\n",
    "grep \n",
    "\n",
    "\n",
    "# extracting lines that are associated with "
   ]
  },
  {
   "cell_type": "markdown",
   "metadata": {},
   "source": [
    "## Variables\n",
    "\n",
    "Temporarily storing a piece of information that we are going to refer later using its name. Two basic actions:\n",
    "1. Setting the value (assignment).\n",
    "2. Reading the value (The shell substitues the name of the variable with its value)."
   ]
  },
  {
   "cell_type": "code",
   "execution_count": 10,
   "metadata": {
    "collapsed": false
   },
   "outputs": [
    {
     "name": "stdout",
     "output_type": "stream",
     "text": [
      "1. 12\n",
      "2. 12\n",
      "3. 12\n",
      "gene_list_chr12_lst\n"
     ]
    },
    {
     "name": "stderr",
     "output_type": "stream",
     "text": [
      "ls: gene_list_chr: No such file or directory\n"
     ]
    }
   ],
   "source": [
    "%%bash\n",
    "\n",
    "# Setting the value a local variable (no spaces around the = sign):\n",
    "chromosome=12 \n",
    "\n",
    "# Calling variable:\n",
    "echo 1. $chromosome\n",
    "echo 2. ${chromosome}\n",
    "echo 3. \"${chromosome}\"\n",
    "\n",
    "# When curly braces are needed:\n",
    "ls gene_list_chr$chromosome_lst # Warning message! The variable name is not separated from the rest of the string!\n",
    "ls gene_list_chr${chromosome}_lst"
   ]
  },
  {
   "cell_type": "markdown",
   "metadata": {},
   "source": [
    "Often automatic value assignment is required when the value is read derived from an other process. Imagine a list of files"
   ]
  },
  {
   "cell_type": "code",
   "execution_count": 11,
   "metadata": {
    "collapsed": false
   },
   "outputs": [
    {
     "name": "stderr",
     "output_type": "stream",
     "text": [
      "UsageError: %%bash is a cell magic, but the cell body is empty.\n"
     ]
    }
   ],
   "source": [
    "%%bash\n",
    "\n"
   ]
  },
  {
   "cell_type": "markdown",
   "metadata": {},
   "source": [
    "## Loops\n",
    "\n",
    "Often we have to repeat a set of steps multiple times. In such cases loops are constructed to keep the code short and clean. In bash we mainly use the `for` and the `while` loops. "
   ]
  },
  {
   "cell_type": "code",
   "execution_count": 17,
   "metadata": {
    "collapsed": false
   },
   "outputs": [
    {
     "name": "stdout",
     "output_type": "stream",
     "text": [
      "Processing 1\n",
      "Processing 2\n",
      "Processing 3\n",
      "Processing 4\n",
      "Processing 5\n",
      "Processing 6\n",
      "Processing 7\n",
      "Processing 8\n",
      "Processing 9\n",
      "Processing 10\n",
      "Processing 11\n",
      "Processing 12\n",
      "Processing 13\n",
      "Processing 14\n",
      "Processing 15\n",
      "Processing 16\n",
      "Processing 17\n",
      "Processing 18\n",
      "Processing 19\n",
      "Processing 20\n",
      "Processing 21\n",
      "Processing 22\n"
     ]
    }
   ],
   "source": [
    "%%bash\n",
    "\n",
    "# Repeating a process for all autosomes:\n",
    "for chr in {1..22}; do\n",
    "    echo Processing ${chr}\n",
    "    # Some commands... \n",
    "done"
   ]
  },
  {
   "cell_type": "markdown",
   "metadata": {},
   "source": [
    "In the above example using the curly braces, we generate a series of numbers between 1 and 22. Then in each this value is assigned to variable named `chr` in "
   ]
  }
 ],
 "metadata": {
  "kernelspec": {
   "display_name": "Python 3",
   "language": "python",
   "name": "python3"
  },
  "language_info": {
   "codemirror_mode": {
    "name": "ipython",
    "version": 3
   },
   "file_extension": ".py",
   "mimetype": "text/x-python",
   "name": "python",
   "nbconvert_exporter": "python",
   "pygments_lexer": "ipython3",
   "version": "3.6.0"
  }
 },
 "nbformat": 4,
 "nbformat_minor": 2
}
