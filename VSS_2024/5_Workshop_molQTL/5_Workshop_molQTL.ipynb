{
  "cells": [
    {
      "cell_type": "markdown",
      "metadata": {
        "id": "view-in-github"
      },
      "source": [
        "<a href=\"https://colab.research.google.com/github/hmgu-itg/VolosSummerSchool/blob/master/VSS_2024/5_Workshop_molQTL/5_Workshop_molQTL.ipynb\" target=\"_parent\"><img src=\"https://colab.research.google.com/assets/colab-badge.svg\" alt=\"Open In Colab\"/></a>"
      ]
    },
    {
      "cell_type": "markdown",
      "metadata": {
        "id": "26mhJKiEE2JP"
      },
      "source": [
        "# QTL practical\n",
        "*(Mauro Tutino, mauro.tutino@helmholtz-munich.de)*\n",
        "\n",
        "-   In this workshop, we will familiarize ourselves with the basic implementation of QTL mapping. For the purposes of this practical we will use genotype and gene expression data in human individuals.\n",
        "\n",
        "-   **Note!** The data have already passed the necessary QC (Quality Control checks e.g.normalization) and are ready to be analysed.\n",
        "\n",
        "*First we have to install several packages...*"
      ]
    },
    {
      "cell_type": "markdown",
      "metadata": {
        "id": "TcxsXx8a-Wmr"
      },
      "source": [
        "## Google Drive\n",
        "\n",
        "Let us set up the connection with Google Drive. We need the kernel to be set to python. You can do this inside \"change runtime type\" and selecting python"
      ]
    },
    {
      "cell_type": "code",
      "execution_count": null,
      "metadata": {
        "id": "-z5Yy-Gt-Wms"
      },
      "outputs": [],
      "source": [
        "from google.colab import drive\n",
        "drive.mount('/content/drive')"
      ]
    },
    {
      "cell_type": "markdown",
      "source": [
        "# Since the whole notebook is in R, let's change the kernel to be in R. You can do this inside \"change runtime type\" and selecting R"
      ],
      "metadata": {
        "id": "fmuaOoC2ERo9"
      }
    },
    {
      "cell_type": "code",
      "source": [
        "# If you did the above, this is not needed anymore\n",
        "#!pip install \"pandas<2.0.0\"\n",
        "#!pip install rpy2\n",
        "#import os # python related package to list files in the defined directory\n",
        "#import rpy2.ipython # allows to execute R if necessary from a python notebook\n",
        "#%load_ext rpy2.ipython"
      ],
      "metadata": {
        "id": "HQMdUva7A6Iv"
      },
      "execution_count": null,
      "outputs": []
    },
    {
      "cell_type": "code",
      "execution_count": null,
      "metadata": {
        "id": "5DXQVMfLERUa"
      },
      "outputs": [],
      "source": [
        "# Install all the necessary packages.\n",
        "if (!requireNamespace('dplyr', quietly = TRUE))\n",
        "install.packages('dplyr')\n",
        "if (!requireNamespace('tidyr', quietly = TRUE))\n",
        "install.packages('tidyr')\n",
        "if (!requireNamespace('ggplot2', quietly = TRUE))\n",
        "install.packages('ggplot2')\n",
        "if (!requireNamespace('magrittr', quietly = TRUE))\n",
        "install.packages('magrittr')\n",
        "#install.packages('factoextra')\n",
        "#if (!requireNamespace('devtools', quietly = TRUE))\n",
        "#install.packages('devtools')\n",
        "if (!requireNamespace('IRdisplay', quietly = TRUE))\n",
        "install.packages('IRdisplay')\n",
        "if (!requireNamespace('MatrixEQTL', quietly = TRUE))\n",
        "install.packages('MatrixEQTL')\n",
        "if (!requireNamespace('corrplot', quietly = TRUE))\n",
        "install.packages(\"corrplot\")"
      ]
    },
    {
      "cell_type": "code",
      "execution_count": null,
      "metadata": {
        "id": "ow5uZy8DE9vM"
      },
      "outputs": [],
      "source": [
        "# Load the libraries.\n",
        "library(dplyr)\n",
        "library(tidyr)\n",
        "library(ggplot2)\n",
        "library(magrittr)\n",
        "library(IRdisplay)\n",
        "library(MatrixEQTL)\n",
        "library(corrplot)"
      ]
    },
    {
      "cell_type": "code",
      "execution_count": null,
      "metadata": {
        "id": "uYP68QaP-Wmt"
      },
      "outputs": [],
      "source": [
        "setwd(\"/content/drive/My Drive/Complex_Traits\")"
      ]
    },
    {
      "cell_type": "code",
      "source": [
        "list.files()"
      ],
      "metadata": {
        "id": "8L5YjpezDivh"
      },
      "execution_count": null,
      "outputs": []
    },
    {
      "cell_type": "markdown",
      "source": [
        "Change the working directory to where the \"Data_and_dependencies.zip\" file is"
      ],
      "metadata": {
        "id": "hEHb7wMgSp07"
      }
    },
    {
      "cell_type": "code",
      "source": [
        "setwd('5_Workshop_molQTL')"
      ],
      "metadata": {
        "id": "m9CqUmmSDwy7"
      },
      "execution_count": null,
      "outputs": []
    },
    {
      "cell_type": "markdown",
      "source": [
        "# R trick, you can run bash commands (or any other command line code) from within R using the function 'system'"
      ],
      "metadata": {
        "id": "ccltmrkCE_Hn"
      }
    },
    {
      "cell_type": "code",
      "execution_count": null,
      "metadata": {
        "id": "yoAZOCcFg9pz"
      },
      "outputs": [],
      "source": [
        "# Unzip the Data & dependencies.\n",
        "system('unzip Data_and_dependencies.zip', intern = T)\n"
      ]
    },
    {
      "cell_type": "code",
      "source": [
        "list.files('Data_and_dependencies')"
      ],
      "metadata": {
        "id": "TZ_DcSChEAmF"
      },
      "execution_count": null,
      "outputs": []
    },
    {
      "cell_type": "markdown",
      "metadata": {
        "id": "Hg_2XtFAFU9n"
      },
      "source": [
        "\n",
        "- A quick overview of the things we are going to cover."
      ]
    },
    {
      "cell_type": "code",
      "execution_count": null,
      "metadata": {
        "id": "jNffOsAWFNUS"
      },
      "outputs": [],
      "source": [
        "setwd('Data_and_dependencies') # Set the working directory\n",
        "getwd()\n",
        "\n",
        "display_png(file = 'workflow.png')"
      ]
    },
    {
      "cell_type": "markdown",
      "metadata": {
        "id": "9bv0H5rLFlW3"
      },
      "source": [
        "---\n",
        "# Part 1. Getting to know your data\n",
        "\n",
        "-   First, we are going to load all the necessary files:\n",
        "  - What we need :\n",
        "      - a.  Genotypes\n",
        "      - b.  Gene Expression data\n",
        "      - c.  Info for Genes and SNPs (position, chromosome etc.)"
      ]
    },
    {
      "cell_type": "code",
      "execution_count": null,
      "metadata": {
        "id": "tn5T0yB2-Wmt"
      },
      "outputs": [],
      "source": [
        "#.a\n",
        "snps = read.table('input/uniq.snps.txt', header = T) # Genotype info - it has been converted to dosage matrix.\n",
        "\n",
        "snps <- snps %>%\n",
        "        select(snp, everything()) # Re-arrange the columns.\n",
        "head(snps)\n",
        "dim(snps)"
      ]
    },
    {
      "cell_type": "code",
      "execution_count": null,
      "metadata": {
        "id": "9EPc557nG3QT"
      },
      "outputs": [],
      "source": [
        "# b.\n",
        "ge = read.table('input/ge.profile.txt', header = T) # Gene expression data (RPKM values).\n",
        "rownames(ge) <- ge$IID\n",
        "head(ge)"
      ]
    },
    {
      "cell_type": "code",
      "execution_count": null,
      "metadata": {
        "id": "e_sMshNKRqul"
      },
      "outputs": [],
      "source": [
        "# c.\n",
        "snp.loc = read.table('input/snps.loc.txt', header = T) # Location info for SNPs.\n",
        "head(snp.loc)\n",
        "gene.loc = read.table('input/gene.loc.txt', header = T) # Location info for Genes.\n",
        "head(gene.loc)"
      ]
    },
    {
      "cell_type": "markdown",
      "metadata": {
        "id": "3-pmPqN-IK0j"
      },
      "source": [
        "---\n",
        "# Questions Part 1.\n",
        "\n",
        "  1.  How many Samples, SNPs and Genes do we have ?\n",
        "  2.  On which chromosome are the SNPs and Genes located ?"
      ]
    },
    {
      "cell_type": "code",
      "execution_count": null,
      "metadata": {
        "cellView": "form",
        "id": "-n3AZI68IMDm"
      },
      "outputs": [],
      "source": [
        "#@title # 1. How many Samples, SNPs and Genes do we have?\n",
        "cat('Number of Genes:', ncol(ge)-1, '\\n' );\n",
        "cat('Number of samples:', ncol(snps)-1, '\\n');\n",
        "cat('Number of SNPs:', nrow(snps), '\\n')"
      ]
    },
    {
      "cell_type": "code",
      "execution_count": null,
      "metadata": {
        "id": "ApzW3ZPOnMMk"
      },
      "outputs": [],
      "source": [
        "# 1. TYPE YOUR RESPONSE HERE"
      ]
    },
    {
      "cell_type": "code",
      "execution_count": null,
      "metadata": {
        "cellView": "form",
        "id": "tbRnKIDER91P"
      },
      "outputs": [],
      "source": [
        "# @title # 2. On which chromosome are the SNPs and Genes located ?\n",
        "cat('Chromosome of SNPs:', unique(snp.loc$chr), '\\n')\n",
        "cat('Chromosome of Genes:', unique(gene.loc$chr), '\\n')"
      ]
    },
    {
      "cell_type": "code",
      "execution_count": null,
      "metadata": {
        "id": "tK8M9Ps6ngXr"
      },
      "outputs": [],
      "source": [
        "# 2. TYPE YOUR RESPONSE HERE"
      ]
    },
    {
      "cell_type": "markdown",
      "metadata": {
        "id": "rkq1PWQeIQiW"
      },
      "source": [
        "---\n",
        "# Part 2. Exploratory data analysis and covariate selection\n",
        "\n",
        "- Although the data have passed the necessary QC steps, we will check for  outlier individuals/observations for both Genotype and GE data.\n",
        "A common practice to do this -in high dimensional data- is via Principal Component Analysis (PCA).\n",
        "\n",
        "*-Outlier observations can inflate false positive findings.*\n",
        "\n",
        "- We will start with the PCA of genotypes. After computing the Principal Components (PCs) we are going to plot the first two of them.\n",
        "\n",
        "*-By definition the first PC captures the majority of variance in the variables of interest.*\n",
        "\n",
        "NOTE: here we use the R function prcomp() to calculate the PCs. Usually this is done with specialised software such as Plink"
      ]
    },
    {
      "cell_type": "code",
      "execution_count": null,
      "metadata": {
        "id": "0l3EisuCIRLT"
      },
      "outputs": [],
      "source": [
        "# PCA for genotypes via prcomp in R.\n",
        "geno.pca <- prcomp(t(snps[,-1]), scale. = T) # Remember to include only the variables. NB we have to transpose the data frame since the package needs the variables as columns and subjects as rows!\n",
        "summary(geno.pca) # Take a look at the output\n",
        "\n",
        "# Visual inspection of PCs, plotting the first 2 PCs.\n",
        "pca.data <-  data.frame(PC1=geno.pca$x[,1], PC2=geno.pca$x[,2])\n",
        "\n",
        "cat('', '\\n')\n",
        "PC1.sd <-  sd(pca.data$PC1)\n",
        "PC2.sd <-  sd(pca.data$PC2)\n",
        "\n",
        "ggplot(data=pca.data, aes(x=PC1, y=PC2)) +\n",
        "  geom_point() +\n",
        "  geom_vline(xintercept = mean(pca.data$PC1) - 3*PC1.sd, colour=\"red\", linetype = \"longdash\") +\n",
        "  geom_vline(xintercept = mean(pca.data$PC1) + 3*PC1.sd, colour=\"red\", linetype = \"longdash\") +\n",
        "  geom_hline(yintercept = mean(pca.data$PC2) - 3*PC2.sd, colour=\"blue\", linetype = \"longdash\") +\n",
        "  geom_hline(yintercept = mean(pca.data$PC2) + 3*PC2.sd, colour=\"blue\", linetype = \"longdash\") +\n",
        "  ggtitle('PCA for Genotype data')\n",
        "\n"
      ]
    },
    {
      "cell_type": "markdown",
      "source": [
        "The points in the scatter plot are randomly scattered, no indication of clustering."
      ],
      "metadata": {
        "id": "_kW5KYPbHGjN"
      }
    },
    {
      "cell_type": "code",
      "execution_count": null,
      "metadata": {
        "id": "2JLv6klE-Wmu"
      },
      "outputs": [],
      "source": [
        "# Here we can access the Principal Component scores for each individual\n",
        "head(geno.pca$x)"
      ]
    },
    {
      "cell_type": "markdown",
      "metadata": {
        "id": "oyZD7zaYIaoA"
      },
      "source": [
        "Next, we are going to produce the same plot for the GE data..."
      ]
    },
    {
      "cell_type": "code",
      "execution_count": null,
      "metadata": {
        "id": "fP75zxZEIY6S"
      },
      "outputs": [],
      "source": [
        "# The same procedure as above.\n",
        "ge.pca = prcomp(ge[,-1], scale = T) # No need to transpose the data frame.\n",
        "summary(ge.pca)\n",
        "\n",
        "# PCA data.frame\n",
        "pca.data = data.frame(PC1=ge.pca$x[,1], PC2=ge.pca$x[,2])\n",
        "\n",
        "PC1.sd = sd(pca.data$PC1)\n",
        "PC2.sd = sd(pca.data$PC2)\n",
        "\n",
        "# Visual inspection of PCs.\n",
        "ggplot(data=pca.data, aes(x=PC1, y=PC2)) +\n",
        "  geom_point() +\n",
        "  geom_vline(xintercept = mean(pca.data$PC1) - 3*PC1.sd, colour=\"red\", linetype = \"longdash\") +\n",
        "  geom_vline(xintercept = mean(pca.data$PC1) + 3*PC1.sd, colour=\"red\", linetype = \"longdash\") +\n",
        "  geom_hline(yintercept = mean(pca.data$PC2) - 3*PC2.sd, colour=\"blue\", linetype = \"longdash\") +\n",
        "  geom_hline(yintercept = mean(pca.data$PC2) + 3*PC2.sd, colour=\"blue\", linetype = \"longdash\") +\n",
        "  ggtitle('PCA for GE data')\n",
        "\n",
        "# Variation explained for each PC.\n",
        "pca.object.var <- summary(ge.pca)\n",
        "pca.object.var.per <- as.numeric(pca.object.var$importance[2,])*100\n",
        "\n",
        "barplot(pca.object.var.per[1:10], main=\"Percent variation for PC1-10\",\n",
        "        xlab = \"PC\",\n",
        "        ylab = \"Percent Variation (%)\",\n",
        "        xlim = c(0, 11),\n",
        "        ylim = c(0,100))\n",
        "\n"
      ]
    },
    {
      "cell_type": "markdown",
      "metadata": {
        "id": "lLn3BlynIeSg"
      },
      "source": [
        "# Questions Part 2.\n",
        "\n",
        "  1. What do you think of the PCA plot in GE data ? Any outliers ?\n",
        "  2. How much variation do the first 3 components explain in GE data ?\n"
      ]
    },
    {
      "cell_type": "code",
      "source": [
        "# @title 1. What do you think of the PCA plot in GE data ? Any outliers ?\n",
        "\n",
        "# As we can see there is one point that falls outside the bondaries but it is still very close.\n",
        "# Even if we are going to exclude this observation it is unlikely that this will influence the behaviour of the other points.\n"
      ],
      "metadata": {
        "cellView": "form",
        "id": "vMs8uXWMJLzi"
      },
      "execution_count": null,
      "outputs": []
    },
    {
      "cell_type": "markdown",
      "source": [
        "######.1 TYPE YOUR RESPONSE HERE (text only)"
      ],
      "metadata": {
        "id": "Jbf2cnaTIaEm"
      }
    },
    {
      "cell_type": "code",
      "source": [
        "#@title #### 2. How much variation do the first 3 components explain in GE data ?\n",
        "\n",
        "pca.object.var$importance[3,3]*100\n"
      ],
      "metadata": {
        "cellView": "form",
        "id": "FPZqhmfVHlfV"
      },
      "execution_count": null,
      "outputs": []
    },
    {
      "cell_type": "markdown",
      "metadata": {
        "id": "lXkApWfFIklP"
      },
      "source": [
        "- Except for outlier detection, PCA, can also be used for:\n",
        "    - covariate selection\n",
        "    - account for unknown covariates\n",
        "\n",
        "*-Recall from the previous lectures that when we are modelling the effect of a variable on an outcome of interest, in our case the genetic effect of SNP on GE, we have to control for additional factors that may confound the relationship that we are investigating.*\n",
        "\n",
        "- We have data for Age, Sex and BMI for each participant, go ahead and load the data."
      ]
    },
    {
      "cell_type": "code",
      "execution_count": null,
      "metadata": {
        "id": "S2TjvyC2Iufy"
      },
      "outputs": [],
      "source": [
        "# Load the covariates.\n",
        "age = read.table('input/Age.txt', header = F)\n",
        "age = age[,c(1,3)] # Drop the duplicated column.\n",
        "colnames(age) <- c('IID','age')\n",
        "\n",
        "sex = read.table('input/Sex.txt', header = F)\n",
        "sex = sex[,c(1,3)] # Drop the duplicated column.\n",
        "colnames(sex) <- c('IID','sex')\n",
        "\n",
        "bmi = read.table('input/BMI.txt', header = F)\n",
        "bmi = bmi[,c(1,3)] # Drop the duplicated column.\n",
        "colnames(bmi) <- c('IID','bmi')"
      ]
    },
    {
      "cell_type": "code",
      "execution_count": null,
      "metadata": {
        "id": "J6uvllBC16PX"
      },
      "outputs": [],
      "source": [
        "# Correlation plot of PCs with covariates\n",
        "\n",
        "# Do the the PCs of GE correlate with the observed covariates/factors ?\n",
        "metadata = merge(age, sex, by = 'IID')\n",
        "metadata = merge(metadata, bmi, by = 'IID')\n",
        "\n",
        "# Make sure that we have the same order in SampleIDs between dataframes.\n",
        "metadata <- metadata[match(ge$IID, metadata$IID),] # Tricky the first argument of match defines the order of matching values.\n",
        "\n",
        "identical(ge$IID, metadata$IID) # Sanity check.\n",
        "\n",
        "# Data manipulation to meet the need of PCAtools.\n",
        "t.ge <- t(as.matrix(ge))\n",
        "colnames(t.ge) <- t.ge[1,]\n",
        "t.ge <- t.ge[-1,]\n",
        "rownames(t.ge) <- NULL\n",
        "t.ge <- data.frame(t.ge)\n",
        "t.ge[,] <- sapply(t.ge, as.numeric)\n",
        "\n",
        "rownames(metadata) <- metadata$IID\n",
        "\n",
        "ge.pca_3PC <- as.data.frame(ge.pca$x[,c(1:3)])\n",
        "ge.pca_3PC$IID <- rownames(ge.pca_3PC)\n",
        "\n",
        "metadata <- merge(metadata, ge.pca_3PC, by = 'IID')\n",
        "metadata$sex <- as.numeric(as.factor(metadata$sex)) # convert sex to numerical for correlation\n",
        "\n",
        "head(metadata)\n",
        "\n",
        "# Calculate correlation.\n",
        "# In this case, we are not interested in the correlation between PCs\n",
        "cor.res <- cor(metadata[,2:4], metadata[,5:7])\n",
        "\n",
        "# Plot correlation\n",
        "corrplot(cor.res, type = \"upper\", order = \"original\",\n",
        "         tl.col = \"black\", tl.srt = 45, addCoef.col = 'black')\n",
        "\n",
        "# Positive correlations are displayed in blue and negative correlations in red color.\n",
        "# Color intensity and the size of the circle are proportional to the correlation coefficients.\n",
        "# In the right side of the correlogram, the legend color shows the correlation coefficients and the corresponding colors."
      ]
    },
    {
      "cell_type": "markdown",
      "metadata": {
        "id": "8Vn7zoQgNKlm"
      },
      "source": [
        "- Only PC3 shows a moderate correlation with sex"
      ]
    },
    {
      "cell_type": "markdown",
      "metadata": {
        "id": "JQmoOWUg-Wmy"
      },
      "source": [
        "---\n",
        "# Part 3. Data formatting for MatrixEQTL\n",
        "\n",
        "MatrixEQTL is a tool specialized for genetic association analyses with molecular traits (Gene Expression data, Metabolites etc.). Instead of doing single-point associations, like for GWAS tools, it performs matrix operations, which allows to run thousands of associations at once. It also allows to run cis and trans QTL separately.\n",
        "\n",
        "\n",
        "In this section we are going to prepare the input files for MatrixEQTL\n"
      ]
    },
    {
      "cell_type": "code",
      "execution_count": null,
      "metadata": {
        "id": "4KU5ZLc4-Wmy"
      },
      "outputs": [],
      "source": [
        "# Format the gene expression data - samples need to be on columns\n",
        "dim(ge)\n",
        "print(\"Before\")\n",
        "ge[1:5,1:5]\n",
        "\n",
        "ge <- t(ge)\n",
        "\n",
        "colnames(ge) <- ge[1,]\n",
        "ge <- ge[-1,]\n",
        "print(\"After\")\n",
        "ge[1:5,1:5]"
      ]
    },
    {
      "cell_type": "code",
      "execution_count": null,
      "metadata": {
        "id": "ceUTEeFV-Wmy"
      },
      "outputs": [],
      "source": [
        "# Format genotype data - samples need to be on columns\n",
        "dim(snps)\n",
        "print(\"Before\")\n",
        "snps[1:5,1:5]\n",
        "\n",
        "rownames(snps) <- snps[,1]\n",
        "snps <- snps[,-1]\n",
        "print(\"After\")\n",
        "snps[1:5,1:5]\n"
      ]
    },
    {
      "cell_type": "code",
      "execution_count": null,
      "metadata": {
        "id": "ogAba5WD-Wmy"
      },
      "outputs": [],
      "source": [
        "# Format covariates data - samples need to be on columns\n",
        "\n",
        "covariates = merge(age, sex, by = 'IID')\n",
        "covariates = merge(covariates, bmi, by = 'IID')\n",
        "\n",
        "# we need to convert sex to numeric, F==0 and M==1\n",
        "covariates <- covariates %>%\n",
        "                mutate(sex = case_when(\n",
        "                sex == \"F\" ~ \"0\",\n",
        "                sex == \"M\" ~ \"1\",\n",
        "                TRUE ~ sex),\n",
        "                sex = as.numeric(sex)) %>% # Add the first three genotype principal components\n",
        "                left_join(.,\n",
        "                         as.data.frame(geno.pca$x) %>%\n",
        "                          dplyr::select(1:3) %>%\n",
        "                          mutate(IID = rownames(.)),\n",
        "                         by='IID')\n",
        "\n",
        "\n",
        "\n",
        "# Transpose and format\n",
        "covariates <- t(covariates)\n",
        "colnames(covariates) <- covariates[1,]\n",
        "covariates <- covariates[-1,]\n",
        "\n",
        "covariates[,1:5]\n"
      ]
    },
    {
      "cell_type": "code",
      "execution_count": null,
      "metadata": {
        "id": "h7ez-s-p-Wmy"
      },
      "outputs": [],
      "source": [
        "# Check that the samples are in the right order between the files\n",
        "index <- colnames(snps)\n",
        "\n",
        "ge <- ge[,match(index, colnames(ge))]\n",
        "covariates <- covariates[,match(index, colnames(covariates))]\n",
        "\n",
        "ge[1:5,1:5]\n",
        "covariates[,1:5]\n",
        "snps[1:5,1:5]\n",
        "\n",
        "identical(colnames(ge), colnames(snps))\n",
        "identical(colnames(ge), colnames(covariates))\n"
      ]
    },
    {
      "cell_type": "code",
      "execution_count": null,
      "metadata": {
        "id": "oCPrVEsi-Wmy"
      },
      "outputs": [],
      "source": [
        "# write files to disk\n",
        "write.table(ge, file=\"input/ge_matrixEQTL.txt\", quote = FALSE, sep = \"\\t\", row.names = TRUE, col.names = TRUE)\n",
        "write.table(snps, file=\"input/snps_matrixEQTL.txt\", quote = FALSE, sep = \"\\t\", row.names = TRUE, col.names = TRUE)\n",
        "write.table(covariates, file=\"input/covariates_matrixEQTL.txt\", quote = FALSE, sep = \"\\t\", row.names = TRUE, col.names = TRUE)\n",
        "\n"
      ]
    },
    {
      "cell_type": "code",
      "execution_count": null,
      "metadata": {
        "id": "_2-Z2ROi-Wmz"
      },
      "outputs": [],
      "source": [
        "# we need to provide the snp and gene positions in the format snp\tchr\tpos and geneid\tchr\ts1\ts2\n",
        "snp.loc = read.table('input/snps.loc.txt', header = TRUE, ) # Location info for SNPs.\n",
        "head(snp.loc)\n",
        "gene.loc = read.table('input/gene.loc.txt', header = TRUE) # Location info for Genes.\n",
        "head(gene.loc)\n",
        "\n",
        "dim(snp.loc)\n",
        "dim(snps)"
      ]
    },
    {
      "cell_type": "code",
      "source": [
        "# @title Find the Bug, DO NOT RUN JUST YET AND DO NOT PEEK. We will run this one at the end\n",
        "snp.loc$chr <- paste0(\"chr\",snp.loc$chr)"
      ],
      "metadata": {
        "cellView": "form",
        "id": "_Xis82oYgQ7F"
      },
      "execution_count": null,
      "outputs": []
    },
    {
      "cell_type": "markdown",
      "metadata": {
        "id": "hIVxIILNI7EU"
      },
      "source": [
        "---\n",
        "# Part 4. Association analysis - QTL mapping\n",
        "- We are going to perform a cis-association analysis on chromosome1. That is, only the variants that fall inside a +/- 1Mb window from the TSS of the gene of interest are going to be tested.\n",
        "\n",
        "  - Recall that we are using a linear regression model to estimate the genetic effect of each variant for the expression of each Gene.\n",
        "\n"
      ]
    },
    {
      "cell_type": "code",
      "execution_count": null,
      "metadata": {
        "id": "rfbiFeT2-Wmz"
      },
      "outputs": [],
      "source": [
        "## Genotype file name\n",
        "SNP_file_name = \"input/snps_matrixEQTL.txt\" # dosage of alt allele. Samples on columns\n",
        "\n",
        "### Gene expression file name\n",
        "expression_file_name = \"input/ge_matrixEQTL.txt\"\n",
        "\n",
        "## Covariates file name\n",
        "covariates_file_name = \"input/covariates_matrixEQTL.txt\"\n",
        "\n",
        "\n"
      ]
    },
    {
      "cell_type": "code",
      "execution_count": null,
      "metadata": {
        "id": "Wku2VbMy-Wmz"
      },
      "outputs": [],
      "source": [
        "######----------------------------- set up parameters\n",
        "\n",
        "# Error covariance matrix\n",
        "# Set to numeric() for identity.\n",
        "errorCovariance = numeric();\n",
        "\n",
        "# Output file names\n",
        "transFileName = \"eQTL_trans.txt\"\n",
        "cisFileName = \"eQTL_cis.txt\"\n",
        "\n",
        "# Distance for local gene-SNP pairs\n",
        "cisDist = 1e6\n",
        "\n",
        "# model to use: modelANOVA, modelLINEAR, or modelLINEAR_CROSS\n",
        "useModel = modelLINEAR\n",
        "\n",
        "cis.thresh = 5e-8 # Save cis results with p-value < 5e-8\n",
        "trans.thresh = 0 # Don't perform trans eQTL analysis. Change this to anything > 0 if you want to perfom trans analysis. NB it is lots of tests!\n",
        "\n"
      ]
    },
    {
      "cell_type": "code",
      "execution_count": null,
      "metadata": {
        "id": "BsA3ylG2-Wmz"
      },
      "outputs": [],
      "source": [
        "######----------------------------- load files\n",
        "\n",
        "## Load genotype data\n",
        "geno = SlicedData$new();\n",
        "geno$fileDelimiter = \"\\t\";      # the TAB character\n",
        "geno$fileOmitCharacters = \"NA\"; # denote missing values;\n",
        "geno$fileSkipRows = 1;          # one row of column labels\n",
        "geno$fileSkipColumns = 1;       # one column of row labels\n",
        "geno$fileSliceSize = 2000;      # read file in slices of 5,000 rows\n",
        "geno$LoadFile(SNP_file_name);\n",
        "\n",
        "\n",
        "## Load gene expression data\n",
        "gene = SlicedData$new();\n",
        "gene$fileDelimiter = \"\\t\";      # the tab character\n",
        "gene$fileOmitCharacters = \"NA\"; # denote missing values;\n",
        "gene$fileSkipRows = 1;          # one row of column labels\n",
        "gene$fileSkipColumns = 1;       # one column of row labels\n",
        "gene$fileSliceSize = 2000;      # read file in slices of 2,000 rows\n",
        "gene$LoadFile(expression_file_name);\n",
        "\n",
        "## Load covariates\n",
        "cvrt = SlicedData$new();\n",
        "cvrt$fileDelimiter = \"\\t\";      # the comma character\n",
        "cvrt$fileOmitCharacters = \"NA\"; # denote missing values;\n",
        "cvrt$fileSkipRows = 1;          # one row of column labels\n",
        "cvrt$fileSkipColumns = 1;       # one column of row labels\n",
        "#If loading from file\n",
        "if(length(covariates_file_name)>0) {\n",
        " cvrt$LoadFile(covariates_file_name);\n",
        "}\n",
        "\n"
      ]
    },
    {
      "cell_type": "code",
      "execution_count": null,
      "metadata": {
        "id": "PPA8a093-Wmz"
      },
      "outputs": [],
      "source": [
        "#######---------- run matrixeQTL\n",
        "me = Matrix_eQTL_main(\n",
        "    snps = geno,\n",
        "    gene = gene,\n",
        "    cvrt = cvrt,\n",
        "    output_file_name     = file.path(\"output\", transFileName),\n",
        "    output_file_name.cis = file.path(\"output\", cisFileName),\n",
        "    pvOutputThreshold     = trans.thresh,\n",
        "    pvOutputThreshold.cis = cis.thresh,\n",
        "    useModel = useModel,\n",
        "    errorCovariance = numeric(),\n",
        "    verbose = FALSE,\n",
        "    snpspos = snp.loc,\n",
        "    genepos = gene.loc,\n",
        "    cisDist = cisDist,\n",
        "    pvalue.hist = \"qqplot\",\n",
        "    min.pv.by.genesnp = TRUE,\n",
        "    noFDRsaveMemory = TRUE);\n",
        "\n",
        "\n"
      ]
    },
    {
      "cell_type": "code",
      "execution_count": null,
      "metadata": {
        "id": "8JphdQnP-Wmz"
      },
      "outputs": [],
      "source": [
        "# MatrixEQTL saved the cis eQTL summary statistics to disk but it also saved important infomation in the \"me\" variable\n",
        "# what class variable is it?\n",
        "# Check what values are stored in there\n",
        "class(me)\n",
        "names(me)\n",
        "names(me$cis)\n",
        "\n",
        "# Make Q-Q plot\n",
        "plot(me)"
      ]
    },
    {
      "cell_type": "markdown",
      "metadata": {
        "id": "qRsDmmN_JFl7"
      },
      "source": [
        "---\n",
        "# Questions Part 4.\n",
        "\n",
        "  1. How many tests did we perform ? How many eGenes (Genes with at least one sig. SNP) and eQTLs do we have ? NOTE: here we consider a p-value < 5e-8 as statistically significant.\n",
        "  2. Retrieve the best eQTL per Gene.\n",
        "  3. Imagine we set the parameter trans.thresh = 1, i.e.  save all trans eQTL results, how many trans eQTL test would have MatrixEQTL performed?"
      ]
    },
    {
      "cell_type": "code",
      "source": [
        "# @title 1. How many tests did we perform ? How many eGenes (Genes with at least one sig. SNP) and eQTLs do we have ? NOTE: here we consider a p-value < 5e-8 as statistically significant.\n",
        "paste('Number of cis-tests: ', me$cis$ntests)\n",
        "paste('Number of eGenes:', sum(me$cis$min.pv.gene < 5e-8))\n",
        "paste('Number of eqtls: ', me$cis$neqtls)\n"
      ],
      "metadata": {
        "cellView": "form",
        "id": "LG9v3V0zN79q"
      },
      "execution_count": null,
      "outputs": []
    },
    {
      "cell_type": "code",
      "execution_count": null,
      "metadata": {
        "id": "LDu4xcYu1wwC"
      },
      "outputs": [],
      "source": [
        "# 1. TYPE YOUR RESPONSE HERE"
      ]
    },
    {
      "cell_type": "code",
      "source": [
        "# @title 2. Manually retrieve the best (most significant) eQTL per Gene from the matrixeQTL output and store it in a object called \"eqtls\"\n",
        "\n",
        "# Manually extract the minimum p-value for each gene\n",
        "eqtls <- read.table(file.path(\"output\", cisFileName), header = T)\n",
        "\n",
        "eqtls %>%\n",
        "  group_by(gene) %>%\n",
        "  slice(which.min(p.value))\n"
      ],
      "metadata": {
        "cellView": "form",
        "id": "h44P9mH6OJL8"
      },
      "execution_count": null,
      "outputs": []
    },
    {
      "cell_type": "code",
      "source": [
        "# 2. TYPE YOUR RESPONSE HERE"
      ],
      "metadata": {
        "id": "Woc_-4eqOW0V"
      },
      "execution_count": null,
      "outputs": []
    },
    {
      "cell_type": "code",
      "source": [
        "# @title 3. Imagine we set the parameter trans.thresh = 1, i.e.  save all trans eQTL results, how many trans eQTL test would have MatrixEQTL performed?\n",
        "\n",
        "paste('Number of trans-tests:', nrow(snps)*nrow(ge))\n"
      ],
      "metadata": {
        "cellView": "form",
        "id": "8yasSa-hO0aC"
      },
      "execution_count": null,
      "outputs": []
    },
    {
      "cell_type": "code",
      "execution_count": null,
      "metadata": {
        "id": "O4kVoKIK-Wmz"
      },
      "outputs": [],
      "source": [
        "# 3. TYPE YOUR RESPONSE HERE\n"
      ]
    },
    {
      "cell_type": "code",
      "execution_count": null,
      "metadata": {
        "id": "bhXOxd1q-Wm0"
      },
      "outputs": [],
      "source": [
        "# Do the numbers match the ones reported by matrixEQTL?\n",
        "\n",
        "paste('Number of eGenes: ', length(unique(eqtls$gene)))\n",
        "paste('Number of eqtls: ', nrow(eqtls))\n"
      ]
    },
    {
      "cell_type": "code",
      "execution_count": null,
      "metadata": {
        "id": "o9iq0lQ--Wm0"
      },
      "outputs": [],
      "source": [
        "# Why do you think the following result gives a different number of eQTLs?\n",
        "paste('Number of eqtls: ', nrow(eqtls))\n",
        "paste('Number of eqtls: ', sum(me$cis$min.pv.snps < 5e-8))\n"
      ]
    },
    {
      "cell_type": "code",
      "execution_count": null,
      "metadata": {
        "id": "aSHBo0Uf-Wm0"
      },
      "outputs": [],
      "source": [
        "head(eqtls)\n",
        "signifSNP <- eqtls %>%\n",
        "    dplyr::filter(p.value < 5e-8) %>%\n",
        "    pull(SNP)\n",
        "\n",
        "paste('N. duplicated SNPs: ', sum(duplicated(signifSNP)))"
      ]
    },
    {
      "cell_type": "markdown",
      "metadata": {
        "id": "NoqpbbkPEBEL"
      },
      "source": [
        "---\n",
        "# Further exploration\n"
      ]
    },
    {
      "cell_type": "markdown",
      "metadata": {
        "id": "iK2IXdGLFzAH"
      },
      "source": [
        "- Next, make a histogram for the distance of cis-eQTLs from the TSS of the canditate eGene."
      ]
    },
    {
      "cell_type": "code",
      "execution_count": null,
      "metadata": {
        "id": "MHd73Ay2Hl4u"
      },
      "outputs": [],
      "source": [
        "# Distance to TSS.\n",
        "eqtls.tss <- eqtls %>%\n",
        "                left_join(., snp.loc[,-2], by=c(\"SNP\"=\"SNP_ID\")) %>% # merge MatrixEQTL summary stats with SNP location\n",
        "                rename(\"SNP_pos\"=\"pos\") %>%\n",
        "                left_join(., gene.loc[,c(1,3)], by=\"gene\") %>% # now also add gene location\n",
        "                rename(\"gene_pos\"=\"start\") %>%\n",
        "                mutate(dist.to.tss=gene_pos-SNP_pos) # calculate TSS distance\n",
        "head(eqtls.tss)\n",
        "\n",
        "hist(eqtls.tss$dist.to.tss, breaks = 100, main = 'Histogram of cis-eQTL distances ' , xlab = 'Distance to TSS')\n",
        "abline(v=0)\n"
      ]
    },
    {
      "cell_type": "markdown",
      "metadata": {
        "id": "rcaSgHLy4TA9"
      },
      "source": [
        "As expected, most of the signals are clustereed around the TSS of the Gene.\n"
      ]
    },
    {
      "cell_type": "markdown",
      "metadata": {
        "id": "qF1DfnYHYlk_"
      },
      "source": [
        "Now, let's retrieve the best eQTL (the one with the smallest p-value) for the eGene with the most findings."
      ]
    },
    {
      "cell_type": "code",
      "execution_count": null,
      "metadata": {
        "id": "MlaG-y5r4OKV"
      },
      "outputs": [],
      "source": [
        "# Best eQTL for the Gene with most findings.\n",
        "eqtls %>%\n",
        "    group_by(gene) %>%\n",
        "    summarise(n.eqtls = n()) %>%\n",
        "    arrange(desc(n.eqtls))\n",
        "\n"
      ]
    },
    {
      "cell_type": "code",
      "execution_count": null,
      "metadata": {
        "id": "sUipukdd-Wm0"
      },
      "outputs": [],
      "source": [
        "top.signal <- eqtls %>%\n",
        "                dplyr::filter(gene == 'ENSG00000198468.3') %>%\n",
        "                slice(which.min(p.value))\n",
        "head(top.signal)"
      ]
    },
    {
      "cell_type": "markdown",
      "metadata": {
        "id": "5iJM3g07GRSJ"
      },
      "source": [
        "- Visualize the effect of the best eQTL for the ENSG00000198468.3 Gene."
      ]
    },
    {
      "cell_type": "code",
      "execution_count": null,
      "metadata": {
        "id": "CAbqhwIS6bxN"
      },
      "outputs": [],
      "source": [
        "# Boxplot for the best eQTL.\n",
        "plot.data <- snps %>%\n",
        "                dplyr::filter(rownames(snps) == top.signal$SNP)\n",
        "\n",
        "plot.data = as.data.frame(t(plot.data))\n",
        "\n",
        "plot.data = cbind(plot.data, ge[rownames(ge) == top.signal$gene,]) # add gene expression\n",
        "\n",
        "\n",
        "boxplot(as.numeric(plot.data[[2]]) ~ as.factor(as.character(plot.data[[1]])), xlab = \"1_213014465_G_A\",\n",
        "   ylab = \"GE\", main = \"ENSG00000198468.3\")"
      ]
    },
    {
      "cell_type": "markdown",
      "metadata": {
        "id": "QHo7NZc4V6y4"
      },
      "source": [
        "---\n"
      ]
    },
    {
      "cell_type": "code",
      "source": [
        "# @title Find the bug solution (kind of)\n",
        "head(snp.loc)\n",
        "head(gene.loc)"
      ],
      "metadata": {
        "cellView": "form",
        "id": "0O4wqVEZh4qs"
      },
      "execution_count": null,
      "outputs": []
    }
  ],
  "metadata": {
    "colab": {
      "provenance": []
    },
    "kernelspec": {
      "display_name": "Python 3",
      "name": "python3"
    },
    "language_info": {
      "name": "python"
    }
  },
  "nbformat": 4,
  "nbformat_minor": 0
}