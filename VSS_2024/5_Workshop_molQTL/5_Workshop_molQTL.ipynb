{
 "cells": [
  {
   "cell_type": "markdown",
   "metadata": {
    "colab_type": "text",
    "id": "view-in-github"
   },
   "source": [
    "<a href=\"https://colab.research.google.com/github/hmgu-itg/VolosSummerSchool/blob/master/VSS_2023/7_Workshop_molQTL/7_Workshop_molQTL.ipynb\" target=\"_parent\"><img src=\"https://colab.research.google.com/assets/colab-badge.svg\" alt=\"Open In Colab\"/></a>"
   ]
  },
  {
   "cell_type": "markdown",
   "metadata": {
    "id": "26mhJKiEE2JP"
   },
   "source": [
    "# QTL practical\n",
    "*(Mauro Tutino, mauro.tutino@helmholtz-munich.de)*\n",
    "\n",
    "-   In this workshop, we will familiarize ourselves with the basic implementation of QTL mapping. For the purposes of this practical we will use genotype and Gene expression data in human individuals.\n",
    "\n",
    "-   **Note!** The data have already passed the necessary QC (Quality Control checks e.g.normalization) and are ready to be analysed.\n",
    "\n",
    "*First we have to install several packages...*"
   ]
  },
  {
   "cell_type": "code",
   "execution_count": 1,
   "metadata": {
    "colab": {
     "base_uri": "https://localhost:8080/"
    },
    "id": "5DXQVMfLERUa",
    "outputId": "db72ea85-a250-4527-ea74-6543092ed6f7"
   },
   "outputs": [
    {
     "name": "stdout",
     "output_type": "stream",
     "text": [
      "\n",
      "Die heruntergeladenen Binärpakete sind in \n",
      "\t/var/folders/jn/rn3xhrh561q2mglh5snf7clh6q2mgp/T//Rtmp09TU6Y/downloaded_packages\n",
      "\n",
      "Die heruntergeladenen Binärpakete sind in \n",
      "\t/var/folders/jn/rn3xhrh561q2mglh5snf7clh6q2mgp/T//Rtmp09TU6Y/downloaded_packages\n",
      "\n",
      "Die heruntergeladenen Binärpakete sind in \n",
      "\t/var/folders/jn/rn3xhrh561q2mglh5snf7clh6q2mgp/T//Rtmp09TU6Y/downloaded_packages\n",
      "\n",
      "Die heruntergeladenen Binärpakete sind in \n",
      "\t/var/folders/jn/rn3xhrh561q2mglh5snf7clh6q2mgp/T//Rtmp09TU6Y/downloaded_packages\n",
      "\n",
      "Die heruntergeladenen Binärpakete sind in \n",
      "\t/var/folders/jn/rn3xhrh561q2mglh5snf7clh6q2mgp/T//Rtmp09TU6Y/downloaded_packages\n",
      "\n",
      "Die heruntergeladenen Binärpakete sind in \n",
      "\t/var/folders/jn/rn3xhrh561q2mglh5snf7clh6q2mgp/T//Rtmp09TU6Y/downloaded_packages\n",
      "\n",
      "Die heruntergeladenen Binärpakete sind in \n",
      "\t/var/folders/jn/rn3xhrh561q2mglh5snf7clh6q2mgp/T//Rtmp09TU6Y/downloaded_packages\n"
     ]
    }
   ],
   "source": [
    "# Install all the necessarry packages.\n",
    "install.packages('dplyr')\n",
    "install.packages('tidyr')\n",
    "install.packages('ggplot2')\n",
    "install.packages('magrittr')\n",
    "#install.packages('factoextra')\n",
    "#if (!requireNamespace('devtools', quietly = TRUE))\n",
    "#install.packages('devtools')\n",
    "#devtools::install_github('kevinblighe/PCAtools')\n",
    "install.packages('IRdisplay')\n",
    "install.packages('MatrixEQTL')\n",
    "install.packages(\"corrplot\")"
   ]
  },
  {
   "cell_type": "code",
   "execution_count": 1,
   "metadata": {
    "id": "ow5uZy8DE9vM"
   },
   "outputs": [
    {
     "name": "stderr",
     "output_type": "stream",
     "text": [
      "\n",
      "Attaching package: ‘dplyr’\n",
      "\n",
      "\n",
      "The following objects are masked from ‘package:stats’:\n",
      "\n",
      "    filter, lag\n",
      "\n",
      "\n",
      "The following objects are masked from ‘package:base’:\n",
      "\n",
      "    intersect, setdiff, setequal, union\n",
      "\n",
      "\n",
      "\n",
      "Attaching package: ‘magrittr’\n",
      "\n",
      "\n",
      "The following object is masked from ‘package:tidyr’:\n",
      "\n",
      "    extract\n",
      "\n",
      "\n",
      "corrplot 0.92 loaded\n",
      "\n"
     ]
    }
   ],
   "source": [
    "# Load the libraries.\n",
    "library(dplyr)\n",
    "library(tidyr)\n",
    "library(ggplot2)\n",
    "library(magrittr)\n",
    "#library(PCAtools)\n",
    "library(IRdisplay)\n",
    "library(MatrixEQTL)\n",
    "library(corrplot)"
   ]
  },
  {
   "cell_type": "code",
   "execution_count": 2,
   "metadata": {},
   "outputs": [
    {
     "data": {
      "text/html": [
       "'/Users/mauro.tutino/Documents/Work/molQTL_lectureWorkshop'"
      ],
      "text/latex": [
       "'/Users/mauro.tutino/Documents/Work/molQTL\\_lectureWorkshop'"
      ],
      "text/markdown": [
       "'/Users/mauro.tutino/Documents/Work/molQTL_lectureWorkshop'"
      ],
      "text/plain": [
       "[1] \"/Users/mauro.tutino/Documents/Work/molQTL_lectureWorkshop\""
      ]
     },
     "metadata": {},
     "output_type": "display_data"
    }
   ],
   "source": [
    "getwd()"
   ]
  },
  {
   "cell_type": "code",
   "execution_count": 3,
   "metadata": {
    "id": "yoAZOCcFg9pz"
   },
   "outputs": [
    {
     "name": "stderr",
     "output_type": "stream",
     "text": [
      "Warning message in system(\"unzip Data_and_dependencies_MT.zip\", intern = T):\n",
      "“running command 'unzip Data_and_dependencies_MT.zip' had status 1”\n"
     ]
    },
    {
     "data": {
      "text/html": [
       "<span style=white-space:pre-wrap>'Archive:  Data_and_dependencies_MT.zip'</span>"
      ],
      "text/latex": [
       "'Archive:  Data\\_and\\_dependencies\\_MT.zip'"
      ],
      "text/markdown": [
       "<span style=white-space:pre-wrap>'Archive:  Data_and_dependencies_MT.zip'</span>"
      ],
      "text/plain": [
       "[1] \"Archive:  Data_and_dependencies_MT.zip\"\n",
       "attr(,\"status\")\n",
       "[1] 1\n",
       "attr(,\"errmsg\")\n",
       "[1] \"Resource temporarily unavailable\""
      ]
     },
     "metadata": {},
     "output_type": "display_data"
    },
    {
     "data": {
      "text/html": [
       "<style>\n",
       ".list-inline {list-style: none; margin:0; padding: 0}\n",
       ".list-inline>li {display: inline-block}\n",
       ".list-inline>li:not(:last-child)::after {content: \"\\00b7\"; padding: 0 .5ex}\n",
       "</style>\n",
       "<ol class=list-inline><li>'7_Workshop_molQTL_MT.ipynb'</li><li>'Data_and_dependencies_MT'</li><li>'Data_and_dependencies_MT.zip'</li><li>'Lecture7_molQTL_MT.pdf'</li><li>'__MACOSX'</li></ol>\n"
      ],
      "text/latex": [
       "\\begin{enumerate*}\n",
       "\\item '7\\_Workshop\\_molQTL\\_MT.ipynb'\n",
       "\\item 'Data\\_and\\_dependencies\\_MT'\n",
       "\\item 'Data\\_and\\_dependencies\\_MT.zip'\n",
       "\\item 'Lecture7\\_molQTL\\_MT.pdf'\n",
       "\\item '\\_\\_MACOSX'\n",
       "\\end{enumerate*}\n"
      ],
      "text/markdown": [
       "1. '7_Workshop_molQTL_MT.ipynb'\n",
       "2. 'Data_and_dependencies_MT'\n",
       "3. 'Data_and_dependencies_MT.zip'\n",
       "4. 'Lecture7_molQTL_MT.pdf'\n",
       "5. '__MACOSX'\n",
       "\n",
       "\n"
      ],
      "text/plain": [
       "[1] \"7_Workshop_molQTL_MT.ipynb\"   \"Data_and_dependencies_MT\"    \n",
       "[3] \"Data_and_dependencies_MT.zip\" \"Lecture7_molQTL_MT.pdf\"      \n",
       "[5] \"__MACOSX\"                    "
      ]
     },
     "metadata": {},
     "output_type": "display_data"
    }
   ],
   "source": [
    "# Unzip the Data & dependencies.\n",
    "system('unzip Data_and_dependencies.zip', intern = T)\n",
    "\n",
    "system('ls', intern = T)"
   ]
  },
  {
   "cell_type": "markdown",
   "metadata": {
    "id": "Hg_2XtFAFU9n"
   },
   "source": [
    "\n",
    "- A quick overview of the things we are going to cover."
   ]
  },
  {
   "cell_type": "code",
   "execution_count": 7,
   "metadata": {
    "colab": {
     "base_uri": "https://localhost:8080/",
     "height": 606
    },
    "id": "jNffOsAWFNUS",
    "outputId": "8b81a3cc-f266-441c-fe21-cdfdb93737c8"
   },
   "outputs": [
    {
     "data": {
      "text/html": [
       "'/Users/mauro.tutino/Documents/Work/molQTL_lectureWorkshop/Data_and_dependencies_MT'"
      ],
      "text/latex": [
       "'/Users/mauro.tutino/Documents/Work/molQTL\\_lectureWorkshop/Data\\_and\\_dependencies\\_MT'"
      ],
      "text/markdown": [
       "'/Users/mauro.tutino/Documents/Work/molQTL_lectureWorkshop/Data_and_dependencies_MT'"
      ],
      "text/plain": [
       "[1] \"/Users/mauro.tutino/Documents/Work/molQTL_lectureWorkshop/Data_and_dependencies_MT\""
      ]
     },
     "metadata": {},
     "output_type": "display_data"
    },
    {
     "data": {
      "image/png": "[encoded data removed]"
     },
     "metadata": {},
     "output_type": "display_data"
    }
   ],
   "source": [
    "setwd('Data_and_dependencies') # Set the working directory\n",
    "getwd()\n",
    "\n",
    "display_png(file = 'workflow.png')"
   ]
  },
  {
   "cell_type": "markdown",
   "metadata": {
    "id": "9bv0H5rLFlW3"
   },
   "source": [
    "---\n",
    "### Part 1. Getting to know your data\n",
    "\n",
    "-   First, we are going to load all the necessary files:\n",
    "  - What we need :\n",
    "      - a.  Genotypes\n",
    "      - b.  Gene Expression data\n",
    "      - c.  Info for Genes and SNPs (position, chromosome etc.)"
   ]
  },
  {
   "cell_type": "code",
   "execution_count": 9,
   "metadata": {},
   "outputs": [
    {
     "data": {
      "text/html": [
       "<table class=\"dataframe\">\n",
       "<caption>A data.frame: 6 × 94</caption>\n",
       "<thead>\n",
       "\t<tr><th></th><th scope=col>snp</th><th scope=col>GM_157</th><th scope=col>GM_160</th><th scope=col>GM_162</th><th scope=col>GM_165</th><th scope=col>GM_170</th><th scope=col>GM_175</th><th scope=col>GM_179</th><th scope=col>GM_182</th><th scope=col>GM_184</th><th scope=col>⋯</th><th scope=col>GM_228</th><th scope=col>GM_229</th><th scope=col>GM_232</th><th scope=col>GM_234</th><th scope=col>GM_235</th><th scope=col>GM_239</th><th scope=col>GM_244</th><th scope=col>GM_246</th><th scope=col>GM_247</th><th scope=col>GM_248</th></tr>\n",
       "\t<tr><th></th><th scope=col>&lt;chr&gt;</th><th scope=col>&lt;int&gt;</th><th scope=col>&lt;int&gt;</th><th scope=col>&lt;int&gt;</th><th scope=col>&lt;int&gt;</th><th scope=col>&lt;int&gt;</th><th scope=col>&lt;int&gt;</th><th scope=col>&lt;int&gt;</th><th scope=col>&lt;int&gt;</th><th scope=col>&lt;int&gt;</th><th scope=col>⋯</th><th scope=col>&lt;int&gt;</th><th scope=col>&lt;int&gt;</th><th scope=col>&lt;int&gt;</th><th scope=col>&lt;int&gt;</th><th scope=col>&lt;int&gt;</th><th scope=col>&lt;int&gt;</th><th scope=col>&lt;int&gt;</th><th scope=col>&lt;int&gt;</th><th scope=col>&lt;int&gt;</th><th scope=col>&lt;int&gt;</th></tr>\n",
       "</thead>\n",
       "<tbody>\n",
       "\t<tr><th scope=row>2</th><td>1_751567_G_A</td><td>1</td><td>1</td><td>2</td><td>1</td><td>2</td><td>2</td><td>1</td><td>2</td><td>1</td><td>⋯</td><td>2</td><td>1</td><td>1</td><td>1</td><td>2</td><td>2</td><td>2</td><td>2</td><td>1</td><td>1</td></tr>\n",
       "\t<tr><th scope=row>3</th><td>1_751796_G_A</td><td>1</td><td>1</td><td>2</td><td>1</td><td>2</td><td>2</td><td>1</td><td>2</td><td>1</td><td>⋯</td><td>2</td><td>1</td><td>1</td><td>1</td><td>2</td><td>2</td><td>2</td><td>2</td><td>1</td><td>1</td></tr>\n",
       "\t<tr><th scope=row>4</th><td>1_752038_G_T</td><td>0</td><td>1</td><td>0</td><td>0</td><td>0</td><td>0</td><td>1</td><td>0</td><td>1</td><td>⋯</td><td>0</td><td>1</td><td>1</td><td>0</td><td>0</td><td>0</td><td>0</td><td>0</td><td>0</td><td>0</td></tr>\n",
       "\t<tr><th scope=row>5</th><td>1_752311_T_A</td><td>1</td><td>0</td><td>0</td><td>1</td><td>0</td><td>0</td><td>0</td><td>0</td><td>0</td><td>⋯</td><td>0</td><td>0</td><td>0</td><td>1</td><td>0</td><td>0</td><td>0</td><td>0</td><td>1</td><td>1</td></tr>\n",
       "\t<tr><th scope=row>6</th><td>1_752313_T_G</td><td>0</td><td>1</td><td>0</td><td>0</td><td>0</td><td>0</td><td>1</td><td>0</td><td>1</td><td>⋯</td><td>0</td><td>1</td><td>1</td><td>0</td><td>0</td><td>0</td><td>0</td><td>0</td><td>0</td><td>0</td></tr>\n",
       "\t<tr><th scope=row>7</th><td>1_752361_T_C</td><td>0</td><td>1</td><td>0</td><td>0</td><td>0</td><td>0</td><td>1</td><td>0</td><td>1</td><td>⋯</td><td>0</td><td>1</td><td>1</td><td>0</td><td>0</td><td>0</td><td>0</td><td>0</td><td>0</td><td>0</td></tr>\n",
       "</tbody>\n",
       "</table>\n"
      ],
      "text/latex": [
       "A data.frame: 6 × 94\n",
       "\\begin{tabular}{r|lllllllllllllllllllll}\n",
       "  & snp & GM\\_157 & GM\\_160 & GM\\_162 & GM\\_165 & GM\\_170 & GM\\_175 & GM\\_179 & GM\\_182 & GM\\_184 & ⋯ & GM\\_228 & GM\\_229 & GM\\_232 & GM\\_234 & GM\\_235 & GM\\_239 & GM\\_244 & GM\\_246 & GM\\_247 & GM\\_248\\\\\n",
       "  & <chr> & <int> & <int> & <int> & <int> & <int> & <int> & <int> & <int> & <int> & ⋯ & <int> & <int> & <int> & <int> & <int> & <int> & <int> & <int> & <int> & <int>\\\\\n",
       "\\hline\n",
       "\t2 & 1\\_751567\\_G\\_A & 1 & 1 & 2 & 1 & 2 & 2 & 1 & 2 & 1 & ⋯ & 2 & 1 & 1 & 1 & 2 & 2 & 2 & 2 & 1 & 1\\\\\n",
       "\t3 & 1\\_751796\\_G\\_A & 1 & 1 & 2 & 1 & 2 & 2 & 1 & 2 & 1 & ⋯ & 2 & 1 & 1 & 1 & 2 & 2 & 2 & 2 & 1 & 1\\\\\n",
       "\t4 & 1\\_752038\\_G\\_T & 0 & 1 & 0 & 0 & 0 & 0 & 1 & 0 & 1 & ⋯ & 0 & 1 & 1 & 0 & 0 & 0 & 0 & 0 & 0 & 0\\\\\n",
       "\t5 & 1\\_752311\\_T\\_A & 1 & 0 & 0 & 1 & 0 & 0 & 0 & 0 & 0 & ⋯ & 0 & 0 & 0 & 1 & 0 & 0 & 0 & 0 & 1 & 1\\\\\n",
       "\t6 & 1\\_752313\\_T\\_G & 0 & 1 & 0 & 0 & 0 & 0 & 1 & 0 & 1 & ⋯ & 0 & 1 & 1 & 0 & 0 & 0 & 0 & 0 & 0 & 0\\\\\n",
       "\t7 & 1\\_752361\\_T\\_C & 0 & 1 & 0 & 0 & 0 & 0 & 1 & 0 & 1 & ⋯ & 0 & 1 & 1 & 0 & 0 & 0 & 0 & 0 & 0 & 0\\\\\n",
       "\\end{tabular}\n"
      ],
      "text/markdown": [
       "\n",
       "A data.frame: 6 × 94\n",
       "\n",
       "| <!--/--> | snp &lt;chr&gt; | GM_157 &lt;int&gt; | GM_160 &lt;int&gt; | GM_162 &lt;int&gt; | GM_165 &lt;int&gt; | GM_170 &lt;int&gt; | GM_175 &lt;int&gt; | GM_179 &lt;int&gt; | GM_182 &lt;int&gt; | GM_184 &lt;int&gt; | ⋯ ⋯ | GM_228 &lt;int&gt; | GM_229 &lt;int&gt; | GM_232 &lt;int&gt; | GM_234 &lt;int&gt; | GM_235 &lt;int&gt; | GM_239 &lt;int&gt; | GM_244 &lt;int&gt; | GM_246 &lt;int&gt; | GM_247 &lt;int&gt; | GM_248 &lt;int&gt; |\n",
       "|---|---|---|---|---|---|---|---|---|---|---|---|---|---|---|---|---|---|---|---|---|---|\n",
       "| 2 | 1_751567_G_A | 1 | 1 | 2 | 1 | 2 | 2 | 1 | 2 | 1 | ⋯ | 2 | 1 | 1 | 1 | 2 | 2 | 2 | 2 | 1 | 1 |\n",
       "| 3 | 1_751796_G_A | 1 | 1 | 2 | 1 | 2 | 2 | 1 | 2 | 1 | ⋯ | 2 | 1 | 1 | 1 | 2 | 2 | 2 | 2 | 1 | 1 |\n",
       "| 4 | 1_752038_G_T | 0 | 1 | 0 | 0 | 0 | 0 | 1 | 0 | 1 | ⋯ | 0 | 1 | 1 | 0 | 0 | 0 | 0 | 0 | 0 | 0 |\n",
       "| 5 | 1_752311_T_A | 1 | 0 | 0 | 1 | 0 | 0 | 0 | 0 | 0 | ⋯ | 0 | 0 | 0 | 1 | 0 | 0 | 0 | 0 | 1 | 1 |\n",
       "| 6 | 1_752313_T_G | 0 | 1 | 0 | 0 | 0 | 0 | 1 | 0 | 1 | ⋯ | 0 | 1 | 1 | 0 | 0 | 0 | 0 | 0 | 0 | 0 |\n",
       "| 7 | 1_752361_T_C | 0 | 1 | 0 | 0 | 0 | 0 | 1 | 0 | 1 | ⋯ | 0 | 1 | 1 | 0 | 0 | 0 | 0 | 0 | 0 | 0 |\n",
       "\n"
      ],
      "text/plain": [
       "  snp          GM_157 GM_160 GM_162 GM_165 GM_170 GM_175 GM_179 GM_182 GM_184 ⋯\n",
       "2 1_751567_G_A 1      1      2      1      2      2      1      2      1      ⋯\n",
       "3 1_751796_G_A 1      1      2      1      2      2      1      2      1      ⋯\n",
       "4 1_752038_G_T 0      1      0      0      0      0      1      0      1      ⋯\n",
       "5 1_752311_T_A 1      0      0      1      0      0      0      0      0      ⋯\n",
       "6 1_752313_T_G 0      1      0      0      0      0      1      0      1      ⋯\n",
       "7 1_752361_T_C 0      1      0      0      0      0      1      0      1      ⋯\n",
       "  GM_228 GM_229 GM_232 GM_234 GM_235 GM_239 GM_244 GM_246 GM_247 GM_248\n",
       "2 2      1      1      1      2      2      2      2      1      1     \n",
       "3 2      1      1      1      2      2      2      2      1      1     \n",
       "4 0      1      1      0      0      0      0      0      0      0     \n",
       "5 0      0      0      1      0      0      0      0      1      1     \n",
       "6 0      1      1      0      0      0      0      0      0      0     \n",
       "7 0      1      1      0      0      0      0      0      0      0     "
      ]
     },
     "metadata": {},
     "output_type": "display_data"
    },
    {
     "data": {
      "text/html": [
       "<style>\n",
       ".list-inline {list-style: none; margin:0; padding: 0}\n",
       ".list-inline>li {display: inline-block}\n",
       ".list-inline>li:not(:last-child)::after {content: \"\\00b7\"; padding: 0 .5ex}\n",
       "</style>\n",
       "<ol class=list-inline><li>426747</li><li>94</li></ol>\n"
      ],
      "text/latex": [
       "\\begin{enumerate*}\n",
       "\\item 426747\n",
       "\\item 94\n",
       "\\end{enumerate*}\n"
      ],
      "text/markdown": [
       "1. 426747\n",
       "2. 94\n",
       "\n",
       "\n"
      ],
      "text/plain": [
       "[1] 426747     94"
      ]
     },
     "metadata": {},
     "output_type": "display_data"
    }
   ],
   "source": [
    "snps = read.table('input/uniq.snps.txt', header = T) # Genotype info - it has been converted to dosage matrix.\n",
    "\n",
    "snps <- snps %>% \n",
    "        select(snp, everything()) # Re-arrange the columns.\n",
    "head(snps)\n",
    "dim(snps)"
   ]
  },
  {
   "cell_type": "code",
   "execution_count": 10,
   "metadata": {
    "id": "9EPc557nG3QT"
   },
   "outputs": [
    {
     "data": {
      "text/html": [
       "<table class=\"dataframe\">\n",
       "<caption>A data.frame: 6 × 2146</caption>\n",
       "<thead>\n",
       "\t<tr><th></th><th scope=col>IID</th><th scope=col>ENSG00000227232.4</th><th scope=col>ENSG00000268903.1</th><th scope=col>ENSG00000269981.1</th><th scope=col>ENSG00000237683.5</th><th scope=col>ENSG00000228463.4</th><th scope=col>ENSG00000225972.1</th><th scope=col>ENSG00000225630.1</th><th scope=col>ENSG00000237973.1</th><th scope=col>ENSG00000229344.1</th><th scope=col>⋯</th><th scope=col>ENSG00000232347.1</th><th scope=col>ENSG00000162714.8</th><th scope=col>ENSG00000162711.12</th><th scope=col>ENSG00000177535.6</th><th scope=col>ENSG00000227135.1</th><th scope=col>ENSG00000264500.1</th><th scope=col>ENSG00000175137.9</th><th scope=col>ENSG00000171161.8</th><th scope=col>ENSG00000171163.11</th><th scope=col>ENSG00000185220.7</th></tr>\n",
       "\t<tr><th></th><th scope=col>&lt;chr&gt;</th><th scope=col>&lt;dbl&gt;</th><th scope=col>&lt;dbl&gt;</th><th scope=col>&lt;dbl&gt;</th><th scope=col>&lt;dbl&gt;</th><th scope=col>&lt;dbl&gt;</th><th scope=col>&lt;dbl&gt;</th><th scope=col>&lt;dbl&gt;</th><th scope=col>&lt;dbl&gt;</th><th scope=col>&lt;dbl&gt;</th><th scope=col>⋯</th><th scope=col>&lt;dbl&gt;</th><th scope=col>&lt;dbl&gt;</th><th scope=col>&lt;dbl&gt;</th><th scope=col>&lt;dbl&gt;</th><th scope=col>&lt;dbl&gt;</th><th scope=col>&lt;dbl&gt;</th><th scope=col>&lt;dbl&gt;</th><th scope=col>&lt;dbl&gt;</th><th scope=col>&lt;dbl&gt;</th><th scope=col>&lt;dbl&gt;</th></tr>\n",
       "</thead>\n",
       "<tbody>\n",
       "\t<tr><th scope=row>GM_155</th><td>GM_155</td><td>2.7144297</td><td>0.2569999</td><td>1.024832</td><td>1.057312</td><td>0.6134134</td><td>3.129595</td><td>  4.460573</td><td>875.67218</td><td>2.133815</td><td>⋯</td><td>0.1374185</td><td>4.514154</td><td>0.8361816</td><td>0.09204693</td><td>0.2961461</td><td>0.000000</td><td>5.617739</td><td>5.497915</td><td>8.608974</td><td>1.9033118</td></tr>\n",
       "\t<tr><th scope=row>GM_157</th><td>GM_157</td><td>0.6364987</td><td>0.8738158</td><td>2.613371</td><td>1.874940</td><td>0.2815620</td><td>5.652937</td><td>  5.845317</td><td> 24.74525</td><td>1.874236</td><td>⋯</td><td>0.1752118</td><td>3.147990</td><td>1.8722660</td><td>0.15648270</td><td>0.3775933</td><td>0.000000</td><td>4.269858</td><td>5.477918</td><td>5.808081</td><td>1.4429430</td></tr>\n",
       "\t<tr><th scope=row>GM_158</th><td>GM_158</td><td>0.8767443</td><td>1.2036360</td><td>1.199928</td><td>2.945483</td><td>0.3160154</td><td>6.107161</td><td>  2.611338</td><td> 30.18354</td><td>1.998707</td><td>⋯</td><td>0.1608969</td><td>2.858436</td><td>4.6325580</td><td>0.75441390</td><td>0.6241384</td><td>1.695421</td><td>4.646045</td><td>5.404862</td><td>5.285419</td><td>1.2045940</td></tr>\n",
       "\t<tr><th scope=row>GM_160</th><td>GM_160</td><td>1.6056800</td><td>1.4695690</td><td>3.472691</td><td>3.042247</td><td>0.3741442</td><td>6.407052</td><td>291.433200</td><td> 30.46725</td><td>1.205088</td><td>⋯</td><td>0.5238549</td><td>3.070989</td><td>8.2152460</td><td>0.97470360</td><td>0.4515770</td><td>0.000000</td><td>2.776078</td><td>6.184347</td><td>4.994329</td><td>1.3291110</td></tr>\n",
       "\t<tr><th scope=row>GM_162</th><td>GM_162</td><td>1.1217738</td><td>1.2320197</td><td>1.501162</td><td>1.835181</td><td>0.4116859</td><td>3.229774</td><td>  3.823755</td><td> 16.12584</td><td>1.648037</td><td>⋯</td><td>0.7685581</td><td>2.940563</td><td>5.5809838</td><td>0.11031485</td><td>0.5205496</td><td>0.000000</td><td>3.960035</td><td>5.946721</td><td>3.882627</td><td>1.0788746</td></tr>\n",
       "\t<tr><th scope=row>GM_163</th><td>GM_163</td><td>1.1682910</td><td>0.9434624</td><td>1.504889</td><td>2.382411</td><td>0.4143456</td><td>3.446681</td><td>  3.889071</td><td> 19.20432</td><td>1.775563</td><td>⋯</td><td>0.2017887</td><td>2.773229</td><td>5.3008030</td><td>0.00000000</td><td>0.2609209</td><td>0.000000</td><td>4.495610</td><td>4.893471</td><td>5.306586</td><td>0.9819813</td></tr>\n",
       "</tbody>\n",
       "</table>\n"
      ],
      "text/latex": [
       "A data.frame: 6 × 2146\n",
       "\\begin{tabular}{r|lllllllllllllllllllll}\n",
       "  & IID & ENSG00000227232.4 & ENSG00000268903.1 & ENSG00000269981.1 & ENSG00000237683.5 & ENSG00000228463.4 & ENSG00000225972.1 & ENSG00000225630.1 & ENSG00000237973.1 & ENSG00000229344.1 & ⋯ & ENSG00000232347.1 & ENSG00000162714.8 & ENSG00000162711.12 & ENSG00000177535.6 & ENSG00000227135.1 & ENSG00000264500.1 & ENSG00000175137.9 & ENSG00000171161.8 & ENSG00000171163.11 & ENSG00000185220.7\\\\\n",
       "  & <chr> & <dbl> & <dbl> & <dbl> & <dbl> & <dbl> & <dbl> & <dbl> & <dbl> & <dbl> & ⋯ & <dbl> & <dbl> & <dbl> & <dbl> & <dbl> & <dbl> & <dbl> & <dbl> & <dbl> & <dbl>\\\\\n",
       "\\hline\n",
       "\tGM\\_155 & GM\\_155 & 2.7144297 & 0.2569999 & 1.024832 & 1.057312 & 0.6134134 & 3.129595 &   4.460573 & 875.67218 & 2.133815 & ⋯ & 0.1374185 & 4.514154 & 0.8361816 & 0.09204693 & 0.2961461 & 0.000000 & 5.617739 & 5.497915 & 8.608974 & 1.9033118\\\\\n",
       "\tGM\\_157 & GM\\_157 & 0.6364987 & 0.8738158 & 2.613371 & 1.874940 & 0.2815620 & 5.652937 &   5.845317 &  24.74525 & 1.874236 & ⋯ & 0.1752118 & 3.147990 & 1.8722660 & 0.15648270 & 0.3775933 & 0.000000 & 4.269858 & 5.477918 & 5.808081 & 1.4429430\\\\\n",
       "\tGM\\_158 & GM\\_158 & 0.8767443 & 1.2036360 & 1.199928 & 2.945483 & 0.3160154 & 6.107161 &   2.611338 &  30.18354 & 1.998707 & ⋯ & 0.1608969 & 2.858436 & 4.6325580 & 0.75441390 & 0.6241384 & 1.695421 & 4.646045 & 5.404862 & 5.285419 & 1.2045940\\\\\n",
       "\tGM\\_160 & GM\\_160 & 1.6056800 & 1.4695690 & 3.472691 & 3.042247 & 0.3741442 & 6.407052 & 291.433200 &  30.46725 & 1.205088 & ⋯ & 0.5238549 & 3.070989 & 8.2152460 & 0.97470360 & 0.4515770 & 0.000000 & 2.776078 & 6.184347 & 4.994329 & 1.3291110\\\\\n",
       "\tGM\\_162 & GM\\_162 & 1.1217738 & 1.2320197 & 1.501162 & 1.835181 & 0.4116859 & 3.229774 &   3.823755 &  16.12584 & 1.648037 & ⋯ & 0.7685581 & 2.940563 & 5.5809838 & 0.11031485 & 0.5205496 & 0.000000 & 3.960035 & 5.946721 & 3.882627 & 1.0788746\\\\\n",
       "\tGM\\_163 & GM\\_163 & 1.1682910 & 0.9434624 & 1.504889 & 2.382411 & 0.4143456 & 3.446681 &   3.889071 &  19.20432 & 1.775563 & ⋯ & 0.2017887 & 2.773229 & 5.3008030 & 0.00000000 & 0.2609209 & 0.000000 & 4.495610 & 4.893471 & 5.306586 & 0.9819813\\\\\n",
       "\\end{tabular}\n"
      ],
      "text/markdown": [
       "\n",
       "A data.frame: 6 × 2146\n",
       "\n",
       "| <!--/--> | IID &lt;chr&gt; | ENSG00000227232.4 &lt;dbl&gt; | ENSG00000268903.1 &lt;dbl&gt; | ENSG00000269981.1 &lt;dbl&gt; | ENSG00000237683.5 &lt;dbl&gt; | ENSG00000228463.4 &lt;dbl&gt; | ENSG00000225972.1 &lt;dbl&gt; | ENSG00000225630.1 &lt;dbl&gt; | ENSG00000237973.1 &lt;dbl&gt; | ENSG00000229344.1 &lt;dbl&gt; | ⋯ ⋯ | ENSG00000232347.1 &lt;dbl&gt; | ENSG00000162714.8 &lt;dbl&gt; | ENSG00000162711.12 &lt;dbl&gt; | ENSG00000177535.6 &lt;dbl&gt; | ENSG00000227135.1 &lt;dbl&gt; | ENSG00000264500.1 &lt;dbl&gt; | ENSG00000175137.9 &lt;dbl&gt; | ENSG00000171161.8 &lt;dbl&gt; | ENSG00000171163.11 &lt;dbl&gt; | ENSG00000185220.7 &lt;dbl&gt; |\n",
       "|---|---|---|---|---|---|---|---|---|---|---|---|---|---|---|---|---|---|---|---|---|---|\n",
       "| GM_155 | GM_155 | 2.7144297 | 0.2569999 | 1.024832 | 1.057312 | 0.6134134 | 3.129595 |   4.460573 | 875.67218 | 2.133815 | ⋯ | 0.1374185 | 4.514154 | 0.8361816 | 0.09204693 | 0.2961461 | 0.000000 | 5.617739 | 5.497915 | 8.608974 | 1.9033118 |\n",
       "| GM_157 | GM_157 | 0.6364987 | 0.8738158 | 2.613371 | 1.874940 | 0.2815620 | 5.652937 |   5.845317 |  24.74525 | 1.874236 | ⋯ | 0.1752118 | 3.147990 | 1.8722660 | 0.15648270 | 0.3775933 | 0.000000 | 4.269858 | 5.477918 | 5.808081 | 1.4429430 |\n",
       "| GM_158 | GM_158 | 0.8767443 | 1.2036360 | 1.199928 | 2.945483 | 0.3160154 | 6.107161 |   2.611338 |  30.18354 | 1.998707 | ⋯ | 0.1608969 | 2.858436 | 4.6325580 | 0.75441390 | 0.6241384 | 1.695421 | 4.646045 | 5.404862 | 5.285419 | 1.2045940 |\n",
       "| GM_160 | GM_160 | 1.6056800 | 1.4695690 | 3.472691 | 3.042247 | 0.3741442 | 6.407052 | 291.433200 |  30.46725 | 1.205088 | ⋯ | 0.5238549 | 3.070989 | 8.2152460 | 0.97470360 | 0.4515770 | 0.000000 | 2.776078 | 6.184347 | 4.994329 | 1.3291110 |\n",
       "| GM_162 | GM_162 | 1.1217738 | 1.2320197 | 1.501162 | 1.835181 | 0.4116859 | 3.229774 |   3.823755 |  16.12584 | 1.648037 | ⋯ | 0.7685581 | 2.940563 | 5.5809838 | 0.11031485 | 0.5205496 | 0.000000 | 3.960035 | 5.946721 | 3.882627 | 1.0788746 |\n",
       "| GM_163 | GM_163 | 1.1682910 | 0.9434624 | 1.504889 | 2.382411 | 0.4143456 | 3.446681 |   3.889071 |  19.20432 | 1.775563 | ⋯ | 0.2017887 | 2.773229 | 5.3008030 | 0.00000000 | 0.2609209 | 0.000000 | 4.495610 | 4.893471 | 5.306586 | 0.9819813 |\n",
       "\n"
      ],
      "text/plain": [
       "       IID    ENSG00000227232.4 ENSG00000268903.1 ENSG00000269981.1\n",
       "GM_155 GM_155 2.7144297         0.2569999         1.024832         \n",
       "GM_157 GM_157 0.6364987         0.8738158         2.613371         \n",
       "GM_158 GM_158 0.8767443         1.2036360         1.199928         \n",
       "GM_160 GM_160 1.6056800         1.4695690         3.472691         \n",
       "GM_162 GM_162 1.1217738         1.2320197         1.501162         \n",
       "GM_163 GM_163 1.1682910         0.9434624         1.504889         \n",
       "       ENSG00000237683.5 ENSG00000228463.4 ENSG00000225972.1 ENSG00000225630.1\n",
       "GM_155 1.057312          0.6134134         3.129595            4.460573       \n",
       "GM_157 1.874940          0.2815620         5.652937            5.845317       \n",
       "GM_158 2.945483          0.3160154         6.107161            2.611338       \n",
       "GM_160 3.042247          0.3741442         6.407052          291.433200       \n",
       "GM_162 1.835181          0.4116859         3.229774            3.823755       \n",
       "GM_163 2.382411          0.4143456         3.446681            3.889071       \n",
       "       ENSG00000237973.1 ENSG00000229344.1 ⋯ ENSG00000232347.1\n",
       "GM_155 875.67218         2.133815          ⋯ 0.1374185        \n",
       "GM_157  24.74525         1.874236          ⋯ 0.1752118        \n",
       "GM_158  30.18354         1.998707          ⋯ 0.1608969        \n",
       "GM_160  30.46725         1.205088          ⋯ 0.5238549        \n",
       "GM_162  16.12584         1.648037          ⋯ 0.7685581        \n",
       "GM_163  19.20432         1.775563          ⋯ 0.2017887        \n",
       "       ENSG00000162714.8 ENSG00000162711.12 ENSG00000177535.6 ENSG00000227135.1\n",
       "GM_155 4.514154          0.8361816          0.09204693        0.2961461        \n",
       "GM_157 3.147990          1.8722660          0.15648270        0.3775933        \n",
       "GM_158 2.858436          4.6325580          0.75441390        0.6241384        \n",
       "GM_160 3.070989          8.2152460          0.97470360        0.4515770        \n",
       "GM_162 2.940563          5.5809838          0.11031485        0.5205496        \n",
       "GM_163 2.773229          5.3008030          0.00000000        0.2609209        \n",
       "       ENSG00000264500.1 ENSG00000175137.9 ENSG00000171161.8 ENSG00000171163.11\n",
       "GM_155 0.000000          5.617739          5.497915          8.608974          \n",
       "GM_157 0.000000          4.269858          5.477918          5.808081          \n",
       "GM_158 1.695421          4.646045          5.404862          5.285419          \n",
       "GM_160 0.000000          2.776078          6.184347          4.994329          \n",
       "GM_162 0.000000          3.960035          5.946721          3.882627          \n",
       "GM_163 0.000000          4.495610          4.893471          5.306586          \n",
       "       ENSG00000185220.7\n",
       "GM_155 1.9033118        \n",
       "GM_157 1.4429430        \n",
       "GM_158 1.2045940        \n",
       "GM_160 1.3291110        \n",
       "GM_162 1.0788746        \n",
       "GM_163 0.9819813        "
      ]
     },
     "metadata": {},
     "output_type": "display_data"
    }
   ],
   "source": [
    "# b.\n",
    "ge = read.table('input/ge.profile.txt', header = T) # Gene expression data (RPKM values).\n",
    "rownames(ge) <- ge$IID\n",
    "head(ge)"
   ]
  },
  {
   "cell_type": "code",
   "execution_count": 11,
   "metadata": {
    "id": "e_sMshNKRqul"
   },
   "outputs": [
    {
     "data": {
      "text/html": [
       "<table class=\"dataframe\">\n",
       "<caption>A data.frame: 6 × 3</caption>\n",
       "<thead>\n",
       "\t<tr><th></th><th scope=col>SNP_ID</th><th scope=col>chr</th><th scope=col>pos</th></tr>\n",
       "\t<tr><th></th><th scope=col>&lt;chr&gt;</th><th scope=col>&lt;int&gt;</th><th scope=col>&lt;int&gt;</th></tr>\n",
       "</thead>\n",
       "<tbody>\n",
       "\t<tr><th scope=row>1</th><td>1_751567_G_A</td><td>1</td><td>751567</td></tr>\n",
       "\t<tr><th scope=row>2</th><td>1_751796_G_A</td><td>1</td><td>751796</td></tr>\n",
       "\t<tr><th scope=row>3</th><td>1_752038_G_T</td><td>1</td><td>752038</td></tr>\n",
       "\t<tr><th scope=row>4</th><td>1_752311_T_A</td><td>1</td><td>752311</td></tr>\n",
       "\t<tr><th scope=row>5</th><td>1_752313_T_G</td><td>1</td><td>752313</td></tr>\n",
       "\t<tr><th scope=row>6</th><td>1_752361_T_C</td><td>1</td><td>752361</td></tr>\n",
       "</tbody>\n",
       "</table>\n"
      ],
      "text/latex": [
       "A data.frame: 6 × 3\n",
       "\\begin{tabular}{r|lll}\n",
       "  & SNP\\_ID & chr & pos\\\\\n",
       "  & <chr> & <int> & <int>\\\\\n",
       "\\hline\n",
       "\t1 & 1\\_751567\\_G\\_A & 1 & 751567\\\\\n",
       "\t2 & 1\\_751796\\_G\\_A & 1 & 751796\\\\\n",
       "\t3 & 1\\_752038\\_G\\_T & 1 & 752038\\\\\n",
       "\t4 & 1\\_752311\\_T\\_A & 1 & 752311\\\\\n",
       "\t5 & 1\\_752313\\_T\\_G & 1 & 752313\\\\\n",
       "\t6 & 1\\_752361\\_T\\_C & 1 & 752361\\\\\n",
       "\\end{tabular}\n"
      ],
      "text/markdown": [
       "\n",
       "A data.frame: 6 × 3\n",
       "\n",
       "| <!--/--> | SNP_ID &lt;chr&gt; | chr &lt;int&gt; | pos &lt;int&gt; |\n",
       "|---|---|---|---|\n",
       "| 1 | 1_751567_G_A | 1 | 751567 |\n",
       "| 2 | 1_751796_G_A | 1 | 751796 |\n",
       "| 3 | 1_752038_G_T | 1 | 752038 |\n",
       "| 4 | 1_752311_T_A | 1 | 752311 |\n",
       "| 5 | 1_752313_T_G | 1 | 752313 |\n",
       "| 6 | 1_752361_T_C | 1 | 752361 |\n",
       "\n"
      ],
      "text/plain": [
       "  SNP_ID       chr pos   \n",
       "1 1_751567_G_A 1   751567\n",
       "2 1_751796_G_A 1   751796\n",
       "3 1_752038_G_T 1   752038\n",
       "4 1_752311_T_A 1   752311\n",
       "5 1_752313_T_G 1   752313\n",
       "6 1_752361_T_C 1   752361"
      ]
     },
     "metadata": {},
     "output_type": "display_data"
    },
    {
     "data": {
      "text/html": [
       "<table class=\"dataframe\">\n",
       "<caption>A data.frame: 6 × 4</caption>\n",
       "<thead>\n",
       "\t<tr><th></th><th scope=col>gene</th><th scope=col>chr</th><th scope=col>start</th><th scope=col>end</th></tr>\n",
       "\t<tr><th></th><th scope=col>&lt;chr&gt;</th><th scope=col>&lt;int&gt;</th><th scope=col>&lt;int&gt;</th><th scope=col>&lt;int&gt;</th></tr>\n",
       "</thead>\n",
       "<tbody>\n",
       "\t<tr><th scope=row>1</th><td>ENSG00000227232.4</td><td>1</td><td> 29805</td><td> 29806</td></tr>\n",
       "\t<tr><th scope=row>2</th><td>ENSG00000268903.1</td><td>1</td><td>135894</td><td>135895</td></tr>\n",
       "\t<tr><th scope=row>3</th><td>ENSG00000269981.1</td><td>1</td><td>137964</td><td>137965</td></tr>\n",
       "\t<tr><th scope=row>4</th><td>ENSG00000237683.5</td><td>1</td><td>139378</td><td>139379</td></tr>\n",
       "\t<tr><th scope=row>5</th><td>ENSG00000228463.4</td><td>1</td><td>267252</td><td>267253</td></tr>\n",
       "\t<tr><th scope=row>6</th><td>ENSG00000225972.1</td><td>1</td><td>564441</td><td>564442</td></tr>\n",
       "</tbody>\n",
       "</table>\n"
      ],
      "text/latex": [
       "A data.frame: 6 × 4\n",
       "\\begin{tabular}{r|llll}\n",
       "  & gene & chr & start & end\\\\\n",
       "  & <chr> & <int> & <int> & <int>\\\\\n",
       "\\hline\n",
       "\t1 & ENSG00000227232.4 & 1 &  29805 &  29806\\\\\n",
       "\t2 & ENSG00000268903.1 & 1 & 135894 & 135895\\\\\n",
       "\t3 & ENSG00000269981.1 & 1 & 137964 & 137965\\\\\n",
       "\t4 & ENSG00000237683.5 & 1 & 139378 & 139379\\\\\n",
       "\t5 & ENSG00000228463.4 & 1 & 267252 & 267253\\\\\n",
       "\t6 & ENSG00000225972.1 & 1 & 564441 & 564442\\\\\n",
       "\\end{tabular}\n"
      ],
      "text/markdown": [
       "\n",
       "A data.frame: 6 × 4\n",
       "\n",
       "| <!--/--> | gene &lt;chr&gt; | chr &lt;int&gt; | start &lt;int&gt; | end &lt;int&gt; |\n",
       "|---|---|---|---|---|\n",
       "| 1 | ENSG00000227232.4 | 1 |  29805 |  29806 |\n",
       "| 2 | ENSG00000268903.1 | 1 | 135894 | 135895 |\n",
       "| 3 | ENSG00000269981.1 | 1 | 137964 | 137965 |\n",
       "| 4 | ENSG00000237683.5 | 1 | 139378 | 139379 |\n",
       "| 5 | ENSG00000228463.4 | 1 | 267252 | 267253 |\n",
       "| 6 | ENSG00000225972.1 | 1 | 564441 | 564442 |\n",
       "\n"
      ],
      "text/plain": [
       "  gene              chr start  end   \n",
       "1 ENSG00000227232.4 1    29805  29806\n",
       "2 ENSG00000268903.1 1   135894 135895\n",
       "3 ENSG00000269981.1 1   137964 137965\n",
       "4 ENSG00000237683.5 1   139378 139379\n",
       "5 ENSG00000228463.4 1   267252 267253\n",
       "6 ENSG00000225972.1 1   564441 564442"
      ]
     },
     "metadata": {},
     "output_type": "display_data"
    }
   ],
   "source": [
    "# c.\n",
    "snp.loc = read.table('input/snps.loc.txt', header = T) # Location info for SNPs.\n",
    "head(snp.loc)\n",
    "gene.loc = read.table('input/gene.loc.txt', header = T) # Location info for Genes.\n",
    "head(gene.loc)"
   ]
  },
  {
   "cell_type": "markdown",
   "metadata": {
    "id": "3-pmPqN-IK0j"
   },
   "source": [
    "---\n",
    "#### Questions Part 1.\n",
    "\n",
    "  1.  How many Samples, SNPs and Genes do we have ?\n",
    "  2.  On which chromosome are the SNPs and Genes located ?"
   ]
  },
  {
   "cell_type": "code",
   "execution_count": null,
   "metadata": {
    "id": "ApzW3ZPOnMMk"
   },
   "outputs": [],
   "source": [
    "# 1. TYPE YOUR RESPONSE HERE"
   ]
  },
  {
   "cell_type": "code",
   "execution_count": 12,
   "metadata": {
    "cellView": "form",
    "id": "-n3AZI68IMDm"
   },
   "outputs": [
    {
     "name": "stdout",
     "output_type": "stream",
     "text": [
      "Number of Genes: 2145 \n",
      "Number of samples: 93 \n",
      "Number of SNPs: 426747 \n"
     ]
    }
   ],
   "source": [
    "#@title\n",
    "# 1. How many Samples, SNPs and Genes do we have?\n",
    "cat('Number of Genes:', ncol(ge)-1, '\\n' );\n",
    "cat('Number of samples:', ncol(snps)-1, '\\n');\n",
    "cat('Number of SNPs:', nrow(snps), '\\n')"
   ]
  },
  {
   "cell_type": "code",
   "execution_count": null,
   "metadata": {
    "id": "tK8M9Ps6ngXr"
   },
   "outputs": [],
   "source": [
    "# 2. TYPE YOUR RESPONSE HERE"
   ]
  },
  {
   "cell_type": "code",
   "execution_count": 13,
   "metadata": {
    "cellView": "form",
    "id": "tbRnKIDER91P"
   },
   "outputs": [
    {
     "name": "stdout",
     "output_type": "stream",
     "text": [
      "Chromosome of SNPs: 1 \n",
      "Chromosome of Genes: 1 \n"
     ]
    }
   ],
   "source": [
    "# 2. On which chromosome are the SNPs and Genes located ?\n",
    "cat('Chromosome of SNPs:', unique(snp.loc$chr), '\\n')\n",
    "cat('Chromosome of Genes:', unique(gene.loc$chr), '\\n')"
   ]
  },
  {
   "cell_type": "markdown",
   "metadata": {
    "id": "rkq1PWQeIQiW"
   },
   "source": [
    "---\n",
    "### Part 2. Covariate selection\n",
    "\n",
    "- Although the data have passed the necessary QC steps, we will check for  outlier individuals/observations for both Genotype and GE data.\n",
    "A common practice to do this -in high dimensional data- is via Principal Component Analysis (PCA).\n",
    "\n",
    "*-Outlier observations can inflate false positive findings.*\n",
    "\n",
    "- We will start with the PCA of genotypes. After computing the Principal Components (PCs) we are going to plot the first two of them.\n",
    "\n",
    "*-By definition the first PC captures the majority of variance in the variables of interest.*\n",
    "\n",
    "NOTE: here we use the R function prcomp() to calculate the PCs. Usually this is done with specialised software such as Plink"
   ]
  },
  {
   "cell_type": "code",
   "execution_count": 14,
   "metadata": {
    "id": "0l3EisuCIRLT"
   },
   "outputs": [
    {
     "data": {
      "text/plain": [
       "Importance of components:\n",
       "                            PC1      PC2      PC3      PC4      PC5      PC6\n",
       "Standard deviation     80.15163 79.19060 78.44150 77.74291 77.53770 77.06669\n",
       "Proportion of Variance  0.01505  0.01470  0.01442  0.01416  0.01409  0.01392\n",
       "Cumulative Proportion   0.01505  0.02975  0.04417  0.05833  0.07242  0.08634\n",
       "                            PC7      PC8     PC9    PC10     PC11     PC12\n",
       "Standard deviation     76.75773 76.01029 75.9001 75.6238 75.36949 75.13831\n",
       "Proportion of Variance  0.01381  0.01354  0.0135  0.0134  0.01331  0.01323\n",
       "Cumulative Proportion   0.10014  0.11368  0.1272  0.1406  0.15389  0.16712\n",
       "                           PC13     PC14     PC15     PC16     PC17     PC18\n",
       "Standard deviation     74.54645 74.34079 74.17507 73.88891 73.43186 73.28440\n",
       "Proportion of Variance  0.01302  0.01295  0.01289  0.01279  0.01264  0.01258\n",
       "Cumulative Proportion   0.18015  0.19310  0.20599  0.21878  0.23142  0.24400\n",
       "                           PC19     PC20     PC21     PC22     PC23    PC24\n",
       "Standard deviation     73.13641 72.80613 72.63478 72.54304 72.21218 72.1522\n",
       "Proportion of Variance  0.01253  0.01242  0.01236  0.01233  0.01222  0.0122\n",
       "Cumulative Proportion   0.25654  0.26896  0.28132  0.29365  0.30587  0.3181\n",
       "                           PC25     PC26     PC27     PC28     PC29     PC30\n",
       "Standard deviation     71.71689 71.50094 71.31714 71.09957 70.94318 70.46713\n",
       "Proportion of Variance  0.01205  0.01198  0.01192  0.01185  0.01179  0.01164\n",
       "Cumulative Proportion   0.33012  0.34210  0.35402  0.36587  0.37766  0.38930\n",
       "                           PC31     PC32     PC33     PC34    PC35     PC36\n",
       "Standard deviation     70.23323 70.03771 69.94364 69.72453 69.4361 69.10816\n",
       "Proportion of Variance  0.01156  0.01149  0.01146  0.01139  0.0113  0.01119\n",
       "Cumulative Proportion   0.40086  0.41235  0.42381  0.43521  0.4465  0.45770\n",
       "                           PC37     PC38     PC39     PC40     PC41     PC42\n",
       "Standard deviation     69.05939 69.03036 68.96890 68.60124 68.38254 68.08153\n",
       "Proportion of Variance  0.01118  0.01117  0.01115  0.01103  0.01096  0.01086\n",
       "Cumulative Proportion   0.46887  0.48004  0.49118  0.50221  0.51317  0.52403\n",
       "                           PC43    PC44     PC45     PC46     PC47     PC48\n",
       "Standard deviation     67.99940 67.8910 67.81362 67.64004 67.44889 67.28116\n",
       "Proportion of Variance  0.01084  0.0108  0.01078  0.01072  0.01066  0.01061\n",
       "Cumulative Proportion   0.53487  0.5457  0.55644  0.56716  0.57783  0.58843\n",
       "                           PC49     PC50     PC51     PC52     PC53     PC54\n",
       "Standard deviation     67.13965 67.10791 66.81708 66.55097 66.26141 66.22978\n",
       "Proportion of Variance  0.01056  0.01055  0.01046  0.01038  0.01029  0.01028\n",
       "Cumulative Proportion   0.59900  0.60955  0.62001  0.63039  0.64068  0.65096\n",
       "                           PC55     PC56     PC57     PC58     PC59     PC60\n",
       "Standard deviation     66.17620 66.05962 65.70565 65.58546 65.55427 65.25902\n",
       "Proportion of Variance  0.01026  0.01023  0.01012  0.01008  0.01007  0.00998\n",
       "Cumulative Proportion   0.66122  0.67144  0.68156  0.69164  0.70171  0.71169\n",
       "                           PC61     PC62     PC63     PC64     PC65     PC66\n",
       "Standard deviation     65.02093 64.88034 64.71995 64.29778 64.17144 63.94475\n",
       "Proportion of Variance  0.00991  0.00986  0.00982  0.00969  0.00965  0.00958\n",
       "Cumulative Proportion   0.72160  0.73146  0.74128  0.75096  0.76061  0.77020\n",
       "                           PC67    PC68     PC69    PC70     PC71     PC72\n",
       "Standard deviation     63.77980 63.6582 63.55233 63.3515 63.09068 62.84233\n",
       "Proportion of Variance  0.00953  0.0095  0.00946  0.0094  0.00933  0.00925\n",
       "Cumulative Proportion   0.77973  0.7892  0.79869  0.8081  0.81742  0.82667\n",
       "                           PC73     PC74     PC75     PC76    PC77     PC78\n",
       "Standard deviation     62.63205 62.59174 62.25356 62.15812 61.9734 61.91519\n",
       "Proportion of Variance  0.00919  0.00918  0.00908  0.00905  0.0090  0.00898\n",
       "Cumulative Proportion   0.83587  0.84505  0.85413  0.86318  0.8722  0.88116\n",
       "                           PC79    PC80     PC81     PC82    PC83     PC84\n",
       "Standard deviation     61.65274 61.2837 61.24399 61.09591 60.9395 60.76216\n",
       "Proportion of Variance  0.00891  0.0088  0.00879  0.00875  0.0087  0.00865\n",
       "Cumulative Proportion   0.89007  0.8989  0.90766  0.91641  0.9251  0.93376\n",
       "                           PC85     PC86     PC87     PC88     PC89     PC90\n",
       "Standard deviation     60.51220 60.29501 60.08654 59.63524 59.21992 59.00016\n",
       "Proportion of Variance  0.00858  0.00852  0.00846  0.00833  0.00822  0.00816\n",
       "Cumulative Proportion   0.94234  0.95086  0.95932  0.96766  0.97587  0.98403\n",
       "                           PC91    PC92     PC93\n",
       "Standard deviation     58.67268 58.0698 8.14e-12\n",
       "Proportion of Variance  0.00807  0.0079 0.00e+00\n",
       "Cumulative Proportion   0.99210  1.0000 1.00e+00"
      ]
     },
     "metadata": {},
     "output_type": "display_data"
    },
    {
     "name": "stdout",
     "output_type": "stream",
     "text": [
      " \n"
     ]
    },
    {
     "data": {
      "image/png": "[encoded data removed]",
      "text/plain": [
       "plot without title"
      ]
     },
     "metadata": {
      "image/png": {
       "height": 420,
       "width": 420
      }
     },
     "output_type": "display_data"
    }
   ],
   "source": [
    "# PCA for genotypes via prcomp in R.\n",
    "geno.pca <- prcomp(t(snps[,-1]), scale. = T) # Remember to include only the variables. NB we have to transpose the data frame since the package needs the variables as columns and subjects as rows!\n",
    "summary(geno.pca) # Take a look at the output\n",
    "\n",
    "# Visual inspection of PCs, plotting the first 2 PCs.\n",
    "pca.data <-  data.frame(PC1=geno.pca$x[,1], PC2=geno.pca$x[,2])\n",
    "\n",
    "cat('', '\\n')\n",
    "PC1.sd <-  sd(pca.data$PC1)\n",
    "PC2.sd <-  sd(pca.data$PC2)\n",
    "\n",
    "ggplot(data=pca.data, aes(x=PC1, y=PC2)) +\n",
    "  geom_point() +\n",
    "  geom_vline(xintercept = mean(pca.data$PC1) - 3*PC1.sd, colour=\"red\", linetype = \"longdash\") +\n",
    "  geom_vline(xintercept = mean(pca.data$PC1) + 3*PC1.sd, colour=\"red\", linetype = \"longdash\") +\n",
    "  geom_hline(yintercept = mean(pca.data$PC2) - 3*PC2.sd, colour=\"blue\", linetype = \"longdash\") +\n",
    "  geom_hline(yintercept = mean(pca.data$PC2) + 3*PC2.sd, colour=\"blue\", linetype = \"longdash\") +\n",
    "  ggtitle('PCA for Genotype data')\n",
    "\n"
   ]
  },
  {
   "cell_type": "code",
   "execution_count": 15,
   "metadata": {},
   "outputs": [
    {
     "data": {
      "text/html": [
       "<table class=\"dataframe\">\n",
       "<caption>A matrix: 6 × 93 of type dbl</caption>\n",
       "<thead>\n",
       "\t<tr><th></th><th scope=col>PC1</th><th scope=col>PC2</th><th scope=col>PC3</th><th scope=col>PC4</th><th scope=col>PC5</th><th scope=col>PC6</th><th scope=col>PC7</th><th scope=col>PC8</th><th scope=col>PC9</th><th scope=col>PC10</th><th scope=col>⋯</th><th scope=col>PC84</th><th scope=col>PC85</th><th scope=col>PC86</th><th scope=col>PC87</th><th scope=col>PC88</th><th scope=col>PC89</th><th scope=col>PC90</th><th scope=col>PC91</th><th scope=col>PC92</th><th scope=col>PC93</th></tr>\n",
       "</thead>\n",
       "<tbody>\n",
       "\t<tr><th scope=row>GM_157</th><td> 64.00485</td><td> -27.46770</td><td> 55.18358</td><td> -53.44543</td><td>  63.71092</td><td>-112.05592</td><td>  41.23572</td><td>-64.4550173</td><td>168.79842</td><td>-25.57781</td><td>⋯</td><td> 12.668015</td><td>  2.8620665</td><td>-21.1932659</td><td> 13.471539</td><td> -12.050079</td><td> 77.01372</td><td>-44.21061</td><td>  4.420471</td><td>-31.019138</td><td>-6.309813e-11</td></tr>\n",
       "\t<tr><th scope=row>GM_160</th><td>107.35613</td><td>-138.97461</td><td> 80.93546</td><td>  66.43073</td><td>-115.53709</td><td>  26.21996</td><td> -50.76847</td><td>  9.3741455</td><td>-45.48960</td><td> 19.99871</td><td>⋯</td><td>-14.803808</td><td>-10.0091429</td><td>-28.7077375</td><td>-17.491813</td><td> -30.080227</td><td>-29.42999</td><td>-57.99224</td><td> -8.275115</td><td>142.778358</td><td>-6.774935e-11</td></tr>\n",
       "\t<tr><th scope=row>GM_162</th><td> 68.80517</td><td>  37.95872</td><td> 30.98546</td><td>  70.79472</td><td> 136.03791</td><td>  58.27910</td><td>  56.92433</td><td>-74.0861580</td><td> 50.41598</td><td> 33.75465</td><td>⋯</td><td>-18.572600</td><td> 44.4379337</td><td> 26.8511477</td><td> -1.551683</td><td> -32.695342</td><td>-21.13947</td><td>-81.64659</td><td>-11.368358</td><td>-29.902950</td><td>-1.180743e-10</td></tr>\n",
       "\t<tr><th scope=row>GM_165</th><td>-67.70721</td><td>-142.50178</td><td>-88.31706</td><td> -17.58449</td><td>  19.18650</td><td>  41.22948</td><td>-110.04727</td><td> -0.2530265</td><td> 23.16212</td><td> 43.90609</td><td>⋯</td><td>-48.388517</td><td>-28.7833700</td><td>-86.2609113</td><td>-81.707874</td><td>  15.073367</td><td>-63.27570</td><td> 61.33035</td><td>-71.729984</td><td>  3.897521</td><td>-1.471625e-11</td></tr>\n",
       "\t<tr><th scope=row>GM_170</th><td> 32.69598</td><td>  54.98895</td><td> 25.17099</td><td>  19.42276</td><td>  36.19937</td><td>  23.34080</td><td>  51.29447</td><td>  2.2441627</td><td> 35.18580</td><td>-15.15089</td><td>⋯</td><td> -9.246709</td><td>  0.8426894</td><td>  0.2598799</td><td> 96.105372</td><td>-144.224977</td><td> 45.18929</td><td> 65.00282</td><td>  8.468714</td><td>-40.795169</td><td> 9.905573e-12</td></tr>\n",
       "\t<tr><th scope=row>GM_175</th><td>-77.78896</td><td>  86.97585</td><td> 13.34320</td><td>-177.66115</td><td>  49.77865</td><td> -30.04046</td><td>-178.93171</td><td>177.8192278</td><td> 83.97115</td><td>-27.37498</td><td>⋯</td><td>-22.340569</td><td> -5.7384508</td><td>-55.2418075</td><td> 11.011341</td><td>  -4.846047</td><td> 76.56605</td><td>-54.90220</td><td> 28.494085</td><td> 43.795577</td><td> 1.379661e-11</td></tr>\n",
       "</tbody>\n",
       "</table>\n"
      ],
      "text/latex": [
       "A matrix: 6 × 93 of type dbl\n",
       "\\begin{tabular}{r|lllllllllllllllllllll}\n",
       "  & PC1 & PC2 & PC3 & PC4 & PC5 & PC6 & PC7 & PC8 & PC9 & PC10 & ⋯ & PC84 & PC85 & PC86 & PC87 & PC88 & PC89 & PC90 & PC91 & PC92 & PC93\\\\\n",
       "\\hline\n",
       "\tGM\\_157 &  64.00485 &  -27.46770 &  55.18358 &  -53.44543 &   63.71092 & -112.05592 &   41.23572 & -64.4550173 & 168.79842 & -25.57781 & ⋯ &  12.668015 &   2.8620665 & -21.1932659 &  13.471539 &  -12.050079 &  77.01372 & -44.21061 &   4.420471 & -31.019138 & -6.309813e-11\\\\\n",
       "\tGM\\_160 & 107.35613 & -138.97461 &  80.93546 &   66.43073 & -115.53709 &   26.21996 &  -50.76847 &   9.3741455 & -45.48960 &  19.99871 & ⋯ & -14.803808 & -10.0091429 & -28.7077375 & -17.491813 &  -30.080227 & -29.42999 & -57.99224 &  -8.275115 & 142.778358 & -6.774935e-11\\\\\n",
       "\tGM\\_162 &  68.80517 &   37.95872 &  30.98546 &   70.79472 &  136.03791 &   58.27910 &   56.92433 & -74.0861580 &  50.41598 &  33.75465 & ⋯ & -18.572600 &  44.4379337 &  26.8511477 &  -1.551683 &  -32.695342 & -21.13947 & -81.64659 & -11.368358 & -29.902950 & -1.180743e-10\\\\\n",
       "\tGM\\_165 & -67.70721 & -142.50178 & -88.31706 &  -17.58449 &   19.18650 &   41.22948 & -110.04727 &  -0.2530265 &  23.16212 &  43.90609 & ⋯ & -48.388517 & -28.7833700 & -86.2609113 & -81.707874 &   15.073367 & -63.27570 &  61.33035 & -71.729984 &   3.897521 & -1.471625e-11\\\\\n",
       "\tGM\\_170 &  32.69598 &   54.98895 &  25.17099 &   19.42276 &   36.19937 &   23.34080 &   51.29447 &   2.2441627 &  35.18580 & -15.15089 & ⋯ &  -9.246709 &   0.8426894 &   0.2598799 &  96.105372 & -144.224977 &  45.18929 &  65.00282 &   8.468714 & -40.795169 &  9.905573e-12\\\\\n",
       "\tGM\\_175 & -77.78896 &   86.97585 &  13.34320 & -177.66115 &   49.77865 &  -30.04046 & -178.93171 & 177.8192278 &  83.97115 & -27.37498 & ⋯ & -22.340569 &  -5.7384508 & -55.2418075 &  11.011341 &   -4.846047 &  76.56605 & -54.90220 &  28.494085 &  43.795577 &  1.379661e-11\\\\\n",
       "\\end{tabular}\n"
      ],
      "text/markdown": [
       "\n",
       "A matrix: 6 × 93 of type dbl\n",
       "\n",
       "| <!--/--> | PC1 | PC2 | PC3 | PC4 | PC5 | PC6 | PC7 | PC8 | PC9 | PC10 | ⋯ | PC84 | PC85 | PC86 | PC87 | PC88 | PC89 | PC90 | PC91 | PC92 | PC93 |\n",
       "|---|---|---|---|---|---|---|---|---|---|---|---|---|---|---|---|---|---|---|---|---|---|\n",
       "| GM_157 |  64.00485 |  -27.46770 |  55.18358 |  -53.44543 |   63.71092 | -112.05592 |   41.23572 | -64.4550173 | 168.79842 | -25.57781 | ⋯ |  12.668015 |   2.8620665 | -21.1932659 |  13.471539 |  -12.050079 |  77.01372 | -44.21061 |   4.420471 | -31.019138 | -6.309813e-11 |\n",
       "| GM_160 | 107.35613 | -138.97461 |  80.93546 |   66.43073 | -115.53709 |   26.21996 |  -50.76847 |   9.3741455 | -45.48960 |  19.99871 | ⋯ | -14.803808 | -10.0091429 | -28.7077375 | -17.491813 |  -30.080227 | -29.42999 | -57.99224 |  -8.275115 | 142.778358 | -6.774935e-11 |\n",
       "| GM_162 |  68.80517 |   37.95872 |  30.98546 |   70.79472 |  136.03791 |   58.27910 |   56.92433 | -74.0861580 |  50.41598 |  33.75465 | ⋯ | -18.572600 |  44.4379337 |  26.8511477 |  -1.551683 |  -32.695342 | -21.13947 | -81.64659 | -11.368358 | -29.902950 | -1.180743e-10 |\n",
       "| GM_165 | -67.70721 | -142.50178 | -88.31706 |  -17.58449 |   19.18650 |   41.22948 | -110.04727 |  -0.2530265 |  23.16212 |  43.90609 | ⋯ | -48.388517 | -28.7833700 | -86.2609113 | -81.707874 |   15.073367 | -63.27570 |  61.33035 | -71.729984 |   3.897521 | -1.471625e-11 |\n",
       "| GM_170 |  32.69598 |   54.98895 |  25.17099 |   19.42276 |   36.19937 |   23.34080 |   51.29447 |   2.2441627 |  35.18580 | -15.15089 | ⋯ |  -9.246709 |   0.8426894 |   0.2598799 |  96.105372 | -144.224977 |  45.18929 |  65.00282 |   8.468714 | -40.795169 |  9.905573e-12 |\n",
       "| GM_175 | -77.78896 |   86.97585 |  13.34320 | -177.66115 |   49.77865 |  -30.04046 | -178.93171 | 177.8192278 |  83.97115 | -27.37498 | ⋯ | -22.340569 |  -5.7384508 | -55.2418075 |  11.011341 |   -4.846047 |  76.56605 | -54.90220 |  28.494085 |  43.795577 |  1.379661e-11 |\n",
       "\n"
      ],
      "text/plain": [
       "       PC1       PC2        PC3       PC4        PC5        PC6       \n",
       "GM_157  64.00485  -27.46770  55.18358  -53.44543   63.71092 -112.05592\n",
       "GM_160 107.35613 -138.97461  80.93546   66.43073 -115.53709   26.21996\n",
       "GM_162  68.80517   37.95872  30.98546   70.79472  136.03791   58.27910\n",
       "GM_165 -67.70721 -142.50178 -88.31706  -17.58449   19.18650   41.22948\n",
       "GM_170  32.69598   54.98895  25.17099   19.42276   36.19937   23.34080\n",
       "GM_175 -77.78896   86.97585  13.34320 -177.66115   49.77865  -30.04046\n",
       "       PC7        PC8         PC9       PC10      ⋯ PC84       PC85       \n",
       "GM_157   41.23572 -64.4550173 168.79842 -25.57781 ⋯  12.668015   2.8620665\n",
       "GM_160  -50.76847   9.3741455 -45.48960  19.99871 ⋯ -14.803808 -10.0091429\n",
       "GM_162   56.92433 -74.0861580  50.41598  33.75465 ⋯ -18.572600  44.4379337\n",
       "GM_165 -110.04727  -0.2530265  23.16212  43.90609 ⋯ -48.388517 -28.7833700\n",
       "GM_170   51.29447   2.2441627  35.18580 -15.15089 ⋯  -9.246709   0.8426894\n",
       "GM_175 -178.93171 177.8192278  83.97115 -27.37498 ⋯ -22.340569  -5.7384508\n",
       "       PC86        PC87       PC88        PC89      PC90      PC91      \n",
       "GM_157 -21.1932659  13.471539  -12.050079  77.01372 -44.21061   4.420471\n",
       "GM_160 -28.7077375 -17.491813  -30.080227 -29.42999 -57.99224  -8.275115\n",
       "GM_162  26.8511477  -1.551683  -32.695342 -21.13947 -81.64659 -11.368358\n",
       "GM_165 -86.2609113 -81.707874   15.073367 -63.27570  61.33035 -71.729984\n",
       "GM_170   0.2598799  96.105372 -144.224977  45.18929  65.00282   8.468714\n",
       "GM_175 -55.2418075  11.011341   -4.846047  76.56605 -54.90220  28.494085\n",
       "       PC92       PC93         \n",
       "GM_157 -31.019138 -6.309813e-11\n",
       "GM_160 142.778358 -6.774935e-11\n",
       "GM_162 -29.902950 -1.180743e-10\n",
       "GM_165   3.897521 -1.471625e-11\n",
       "GM_170 -40.795169  9.905573e-12\n",
       "GM_175  43.795577  1.379661e-11"
      ]
     },
     "metadata": {},
     "output_type": "display_data"
    }
   ],
   "source": [
    "# Here we can access the Principal Component scores for each individual\n",
    "head(geno.pca$x)"
   ]
  },
  {
   "cell_type": "markdown",
   "metadata": {
    "id": "oyZD7zaYIaoA"
   },
   "source": [
    "- The points in the scatter plot are randomly scattered, no indication of clustering.\n",
    "\n",
    "Next, we are going to produce the same plot for the GE data..."
   ]
  },
  {
   "cell_type": "code",
   "execution_count": 17,
   "metadata": {
    "id": "fP75zxZEIY6S"
   },
   "outputs": [
    {
     "data": {
      "text/plain": [
       "Importance of components:\n",
       "                           PC1      PC2      PC3      PC4      PC5     PC6\n",
       "Standard deviation     18.4841 14.41268 11.82733 11.74576 10.26156 9.44405\n",
       "Proportion of Variance  0.1593  0.09684  0.06521  0.06432  0.04909 0.04158\n",
       "Cumulative Proportion   0.1593  0.25613  0.32134  0.38566  0.43475 0.47633\n",
       "                           PC7     PC8     PC9    PC10    PC11   PC12    PC13\n",
       "Standard deviation     8.15333 7.87432 7.10285 6.70833 6.39582 5.7473 5.60720\n",
       "Proportion of Variance 0.03099 0.02891 0.02352 0.02098 0.01907 0.0154 0.01466\n",
       "Cumulative Proportion  0.50732 0.53623 0.55975 0.58073 0.59980 0.6152 0.62985\n",
       "                          PC14    PC15    PC16    PC17   PC18    PC19    PC20\n",
       "Standard deviation     5.51228 5.13066 5.06818 4.80858 4.7237 4.62488 4.45347\n",
       "Proportion of Variance 0.01417 0.01227 0.01198 0.01078 0.0104 0.00997 0.00925\n",
       "Cumulative Proportion  0.64402 0.65629 0.66827 0.67905 0.6895 0.69942 0.70867\n",
       "                          PC21    PC22   PC23    PC24    PC25    PC26   PC27\n",
       "Standard deviation     4.39721 4.37688 4.2940 4.24146 4.17193 4.01318 3.9023\n",
       "Proportion of Variance 0.00901 0.00893 0.0086 0.00839 0.00811 0.00751 0.0071\n",
       "Cumulative Proportion  0.71768 0.72661 0.7352 0.74360 0.75171 0.75922 0.7663\n",
       "                          PC28    PC29    PC30    PC31    PC32    PC33    PC34\n",
       "Standard deviation     3.86636 3.79770 3.72862 3.70306 3.63895 3.57693 3.55113\n",
       "Proportion of Variance 0.00697 0.00672 0.00648 0.00639 0.00617 0.00596 0.00588\n",
       "Cumulative Proportion  0.77329 0.78001 0.78649 0.79289 0.79906 0.80502 0.81090\n",
       "                          PC35    PC36    PC37    PC38    PC39   PC40    PC41\n",
       "Standard deviation     3.51074 3.49073 3.40697 3.34853 3.32439 3.3069 3.29167\n",
       "Proportion of Variance 0.00575 0.00568 0.00541 0.00523 0.00515 0.0051 0.00505\n",
       "Cumulative Proportion  0.81665 0.82233 0.82774 0.83297 0.83812 0.8432 0.84827\n",
       "                          PC42    PC43    PC44    PC45   PC46    PC47    PC48\n",
       "Standard deviation     3.24948 3.20507 3.17192 3.10322 3.0707 3.01746 2.98245\n",
       "Proportion of Variance 0.00492 0.00479 0.00469 0.00449 0.0044 0.00424 0.00415\n",
       "Cumulative Proportion  0.85319 0.85798 0.86267 0.86716 0.8716 0.87580 0.87995\n",
       "                          PC49    PC50    PC51    PC52    PC53    PC54    PC55\n",
       "Standard deviation     2.97743 2.97161 2.89650 2.86511 2.85131 2.80483 2.78299\n",
       "Proportion of Variance 0.00413 0.00412 0.00391 0.00383 0.00379 0.00367 0.00361\n",
       "Cumulative Proportion  0.88408 0.88820 0.89211 0.89594 0.89973 0.90339 0.90701\n",
       "                          PC56    PC57   PC58    PC59    PC60    PC61    PC62\n",
       "Standard deviation     2.75989 2.73050 2.7013 2.66947 2.63558 2.62432 2.59807\n",
       "Proportion of Variance 0.00355 0.00348 0.0034 0.00332 0.00324 0.00321 0.00315\n",
       "Cumulative Proportion  0.91056 0.91403 0.9174 0.92076 0.92399 0.92721 0.93035\n",
       "                         PC63    PC64    PC65    PC66   PC67    PC68    PC69\n",
       "Standard deviation     2.5802 2.55290 2.51164 2.50105 2.4929 2.46509 2.42341\n",
       "Proportion of Variance 0.0031 0.00304 0.00294 0.00292 0.0029 0.00283 0.00274\n",
       "Cumulative Proportion  0.9335 0.93649 0.93944 0.94235 0.9453 0.94808 0.95082\n",
       "                          PC70    PC71    PC72    PC73    PC74   PC75    PC76\n",
       "Standard deviation     2.38309 2.35769 2.34987 2.32194 2.30610 2.2686 2.26335\n",
       "Proportion of Variance 0.00265 0.00259 0.00257 0.00251 0.00248 0.0024 0.00239\n",
       "Cumulative Proportion  0.95347 0.95606 0.95863 0.96115 0.96363 0.9660 0.96841\n",
       "                          PC77   PC78    PC79    PC80    PC81    PC82    PC83\n",
       "Standard deviation     2.25323 2.2189 2.21103 2.18499 2.13663 2.13026 2.10927\n",
       "Proportion of Variance 0.00237 0.0023 0.00228 0.00223 0.00213 0.00212 0.00207\n",
       "Cumulative Proportion  0.97078 0.9731 0.97535 0.97758 0.97971 0.98182 0.98390\n",
       "                          PC84    PC85    PC86   PC87    PC88    PC89    PC90\n",
       "Standard deviation     2.07440 2.03991 2.02460 1.9669 1.94748 1.93021 1.89529\n",
       "Proportion of Variance 0.00201 0.00194 0.00191 0.0018 0.00177 0.00174 0.00167\n",
       "Cumulative Proportion  0.98590 0.98784 0.98976 0.9916 0.99333 0.99506 0.99674\n",
       "                          PC91    PC92      PC93\n",
       "Standard deviation     1.89413 1.84591 4.122e-14\n",
       "Proportion of Variance 0.00167 0.00159 0.000e+00\n",
       "Cumulative Proportion  0.99841 1.00000 1.000e+00"
      ]
     },
     "metadata": {},
     "output_type": "display_data"
    },
    {
     "data": {
      "image/png": "[encoded data removed]",
      "text/plain": [
       "plot without title"
      ]
     },
     "metadata": {
      "image/png": {
       "height": 420,
       "width": 420
      }
     },
     "output_type": "display_data"
    },
    {
     "data": {
      "image/png": "[encoded data removed]",
      "text/plain": [
       "Plot with title “Percent variation for PC1-10”"
      ]
     },
     "metadata": {
      "image/png": {
       "height": 420,
       "width": 420
      }
     },
     "output_type": "display_data"
    }
   ],
   "source": [
    "# The same procedure as above.\n",
    "ge.pca = prcomp(ge[,-1], scale = T) # No need to transpose the data frame.\n",
    "summary(ge.pca)\n",
    "\n",
    "# PCA data.frame\n",
    "pca.data = data.frame(PC1=ge.pca$x[,1], PC2=ge.pca$x[,2])\n",
    "\n",
    "PC1.sd = sd(pca.data$PC1)\n",
    "PC2.sd = sd(pca.data$PC2)\n",
    "\n",
    "# Visual inspection of PCs.\n",
    "ggplot(data=pca.data, aes(x=PC1, y=PC2)) +\n",
    "  geom_point() +\n",
    "  geom_vline(xintercept = mean(pca.data$PC1) - 3*PC1.sd, colour=\"red\", linetype = \"longdash\") +\n",
    "  geom_vline(xintercept = mean(pca.data$PC1) + 3*PC1.sd, colour=\"red\", linetype = \"longdash\") +\n",
    "  geom_hline(yintercept = mean(pca.data$PC2) - 3*PC2.sd, colour=\"blue\", linetype = \"longdash\") +\n",
    "  geom_hline(yintercept = mean(pca.data$PC2) + 3*PC2.sd, colour=\"blue\", linetype = \"longdash\") +\n",
    "  ggtitle('PCA for GE data')\n",
    "\n",
    "# Variation explained for each PC.\n",
    "pca.object.var <- summary(ge.pca)\n",
    "pca.object.var.per <- as.numeric(pca.object.var$importance[2,])*100\n",
    "\n",
    "barplot(pca.object.var.per[1:10], main=\"Percent variation for PC1-10\",\n",
    "        xlab = \"PC\",\n",
    "        ylab = \"Percent Variation (%)\",\n",
    "        xlim = c(0, 11),\n",
    "        ylim = c(0,100))\n",
    "\n"
   ]
  },
  {
   "cell_type": "markdown",
   "metadata": {
    "id": "lLn3BlynIeSg"
   },
   "source": [
    "#### Questions Part 2.\n",
    "\n",
    "  1. What do you think of the PCA plot in GE data ? Any outliers ?\n",
    "  2. How much variation do the first 3 components explain in GE data ?\n"
   ]
  },
  {
   "cell_type": "code",
   "execution_count": null,
   "metadata": {
    "cellView": "form",
    "id": "OPxmH0g1JPXQ"
   },
   "outputs": [],
   "source": [
    "#.1 TYPE YOUR RESPONSE HERE\n",
    "\n",
    "# As we can see there is one point that falls outside the bondaries but it is still very close.\n",
    "# Even if we are going to exclude this observation it is unlikely that this will influence the behaviour of the other points."
   ]
  },
  {
   "cell_type": "code",
   "execution_count": null,
   "metadata": {
    "id": "f6bCjL8zdvY3"
   },
   "outputs": [],
   "source": [
    "#.2 TYPE YOUR RESPONSE HERE"
   ]
  },
  {
   "cell_type": "code",
   "execution_count": 18,
   "metadata": {
    "cellView": "form",
    "id": "LM0tnRcmIbSL"
   },
   "outputs": [
    {
     "data": {
      "text/html": [
       "32.134"
      ],
      "text/latex": [
       "32.134"
      ],
      "text/markdown": [
       "32.134"
      ],
      "text/plain": [
       "[1] 32.134"
      ]
     },
     "metadata": {},
     "output_type": "display_data"
    }
   ],
   "source": [
    "# 2. How much variation the first 3 components explain in GE data ?\n",
    "\n",
    "pca.object.var$importance[3,3]*100\n"
   ]
  },
  {
   "cell_type": "markdown",
   "metadata": {
    "id": "lXkApWfFIklP"
   },
   "source": [
    "- Except for outlier detection, PCA, can also be used for: \n",
    "    - covariate selection\n",
    "    - account for unknown covariates\n",
    "\n",
    "*-Recall from the previous lectures that when we are modelling the effect of a variable on an outcome of interest, in our case the genetic effect of SNP on GE, we have to control for additional factors that may confound the relationship that we are investigating.*\n",
    "\n",
    "- We hold data for Age, Sex and BMI for each participant, go ahead and load the data."
   ]
  },
  {
   "cell_type": "code",
   "execution_count": 19,
   "metadata": {
    "id": "S2TjvyC2Iufy"
   },
   "outputs": [],
   "source": [
    "# Load the covariates.\n",
    "age = read.table('input/Age.txt', header = F)\n",
    "age = age[,c(1,3)] # Drop the duplicated column.\n",
    "colnames(age) <- c('IID','age')\n",
    "\n",
    "sex = read.table('input/Sex.txt', header = F)\n",
    "sex = sex[,c(1,3)] # Drop the duplicated column.\n",
    "colnames(sex) <- c('IID','sex')\n",
    "\n",
    "bmi = read.table('input/BMI.txt', header = F)\n",
    "bmi = bmi[,c(1,3)] # Drop the duplicated column.\n",
    "colnames(bmi) <- c('IID','bmi')"
   ]
  },
  {
   "cell_type": "code",
   "execution_count": 20,
   "metadata": {
    "id": "J6uvllBC16PX"
   },
   "outputs": [
    {
     "data": {
      "text/html": [
       "TRUE"
      ],
      "text/latex": [
       "TRUE"
      ],
      "text/markdown": [
       "TRUE"
      ],
      "text/plain": [
       "[1] TRUE"
      ]
     },
     "metadata": {},
     "output_type": "display_data"
    },
    {
     "data": {
      "text/html": [
       "<table class=\"dataframe\">\n",
       "<caption>A data.frame: 6 × 7</caption>\n",
       "<thead>\n",
       "\t<tr><th></th><th scope=col>IID</th><th scope=col>age</th><th scope=col>sex</th><th scope=col>bmi</th><th scope=col>PC1</th><th scope=col>PC2</th><th scope=col>PC3</th></tr>\n",
       "\t<tr><th></th><th scope=col>&lt;chr&gt;</th><th scope=col>&lt;int&gt;</th><th scope=col>&lt;dbl&gt;</th><th scope=col>&lt;dbl&gt;</th><th scope=col>&lt;dbl&gt;</th><th scope=col>&lt;dbl&gt;</th><th scope=col>&lt;dbl&gt;</th></tr>\n",
       "</thead>\n",
       "<tbody>\n",
       "\t<tr><th scope=row>1</th><td>GM_155</td><td>78</td><td>1</td><td>27.34</td><td>-40.259065</td><td>-15.9082062</td><td> -9.699287</td></tr>\n",
       "\t<tr><th scope=row>2</th><td>GM_157</td><td>40</td><td>2</td><td>24.49</td><td> -5.183375</td><td> -3.8778294</td><td>  3.129487</td></tr>\n",
       "\t<tr><th scope=row>3</th><td>GM_158</td><td>85</td><td>1</td><td>20.20</td><td> -8.869428</td><td>  2.3314854</td><td>-17.878814</td></tr>\n",
       "\t<tr><th scope=row>4</th><td>GM_160</td><td>68</td><td>2</td><td>24.77</td><td>  2.943372</td><td> 18.5047945</td><td>  2.332016</td></tr>\n",
       "\t<tr><th scope=row>5</th><td>GM_162</td><td>71</td><td>2</td><td>27.68</td><td> -5.920532</td><td> -0.6318436</td><td>  5.251768</td></tr>\n",
       "\t<tr><th scope=row>6</th><td>GM_163</td><td>31</td><td>1</td><td>46.56</td><td> -2.547293</td><td> -7.7481073</td><td> -9.776813</td></tr>\n",
       "</tbody>\n",
       "</table>\n"
      ],
      "text/latex": [
       "A data.frame: 6 × 7\n",
       "\\begin{tabular}{r|lllllll}\n",
       "  & IID & age & sex & bmi & PC1 & PC2 & PC3\\\\\n",
       "  & <chr> & <int> & <dbl> & <dbl> & <dbl> & <dbl> & <dbl>\\\\\n",
       "\\hline\n",
       "\t1 & GM\\_155 & 78 & 1 & 27.34 & -40.259065 & -15.9082062 &  -9.699287\\\\\n",
       "\t2 & GM\\_157 & 40 & 2 & 24.49 &  -5.183375 &  -3.8778294 &   3.129487\\\\\n",
       "\t3 & GM\\_158 & 85 & 1 & 20.20 &  -8.869428 &   2.3314854 & -17.878814\\\\\n",
       "\t4 & GM\\_160 & 68 & 2 & 24.77 &   2.943372 &  18.5047945 &   2.332016\\\\\n",
       "\t5 & GM\\_162 & 71 & 2 & 27.68 &  -5.920532 &  -0.6318436 &   5.251768\\\\\n",
       "\t6 & GM\\_163 & 31 & 1 & 46.56 &  -2.547293 &  -7.7481073 &  -9.776813\\\\\n",
       "\\end{tabular}\n"
      ],
      "text/markdown": [
       "\n",
       "A data.frame: 6 × 7\n",
       "\n",
       "| <!--/--> | IID &lt;chr&gt; | age &lt;int&gt; | sex &lt;dbl&gt; | bmi &lt;dbl&gt; | PC1 &lt;dbl&gt; | PC2 &lt;dbl&gt; | PC3 &lt;dbl&gt; |\n",
       "|---|---|---|---|---|---|---|---|\n",
       "| 1 | GM_155 | 78 | 1 | 27.34 | -40.259065 | -15.9082062 |  -9.699287 |\n",
       "| 2 | GM_157 | 40 | 2 | 24.49 |  -5.183375 |  -3.8778294 |   3.129487 |\n",
       "| 3 | GM_158 | 85 | 1 | 20.20 |  -8.869428 |   2.3314854 | -17.878814 |\n",
       "| 4 | GM_160 | 68 | 2 | 24.77 |   2.943372 |  18.5047945 |   2.332016 |\n",
       "| 5 | GM_162 | 71 | 2 | 27.68 |  -5.920532 |  -0.6318436 |   5.251768 |\n",
       "| 6 | GM_163 | 31 | 1 | 46.56 |  -2.547293 |  -7.7481073 |  -9.776813 |\n",
       "\n"
      ],
      "text/plain": [
       "  IID    age sex bmi   PC1        PC2         PC3       \n",
       "1 GM_155 78  1   27.34 -40.259065 -15.9082062  -9.699287\n",
       "2 GM_157 40  2   24.49  -5.183375  -3.8778294   3.129487\n",
       "3 GM_158 85  1   20.20  -8.869428   2.3314854 -17.878814\n",
       "4 GM_160 68  2   24.77   2.943372  18.5047945   2.332016\n",
       "5 GM_162 71  2   27.68  -5.920532  -0.6318436   5.251768\n",
       "6 GM_163 31  1   46.56  -2.547293  -7.7481073  -9.776813"
      ]
     },
     "metadata": {},
     "output_type": "display_data"
    },
    {
     "data": {
      "image/png": "[encoded data removed]",
      "text/plain": [
       "Plot with title “”"
      ]
     },
     "metadata": {
      "image/png": {
       "height": 420,
       "width": 420
      }
     },
     "output_type": "display_data"
    }
   ],
   "source": [
    "# Correlation plot of PCs with covariates\n",
    "\n",
    "# Do the the PCs of GE correlate with the observed covariates/factors ?\n",
    "metadata = merge(age, sex, by = 'IID')\n",
    "metadata = merge(metadata, bmi, by = 'IID')\n",
    "\n",
    "matching.ind <- ge$IID # Make sure that we have the same order in SampleIDs between dataframes.\n",
    "\n",
    "metadata <- metadata[match(matching.ind, metadata$IID),] # Tricky the first argument of match defines the order of matching values.\n",
    "\n",
    "identical(ge$IID, metadata$IID) # Sanity check.\n",
    "\n",
    "# Data manipulation to meet the need of PCAtools.\n",
    "t.ge <- t(as.matrix(ge))\n",
    "colnames(t.ge) <- t.ge[1,]\n",
    "t.ge <- t.ge[-1,]\n",
    "rownames(t.ge) <- NULL\n",
    "t.ge <- data.frame(t.ge)\n",
    "t.ge[,] <- sapply(t.ge, as.numeric)\n",
    "\n",
    "rownames(metadata) <- metadata$IID\n",
    "\n",
    "ge.pca_3PC <- as.data.frame(ge.pca$x[,c(1:3)])\n",
    "ge.pca_3PC$IID <- rownames(ge.pca_3PC)\n",
    "\n",
    "metadata <- merge(metadata, ge.pca_3PC, by = 'IID')\n",
    "metadata$sex <- as.numeric(as.factor(metadata$sex)) # convert sex to numerical for correlation\n",
    "\n",
    "head(metadata)\n",
    "\n",
    "# Calculate correlation. We are not interested in the correlation between unknown covariates\n",
    "cor.res <- cor(metadata[,2:4], metadata[,5:7])\n",
    "\n",
    "# Plot correlation\n",
    "corrplot(cor.res, type = \"upper\", order = \"original\", \n",
    "         tl.col = \"black\", tl.srt = 45, addCoef.col = 'black')\n",
    "\n",
    "# Positive correlations are displayed in blue and negative correlations in red color. \n",
    "# Color intensity and the size of the circle are proportional to the correlation coefficients. \n",
    "# In the right side of the correlogram, the legend color shows the correlation coefficients and the corresponding colors."
   ]
  },
  {
   "cell_type": "markdown",
   "metadata": {
    "id": "8Vn7zoQgNKlm"
   },
   "source": [
    "- Only PC3 shows a moderate correlation with sex"
   ]
  },
  {
   "cell_type": "markdown",
   "metadata": {},
   "source": [
    "---\n",
    "### Part 3. Data formatting for MatrixEQTL\n",
    "\n",
    "MatrixEQTL is a tool specialized for genetic association analyses with molecular traits (Gene Expression data, Metabolites etc.). Instead of doing single-point associations, like for GWAS tools, it performs matrix operations, which allows to run thousands of associations at once. It also allows to run cis and trans QTL separately.\n",
    "\n",
    "\n",
    "In this section we are going to prepare the input files for MatrixEQTL\n"
   ]
  },
  {
   "cell_type": "code",
   "execution_count": 21,
   "metadata": {},
   "outputs": [
    {
     "data": {
      "text/html": [
       "<style>\n",
       ".list-inline {list-style: none; margin:0; padding: 0}\n",
       ".list-inline>li {display: inline-block}\n",
       ".list-inline>li:not(:last-child)::after {content: \"\\00b7\"; padding: 0 .5ex}\n",
       "</style>\n",
       "<ol class=list-inline><li>93</li><li>2146</li></ol>\n"
      ],
      "text/latex": [
       "\\begin{enumerate*}\n",
       "\\item 93\n",
       "\\item 2146\n",
       "\\end{enumerate*}\n"
      ],
      "text/markdown": [
       "1. 93\n",
       "2. 2146\n",
       "\n",
       "\n"
      ],
      "text/plain": [
       "[1]   93 2146"
      ]
     },
     "metadata": {},
     "output_type": "display_data"
    },
    {
     "data": {
      "text/html": [
       "<table class=\"dataframe\">\n",
       "<caption>A data.frame: 5 × 5</caption>\n",
       "<thead>\n",
       "\t<tr><th></th><th scope=col>IID</th><th scope=col>ENSG00000227232.4</th><th scope=col>ENSG00000268903.1</th><th scope=col>ENSG00000269981.1</th><th scope=col>ENSG00000237683.5</th></tr>\n",
       "\t<tr><th></th><th scope=col>&lt;chr&gt;</th><th scope=col>&lt;dbl&gt;</th><th scope=col>&lt;dbl&gt;</th><th scope=col>&lt;dbl&gt;</th><th scope=col>&lt;dbl&gt;</th></tr>\n",
       "</thead>\n",
       "<tbody>\n",
       "\t<tr><th scope=row>GM_155</th><td>GM_155</td><td>2.7144297</td><td>0.2569999</td><td>1.024832</td><td>1.057312</td></tr>\n",
       "\t<tr><th scope=row>GM_157</th><td>GM_157</td><td>0.6364987</td><td>0.8738158</td><td>2.613371</td><td>1.874940</td></tr>\n",
       "\t<tr><th scope=row>GM_158</th><td>GM_158</td><td>0.8767443</td><td>1.2036360</td><td>1.199928</td><td>2.945483</td></tr>\n",
       "\t<tr><th scope=row>GM_160</th><td>GM_160</td><td>1.6056800</td><td>1.4695690</td><td>3.472691</td><td>3.042247</td></tr>\n",
       "\t<tr><th scope=row>GM_162</th><td>GM_162</td><td>1.1217738</td><td>1.2320197</td><td>1.501162</td><td>1.835181</td></tr>\n",
       "</tbody>\n",
       "</table>\n"
      ],
      "text/latex": [
       "A data.frame: 5 × 5\n",
       "\\begin{tabular}{r|lllll}\n",
       "  & IID & ENSG00000227232.4 & ENSG00000268903.1 & ENSG00000269981.1 & ENSG00000237683.5\\\\\n",
       "  & <chr> & <dbl> & <dbl> & <dbl> & <dbl>\\\\\n",
       "\\hline\n",
       "\tGM\\_155 & GM\\_155 & 2.7144297 & 0.2569999 & 1.024832 & 1.057312\\\\\n",
       "\tGM\\_157 & GM\\_157 & 0.6364987 & 0.8738158 & 2.613371 & 1.874940\\\\\n",
       "\tGM\\_158 & GM\\_158 & 0.8767443 & 1.2036360 & 1.199928 & 2.945483\\\\\n",
       "\tGM\\_160 & GM\\_160 & 1.6056800 & 1.4695690 & 3.472691 & 3.042247\\\\\n",
       "\tGM\\_162 & GM\\_162 & 1.1217738 & 1.2320197 & 1.501162 & 1.835181\\\\\n",
       "\\end{tabular}\n"
      ],
      "text/markdown": [
       "\n",
       "A data.frame: 5 × 5\n",
       "\n",
       "| <!--/--> | IID &lt;chr&gt; | ENSG00000227232.4 &lt;dbl&gt; | ENSG00000268903.1 &lt;dbl&gt; | ENSG00000269981.1 &lt;dbl&gt; | ENSG00000237683.5 &lt;dbl&gt; |\n",
       "|---|---|---|---|---|---|\n",
       "| GM_155 | GM_155 | 2.7144297 | 0.2569999 | 1.024832 | 1.057312 |\n",
       "| GM_157 | GM_157 | 0.6364987 | 0.8738158 | 2.613371 | 1.874940 |\n",
       "| GM_158 | GM_158 | 0.8767443 | 1.2036360 | 1.199928 | 2.945483 |\n",
       "| GM_160 | GM_160 | 1.6056800 | 1.4695690 | 3.472691 | 3.042247 |\n",
       "| GM_162 | GM_162 | 1.1217738 | 1.2320197 | 1.501162 | 1.835181 |\n",
       "\n"
      ],
      "text/plain": [
       "       IID    ENSG00000227232.4 ENSG00000268903.1 ENSG00000269981.1\n",
       "GM_155 GM_155 2.7144297         0.2569999         1.024832         \n",
       "GM_157 GM_157 0.6364987         0.8738158         2.613371         \n",
       "GM_158 GM_158 0.8767443         1.2036360         1.199928         \n",
       "GM_160 GM_160 1.6056800         1.4695690         3.472691         \n",
       "GM_162 GM_162 1.1217738         1.2320197         1.501162         \n",
       "       ENSG00000237683.5\n",
       "GM_155 1.057312         \n",
       "GM_157 1.874940         \n",
       "GM_158 2.945483         \n",
       "GM_160 3.042247         \n",
       "GM_162 1.835181         "
      ]
     },
     "metadata": {},
     "output_type": "display_data"
    },
    {
     "data": {
      "text/html": [
       "<table class=\"dataframe\">\n",
       "<caption>A matrix: 5 × 5 of type chr</caption>\n",
       "<thead>\n",
       "\t<tr><th></th><th scope=col>GM_155</th><th scope=col>GM_157</th><th scope=col>GM_158</th><th scope=col>GM_160</th><th scope=col>GM_162</th></tr>\n",
       "</thead>\n",
       "<tbody>\n",
       "\t<tr><th scope=row>ENSG00000227232.4</th><td>2.7144297 </td><td>0.6364987 </td><td>0.8767443 </td><td>1.6056800 </td><td>1.1217738 </td></tr>\n",
       "\t<tr><th scope=row>ENSG00000268903.1</th><td>0.2569999 </td><td>0.8738158 </td><td>1.2036360 </td><td>1.4695690 </td><td>1.2320197 </td></tr>\n",
       "\t<tr><th scope=row>ENSG00000269981.1</th><td> 1.0248323</td><td> 2.6133710</td><td> 1.1999280</td><td> 3.4726910</td><td> 1.5011624</td></tr>\n",
       "\t<tr><th scope=row>ENSG00000237683.5</th><td> 1.0573117</td><td> 1.8749400</td><td> 2.9454830</td><td> 3.0422470</td><td> 1.8351815</td></tr>\n",
       "\t<tr><th scope=row>ENSG00000228463.4</th><td>0.61341338</td><td>0.28156200</td><td>0.31601540</td><td>0.37414420</td><td>0.41168588</td></tr>\n",
       "</tbody>\n",
       "</table>\n"
      ],
      "text/latex": [
       "A matrix: 5 × 5 of type chr\n",
       "\\begin{tabular}{r|lllll}\n",
       "  & GM\\_155 & GM\\_157 & GM\\_158 & GM\\_160 & GM\\_162\\\\\n",
       "\\hline\n",
       "\tENSG00000227232.4 & 2.7144297  & 0.6364987  & 0.8767443  & 1.6056800  & 1.1217738 \\\\\n",
       "\tENSG00000268903.1 & 0.2569999  & 0.8738158  & 1.2036360  & 1.4695690  & 1.2320197 \\\\\n",
       "\tENSG00000269981.1 &  1.0248323 &  2.6133710 &  1.1999280 &  3.4726910 &  1.5011624\\\\\n",
       "\tENSG00000237683.5 &  1.0573117 &  1.8749400 &  2.9454830 &  3.0422470 &  1.8351815\\\\\n",
       "\tENSG00000228463.4 & 0.61341338 & 0.28156200 & 0.31601540 & 0.37414420 & 0.41168588\\\\\n",
       "\\end{tabular}\n"
      ],
      "text/markdown": [
       "\n",
       "A matrix: 5 × 5 of type chr\n",
       "\n",
       "| <!--/--> | GM_155 | GM_157 | GM_158 | GM_160 | GM_162 |\n",
       "|---|---|---|---|---|---|\n",
       "| ENSG00000227232.4 | 2.7144297  | 0.6364987  | 0.8767443  | 1.6056800  | 1.1217738  |\n",
       "| ENSG00000268903.1 | 0.2569999  | 0.8738158  | 1.2036360  | 1.4695690  | 1.2320197  |\n",
       "| ENSG00000269981.1 |  1.0248323 |  2.6133710 |  1.1999280 |  3.4726910 |  1.5011624 |\n",
       "| ENSG00000237683.5 |  1.0573117 |  1.8749400 |  2.9454830 |  3.0422470 |  1.8351815 |\n",
       "| ENSG00000228463.4 | 0.61341338 | 0.28156200 | 0.31601540 | 0.37414420 | 0.41168588 |\n",
       "\n"
      ],
      "text/plain": [
       "                  GM_155     GM_157     GM_158     GM_160     GM_162    \n",
       "ENSG00000227232.4 2.7144297  0.6364987  0.8767443  1.6056800  1.1217738 \n",
       "ENSG00000268903.1 0.2569999  0.8738158  1.2036360  1.4695690  1.2320197 \n",
       "ENSG00000269981.1  1.0248323  2.6133710  1.1999280  3.4726910  1.5011624\n",
       "ENSG00000237683.5  1.0573117  1.8749400  2.9454830  3.0422470  1.8351815\n",
       "ENSG00000228463.4 0.61341338 0.28156200 0.31601540 0.37414420 0.41168588"
      ]
     },
     "metadata": {},
     "output_type": "display_data"
    }
   ],
   "source": [
    "# Format the gene expression data - samples need to be on columns\n",
    "dim(ge)\n",
    "ge[1:5,1:5]\n",
    "\n",
    "ge <- t(ge)\n",
    "\n",
    "colnames(ge) <- ge[1,]\n",
    "ge <- ge[-1,]\n",
    "\n",
    "ge[1:5,1:5]"
   ]
  },
  {
   "cell_type": "code",
   "execution_count": 22,
   "metadata": {},
   "outputs": [
    {
     "data": {
      "text/html": [
       "<style>\n",
       ".list-inline {list-style: none; margin:0; padding: 0}\n",
       ".list-inline>li {display: inline-block}\n",
       ".list-inline>li:not(:last-child)::after {content: \"\\00b7\"; padding: 0 .5ex}\n",
       "</style>\n",
       "<ol class=list-inline><li>426747</li><li>94</li></ol>\n"
      ],
      "text/latex": [
       "\\begin{enumerate*}\n",
       "\\item 426747\n",
       "\\item 94\n",
       "\\end{enumerate*}\n"
      ],
      "text/markdown": [
       "1. 426747\n",
       "2. 94\n",
       "\n",
       "\n"
      ],
      "text/plain": [
       "[1] 426747     94"
      ]
     },
     "metadata": {},
     "output_type": "display_data"
    },
    {
     "data": {
      "text/html": [
       "<table class=\"dataframe\">\n",
       "<caption>A data.frame: 5 × 5</caption>\n",
       "<thead>\n",
       "\t<tr><th></th><th scope=col>snp</th><th scope=col>GM_157</th><th scope=col>GM_160</th><th scope=col>GM_162</th><th scope=col>GM_165</th></tr>\n",
       "\t<tr><th></th><th scope=col>&lt;chr&gt;</th><th scope=col>&lt;int&gt;</th><th scope=col>&lt;int&gt;</th><th scope=col>&lt;int&gt;</th><th scope=col>&lt;int&gt;</th></tr>\n",
       "</thead>\n",
       "<tbody>\n",
       "\t<tr><th scope=row>2</th><td>1_751567_G_A</td><td>1</td><td>1</td><td>2</td><td>1</td></tr>\n",
       "\t<tr><th scope=row>3</th><td>1_751796_G_A</td><td>1</td><td>1</td><td>2</td><td>1</td></tr>\n",
       "\t<tr><th scope=row>4</th><td>1_752038_G_T</td><td>0</td><td>1</td><td>0</td><td>0</td></tr>\n",
       "\t<tr><th scope=row>5</th><td>1_752311_T_A</td><td>1</td><td>0</td><td>0</td><td>1</td></tr>\n",
       "\t<tr><th scope=row>6</th><td>1_752313_T_G</td><td>0</td><td>1</td><td>0</td><td>0</td></tr>\n",
       "</tbody>\n",
       "</table>\n"
      ],
      "text/latex": [
       "A data.frame: 5 × 5\n",
       "\\begin{tabular}{r|lllll}\n",
       "  & snp & GM\\_157 & GM\\_160 & GM\\_162 & GM\\_165\\\\\n",
       "  & <chr> & <int> & <int> & <int> & <int>\\\\\n",
       "\\hline\n",
       "\t2 & 1\\_751567\\_G\\_A & 1 & 1 & 2 & 1\\\\\n",
       "\t3 & 1\\_751796\\_G\\_A & 1 & 1 & 2 & 1\\\\\n",
       "\t4 & 1\\_752038\\_G\\_T & 0 & 1 & 0 & 0\\\\\n",
       "\t5 & 1\\_752311\\_T\\_A & 1 & 0 & 0 & 1\\\\\n",
       "\t6 & 1\\_752313\\_T\\_G & 0 & 1 & 0 & 0\\\\\n",
       "\\end{tabular}\n"
      ],
      "text/markdown": [
       "\n",
       "A data.frame: 5 × 5\n",
       "\n",
       "| <!--/--> | snp &lt;chr&gt; | GM_157 &lt;int&gt; | GM_160 &lt;int&gt; | GM_162 &lt;int&gt; | GM_165 &lt;int&gt; |\n",
       "|---|---|---|---|---|---|\n",
       "| 2 | 1_751567_G_A | 1 | 1 | 2 | 1 |\n",
       "| 3 | 1_751796_G_A | 1 | 1 | 2 | 1 |\n",
       "| 4 | 1_752038_G_T | 0 | 1 | 0 | 0 |\n",
       "| 5 | 1_752311_T_A | 1 | 0 | 0 | 1 |\n",
       "| 6 | 1_752313_T_G | 0 | 1 | 0 | 0 |\n",
       "\n"
      ],
      "text/plain": [
       "  snp          GM_157 GM_160 GM_162 GM_165\n",
       "2 1_751567_G_A 1      1      2      1     \n",
       "3 1_751796_G_A 1      1      2      1     \n",
       "4 1_752038_G_T 0      1      0      0     \n",
       "5 1_752311_T_A 1      0      0      1     \n",
       "6 1_752313_T_G 0      1      0      0     "
      ]
     },
     "metadata": {},
     "output_type": "display_data"
    },
    {
     "data": {
      "text/html": [
       "<table class=\"dataframe\">\n",
       "<caption>A data.frame: 5 × 5</caption>\n",
       "<thead>\n",
       "\t<tr><th></th><th scope=col>GM_157</th><th scope=col>GM_160</th><th scope=col>GM_162</th><th scope=col>GM_165</th><th scope=col>GM_170</th></tr>\n",
       "\t<tr><th></th><th scope=col>&lt;int&gt;</th><th scope=col>&lt;int&gt;</th><th scope=col>&lt;int&gt;</th><th scope=col>&lt;int&gt;</th><th scope=col>&lt;int&gt;</th></tr>\n",
       "</thead>\n",
       "<tbody>\n",
       "\t<tr><th scope=row>1_751567_G_A</th><td>1</td><td>1</td><td>2</td><td>1</td><td>2</td></tr>\n",
       "\t<tr><th scope=row>1_751796_G_A</th><td>1</td><td>1</td><td>2</td><td>1</td><td>2</td></tr>\n",
       "\t<tr><th scope=row>1_752038_G_T</th><td>0</td><td>1</td><td>0</td><td>0</td><td>0</td></tr>\n",
       "\t<tr><th scope=row>1_752311_T_A</th><td>1</td><td>0</td><td>0</td><td>1</td><td>0</td></tr>\n",
       "\t<tr><th scope=row>1_752313_T_G</th><td>0</td><td>1</td><td>0</td><td>0</td><td>0</td></tr>\n",
       "</tbody>\n",
       "</table>\n"
      ],
      "text/latex": [
       "A data.frame: 5 × 5\n",
       "\\begin{tabular}{r|lllll}\n",
       "  & GM\\_157 & GM\\_160 & GM\\_162 & GM\\_165 & GM\\_170\\\\\n",
       "  & <int> & <int> & <int> & <int> & <int>\\\\\n",
       "\\hline\n",
       "\t1\\_751567\\_G\\_A & 1 & 1 & 2 & 1 & 2\\\\\n",
       "\t1\\_751796\\_G\\_A & 1 & 1 & 2 & 1 & 2\\\\\n",
       "\t1\\_752038\\_G\\_T & 0 & 1 & 0 & 0 & 0\\\\\n",
       "\t1\\_752311\\_T\\_A & 1 & 0 & 0 & 1 & 0\\\\\n",
       "\t1\\_752313\\_T\\_G & 0 & 1 & 0 & 0 & 0\\\\\n",
       "\\end{tabular}\n"
      ],
      "text/markdown": [
       "\n",
       "A data.frame: 5 × 5\n",
       "\n",
       "| <!--/--> | GM_157 &lt;int&gt; | GM_160 &lt;int&gt; | GM_162 &lt;int&gt; | GM_165 &lt;int&gt; | GM_170 &lt;int&gt; |\n",
       "|---|---|---|---|---|---|\n",
       "| 1_751567_G_A | 1 | 1 | 2 | 1 | 2 |\n",
       "| 1_751796_G_A | 1 | 1 | 2 | 1 | 2 |\n",
       "| 1_752038_G_T | 0 | 1 | 0 | 0 | 0 |\n",
       "| 1_752311_T_A | 1 | 0 | 0 | 1 | 0 |\n",
       "| 1_752313_T_G | 0 | 1 | 0 | 0 | 0 |\n",
       "\n"
      ],
      "text/plain": [
       "             GM_157 GM_160 GM_162 GM_165 GM_170\n",
       "1_751567_G_A 1      1      2      1      2     \n",
       "1_751796_G_A 1      1      2      1      2     \n",
       "1_752038_G_T 0      1      0      0      0     \n",
       "1_752311_T_A 1      0      0      1      0     \n",
       "1_752313_T_G 0      1      0      0      0     "
      ]
     },
     "metadata": {},
     "output_type": "display_data"
    }
   ],
   "source": [
    "# Format genotype data - samples need to be on columns\n",
    "dim(snps)\n",
    "snps[1:5,1:5]\n",
    "\n",
    "rownames(snps) <- snps[,1]\n",
    "snps <- snps[,-1]\n",
    "\n",
    "snps[1:5,1:5]\n"
   ]
  },
  {
   "cell_type": "code",
   "execution_count": 23,
   "metadata": {},
   "outputs": [
    {
     "data": {
      "text/html": [
       "<table class=\"dataframe\">\n",
       "<caption>A matrix: 6 × 5 of type chr</caption>\n",
       "<thead>\n",
       "\t<tr><th></th><th scope=col>GM_155</th><th scope=col>GM_157</th><th scope=col>GM_158</th><th scope=col>GM_160</th><th scope=col>GM_161</th></tr>\n",
       "</thead>\n",
       "<tbody>\n",
       "\t<tr><th scope=row>age</th><td>78           </td><td>40           </td><td>85           </td><td>68           </td><td>39   </td></tr>\n",
       "\t<tr><th scope=row>sex</th><td>0            </td><td>1            </td><td>0            </td><td>1            </td><td>0    </td></tr>\n",
       "\t<tr><th scope=row>bmi</th><td>27.34        </td><td>24.49        </td><td>20.20        </td><td>24.77        </td><td>45.97</td></tr>\n",
       "\t<tr><th scope=row>PC1</th><td> -58.2173378 </td><td>  64.0048525 </td><td> 116.7637520 </td><td> 107.3561269 </td><td>NA   </td></tr>\n",
       "\t<tr><th scope=row>PC2</th><td> -32.7227555 </td><td> -27.4677021 </td><td>  45.5626625 </td><td>-138.9746084 </td><td>NA   </td></tr>\n",
       "\t<tr><th scope=row>PC3</th><td>  99.26531217</td><td>  55.18358435</td><td> -42.51464392</td><td>  80.93545998</td><td>NA   </td></tr>\n",
       "</tbody>\n",
       "</table>\n"
      ],
      "text/latex": [
       "A matrix: 6 × 5 of type chr\n",
       "\\begin{tabular}{r|lllll}\n",
       "  & GM\\_155 & GM\\_157 & GM\\_158 & GM\\_160 & GM\\_161\\\\\n",
       "\\hline\n",
       "\tage & 78            & 40            & 85            & 68            & 39   \\\\\n",
       "\tsex & 0             & 1             & 0             & 1             & 0    \\\\\n",
       "\tbmi & 27.34         & 24.49         & 20.20         & 24.77         & 45.97\\\\\n",
       "\tPC1 &  -58.2173378  &   64.0048525  &  116.7637520  &  107.3561269  & NA   \\\\\n",
       "\tPC2 &  -32.7227555  &  -27.4677021  &   45.5626625  & -138.9746084  & NA   \\\\\n",
       "\tPC3 &   99.26531217 &   55.18358435 &  -42.51464392 &   80.93545998 & NA   \\\\\n",
       "\\end{tabular}\n"
      ],
      "text/markdown": [
       "\n",
       "A matrix: 6 × 5 of type chr\n",
       "\n",
       "| <!--/--> | GM_155 | GM_157 | GM_158 | GM_160 | GM_161 |\n",
       "|---|---|---|---|---|---|\n",
       "| age | 78            | 40            | 85            | 68            | 39    |\n",
       "| sex | 0             | 1             | 0             | 1             | 0     |\n",
       "| bmi | 27.34         | 24.49         | 20.20         | 24.77         | 45.97 |\n",
       "| PC1 |  -58.2173378  |   64.0048525  |  116.7637520  |  107.3561269  | NA    |\n",
       "| PC2 |  -32.7227555  |  -27.4677021  |   45.5626625  | -138.9746084  | NA    |\n",
       "| PC3 |   99.26531217 |   55.18358435 |  -42.51464392 |   80.93545998 | NA    |\n",
       "\n"
      ],
      "text/plain": [
       "    GM_155        GM_157        GM_158        GM_160        GM_161\n",
       "age 78            40            85            68            39    \n",
       "sex 0             1             0             1             0     \n",
       "bmi 27.34         24.49         20.20         24.77         45.97 \n",
       "PC1  -58.2173378    64.0048525   116.7637520   107.3561269  NA    \n",
       "PC2  -32.7227555   -27.4677021    45.5626625  -138.9746084  NA    \n",
       "PC3   99.26531217   55.18358435  -42.51464392   80.93545998 NA    "
      ]
     },
     "metadata": {},
     "output_type": "display_data"
    }
   ],
   "source": [
    "# Format covariates data - samples need to be on columns\n",
    "\n",
    "covariates = merge(age, sex, by = 'IID')\n",
    "covariates = merge(covariates, bmi, by = 'IID')\n",
    "\n",
    "# we need to convert sex to numeric, F==0 and M==1\n",
    "covariates <- covariates %>%\n",
    "                mutate(sex = case_when(\n",
    "                sex == \"F\" ~ \"0\",\n",
    "                sex == \"M\" ~ \"1\",\n",
    "                TRUE ~ sex),\n",
    "                sex = as.numeric(sex)) %>% # Add the first three genotype principal components\n",
    "                left_join(.,\n",
    "                         as.data.frame(geno.pca$x) %>%\n",
    "                          dplyr::select(1:3) %>%\n",
    "                          mutate(IID = rownames(.)),\n",
    "                         by='IID')\n",
    "\n",
    "\n",
    "\n",
    "# Transpose and format\n",
    "covariates <- t(covariates)\n",
    "colnames(covariates) <- covariates[1,]\n",
    "covariates <- covariates[-1,]\n",
    "\n",
    "covariates[,1:5]\n"
   ]
  },
  {
   "cell_type": "code",
   "execution_count": 24,
   "metadata": {},
   "outputs": [
    {
     "data": {
      "text/html": [
       "<table class=\"dataframe\">\n",
       "<caption>A matrix: 5 × 5 of type chr</caption>\n",
       "<thead>\n",
       "\t<tr><th></th><th scope=col>GM_157</th><th scope=col>GM_160</th><th scope=col>GM_162</th><th scope=col>GM_165</th><th scope=col>GM_170</th></tr>\n",
       "</thead>\n",
       "<tbody>\n",
       "\t<tr><th scope=row>ENSG00000227232.4</th><td>0.6364987 </td><td>1.6056800 </td><td>1.1217738 </td><td>0.9975918 </td><td>0.9707744 </td></tr>\n",
       "\t<tr><th scope=row>ENSG00000268903.1</th><td>0.8738158 </td><td>1.4695690 </td><td>1.2320197 </td><td>0.2536188 </td><td>0.3969820 </td></tr>\n",
       "\t<tr><th scope=row>ENSG00000269981.1</th><td> 2.6133710</td><td> 3.4726910</td><td> 1.5011624</td><td> 0.8090797</td><td> 1.2061220</td></tr>\n",
       "\t<tr><th scope=row>ENSG00000237683.5</th><td> 1.8749400</td><td> 3.0422470</td><td> 1.8351815</td><td> 0.5900616</td><td> 0.8367163</td></tr>\n",
       "\t<tr><th scope=row>ENSG00000228463.4</th><td>0.28156200</td><td>0.37414420</td><td>0.41168588</td><td>0.23245180</td><td>0.08663095</td></tr>\n",
       "</tbody>\n",
       "</table>\n"
      ],
      "text/latex": [
       "A matrix: 5 × 5 of type chr\n",
       "\\begin{tabular}{r|lllll}\n",
       "  & GM\\_157 & GM\\_160 & GM\\_162 & GM\\_165 & GM\\_170\\\\\n",
       "\\hline\n",
       "\tENSG00000227232.4 & 0.6364987  & 1.6056800  & 1.1217738  & 0.9975918  & 0.9707744 \\\\\n",
       "\tENSG00000268903.1 & 0.8738158  & 1.4695690  & 1.2320197  & 0.2536188  & 0.3969820 \\\\\n",
       "\tENSG00000269981.1 &  2.6133710 &  3.4726910 &  1.5011624 &  0.8090797 &  1.2061220\\\\\n",
       "\tENSG00000237683.5 &  1.8749400 &  3.0422470 &  1.8351815 &  0.5900616 &  0.8367163\\\\\n",
       "\tENSG00000228463.4 & 0.28156200 & 0.37414420 & 0.41168588 & 0.23245180 & 0.08663095\\\\\n",
       "\\end{tabular}\n"
      ],
      "text/markdown": [
       "\n",
       "A matrix: 5 × 5 of type chr\n",
       "\n",
       "| <!--/--> | GM_157 | GM_160 | GM_162 | GM_165 | GM_170 |\n",
       "|---|---|---|---|---|---|\n",
       "| ENSG00000227232.4 | 0.6364987  | 1.6056800  | 1.1217738  | 0.9975918  | 0.9707744  |\n",
       "| ENSG00000268903.1 | 0.8738158  | 1.4695690  | 1.2320197  | 0.2536188  | 0.3969820  |\n",
       "| ENSG00000269981.1 |  2.6133710 |  3.4726910 |  1.5011624 |  0.8090797 |  1.2061220 |\n",
       "| ENSG00000237683.5 |  1.8749400 |  3.0422470 |  1.8351815 |  0.5900616 |  0.8367163 |\n",
       "| ENSG00000228463.4 | 0.28156200 | 0.37414420 | 0.41168588 | 0.23245180 | 0.08663095 |\n",
       "\n"
      ],
      "text/plain": [
       "                  GM_157     GM_160     GM_162     GM_165     GM_170    \n",
       "ENSG00000227232.4 0.6364987  1.6056800  1.1217738  0.9975918  0.9707744 \n",
       "ENSG00000268903.1 0.8738158  1.4695690  1.2320197  0.2536188  0.3969820 \n",
       "ENSG00000269981.1  2.6133710  3.4726910  1.5011624  0.8090797  1.2061220\n",
       "ENSG00000237683.5  1.8749400  3.0422470  1.8351815  0.5900616  0.8367163\n",
       "ENSG00000228463.4 0.28156200 0.37414420 0.41168588 0.23245180 0.08663095"
      ]
     },
     "metadata": {},
     "output_type": "display_data"
    },
    {
     "data": {
      "text/html": [
       "<table class=\"dataframe\">\n",
       "<caption>A matrix: 6 × 5 of type chr</caption>\n",
       "<thead>\n",
       "\t<tr><th></th><th scope=col>GM_157</th><th scope=col>GM_160</th><th scope=col>GM_162</th><th scope=col>GM_165</th><th scope=col>GM_170</th></tr>\n",
       "</thead>\n",
       "<tbody>\n",
       "\t<tr><th scope=row>age</th><td>40           </td><td>68           </td><td>71           </td><td>52           </td><td>27           </td></tr>\n",
       "\t<tr><th scope=row>sex</th><td>1            </td><td>1            </td><td>1            </td><td>1            </td><td>1            </td></tr>\n",
       "\t<tr><th scope=row>bmi</th><td>24.49        </td><td>24.77        </td><td>27.68        </td><td>37.29        </td><td>29.07        </td></tr>\n",
       "\t<tr><th scope=row>PC1</th><td>  64.0048525 </td><td> 107.3561269 </td><td>  68.8051681 </td><td> -67.7072087 </td><td>  32.6959842 </td></tr>\n",
       "\t<tr><th scope=row>PC2</th><td> -27.4677021 </td><td>-138.9746084 </td><td>  37.9587184 </td><td>-142.5017840 </td><td>  54.9889480 </td></tr>\n",
       "\t<tr><th scope=row>PC3</th><td>  55.18358435</td><td>  80.93545998</td><td>  30.98545606</td><td> -88.31705501</td><td>  25.17098925</td></tr>\n",
       "</tbody>\n",
       "</table>\n"
      ],
      "text/latex": [
       "A matrix: 6 × 5 of type chr\n",
       "\\begin{tabular}{r|lllll}\n",
       "  & GM\\_157 & GM\\_160 & GM\\_162 & GM\\_165 & GM\\_170\\\\\n",
       "\\hline\n",
       "\tage & 40            & 68            & 71            & 52            & 27           \\\\\n",
       "\tsex & 1             & 1             & 1             & 1             & 1            \\\\\n",
       "\tbmi & 24.49         & 24.77         & 27.68         & 37.29         & 29.07        \\\\\n",
       "\tPC1 &   64.0048525  &  107.3561269  &   68.8051681  &  -67.7072087  &   32.6959842 \\\\\n",
       "\tPC2 &  -27.4677021  & -138.9746084  &   37.9587184  & -142.5017840  &   54.9889480 \\\\\n",
       "\tPC3 &   55.18358435 &   80.93545998 &   30.98545606 &  -88.31705501 &   25.17098925\\\\\n",
       "\\end{tabular}\n"
      ],
      "text/markdown": [
       "\n",
       "A matrix: 6 × 5 of type chr\n",
       "\n",
       "| <!--/--> | GM_157 | GM_160 | GM_162 | GM_165 | GM_170 |\n",
       "|---|---|---|---|---|---|\n",
       "| age | 40            | 68            | 71            | 52            | 27            |\n",
       "| sex | 1             | 1             | 1             | 1             | 1             |\n",
       "| bmi | 24.49         | 24.77         | 27.68         | 37.29         | 29.07         |\n",
       "| PC1 |   64.0048525  |  107.3561269  |   68.8051681  |  -67.7072087  |   32.6959842  |\n",
       "| PC2 |  -27.4677021  | -138.9746084  |   37.9587184  | -142.5017840  |   54.9889480  |\n",
       "| PC3 |   55.18358435 |   80.93545998 |   30.98545606 |  -88.31705501 |   25.17098925 |\n",
       "\n"
      ],
      "text/plain": [
       "    GM_157        GM_160        GM_162        GM_165        GM_170       \n",
       "age 40            68            71            52            27           \n",
       "sex 1             1             1             1             1            \n",
       "bmi 24.49         24.77         27.68         37.29         29.07        \n",
       "PC1   64.0048525   107.3561269    68.8051681   -67.7072087    32.6959842 \n",
       "PC2  -27.4677021  -138.9746084    37.9587184  -142.5017840    54.9889480 \n",
       "PC3   55.18358435   80.93545998   30.98545606  -88.31705501   25.17098925"
      ]
     },
     "metadata": {},
     "output_type": "display_data"
    },
    {
     "data": {
      "text/html": [
       "<table class=\"dataframe\">\n",
       "<caption>A data.frame: 5 × 5</caption>\n",
       "<thead>\n",
       "\t<tr><th></th><th scope=col>GM_157</th><th scope=col>GM_160</th><th scope=col>GM_162</th><th scope=col>GM_165</th><th scope=col>GM_170</th></tr>\n",
       "\t<tr><th></th><th scope=col>&lt;int&gt;</th><th scope=col>&lt;int&gt;</th><th scope=col>&lt;int&gt;</th><th scope=col>&lt;int&gt;</th><th scope=col>&lt;int&gt;</th></tr>\n",
       "</thead>\n",
       "<tbody>\n",
       "\t<tr><th scope=row>1_751567_G_A</th><td>1</td><td>1</td><td>2</td><td>1</td><td>2</td></tr>\n",
       "\t<tr><th scope=row>1_751796_G_A</th><td>1</td><td>1</td><td>2</td><td>1</td><td>2</td></tr>\n",
       "\t<tr><th scope=row>1_752038_G_T</th><td>0</td><td>1</td><td>0</td><td>0</td><td>0</td></tr>\n",
       "\t<tr><th scope=row>1_752311_T_A</th><td>1</td><td>0</td><td>0</td><td>1</td><td>0</td></tr>\n",
       "\t<tr><th scope=row>1_752313_T_G</th><td>0</td><td>1</td><td>0</td><td>0</td><td>0</td></tr>\n",
       "</tbody>\n",
       "</table>\n"
      ],
      "text/latex": [
       "A data.frame: 5 × 5\n",
       "\\begin{tabular}{r|lllll}\n",
       "  & GM\\_157 & GM\\_160 & GM\\_162 & GM\\_165 & GM\\_170\\\\\n",
       "  & <int> & <int> & <int> & <int> & <int>\\\\\n",
       "\\hline\n",
       "\t1\\_751567\\_G\\_A & 1 & 1 & 2 & 1 & 2\\\\\n",
       "\t1\\_751796\\_G\\_A & 1 & 1 & 2 & 1 & 2\\\\\n",
       "\t1\\_752038\\_G\\_T & 0 & 1 & 0 & 0 & 0\\\\\n",
       "\t1\\_752311\\_T\\_A & 1 & 0 & 0 & 1 & 0\\\\\n",
       "\t1\\_752313\\_T\\_G & 0 & 1 & 0 & 0 & 0\\\\\n",
       "\\end{tabular}\n"
      ],
      "text/markdown": [
       "\n",
       "A data.frame: 5 × 5\n",
       "\n",
       "| <!--/--> | GM_157 &lt;int&gt; | GM_160 &lt;int&gt; | GM_162 &lt;int&gt; | GM_165 &lt;int&gt; | GM_170 &lt;int&gt; |\n",
       "|---|---|---|---|---|---|\n",
       "| 1_751567_G_A | 1 | 1 | 2 | 1 | 2 |\n",
       "| 1_751796_G_A | 1 | 1 | 2 | 1 | 2 |\n",
       "| 1_752038_G_T | 0 | 1 | 0 | 0 | 0 |\n",
       "| 1_752311_T_A | 1 | 0 | 0 | 1 | 0 |\n",
       "| 1_752313_T_G | 0 | 1 | 0 | 0 | 0 |\n",
       "\n"
      ],
      "text/plain": [
       "             GM_157 GM_160 GM_162 GM_165 GM_170\n",
       "1_751567_G_A 1      1      2      1      2     \n",
       "1_751796_G_A 1      1      2      1      2     \n",
       "1_752038_G_T 0      1      0      0      0     \n",
       "1_752311_T_A 1      0      0      1      0     \n",
       "1_752313_T_G 0      1      0      0      0     "
      ]
     },
     "metadata": {},
     "output_type": "display_data"
    },
    {
     "data": {
      "text/html": [
       "TRUE"
      ],
      "text/latex": [
       "TRUE"
      ],
      "text/markdown": [
       "TRUE"
      ],
      "text/plain": [
       "[1] TRUE"
      ]
     },
     "metadata": {},
     "output_type": "display_data"
    },
    {
     "data": {
      "text/html": [
       "TRUE"
      ],
      "text/latex": [
       "TRUE"
      ],
      "text/markdown": [
       "TRUE"
      ],
      "text/plain": [
       "[1] TRUE"
      ]
     },
     "metadata": {},
     "output_type": "display_data"
    }
   ],
   "source": [
    "# Check that the samples are in the right order between the files\n",
    "index <- colnames(snps)\n",
    "\n",
    "ge <- ge[,match(index, colnames(ge))]\n",
    "covariates <- covariates[,match(index, colnames(covariates))]\n",
    "\n",
    "ge[1:5,1:5]\n",
    "covariates[,1:5]\n",
    "snps[1:5,1:5]\n",
    "\n",
    "identical(colnames(ge), colnames(snps))\n",
    "identical(colnames(ge), colnames(covariates))\n"
   ]
  },
  {
   "cell_type": "code",
   "execution_count": 25,
   "metadata": {},
   "outputs": [],
   "source": [
    "# write files to disk\n",
    "write.table(ge, file=\"input/ge_matrixEQTL.txt\", quote = FALSE, sep = \"\\t\", row.names = TRUE, col.names = TRUE)\n",
    "write.table(snps, file=\"input/snps_matrixEQTL.txt\", quote = FALSE, sep = \"\\t\", row.names = TRUE, col.names = TRUE)\n",
    "write.table(covariates, file=\"input/covariates_matrixEQTL.txt\", quote = FALSE, sep = \"\\t\", row.names = TRUE, col.names = TRUE)\n",
    "\n"
   ]
  },
  {
   "cell_type": "code",
   "execution_count": 26,
   "metadata": {},
   "outputs": [
    {
     "data": {
      "text/html": [
       "<table class=\"dataframe\">\n",
       "<caption>A data.frame: 6 × 3</caption>\n",
       "<thead>\n",
       "\t<tr><th></th><th scope=col>SNP_ID</th><th scope=col>chr</th><th scope=col>pos</th></tr>\n",
       "\t<tr><th></th><th scope=col>&lt;chr&gt;</th><th scope=col>&lt;int&gt;</th><th scope=col>&lt;int&gt;</th></tr>\n",
       "</thead>\n",
       "<tbody>\n",
       "\t<tr><th scope=row>1</th><td>1_751567_G_A</td><td>1</td><td>751567</td></tr>\n",
       "\t<tr><th scope=row>2</th><td>1_751796_G_A</td><td>1</td><td>751796</td></tr>\n",
       "\t<tr><th scope=row>3</th><td>1_752038_G_T</td><td>1</td><td>752038</td></tr>\n",
       "\t<tr><th scope=row>4</th><td>1_752311_T_A</td><td>1</td><td>752311</td></tr>\n",
       "\t<tr><th scope=row>5</th><td>1_752313_T_G</td><td>1</td><td>752313</td></tr>\n",
       "\t<tr><th scope=row>6</th><td>1_752361_T_C</td><td>1</td><td>752361</td></tr>\n",
       "</tbody>\n",
       "</table>\n"
      ],
      "text/latex": [
       "A data.frame: 6 × 3\n",
       "\\begin{tabular}{r|lll}\n",
       "  & SNP\\_ID & chr & pos\\\\\n",
       "  & <chr> & <int> & <int>\\\\\n",
       "\\hline\n",
       "\t1 & 1\\_751567\\_G\\_A & 1 & 751567\\\\\n",
       "\t2 & 1\\_751796\\_G\\_A & 1 & 751796\\\\\n",
       "\t3 & 1\\_752038\\_G\\_T & 1 & 752038\\\\\n",
       "\t4 & 1\\_752311\\_T\\_A & 1 & 752311\\\\\n",
       "\t5 & 1\\_752313\\_T\\_G & 1 & 752313\\\\\n",
       "\t6 & 1\\_752361\\_T\\_C & 1 & 752361\\\\\n",
       "\\end{tabular}\n"
      ],
      "text/markdown": [
       "\n",
       "A data.frame: 6 × 3\n",
       "\n",
       "| <!--/--> | SNP_ID &lt;chr&gt; | chr &lt;int&gt; | pos &lt;int&gt; |\n",
       "|---|---|---|---|\n",
       "| 1 | 1_751567_G_A | 1 | 751567 |\n",
       "| 2 | 1_751796_G_A | 1 | 751796 |\n",
       "| 3 | 1_752038_G_T | 1 | 752038 |\n",
       "| 4 | 1_752311_T_A | 1 | 752311 |\n",
       "| 5 | 1_752313_T_G | 1 | 752313 |\n",
       "| 6 | 1_752361_T_C | 1 | 752361 |\n",
       "\n"
      ],
      "text/plain": [
       "  SNP_ID       chr pos   \n",
       "1 1_751567_G_A 1   751567\n",
       "2 1_751796_G_A 1   751796\n",
       "3 1_752038_G_T 1   752038\n",
       "4 1_752311_T_A 1   752311\n",
       "5 1_752313_T_G 1   752313\n",
       "6 1_752361_T_C 1   752361"
      ]
     },
     "metadata": {},
     "output_type": "display_data"
    },
    {
     "data": {
      "text/html": [
       "<table class=\"dataframe\">\n",
       "<caption>A data.frame: 6 × 4</caption>\n",
       "<thead>\n",
       "\t<tr><th></th><th scope=col>gene</th><th scope=col>chr</th><th scope=col>start</th><th scope=col>end</th></tr>\n",
       "\t<tr><th></th><th scope=col>&lt;chr&gt;</th><th scope=col>&lt;int&gt;</th><th scope=col>&lt;int&gt;</th><th scope=col>&lt;int&gt;</th></tr>\n",
       "</thead>\n",
       "<tbody>\n",
       "\t<tr><th scope=row>1</th><td>ENSG00000227232.4</td><td>1</td><td> 29805</td><td> 29806</td></tr>\n",
       "\t<tr><th scope=row>2</th><td>ENSG00000268903.1</td><td>1</td><td>135894</td><td>135895</td></tr>\n",
       "\t<tr><th scope=row>3</th><td>ENSG00000269981.1</td><td>1</td><td>137964</td><td>137965</td></tr>\n",
       "\t<tr><th scope=row>4</th><td>ENSG00000237683.5</td><td>1</td><td>139378</td><td>139379</td></tr>\n",
       "\t<tr><th scope=row>5</th><td>ENSG00000228463.4</td><td>1</td><td>267252</td><td>267253</td></tr>\n",
       "\t<tr><th scope=row>6</th><td>ENSG00000225972.1</td><td>1</td><td>564441</td><td>564442</td></tr>\n",
       "</tbody>\n",
       "</table>\n"
      ],
      "text/latex": [
       "A data.frame: 6 × 4\n",
       "\\begin{tabular}{r|llll}\n",
       "  & gene & chr & start & end\\\\\n",
       "  & <chr> & <int> & <int> & <int>\\\\\n",
       "\\hline\n",
       "\t1 & ENSG00000227232.4 & 1 &  29805 &  29806\\\\\n",
       "\t2 & ENSG00000268903.1 & 1 & 135894 & 135895\\\\\n",
       "\t3 & ENSG00000269981.1 & 1 & 137964 & 137965\\\\\n",
       "\t4 & ENSG00000237683.5 & 1 & 139378 & 139379\\\\\n",
       "\t5 & ENSG00000228463.4 & 1 & 267252 & 267253\\\\\n",
       "\t6 & ENSG00000225972.1 & 1 & 564441 & 564442\\\\\n",
       "\\end{tabular}\n"
      ],
      "text/markdown": [
       "\n",
       "A data.frame: 6 × 4\n",
       "\n",
       "| <!--/--> | gene &lt;chr&gt; | chr &lt;int&gt; | start &lt;int&gt; | end &lt;int&gt; |\n",
       "|---|---|---|---|---|\n",
       "| 1 | ENSG00000227232.4 | 1 |  29805 |  29806 |\n",
       "| 2 | ENSG00000268903.1 | 1 | 135894 | 135895 |\n",
       "| 3 | ENSG00000269981.1 | 1 | 137964 | 137965 |\n",
       "| 4 | ENSG00000237683.5 | 1 | 139378 | 139379 |\n",
       "| 5 | ENSG00000228463.4 | 1 | 267252 | 267253 |\n",
       "| 6 | ENSG00000225972.1 | 1 | 564441 | 564442 |\n",
       "\n"
      ],
      "text/plain": [
       "  gene              chr start  end   \n",
       "1 ENSG00000227232.4 1    29805  29806\n",
       "2 ENSG00000268903.1 1   135894 135895\n",
       "3 ENSG00000269981.1 1   137964 137965\n",
       "4 ENSG00000237683.5 1   139378 139379\n",
       "5 ENSG00000228463.4 1   267252 267253\n",
       "6 ENSG00000225972.1 1   564441 564442"
      ]
     },
     "metadata": {},
     "output_type": "display_data"
    },
    {
     "data": {
      "text/html": [
       "<style>\n",
       ".list-inline {list-style: none; margin:0; padding: 0}\n",
       ".list-inline>li {display: inline-block}\n",
       ".list-inline>li:not(:last-child)::after {content: \"\\00b7\"; padding: 0 .5ex}\n",
       "</style>\n",
       "<ol class=list-inline><li>426747</li><li>3</li></ol>\n"
      ],
      "text/latex": [
       "\\begin{enumerate*}\n",
       "\\item 426747\n",
       "\\item 3\n",
       "\\end{enumerate*}\n"
      ],
      "text/markdown": [
       "1. 426747\n",
       "2. 3\n",
       "\n",
       "\n"
      ],
      "text/plain": [
       "[1] 426747      3"
      ]
     },
     "metadata": {},
     "output_type": "display_data"
    },
    {
     "data": {
      "text/html": [
       "<style>\n",
       ".list-inline {list-style: none; margin:0; padding: 0}\n",
       ".list-inline>li {display: inline-block}\n",
       ".list-inline>li:not(:last-child)::after {content: \"\\00b7\"; padding: 0 .5ex}\n",
       "</style>\n",
       "<ol class=list-inline><li>426747</li><li>93</li></ol>\n"
      ],
      "text/latex": [
       "\\begin{enumerate*}\n",
       "\\item 426747\n",
       "\\item 93\n",
       "\\end{enumerate*}\n"
      ],
      "text/markdown": [
       "1. 426747\n",
       "2. 93\n",
       "\n",
       "\n"
      ],
      "text/plain": [
       "[1] 426747     93"
      ]
     },
     "metadata": {},
     "output_type": "display_data"
    }
   ],
   "source": [
    "# we need to provide the snp and gene positions in the format snp\tchr\tpos and geneid\tchr\ts1\ts2\n",
    "snp.loc = read.table('input/snps.loc.txt', header = TRUE, ) # Location info for SNPs.\n",
    "head(snp.loc)\n",
    "gene.loc = read.table('input/gene.loc.txt', header = TRUE) # Location info for Genes.\n",
    "head(gene.loc)\n",
    "\n",
    "dim(snp.loc)\n",
    "dim(snps)"
   ]
  },
  {
   "cell_type": "markdown",
   "metadata": {
    "id": "hIVxIILNI7EU"
   },
   "source": [
    "---\n",
    "### Part 4. Association analysis - QTL mapping\n",
    "- We are going to perform a cis-association analysis on chromosome1. That is, only the variants that fall inside a +/- 1Mb window from the TSS of the gene of interest are going to be tested.\n",
    "\n",
    "  - Recall that we are using a linear regression model to estimate the genetic effect of each variant for the expression of each Gene.\n",
    "\n"
   ]
  },
  {
   "cell_type": "code",
   "execution_count": 27,
   "metadata": {},
   "outputs": [],
   "source": [
    "## Genotype file name\n",
    "SNP_file_name = \"input/snps_matrixEQTL.txt\" # dosage of alt allele. Samples on columns\n",
    "\n",
    "### Gene expression file name\n",
    "expression_file_name = \"input/ge_matrixEQTL.txt\"\n",
    "\n",
    "## Covariates file name\n",
    "covariates_file_name = \"input/covariates_matrixEQTL.txt\"\n",
    "\n",
    "\n"
   ]
  },
  {
   "cell_type": "code",
   "execution_count": 28,
   "metadata": {},
   "outputs": [],
   "source": [
    "######----------------------------- set up parameters \n",
    "\n",
    "# Error covariance matrix\n",
    "# Set to numeric() for identity.\n",
    "errorCovariance = numeric();\n",
    "\n",
    "# Output file names\n",
    "transFileName = \"eQTL_trans.txt\"\n",
    "cisFileName = \"eQTL_cis.txt\"\n",
    "\n",
    "# Distance for local gene-SNP pairs\n",
    "cisDist = 1e6\n",
    "\n",
    "# model to use: modelANOVA, modelLINEAR, or modelLINEAR_CROSS\n",
    "useModel = modelLINEAR\n",
    "\n",
    "cis.thresh = 5e-8 # Save cis results with p-value < 5e-8\n",
    "trans.thresh = 0 # Don't perform trans eQTL analysis. Change this to anything > 0 if you want to perfom trans analysis. NB it is lots of tests!\n",
    "\n",
    "  "
   ]
  },
  {
   "cell_type": "code",
   "execution_count": 29,
   "metadata": {},
   "outputs": [
    {
     "name": "stderr",
     "output_type": "stream",
     "text": [
      "Rows read: 2,000\n",
      "\n",
      "Rows read: 4,000\n",
      "\n",
      "Rows read: 6,000\n",
      "\n",
      "Rows read: 8,000\n",
      "\n",
      "Rows read: 10,000\n",
      "\n",
      "Rows read: 12,000\n",
      "\n",
      "Rows read: 14,000\n",
      "\n",
      "Rows read: 16,000\n",
      "\n",
      "Rows read: 18,000\n",
      "\n",
      "Rows read: 20,000\n",
      "\n",
      "Rows read: 22,000\n",
      "\n",
      "Rows read: 24,000\n",
      "\n",
      "Rows read: 26,000\n",
      "\n",
      "Rows read: 28,000\n",
      "\n",
      "Rows read: 30,000\n",
      "\n",
      "Rows read: 32,000\n",
      "\n",
      "Rows read: 34,000\n",
      "\n",
      "Rows read: 36,000\n",
      "\n",
      "Rows read: 38,000\n",
      "\n",
      "Rows read: 40,000\n",
      "\n",
      "Rows read: 42,000\n",
      "\n",
      "Rows read: 44,000\n",
      "\n",
      "Rows read: 46,000\n",
      "\n",
      "Rows read: 48,000\n",
      "\n",
      "Rows read: 50,000\n",
      "\n",
      "Rows read: 52,000\n",
      "\n",
      "Rows read: 54,000\n",
      "\n",
      "Rows read: 56,000\n",
      "\n",
      "Rows read: 58,000\n",
      "\n",
      "Rows read: 60,000\n",
      "\n",
      "Rows read: 62,000\n",
      "\n",
      "Rows read: 64,000\n",
      "\n",
      "Rows read: 66,000\n",
      "\n",
      "Rows read: 68,000\n",
      "\n",
      "Rows read: 70,000\n",
      "\n",
      "Rows read: 72,000\n",
      "\n",
      "Rows read: 74,000\n",
      "\n",
      "Rows read: 76,000\n",
      "\n",
      "Rows read: 78,000\n",
      "\n",
      "Rows read: 80,000\n",
      "\n",
      "Rows read: 82,000\n",
      "\n",
      "Rows read: 84,000\n",
      "\n",
      "Rows read: 86,000\n",
      "\n",
      "Rows read: 88,000\n",
      "\n",
      "Rows read: 90,000\n",
      "\n",
      "Rows read: 92,000\n",
      "\n",
      "Rows read: 94,000\n",
      "\n",
      "Rows read: 96,000\n",
      "\n",
      "Rows read: 98,000\n",
      "\n",
      "Rows read: 100,000\n",
      "\n",
      "Rows read: 102,000\n",
      "\n",
      "Rows read: 104,000\n",
      "\n",
      "Rows read: 106,000\n",
      "\n",
      "Rows read: 108,000\n",
      "\n",
      "Rows read: 110,000\n",
      "\n",
      "Rows read: 112,000\n",
      "\n",
      "Rows read: 114,000\n",
      "\n",
      "Rows read: 116,000\n",
      "\n",
      "Rows read: 118,000\n",
      "\n",
      "Rows read: 120,000\n",
      "\n",
      "Rows read: 122,000\n",
      "\n",
      "Rows read: 124,000\n",
      "\n",
      "Rows read: 126,000\n",
      "\n",
      "Rows read: 128,000\n",
      "\n",
      "Rows read: 130,000\n",
      "\n",
      "Rows read: 132,000\n",
      "\n",
      "Rows read: 134,000\n",
      "\n",
      "Rows read: 136,000\n",
      "\n",
      "Rows read: 138,000\n",
      "\n",
      "Rows read: 140,000\n",
      "\n",
      "Rows read: 142,000\n",
      "\n",
      "Rows read: 144,000\n",
      "\n",
      "Rows read: 146,000\n",
      "\n",
      "Rows read: 148,000\n",
      "\n",
      "Rows read: 150,000\n",
      "\n",
      "Rows read: 152,000\n",
      "\n",
      "Rows read: 154,000\n",
      "\n",
      "Rows read: 156,000\n",
      "\n",
      "Rows read: 158,000\n",
      "\n",
      "Rows read: 160,000\n",
      "\n",
      "Rows read: 162,000\n",
      "\n",
      "Rows read: 164,000\n",
      "\n",
      "Rows read: 166,000\n",
      "\n",
      "Rows read: 168,000\n",
      "\n",
      "Rows read: 170,000\n",
      "\n",
      "Rows read: 172,000\n",
      "\n",
      "Rows read: 174,000\n",
      "\n",
      "Rows read: 176,000\n",
      "\n",
      "Rows read: 178,000\n",
      "\n",
      "Rows read: 180,000\n",
      "\n",
      "Rows read: 182,000\n",
      "\n",
      "Rows read: 184,000\n",
      "\n",
      "Rows read: 186,000\n",
      "\n",
      "Rows read: 188,000\n",
      "\n",
      "Rows read: 190,000\n",
      "\n",
      "Rows read: 192,000\n",
      "\n",
      "Rows read: 194,000\n",
      "\n",
      "Rows read: 196,000\n",
      "\n",
      "Rows read: 198,000\n",
      "\n",
      "Rows read: 200,000\n",
      "\n",
      "Rows read: 202,000\n",
      "\n",
      "Rows read: 204,000\n",
      "\n",
      "Rows read: 206,000\n",
      "\n",
      "Rows read: 208,000\n",
      "\n",
      "Rows read: 210,000\n",
      "\n",
      "Rows read: 212,000\n",
      "\n",
      "Rows read: 214,000\n",
      "\n",
      "Rows read: 216,000\n",
      "\n",
      "Rows read: 218,000\n",
      "\n",
      "Rows read: 220,000\n",
      "\n",
      "Rows read: 222,000\n",
      "\n",
      "Rows read: 224,000\n",
      "\n",
      "Rows read: 226,000\n",
      "\n",
      "Rows read: 228,000\n",
      "\n",
      "Rows read: 230,000\n",
      "\n",
      "Rows read: 232,000\n",
      "\n",
      "Rows read: 234,000\n",
      "\n",
      "Rows read: 236,000\n",
      "\n",
      "Rows read: 238,000\n",
      "\n",
      "Rows read: 240,000\n",
      "\n",
      "Rows read: 242,000\n",
      "\n",
      "Rows read: 244,000\n",
      "\n",
      "Rows read: 246,000\n",
      "\n",
      "Rows read: 248,000\n",
      "\n",
      "Rows read: 250,000\n",
      "\n",
      "Rows read: 252,000\n",
      "\n",
      "Rows read: 254,000\n",
      "\n",
      "Rows read: 256,000\n",
      "\n",
      "Rows read: 258,000\n",
      "\n",
      "Rows read: 260,000\n",
      "\n",
      "Rows read: 262,000\n",
      "\n",
      "Rows read: 264,000\n",
      "\n",
      "Rows read: 266,000\n",
      "\n",
      "Rows read: 268,000\n",
      "\n",
      "Rows read: 270,000\n",
      "\n",
      "Rows read: 272,000\n",
      "\n",
      "Rows read: 274,000\n",
      "\n",
      "Rows read: 276,000\n",
      "\n",
      "Rows read: 278,000\n",
      "\n",
      "Rows read: 280,000\n",
      "\n",
      "Rows read: 282,000\n",
      "\n",
      "Rows read: 284,000\n",
      "\n",
      "Rows read: 286,000\n",
      "\n",
      "Rows read: 288,000\n",
      "\n",
      "Rows read: 290,000\n",
      "\n",
      "Rows read: 292,000\n",
      "\n",
      "Rows read: 294,000\n",
      "\n",
      "Rows read: 296,000\n",
      "\n",
      "Rows read: 298,000\n",
      "\n",
      "Rows read: 300,000\n",
      "\n",
      "Rows read: 302,000\n",
      "\n",
      "Rows read: 304,000\n",
      "\n",
      "Rows read: 306,000\n",
      "\n",
      "Rows read: 308,000\n",
      "\n",
      "Rows read: 310,000\n",
      "\n",
      "Rows read: 312,000\n",
      "\n",
      "Rows read: 314,000\n",
      "\n",
      "Rows read: 316,000\n",
      "\n",
      "Rows read: 318,000\n",
      "\n",
      "Rows read: 320,000\n",
      "\n",
      "Rows read: 322,000\n",
      "\n",
      "Rows read: 324,000\n",
      "\n",
      "Rows read: 326,000\n",
      "\n",
      "Rows read: 328,000\n",
      "\n",
      "Rows read: 330,000\n",
      "\n",
      "Rows read: 332,000\n",
      "\n",
      "Rows read: 334,000\n",
      "\n",
      "Rows read: 336,000\n",
      "\n",
      "Rows read: 338,000\n",
      "\n",
      "Rows read: 340,000\n",
      "\n",
      "Rows read: 342,000\n",
      "\n",
      "Rows read: 344,000\n",
      "\n",
      "Rows read: 346,000\n",
      "\n",
      "Rows read: 348,000\n",
      "\n",
      "Rows read: 350,000\n",
      "\n",
      "Rows read: 352,000\n",
      "\n",
      "Rows read: 354,000\n",
      "\n",
      "Rows read: 356,000\n",
      "\n",
      "Rows read: 358,000\n",
      "\n",
      "Rows read: 360,000\n",
      "\n",
      "Rows read: 362,000\n",
      "\n",
      "Rows read: 364,000\n",
      "\n",
      "Rows read: 366,000\n",
      "\n",
      "Rows read: 368,000\n",
      "\n",
      "Rows read: 370,000\n",
      "\n",
      "Rows read: 372,000\n",
      "\n",
      "Rows read: 374,000\n",
      "\n",
      "Rows read: 376,000\n",
      "\n",
      "Rows read: 378,000\n",
      "\n",
      "Rows read: 380,000\n",
      "\n",
      "Rows read: 382,000\n",
      "\n",
      "Rows read: 384,000\n",
      "\n",
      "Rows read: 386,000\n",
      "\n",
      "Rows read: 388,000\n",
      "\n",
      "Rows read: 390,000\n",
      "\n",
      "Rows read: 392,000\n",
      "\n",
      "Rows read: 394,000\n",
      "\n",
      "Rows read: 396,000\n",
      "\n",
      "Rows read: 398,000\n",
      "\n",
      "Rows read: 400,000\n",
      "\n",
      "Rows read: 402,000\n",
      "\n",
      "Rows read: 404,000\n",
      "\n",
      "Rows read: 406,000\n",
      "\n",
      "Rows read: 408,000\n",
      "\n",
      "Rows read: 410,000\n",
      "\n",
      "Rows read: 412,000\n",
      "\n",
      "Rows read: 414,000\n",
      "\n",
      "Rows read: 416,000\n",
      "\n",
      "Rows read: 418,000\n",
      "\n",
      "Rows read: 420,000\n",
      "\n",
      "Rows read: 422,000\n",
      "\n",
      "Rows read: 424,000\n",
      "\n",
      "Rows read: 426,000\n",
      "\n",
      "Rows read: 426747 done.\n",
      "\n",
      "Rows read: 2,000\n",
      "\n",
      "Rows read: 2145 done.\n",
      "\n",
      "Rows read: 6 done.\n",
      "\n"
     ]
    }
   ],
   "source": [
    "######----------------------------- load files\n",
    "\n",
    "## Load genotype data\n",
    "geno = SlicedData$new();\n",
    "geno$fileDelimiter = \"\\t\";      # the TAB character\n",
    "geno$fileOmitCharacters = \"NA\"; # denote missing values;\n",
    "geno$fileSkipRows = 1;          # one row of column labels\n",
    "geno$fileSkipColumns = 1;       # one column of row labels\n",
    "geno$fileSliceSize = 2000;      # read file in slices of 5,000 rows\n",
    "geno$LoadFile(SNP_file_name);\n",
    "\n",
    "\n",
    "## Load gene expression data\n",
    "gene = SlicedData$new();\n",
    "gene$fileDelimiter = \"\\t\";      # the tab character\n",
    "gene$fileOmitCharacters = \"NA\"; # denote missing values;\n",
    "gene$fileSkipRows = 1;          # one row of column labels\n",
    "gene$fileSkipColumns = 1;       # one column of row labels\n",
    "gene$fileSliceSize = 2000;      # read file in slices of 2,000 rows\n",
    "gene$LoadFile(expression_file_name);\n",
    "  \n",
    "## Load covariates\n",
    "cvrt = SlicedData$new();\n",
    "cvrt$fileDelimiter = \"\\t\";      # the comma character\n",
    "cvrt$fileOmitCharacters = \"NA\"; # denote missing values;\n",
    "cvrt$fileSkipRows = 1;          # one row of column labels\n",
    "cvrt$fileSkipColumns = 1;       # one column of row labels\n",
    "#If loading from file\n",
    "if(length(covariates_file_name)>0) {\n",
    " cvrt$LoadFile(covariates_file_name);\n",
    "}\n",
    "  \n",
    "  "
   ]
  },
  {
   "cell_type": "code",
   "execution_count": 30,
   "metadata": {},
   "outputs": [
    {
     "name": "stderr",
     "output_type": "stream",
     "text": [
      "2145 of 2145 genes matched\n",
      "\n",
      "426747 of 426747 SNPs matched\n",
      "\n",
      "\n",
      " 0.23% done, 51 cis-eQTLs\n",
      "\n",
      " 0.70% done, 51 cis-eQTLs\n",
      "\n",
      " 1.16% done, 51 cis-eQTLs\n",
      "\n",
      " 1.63% done, 51 cis-eQTLs\n",
      "\n",
      " 2.10% done, 51 cis-eQTLs\n",
      "\n",
      " 2.57% done, 51 cis-eQTLs\n",
      "\n",
      " 3.03% done, 51 cis-eQTLs\n",
      "\n",
      " 3.50% done, 51 cis-eQTLs\n",
      "\n",
      " 3.97% done, 51 cis-eQTLs\n",
      "\n",
      " 4.43% done, 51 cis-eQTLs\n",
      "\n",
      " 4.90% done, 51 cis-eQTLs\n",
      "\n",
      " 5.37% done, 51 cis-eQTLs\n",
      "\n",
      " 5.84% done, 51 cis-eQTLs\n",
      "\n",
      " 6.30% done, 51 cis-eQTLs\n",
      "\n",
      " 6.77% done, 51 cis-eQTLs\n",
      "\n",
      " 7.24% done, 56 cis-eQTLs\n",
      "\n",
      " 7.71% done, 56 cis-eQTLs\n",
      "\n",
      " 8.17% done, 56 cis-eQTLs\n",
      "\n",
      " 8.64% done, 56 cis-eQTLs\n",
      "\n",
      " 9.11% done, 56 cis-eQTLs\n",
      "\n",
      " 9.57% done, 143 cis-eQTLs\n",
      "\n",
      "10.04% done, 179 cis-eQTLs\n",
      "\n",
      "10.51% done, 179 cis-eQTLs\n",
      "\n",
      "10.98% done, 179 cis-eQTLs\n",
      "\n",
      "11.44% done, 179 cis-eQTLs\n",
      "\n",
      "11.91% done, 179 cis-eQTLs\n",
      "\n",
      "12.38% done, 179 cis-eQTLs\n",
      "\n",
      "12.85% done, 179 cis-eQTLs\n",
      "\n",
      "13.31% done, 179 cis-eQTLs\n",
      "\n",
      "13.78% done, 179 cis-eQTLs\n",
      "\n",
      "14.25% done, 179 cis-eQTLs\n",
      "\n",
      "14.71% done, 179 cis-eQTLs\n",
      "\n",
      "15.18% done, 179 cis-eQTLs\n",
      "\n",
      "15.65% done, 186 cis-eQTLs\n",
      "\n",
      "16.12% done, 186 cis-eQTLs\n",
      "\n",
      "16.58% done, 212 cis-eQTLs\n",
      "\n",
      "17.05% done, 212 cis-eQTLs\n",
      "\n",
      "17.52% done, 212 cis-eQTLs\n",
      "\n",
      "17.99% done, 212 cis-eQTLs\n",
      "\n",
      "18.45% done, 212 cis-eQTLs\n",
      "\n",
      "18.92% done, 361 cis-eQTLs\n",
      "\n",
      "19.39% done, 361 cis-eQTLs\n",
      "\n",
      "19.85% done, 361 cis-eQTLs\n",
      "\n",
      "20.32% done, 361 cis-eQTLs\n",
      "\n",
      "20.79% done, 361 cis-eQTLs\n",
      "\n",
      "21.26% done, 361 cis-eQTLs\n",
      "\n",
      "21.72% done, 361 cis-eQTLs\n",
      "\n",
      "22.19% done, 361 cis-eQTLs\n",
      "\n",
      "22.66% done, 361 cis-eQTLs\n",
      "\n",
      "23.13% done, 361 cis-eQTLs\n",
      "\n",
      "23.59% done, 361 cis-eQTLs\n",
      "\n",
      "24.06% done, 361 cis-eQTLs\n",
      "\n",
      "24.53% done, 361 cis-eQTLs\n",
      "\n",
      "25.00% done, 361 cis-eQTLs\n",
      "\n",
      "25.46% done, 361 cis-eQTLs\n",
      "\n",
      "25.93% done, 407 cis-eQTLs\n",
      "\n",
      "26.40% done, 407 cis-eQTLs\n",
      "\n",
      "26.86% done, 407 cis-eQTLs\n",
      "\n",
      "27.33% done, 407 cis-eQTLs\n",
      "\n",
      "27.80% done, 407 cis-eQTLs\n",
      "\n",
      "28.27% done, 407 cis-eQTLs\n",
      "\n",
      "28.73% done, 407 cis-eQTLs\n",
      "\n",
      "29.20% done, 408 cis-eQTLs\n",
      "\n",
      "29.67% done, 408 cis-eQTLs\n",
      "\n",
      "30.14% done, 408 cis-eQTLs\n",
      "\n",
      "30.60% done, 408 cis-eQTLs\n",
      "\n",
      "31.07% done, 408 cis-eQTLs\n",
      "\n",
      "31.54% done, 408 cis-eQTLs\n",
      "\n",
      "32.00% done, 408 cis-eQTLs\n",
      "\n",
      "32.47% done, 408 cis-eQTLs\n",
      "\n",
      "32.94% done, 408 cis-eQTLs\n",
      "\n",
      "33.41% done, 408 cis-eQTLs\n",
      "\n",
      "33.87% done, 408 cis-eQTLs\n",
      "\n",
      "34.34% done, 408 cis-eQTLs\n",
      "\n",
      "34.81% done, 408 cis-eQTLs\n",
      "\n",
      "35.28% done, 408 cis-eQTLs\n",
      "\n",
      "35.74% done, 408 cis-eQTLs\n",
      "\n",
      "36.21% done, 408 cis-eQTLs\n",
      "\n",
      "36.68% done, 408 cis-eQTLs\n",
      "\n",
      "37.14% done, 408 cis-eQTLs\n",
      "\n",
      "37.61% done, 409 cis-eQTLs\n",
      "\n",
      "38.08% done, 409 cis-eQTLs\n",
      "\n",
      "38.55% done, 409 cis-eQTLs\n",
      "\n",
      "39.01% done, 409 cis-eQTLs\n",
      "\n",
      "39.48% done, 409 cis-eQTLs\n",
      "\n",
      "39.95% done, 409 cis-eQTLs\n",
      "\n",
      "40.42% done, 409 cis-eQTLs\n",
      "\n",
      "40.88% done, 409 cis-eQTLs\n",
      "\n",
      "41.35% done, 409 cis-eQTLs\n",
      "\n",
      "41.82% done, 409 cis-eQTLs\n",
      "\n",
      "42.28% done, 409 cis-eQTLs\n",
      "\n",
      "42.75% done, 409 cis-eQTLs\n",
      "\n",
      "43.22% done, 409 cis-eQTLs\n",
      "\n",
      "43.69% done, 409 cis-eQTLs\n",
      "\n",
      "44.15% done, 409 cis-eQTLs\n",
      "\n",
      "44.62% done, 409 cis-eQTLs\n",
      "\n",
      "45.09% done, 409 cis-eQTLs\n",
      "\n",
      "45.56% done, 409 cis-eQTLs\n",
      "\n",
      "46.02% done, 409 cis-eQTLs\n",
      "\n",
      "46.49% done, 409 cis-eQTLs\n",
      "\n",
      "46.96% done, 409 cis-eQTLs\n",
      "\n",
      "47.42% done, 414 cis-eQTLs\n",
      "\n",
      "47.89% done, 456 cis-eQTLs\n",
      "\n",
      "48.36% done, 457 cis-eQTLs\n",
      "\n",
      "48.83% done, 457 cis-eQTLs\n",
      "\n",
      "49.29% done, 457 cis-eQTLs\n",
      "\n",
      "49.76% done, 457 cis-eQTLs\n",
      "\n",
      "50.23% done, 457 cis-eQTLs\n",
      "\n",
      "50.70% done, 457 cis-eQTLs\n",
      "\n",
      "51.16% done, 457 cis-eQTLs\n",
      "\n",
      "51.63% done, 514 cis-eQTLs\n",
      "\n",
      "52.10% done, 523 cis-eQTLs\n",
      "\n",
      "52.57% done, 533 cis-eQTLs\n",
      "\n",
      "53.03% done, 545 cis-eQTLs\n",
      "\n",
      "53.50% done, 545 cis-eQTLs\n",
      "\n",
      "53.97% done, 629 cis-eQTLs\n",
      "\n",
      "54.43% done, 629 cis-eQTLs\n",
      "\n",
      "54.90% done, 629 cis-eQTLs\n",
      "\n",
      "55.37% done, 629 cis-eQTLs\n",
      "\n",
      "55.84% done, 629 cis-eQTLs\n",
      "\n",
      "56.30% done, 632 cis-eQTLs\n",
      "\n",
      "56.77% done, 644 cis-eQTLs\n",
      "\n",
      "57.24% done, 644 cis-eQTLs\n",
      "\n",
      "57.71% done, 644 cis-eQTLs\n",
      "\n",
      "58.17% done, 644 cis-eQTLs\n",
      "\n",
      "58.64% done, 644 cis-eQTLs\n",
      "\n",
      "59.11% done, 644 cis-eQTLs\n",
      "\n",
      "59.57% done, 644 cis-eQTLs\n",
      "\n",
      "60.04% done, 644 cis-eQTLs\n",
      "\n",
      "60.51% done, 644 cis-eQTLs\n",
      "\n",
      "60.98% done, 644 cis-eQTLs\n",
      "\n",
      "61.44% done, 644 cis-eQTLs\n",
      "\n",
      "61.91% done, 644 cis-eQTLs\n",
      "\n",
      "62.38% done, 665 cis-eQTLs\n",
      "\n",
      "62.85% done, 665 cis-eQTLs\n",
      "\n",
      "63.31% done, 665 cis-eQTLs\n",
      "\n",
      "63.78% done, 665 cis-eQTLs\n",
      "\n",
      "64.25% done, 665 cis-eQTLs\n",
      "\n",
      "64.71% done, 665 cis-eQTLs\n",
      "\n",
      "65.18% done, 665 cis-eQTLs\n",
      "\n",
      "65.65% done, 665 cis-eQTLs\n",
      "\n",
      "66.12% done, 665 cis-eQTLs\n",
      "\n",
      "66.58% done, 665 cis-eQTLs\n",
      "\n",
      "67.05% done, 665 cis-eQTLs\n",
      "\n",
      "67.52% done, 665 cis-eQTLs\n",
      "\n",
      "67.99% done, 665 cis-eQTLs\n",
      "\n",
      "68.45% done, 665 cis-eQTLs\n",
      "\n",
      "68.92% done, 665 cis-eQTLs\n",
      "\n",
      "69.39% done, 665 cis-eQTLs\n",
      "\n",
      "69.85% done, 665 cis-eQTLs\n",
      "\n",
      "70.32% done, 665 cis-eQTLs\n",
      "\n",
      "70.79% done, 665 cis-eQTLs\n",
      "\n",
      "71.26% done, 665 cis-eQTLs\n",
      "\n",
      "71.72% done, 665 cis-eQTLs\n",
      "\n",
      "72.19% done, 665 cis-eQTLs\n",
      "\n",
      "72.66% done, 665 cis-eQTLs\n",
      "\n",
      "73.13% done, 665 cis-eQTLs\n",
      "\n",
      "73.59% done, 665 cis-eQTLs\n",
      "\n",
      "74.06% done, 665 cis-eQTLs\n",
      "\n",
      "74.53% done, 665 cis-eQTLs\n",
      "\n",
      "75.00% done, 665 cis-eQTLs\n",
      "\n",
      "75.46% done, 665 cis-eQTLs\n",
      "\n",
      "75.93% done, 665 cis-eQTLs\n",
      "\n",
      "76.40% done, 665 cis-eQTLs\n",
      "\n",
      "76.86% done, 665 cis-eQTLs\n",
      "\n",
      "77.33% done, 665 cis-eQTLs\n",
      "\n",
      "77.80% done, 665 cis-eQTLs\n",
      "\n",
      "78.27% done, 665 cis-eQTLs\n",
      "\n",
      "78.73% done, 665 cis-eQTLs\n",
      "\n",
      "79.20% done, 665 cis-eQTLs\n",
      "\n",
      "79.67% done, 665 cis-eQTLs\n",
      "\n",
      "80.14% done, 665 cis-eQTLs\n",
      "\n",
      "80.60% done, 665 cis-eQTLs\n",
      "\n",
      "81.07% done, 881 cis-eQTLs\n",
      "\n",
      "81.54% done, 915 cis-eQTLs\n",
      "\n",
      "82.00% done, 915 cis-eQTLs\n",
      "\n",
      "82.47% done, 915 cis-eQTLs\n",
      "\n",
      "82.94% done, 915 cis-eQTLs\n",
      "\n",
      "83.41% done, 915 cis-eQTLs\n",
      "\n",
      "83.87% done, 915 cis-eQTLs\n",
      "\n",
      "84.34% done, 915 cis-eQTLs\n",
      "\n",
      "84.81% done, 915 cis-eQTLs\n",
      "\n",
      "85.28% done, 917 cis-eQTLs\n",
      "\n",
      "85.74% done, 917 cis-eQTLs\n",
      "\n",
      "86.21% done, 917 cis-eQTLs\n",
      "\n",
      "86.68% done, 917 cis-eQTLs\n",
      "\n",
      "87.14% done, 917 cis-eQTLs\n",
      "\n",
      "87.61% done, 917 cis-eQTLs\n",
      "\n",
      "88.08% done, 917 cis-eQTLs\n",
      "\n",
      "88.31% done, 917 cis-eQTLs\n",
      "\n",
      "88.55% done, 917 cis-eQTLs\n",
      "\n",
      "88.78% done, 917 cis-eQTLs\n",
      "\n",
      "89.01% done, 917 cis-eQTLs\n",
      "\n",
      "89.25% done, 917 cis-eQTLs\n",
      "\n",
      "89.71% done, 920 cis-eQTLs\n",
      "\n",
      "90.18% done, 920 cis-eQTLs\n",
      "\n",
      "90.65% done, 920 cis-eQTLs\n",
      "\n",
      "91.12% done, 920 cis-eQTLs\n",
      "\n",
      "91.58% done, 920 cis-eQTLs\n",
      "\n",
      "92.05% done, 920 cis-eQTLs\n",
      "\n",
      "92.52% done, 920 cis-eQTLs\n",
      "\n",
      "92.99% done, 920 cis-eQTLs\n",
      "\n",
      "93.45% done, 920 cis-eQTLs\n",
      "\n",
      "93.92% done, 920 cis-eQTLs\n",
      "\n",
      "94.39% done, 920 cis-eQTLs\n",
      "\n",
      "94.85% done, 920 cis-eQTLs\n",
      "\n",
      "95.32% done, 920 cis-eQTLs\n",
      "\n",
      "95.79% done, 920 cis-eQTLs\n",
      "\n",
      "96.26% done, 920 cis-eQTLs\n",
      "\n",
      "96.72% done, 920 cis-eQTLs\n",
      "\n",
      "97.19% done, 920 cis-eQTLs\n",
      "\n",
      "97.66% done, 943 cis-eQTLs\n",
      "\n",
      "98.13% done, 943 cis-eQTLs\n",
      "\n",
      "98.59% done, 943 cis-eQTLs\n",
      "\n",
      "99.06% done, 943 cis-eQTLs\n",
      "\n",
      "99.53% done, 943 cis-eQTLs\n",
      "\n",
      "100.00% done, 943 cis-eQTLs\n",
      "\n"
     ]
    }
   ],
   "source": [
    "#######---------- run matrixeQTL\n",
    "me = Matrix_eQTL_main(\n",
    "    snps = geno, \n",
    "    gene = gene, \n",
    "    cvrt = cvrt,\n",
    "    output_file_name     = file.path(\"output\", transFileName),\n",
    "    output_file_name.cis = file.path(\"output\", cisFileName),\n",
    "    pvOutputThreshold     = trans.thresh,\n",
    "    pvOutputThreshold.cis = cis.thresh,\n",
    "    useModel = useModel, \n",
    "    errorCovariance = numeric(),\n",
    "    verbose = FALSE, \n",
    "    snpspos = snp.loc, \n",
    "    genepos = gene.loc,\n",
    "    cisDist = cisDist,\n",
    "    pvalue.hist = \"qqplot\",\n",
    "    min.pv.by.genesnp = TRUE,\n",
    "    noFDRsaveMemory = TRUE);\n",
    "\n",
    "\n"
   ]
  },
  {
   "cell_type": "code",
   "execution_count": 64,
   "metadata": {},
   "outputs": [
    {
     "data": {
      "text/html": [
       "<style>\n",
       ".list-inline {list-style: none; margin:0; padding: 0}\n",
       ".list-inline>li {display: inline-block}\n",
       ".list-inline>li:not(:last-child)::after {content: \"\\00b7\"; padding: 0 .5ex}\n",
       "</style>\n",
       "<ol class=list-inline><li>'list'</li><li>'MatrixEQTL'</li></ol>\n"
      ],
      "text/latex": [
       "\\begin{enumerate*}\n",
       "\\item 'list'\n",
       "\\item 'MatrixEQTL'\n",
       "\\end{enumerate*}\n"
      ],
      "text/markdown": [
       "1. 'list'\n",
       "2. 'MatrixEQTL'\n",
       "\n",
       "\n"
      ],
      "text/plain": [
       "[1] \"list\"       \"MatrixEQTL\""
      ]
     },
     "metadata": {},
     "output_type": "display_data"
    },
    {
     "data": {
      "text/html": [
       "<style>\n",
       ".list-inline {list-style: none; margin:0; padding: 0}\n",
       ".list-inline>li {display: inline-block}\n",
       ".list-inline>li:not(:last-child)::after {content: \"\\00b7\"; padding: 0 .5ex}\n",
       "</style>\n",
       "<ol class=list-inline><li>'time.in.sec'</li><li>'param'</li><li>'cis'</li></ol>\n"
      ],
      "text/latex": [
       "\\begin{enumerate*}\n",
       "\\item 'time.in.sec'\n",
       "\\item 'param'\n",
       "\\item 'cis'\n",
       "\\end{enumerate*}\n"
      ],
      "text/markdown": [
       "1. 'time.in.sec'\n",
       "2. 'param'\n",
       "3. 'cis'\n",
       "\n",
       "\n"
      ],
      "text/plain": [
       "[1] \"time.in.sec\" \"param\"       \"cis\"        "
      ]
     },
     "metadata": {},
     "output_type": "display_data"
    },
    {
     "data": {
      "text/html": [
       "<style>\n",
       ".list-inline {list-style: none; margin:0; padding: 0}\n",
       ".list-inline>li {display: inline-block}\n",
       ".list-inline>li:not(:last-child)::after {content: \"\\00b7\"; padding: 0 .5ex}\n",
       "</style>\n",
       "<ol class=list-inline><li>'ntests'</li><li>'neqtls'</li><li>'hist.bins'</li><li>'hist.counts'</li><li>'min.pv.snps'</li><li>'min.pv.gene'</li></ol>\n"
      ],
      "text/latex": [
       "\\begin{enumerate*}\n",
       "\\item 'ntests'\n",
       "\\item 'neqtls'\n",
       "\\item 'hist.bins'\n",
       "\\item 'hist.counts'\n",
       "\\item 'min.pv.snps'\n",
       "\\item 'min.pv.gene'\n",
       "\\end{enumerate*}\n"
      ],
      "text/markdown": [
       "1. 'ntests'\n",
       "2. 'neqtls'\n",
       "3. 'hist.bins'\n",
       "4. 'hist.counts'\n",
       "5. 'min.pv.snps'\n",
       "6. 'min.pv.gene'\n",
       "\n",
       "\n"
      ],
      "text/plain": [
       "[1] \"ntests\"      \"neqtls\"      \"hist.bins\"   \"hist.counts\" \"min.pv.snps\"\n",
       "[6] \"min.pv.gene\""
      ]
     },
     "metadata": {},
     "output_type": "display_data"
    },
    {
     "name": "stderr",
     "output_type": "stream",
     "text": [
      "Warning message in title(...):\n",
      "“Fontmetrik ist für das Unicode-Zeichen U+2013 unbekannt”\n",
      "Warning message in title(...):\n",
      "“Konvertierungsfehler für '– log' in 'mbcsToSbcs': Punkt ersetzt <e2>”\n",
      "Warning message in title(...):\n",
      "“Konvertierungsfehler für '– log' in 'mbcsToSbcs': Punkt ersetzt <80>”\n",
      "Warning message in title(...):\n",
      "“Konvertierungsfehler für '– log' in 'mbcsToSbcs': Punkt ersetzt <93>”\n",
      "Warning message in title(...):\n",
      "“Fontmetrik ist für das Unicode-Zeichen U+2013 unbekannt”\n",
      "Warning message in title(...):\n",
      "“Konvertierungsfehler für '– log' in 'mbcsToSbcs': Punkt ersetzt <e2>”\n",
      "Warning message in title(...):\n",
      "“Konvertierungsfehler für '– log' in 'mbcsToSbcs': Punkt ersetzt <80>”\n",
      "Warning message in title(...):\n",
      "“Konvertierungsfehler für '– log' in 'mbcsToSbcs': Punkt ersetzt <93>”\n",
      "Warning message in title(...):\n",
      "“Konvertierungsfehler für '– log' in 'mbcsToSbcs': Punkt ersetzt <e2>”\n",
      "Warning message in title(...):\n",
      "“Konvertierungsfehler für '– log' in 'mbcsToSbcs': Punkt ersetzt <80>”\n",
      "Warning message in title(...):\n",
      "“Konvertierungsfehler für '– log' in 'mbcsToSbcs': Punkt ersetzt <93>”\n",
      "Warning message in title(...):\n",
      "“Fontmetrik ist für das Unicode-Zeichen U+2013 unbekannt”\n",
      "Warning message in title(...):\n",
      "“Konvertierungsfehler für '– log' in 'mbcsToSbcs': Punkt ersetzt <e2>”\n",
      "Warning message in title(...):\n",
      "“Konvertierungsfehler für '– log' in 'mbcsToSbcs': Punkt ersetzt <80>”\n",
      "Warning message in title(...):\n",
      "“Konvertierungsfehler für '– log' in 'mbcsToSbcs': Punkt ersetzt <93>”\n",
      "Warning message in title(...):\n",
      "“Fontmetrik ist für das Unicode-Zeichen U+2013 unbekannt”\n",
      "Warning message in title(...):\n",
      "“Konvertierungsfehler für '– log' in 'mbcsToSbcs': Punkt ersetzt <e2>”\n",
      "Warning message in title(...):\n",
      "“Konvertierungsfehler für '– log' in 'mbcsToSbcs': Punkt ersetzt <80>”\n",
      "Warning message in title(...):\n",
      "“Konvertierungsfehler für '– log' in 'mbcsToSbcs': Punkt ersetzt <93>”\n",
      "Warning message in title(...):\n",
      "“Konvertierungsfehler für '– log' in 'mbcsToSbcs': Punkt ersetzt <e2>”\n",
      "Warning message in title(...):\n",
      "“Konvertierungsfehler für '– log' in 'mbcsToSbcs': Punkt ersetzt <80>”\n",
      "Warning message in title(...):\n",
      "“Konvertierungsfehler für '– log' in 'mbcsToSbcs': Punkt ersetzt <93>”\n"
     ]
    },
    {
     "data": {
      "image/png": "[encoded data removed]",
      "text/plain": [
       "Plot with title “QQ-plot for 7,379,432 local p-values”"
      ]
     },
     "metadata": {
      "image/png": {
       "height": 420,
       "width": 420
      }
     },
     "output_type": "display_data"
    }
   ],
   "source": [
    "# MatrixEQTL saved the cis eQTL summary statistics to disk but it also saved important infomation in the \"me\" variable\n",
    "# what class variable is it?\n",
    "# Check what values are stored in there\n",
    "class(me)\n",
    "names(me)\n",
    "names(me$cis)\n",
    "\n",
    "# Make Q-Q plot\n",
    "plot(me)"
   ]
  },
  {
   "cell_type": "markdown",
   "metadata": {
    "id": "qRsDmmN_JFl7"
   },
   "source": [
    "---\n",
    "#### Questions Part 5.\n",
    "\n",
    "  1. How many tests did we perform ? How many eGenes (Genes with at least one sig. SNP) and eQTLs do we have ? NOTE: here we consider a p-value < 5e-8 as statistically significant.\n",
    "  2. Retrieve the best eQTL per Gene.\n",
    "  3. If we set the parameter trans.thresh = 1,i.e.  save all trans eQTL results, how many trans eQTL test would have MatrixEQTL performed?"
   ]
  },
  {
   "cell_type": "code",
   "execution_count": null,
   "metadata": {
    "id": "LDu4xcYu1wwC"
   },
   "outputs": [],
   "source": [
    "#.1 TYPE YOUR RESPONSE HERE"
   ]
  },
  {
   "cell_type": "code",
   "execution_count": 65,
   "metadata": {
    "cellView": "form",
    "id": "jFUidCj2JHIB"
   },
   "outputs": [
    {
     "data": {
      "text/html": [
       "<span style=white-space:pre-wrap>'Number of cis-tests:  7379432'</span>"
      ],
      "text/latex": [
       "'Number of cis-tests:  7379432'"
      ],
      "text/markdown": [
       "<span style=white-space:pre-wrap>'Number of cis-tests:  7379432'</span>"
      ],
      "text/plain": [
       "[1] \"Number of cis-tests:  7379432\""
      ]
     },
     "metadata": {},
     "output_type": "display_data"
    },
    {
     "data": {
      "text/html": [
       "'Number of eGenes: 31'"
      ],
      "text/latex": [
       "'Number of eGenes: 31'"
      ],
      "text/markdown": [
       "'Number of eGenes: 31'"
      ],
      "text/plain": [
       "[1] \"Number of eGenes: 31\""
      ]
     },
     "metadata": {},
     "output_type": "display_data"
    },
    {
     "data": {
      "text/html": [
       "<span style=white-space:pre-wrap>'Number of eqtls:  943'</span>"
      ],
      "text/latex": [
       "'Number of eqtls:  943'"
      ],
      "text/markdown": [
       "<span style=white-space:pre-wrap>'Number of eqtls:  943'</span>"
      ],
      "text/plain": [
       "[1] \"Number of eqtls:  943\""
      ]
     },
     "metadata": {},
     "output_type": "display_data"
    }
   ],
   "source": [
    "# 1.\n",
    "paste('Number of cis-tests: ', me$cis$ntests)\n",
    "paste('Number of eGenes:', sum(me$cis$min.pv.gene < 5e-8))\n",
    "paste('Number of eqtls: ', me$cis$neqtls)\n"
   ]
  },
  {
   "cell_type": "code",
   "execution_count": 66,
   "metadata": {
    "cellView": "form",
    "id": "5FyoDwyd151B"
   },
   "outputs": [
    {
     "data": {
      "text/html": [
       "<table class=\"dataframe\">\n",
       "<caption>A grouped_df: 31 × 5</caption>\n",
       "<thead>\n",
       "\t<tr><th scope=col>SNP</th><th scope=col>gene</th><th scope=col>beta</th><th scope=col>t.stat</th><th scope=col>p.value</th></tr>\n",
       "\t<tr><th scope=col>&lt;chr&gt;</th><th scope=col>&lt;chr&gt;</th><th scope=col>&lt;dbl&gt;</th><th scope=col>&lt;dbl&gt;</th><th scope=col>&lt;dbl&gt;</th></tr>\n",
       "</thead>\n",
       "<tbody>\n",
       "\t<tr><td>1_171083276_A_T</td><td>ENSG00000007933.8 </td><td> 2.5171061</td><td> 7.176077</td><td>2.497086e-10</td></tr>\n",
       "\t<tr><td>1_40203220_G_T </td><td>ENSG00000084072.12</td><td> 0.7000231</td><td> 7.930061</td><td>7.826228e-12</td></tr>\n",
       "\t<tr><td>1_110266243_C_T</td><td>ENSG00000134184.8 </td><td> 4.2358537</td><td> 6.108815</td><td>2.917690e-08</td></tr>\n",
       "\t<tr><td>1_89382114_C_G </td><td>ENSG00000137944.12</td><td>-1.5509300</td><td>-6.194093</td><td>2.011447e-08</td></tr>\n",
       "\t<tr><td>1_16540540_T_G </td><td>ENSG00000142632.12</td><td> 0.5395258</td><td> 6.284581</td><td>1.353005e-08</td></tr>\n",
       "\t<tr><td>1_21765845_G_C </td><td>ENSG00000142794.14</td><td> 0.5940358</td><td> 8.259646</td><td>1.697547e-12</td></tr>\n",
       "\t<tr><td>1_63993153_T_C </td><td>ENSG00000142856.12</td><td>-0.5604917</td><td>-7.540367</td><td>4.719998e-11</td></tr>\n",
       "\t<tr><td>1_159810647_G_A</td><td>ENSG00000162723.5 </td><td>-2.4368220</td><td>-6.191486</td><td>2.034503e-08</td></tr>\n",
       "\t<tr><td>1_147129453_T_C</td><td>ENSG00000162836.7 </td><td> 0.2759561</td><td> 6.969521</td><td>6.373219e-10</td></tr>\n",
       "\t<tr><td>1_111798164_C_T</td><td>ENSG00000177272.7 </td><td>-0.5915362</td><td>-6.042567</td><td>3.890385e-08</td></tr>\n",
       "\t<tr><td>1_230616829_G_A</td><td>ENSG00000177614.5 </td><td> 2.8138991</td><td> 6.134757</td><td>2.606035e-08</td></tr>\n",
       "\t<tr><td>1_70820056_A_G </td><td>ENSG00000197568.9 </td><td>-0.7033102</td><td>-6.006450</td><td>4.548971e-08</td></tr>\n",
       "\t<tr><td>1_213014465_G_A</td><td>ENSG00000198468.3 </td><td> 0.1928299</td><td> 9.034383</td><td>4.599992e-14</td></tr>\n",
       "\t<tr><td>1_245126378_A_C</td><td>ENSG00000203666.8 </td><td>-0.2324738</td><td>-6.106539</td><td>2.946729e-08</td></tr>\n",
       "\t<tr><td>1_160951034_G_A</td><td>ENSG00000215845.6 </td><td> 8.7726185</td><td> 7.795262</td><td>1.459226e-11</td></tr>\n",
       "\t<tr><td>1_22354109_C_T </td><td>ENSG00000218510.3 </td><td>-2.2206456</td><td>-7.771581</td><td>1.627766e-11</td></tr>\n",
       "\t<tr><td>1_212553700_C_T</td><td>ENSG00000226251.1 </td><td> 1.0495200</td><td>12.802836</td><td>1.557506e-21</td></tr>\n",
       "\t<tr><td>1_119708537_A_G</td><td>ENSG00000231365.1 </td><td>-0.3445553</td><td>-6.557137</td><td>4.054286e-09</td></tr>\n",
       "\t<tr><td>1_37918846_G_A </td><td>ENSG00000233621.1 </td><td>-0.6439192</td><td>-6.438575</td><td>6.861444e-09</td></tr>\n",
       "\t<tr><td>1_1342712_G_T  </td><td>ENSG00000235098.4 </td><td>-1.6648347</td><td>-6.026790</td><td>4.165634e-08</td></tr>\n",
       "\t<tr><td>1_45940767_T_C </td><td>ENSG00000236624.4 </td><td> 0.4952507</td><td>10.663155</td><td>2.399615e-17</td></tr>\n",
       "\t<tr><td>1_152167781_C_T</td><td>ENSG00000237975.2 </td><td>-0.1908364</td><td>-8.494440</td><td>5.696156e-13</td></tr>\n",
       "\t<tr><td>1_221042096_T_G</td><td>ENSG00000238078.1 </td><td> 0.3700321</td><td> 7.816392</td><td>1.323583e-11</td></tr>\n",
       "\t<tr><td>1_110279250_G_T</td><td>ENSG00000241720.2 </td><td> 2.0345927</td><td> 6.166505</td><td>2.269070e-08</td></tr>\n",
       "\t<tr><td>1_111798164_C_T</td><td>ENSG00000259834.1 </td><td>-1.0891382</td><td>-6.652714</td><td>2.647537e-09</td></tr>\n",
       "\t<tr><td>1_1592720_C_T  </td><td>ENSG00000269737.1 </td><td>-0.9661315</td><td>-8.038403</td><td>4.738925e-12</td></tr>\n",
       "\t<tr><td>1_1589276_G_A  </td><td>ENSG00000272004.1 </td><td>-2.0873542</td><td>-9.915837</td><td>7.594832e-16</td></tr>\n",
       "\t<tr><td>1_153645127_G_T</td><td>ENSG00000272030.1 </td><td>-3.8190258</td><td>-9.063959</td><td>4.007423e-14</td></tr>\n",
       "\t<tr><td>1_245223553_G_A</td><td>ENSG00000272195.1 </td><td>-0.4270005</td><td>-6.332121</td><td>1.097750e-08</td></tr>\n",
       "\t<tr><td>1_159824487_C_T</td><td>ENSG00000272668.1 </td><td> 1.6289384</td><td> 7.173488</td><td>2.526682e-10</td></tr>\n",
       "\t<tr><td>1_221042096_T_G</td><td>ENSG00000272823.1 </td><td> 0.6226608</td><td> 6.057494</td><td>3.646532e-08</td></tr>\n",
       "</tbody>\n",
       "</table>\n"
      ],
      "text/latex": [
       "A grouped\\_df: 31 × 5\n",
       "\\begin{tabular}{lllll}\n",
       " SNP & gene & beta & t.stat & p.value\\\\\n",
       " <chr> & <chr> & <dbl> & <dbl> & <dbl>\\\\\n",
       "\\hline\n",
       "\t 1\\_171083276\\_A\\_T & ENSG00000007933.8  &  2.5171061 &  7.176077 & 2.497086e-10\\\\\n",
       "\t 1\\_40203220\\_G\\_T  & ENSG00000084072.12 &  0.7000231 &  7.930061 & 7.826228e-12\\\\\n",
       "\t 1\\_110266243\\_C\\_T & ENSG00000134184.8  &  4.2358537 &  6.108815 & 2.917690e-08\\\\\n",
       "\t 1\\_89382114\\_C\\_G  & ENSG00000137944.12 & -1.5509300 & -6.194093 & 2.011447e-08\\\\\n",
       "\t 1\\_16540540\\_T\\_G  & ENSG00000142632.12 &  0.5395258 &  6.284581 & 1.353005e-08\\\\\n",
       "\t 1\\_21765845\\_G\\_C  & ENSG00000142794.14 &  0.5940358 &  8.259646 & 1.697547e-12\\\\\n",
       "\t 1\\_63993153\\_T\\_C  & ENSG00000142856.12 & -0.5604917 & -7.540367 & 4.719998e-11\\\\\n",
       "\t 1\\_159810647\\_G\\_A & ENSG00000162723.5  & -2.4368220 & -6.191486 & 2.034503e-08\\\\\n",
       "\t 1\\_147129453\\_T\\_C & ENSG00000162836.7  &  0.2759561 &  6.969521 & 6.373219e-10\\\\\n",
       "\t 1\\_111798164\\_C\\_T & ENSG00000177272.7  & -0.5915362 & -6.042567 & 3.890385e-08\\\\\n",
       "\t 1\\_230616829\\_G\\_A & ENSG00000177614.5  &  2.8138991 &  6.134757 & 2.606035e-08\\\\\n",
       "\t 1\\_70820056\\_A\\_G  & ENSG00000197568.9  & -0.7033102 & -6.006450 & 4.548971e-08\\\\\n",
       "\t 1\\_213014465\\_G\\_A & ENSG00000198468.3  &  0.1928299 &  9.034383 & 4.599992e-14\\\\\n",
       "\t 1\\_245126378\\_A\\_C & ENSG00000203666.8  & -0.2324738 & -6.106539 & 2.946729e-08\\\\\n",
       "\t 1\\_160951034\\_G\\_A & ENSG00000215845.6  &  8.7726185 &  7.795262 & 1.459226e-11\\\\\n",
       "\t 1\\_22354109\\_C\\_T  & ENSG00000218510.3  & -2.2206456 & -7.771581 & 1.627766e-11\\\\\n",
       "\t 1\\_212553700\\_C\\_T & ENSG00000226251.1  &  1.0495200 & 12.802836 & 1.557506e-21\\\\\n",
       "\t 1\\_119708537\\_A\\_G & ENSG00000231365.1  & -0.3445553 & -6.557137 & 4.054286e-09\\\\\n",
       "\t 1\\_37918846\\_G\\_A  & ENSG00000233621.1  & -0.6439192 & -6.438575 & 6.861444e-09\\\\\n",
       "\t 1\\_1342712\\_G\\_T   & ENSG00000235098.4  & -1.6648347 & -6.026790 & 4.165634e-08\\\\\n",
       "\t 1\\_45940767\\_T\\_C  & ENSG00000236624.4  &  0.4952507 & 10.663155 & 2.399615e-17\\\\\n",
       "\t 1\\_152167781\\_C\\_T & ENSG00000237975.2  & -0.1908364 & -8.494440 & 5.696156e-13\\\\\n",
       "\t 1\\_221042096\\_T\\_G & ENSG00000238078.1  &  0.3700321 &  7.816392 & 1.323583e-11\\\\\n",
       "\t 1\\_110279250\\_G\\_T & ENSG00000241720.2  &  2.0345927 &  6.166505 & 2.269070e-08\\\\\n",
       "\t 1\\_111798164\\_C\\_T & ENSG00000259834.1  & -1.0891382 & -6.652714 & 2.647537e-09\\\\\n",
       "\t 1\\_1592720\\_C\\_T   & ENSG00000269737.1  & -0.9661315 & -8.038403 & 4.738925e-12\\\\\n",
       "\t 1\\_1589276\\_G\\_A   & ENSG00000272004.1  & -2.0873542 & -9.915837 & 7.594832e-16\\\\\n",
       "\t 1\\_153645127\\_G\\_T & ENSG00000272030.1  & -3.8190258 & -9.063959 & 4.007423e-14\\\\\n",
       "\t 1\\_245223553\\_G\\_A & ENSG00000272195.1  & -0.4270005 & -6.332121 & 1.097750e-08\\\\\n",
       "\t 1\\_159824487\\_C\\_T & ENSG00000272668.1  &  1.6289384 &  7.173488 & 2.526682e-10\\\\\n",
       "\t 1\\_221042096\\_T\\_G & ENSG00000272823.1  &  0.6226608 &  6.057494 & 3.646532e-08\\\\\n",
       "\\end{tabular}\n"
      ],
      "text/markdown": [
       "\n",
       "A grouped_df: 31 × 5\n",
       "\n",
       "| SNP &lt;chr&gt; | gene &lt;chr&gt; | beta &lt;dbl&gt; | t.stat &lt;dbl&gt; | p.value &lt;dbl&gt; |\n",
       "|---|---|---|---|---|\n",
       "| 1_171083276_A_T | ENSG00000007933.8  |  2.5171061 |  7.176077 | 2.497086e-10 |\n",
       "| 1_40203220_G_T  | ENSG00000084072.12 |  0.7000231 |  7.930061 | 7.826228e-12 |\n",
       "| 1_110266243_C_T | ENSG00000134184.8  |  4.2358537 |  6.108815 | 2.917690e-08 |\n",
       "| 1_89382114_C_G  | ENSG00000137944.12 | -1.5509300 | -6.194093 | 2.011447e-08 |\n",
       "| 1_16540540_T_G  | ENSG00000142632.12 |  0.5395258 |  6.284581 | 1.353005e-08 |\n",
       "| 1_21765845_G_C  | ENSG00000142794.14 |  0.5940358 |  8.259646 | 1.697547e-12 |\n",
       "| 1_63993153_T_C  | ENSG00000142856.12 | -0.5604917 | -7.540367 | 4.719998e-11 |\n",
       "| 1_159810647_G_A | ENSG00000162723.5  | -2.4368220 | -6.191486 | 2.034503e-08 |\n",
       "| 1_147129453_T_C | ENSG00000162836.7  |  0.2759561 |  6.969521 | 6.373219e-10 |\n",
       "| 1_111798164_C_T | ENSG00000177272.7  | -0.5915362 | -6.042567 | 3.890385e-08 |\n",
       "| 1_230616829_G_A | ENSG00000177614.5  |  2.8138991 |  6.134757 | 2.606035e-08 |\n",
       "| 1_70820056_A_G  | ENSG00000197568.9  | -0.7033102 | -6.006450 | 4.548971e-08 |\n",
       "| 1_213014465_G_A | ENSG00000198468.3  |  0.1928299 |  9.034383 | 4.599992e-14 |\n",
       "| 1_245126378_A_C | ENSG00000203666.8  | -0.2324738 | -6.106539 | 2.946729e-08 |\n",
       "| 1_160951034_G_A | ENSG00000215845.6  |  8.7726185 |  7.795262 | 1.459226e-11 |\n",
       "| 1_22354109_C_T  | ENSG00000218510.3  | -2.2206456 | -7.771581 | 1.627766e-11 |\n",
       "| 1_212553700_C_T | ENSG00000226251.1  |  1.0495200 | 12.802836 | 1.557506e-21 |\n",
       "| 1_119708537_A_G | ENSG00000231365.1  | -0.3445553 | -6.557137 | 4.054286e-09 |\n",
       "| 1_37918846_G_A  | ENSG00000233621.1  | -0.6439192 | -6.438575 | 6.861444e-09 |\n",
       "| 1_1342712_G_T   | ENSG00000235098.4  | -1.6648347 | -6.026790 | 4.165634e-08 |\n",
       "| 1_45940767_T_C  | ENSG00000236624.4  |  0.4952507 | 10.663155 | 2.399615e-17 |\n",
       "| 1_152167781_C_T | ENSG00000237975.2  | -0.1908364 | -8.494440 | 5.696156e-13 |\n",
       "| 1_221042096_T_G | ENSG00000238078.1  |  0.3700321 |  7.816392 | 1.323583e-11 |\n",
       "| 1_110279250_G_T | ENSG00000241720.2  |  2.0345927 |  6.166505 | 2.269070e-08 |\n",
       "| 1_111798164_C_T | ENSG00000259834.1  | -1.0891382 | -6.652714 | 2.647537e-09 |\n",
       "| 1_1592720_C_T   | ENSG00000269737.1  | -0.9661315 | -8.038403 | 4.738925e-12 |\n",
       "| 1_1589276_G_A   | ENSG00000272004.1  | -2.0873542 | -9.915837 | 7.594832e-16 |\n",
       "| 1_153645127_G_T | ENSG00000272030.1  | -3.8190258 | -9.063959 | 4.007423e-14 |\n",
       "| 1_245223553_G_A | ENSG00000272195.1  | -0.4270005 | -6.332121 | 1.097750e-08 |\n",
       "| 1_159824487_C_T | ENSG00000272668.1  |  1.6289384 |  7.173488 | 2.526682e-10 |\n",
       "| 1_221042096_T_G | ENSG00000272823.1  |  0.6226608 |  6.057494 | 3.646532e-08 |\n",
       "\n"
      ],
      "text/plain": [
       "   SNP             gene               beta       t.stat    p.value     \n",
       "1  1_171083276_A_T ENSG00000007933.8   2.5171061  7.176077 2.497086e-10\n",
       "2  1_40203220_G_T  ENSG00000084072.12  0.7000231  7.930061 7.826228e-12\n",
       "3  1_110266243_C_T ENSG00000134184.8   4.2358537  6.108815 2.917690e-08\n",
       "4  1_89382114_C_G  ENSG00000137944.12 -1.5509300 -6.194093 2.011447e-08\n",
       "5  1_16540540_T_G  ENSG00000142632.12  0.5395258  6.284581 1.353005e-08\n",
       "6  1_21765845_G_C  ENSG00000142794.14  0.5940358  8.259646 1.697547e-12\n",
       "7  1_63993153_T_C  ENSG00000142856.12 -0.5604917 -7.540367 4.719998e-11\n",
       "8  1_159810647_G_A ENSG00000162723.5  -2.4368220 -6.191486 2.034503e-08\n",
       "9  1_147129453_T_C ENSG00000162836.7   0.2759561  6.969521 6.373219e-10\n",
       "10 1_111798164_C_T ENSG00000177272.7  -0.5915362 -6.042567 3.890385e-08\n",
       "11 1_230616829_G_A ENSG00000177614.5   2.8138991  6.134757 2.606035e-08\n",
       "12 1_70820056_A_G  ENSG00000197568.9  -0.7033102 -6.006450 4.548971e-08\n",
       "13 1_213014465_G_A ENSG00000198468.3   0.1928299  9.034383 4.599992e-14\n",
       "14 1_245126378_A_C ENSG00000203666.8  -0.2324738 -6.106539 2.946729e-08\n",
       "15 1_160951034_G_A ENSG00000215845.6   8.7726185  7.795262 1.459226e-11\n",
       "16 1_22354109_C_T  ENSG00000218510.3  -2.2206456 -7.771581 1.627766e-11\n",
       "17 1_212553700_C_T ENSG00000226251.1   1.0495200 12.802836 1.557506e-21\n",
       "18 1_119708537_A_G ENSG00000231365.1  -0.3445553 -6.557137 4.054286e-09\n",
       "19 1_37918846_G_A  ENSG00000233621.1  -0.6439192 -6.438575 6.861444e-09\n",
       "20 1_1342712_G_T   ENSG00000235098.4  -1.6648347 -6.026790 4.165634e-08\n",
       "21 1_45940767_T_C  ENSG00000236624.4   0.4952507 10.663155 2.399615e-17\n",
       "22 1_152167781_C_T ENSG00000237975.2  -0.1908364 -8.494440 5.696156e-13\n",
       "23 1_221042096_T_G ENSG00000238078.1   0.3700321  7.816392 1.323583e-11\n",
       "24 1_110279250_G_T ENSG00000241720.2   2.0345927  6.166505 2.269070e-08\n",
       "25 1_111798164_C_T ENSG00000259834.1  -1.0891382 -6.652714 2.647537e-09\n",
       "26 1_1592720_C_T   ENSG00000269737.1  -0.9661315 -8.038403 4.738925e-12\n",
       "27 1_1589276_G_A   ENSG00000272004.1  -2.0873542 -9.915837 7.594832e-16\n",
       "28 1_153645127_G_T ENSG00000272030.1  -3.8190258 -9.063959 4.007423e-14\n",
       "29 1_245223553_G_A ENSG00000272195.1  -0.4270005 -6.332121 1.097750e-08\n",
       "30 1_159824487_C_T ENSG00000272668.1   1.6289384  7.173488 2.526682e-10\n",
       "31 1_221042096_T_G ENSG00000272823.1   0.6226608  6.057494 3.646532e-08"
      ]
     },
     "metadata": {},
     "output_type": "display_data"
    }
   ],
   "source": [
    "# 2.\n",
    "# Manually extract the minimum p-value for each gene\n",
    "eqtls <- read.table(file.path(\"output\", cisFileName), header = T)\n",
    "\n",
    "eqtls %>%\n",
    "  group_by(gene) %>%\n",
    "  slice(which.min(p.value))\n",
    "\n"
   ]
  },
  {
   "cell_type": "code",
   "execution_count": 67,
   "metadata": {},
   "outputs": [
    {
     "data": {
      "text/html": [
       "'Number of trans-tests: 915372315'"
      ],
      "text/latex": [
       "'Number of trans-tests: 915372315'"
      ],
      "text/markdown": [
       "'Number of trans-tests: 915372315'"
      ],
      "text/plain": [
       "[1] \"Number of trans-tests: 915372315\""
      ]
     },
     "metadata": {},
     "output_type": "display_data"
    }
   ],
   "source": [
    "# 3.\n",
    "paste('Number of trans-tests:', nrow(snps)*nrow(ge))\n"
   ]
  },
  {
   "cell_type": "code",
   "execution_count": 69,
   "metadata": {},
   "outputs": [
    {
     "data": {
      "text/html": [
       "<span style=white-space:pre-wrap>'Number of eGenes:  31'</span>"
      ],
      "text/latex": [
       "'Number of eGenes:  31'"
      ],
      "text/markdown": [
       "<span style=white-space:pre-wrap>'Number of eGenes:  31'</span>"
      ],
      "text/plain": [
       "[1] \"Number of eGenes:  31\""
      ]
     },
     "metadata": {},
     "output_type": "display_data"
    },
    {
     "data": {
      "text/html": [
       "<span style=white-space:pre-wrap>'Number of eqtls:  943'</span>"
      ],
      "text/latex": [
       "'Number of eqtls:  943'"
      ],
      "text/markdown": [
       "<span style=white-space:pre-wrap>'Number of eqtls:  943'</span>"
      ],
      "text/plain": [
       "[1] \"Number of eqtls:  943\""
      ]
     },
     "metadata": {},
     "output_type": "display_data"
    }
   ],
   "source": [
    "# Do the numbers match the ones reported by matrixEQTL?\n",
    "\n",
    "paste('Number of eGenes: ', length(unique(eqtls$gene)))\n",
    "paste('Number of eqtls: ', nrow(eqtls))\n"
   ]
  },
  {
   "cell_type": "code",
   "execution_count": 70,
   "metadata": {},
   "outputs": [
    {
     "data": {
      "text/html": [
       "<span style=white-space:pre-wrap>'Number of eqtls:  923'</span>"
      ],
      "text/latex": [
       "'Number of eqtls:  923'"
      ],
      "text/markdown": [
       "<span style=white-space:pre-wrap>'Number of eqtls:  923'</span>"
      ],
      "text/plain": [
       "[1] \"Number of eqtls:  923\""
      ]
     },
     "metadata": {},
     "output_type": "display_data"
    }
   ],
   "source": [
    "# Why do you think the following result gives a different number of eQTLs?\n",
    "paste('Number of eqtls: ', sum(me$cis$min.pv.snps < 5e-8))\n"
   ]
  },
  {
   "cell_type": "code",
   "execution_count": 81,
   "metadata": {},
   "outputs": [
    {
     "data": {
      "text/html": [
       "<table class=\"dataframe\">\n",
       "<caption>A data.frame: 6 × 5</caption>\n",
       "<thead>\n",
       "\t<tr><th></th><th scope=col>SNP</th><th scope=col>gene</th><th scope=col>beta</th><th scope=col>t.stat</th><th scope=col>p.value</th></tr>\n",
       "\t<tr><th></th><th scope=col>&lt;chr&gt;</th><th scope=col>&lt;chr&gt;</th><th scope=col>&lt;dbl&gt;</th><th scope=col>&lt;dbl&gt;</th><th scope=col>&lt;dbl&gt;</th></tr>\n",
       "</thead>\n",
       "<tbody>\n",
       "\t<tr><th scope=row>1</th><td>1_1342712_G_T</td><td>ENSG00000235098.4</td><td>-1.664835</td><td>-6.026790</td><td>4.165634e-08</td></tr>\n",
       "\t<tr><th scope=row>2</th><td>1_1345274_A_G</td><td>ENSG00000235098.4</td><td>-1.664835</td><td>-6.026790</td><td>4.165634e-08</td></tr>\n",
       "\t<tr><th scope=row>3</th><td>1_1346312_A_G</td><td>ENSG00000235098.4</td><td>-1.664835</td><td>-6.026790</td><td>4.165634e-08</td></tr>\n",
       "\t<tr><th scope=row>4</th><td>1_1346749_T_A</td><td>ENSG00000235098.4</td><td>-1.664835</td><td>-6.026790</td><td>4.165634e-08</td></tr>\n",
       "\t<tr><th scope=row>5</th><td>1_1347258_G_C</td><td>ENSG00000235098.4</td><td>-1.664835</td><td>-6.026790</td><td>4.165634e-08</td></tr>\n",
       "\t<tr><th scope=row>6</th><td>1_1349075_G_T</td><td>ENSG00000235098.4</td><td>-1.639674</td><td>-6.001124</td><td>4.654968e-08</td></tr>\n",
       "</tbody>\n",
       "</table>\n"
      ],
      "text/latex": [
       "A data.frame: 6 × 5\n",
       "\\begin{tabular}{r|lllll}\n",
       "  & SNP & gene & beta & t.stat & p.value\\\\\n",
       "  & <chr> & <chr> & <dbl> & <dbl> & <dbl>\\\\\n",
       "\\hline\n",
       "\t1 & 1\\_1342712\\_G\\_T & ENSG00000235098.4 & -1.664835 & -6.026790 & 4.165634e-08\\\\\n",
       "\t2 & 1\\_1345274\\_A\\_G & ENSG00000235098.4 & -1.664835 & -6.026790 & 4.165634e-08\\\\\n",
       "\t3 & 1\\_1346312\\_A\\_G & ENSG00000235098.4 & -1.664835 & -6.026790 & 4.165634e-08\\\\\n",
       "\t4 & 1\\_1346749\\_T\\_A & ENSG00000235098.4 & -1.664835 & -6.026790 & 4.165634e-08\\\\\n",
       "\t5 & 1\\_1347258\\_G\\_C & ENSG00000235098.4 & -1.664835 & -6.026790 & 4.165634e-08\\\\\n",
       "\t6 & 1\\_1349075\\_G\\_T & ENSG00000235098.4 & -1.639674 & -6.001124 & 4.654968e-08\\\\\n",
       "\\end{tabular}\n"
      ],
      "text/markdown": [
       "\n",
       "A data.frame: 6 × 5\n",
       "\n",
       "| <!--/--> | SNP &lt;chr&gt; | gene &lt;chr&gt; | beta &lt;dbl&gt; | t.stat &lt;dbl&gt; | p.value &lt;dbl&gt; |\n",
       "|---|---|---|---|---|---|\n",
       "| 1 | 1_1342712_G_T | ENSG00000235098.4 | -1.664835 | -6.026790 | 4.165634e-08 |\n",
       "| 2 | 1_1345274_A_G | ENSG00000235098.4 | -1.664835 | -6.026790 | 4.165634e-08 |\n",
       "| 3 | 1_1346312_A_G | ENSG00000235098.4 | -1.664835 | -6.026790 | 4.165634e-08 |\n",
       "| 4 | 1_1346749_T_A | ENSG00000235098.4 | -1.664835 | -6.026790 | 4.165634e-08 |\n",
       "| 5 | 1_1347258_G_C | ENSG00000235098.4 | -1.664835 | -6.026790 | 4.165634e-08 |\n",
       "| 6 | 1_1349075_G_T | ENSG00000235098.4 | -1.639674 | -6.001124 | 4.654968e-08 |\n",
       "\n"
      ],
      "text/plain": [
       "  SNP           gene              beta      t.stat    p.value     \n",
       "1 1_1342712_G_T ENSG00000235098.4 -1.664835 -6.026790 4.165634e-08\n",
       "2 1_1345274_A_G ENSG00000235098.4 -1.664835 -6.026790 4.165634e-08\n",
       "3 1_1346312_A_G ENSG00000235098.4 -1.664835 -6.026790 4.165634e-08\n",
       "4 1_1346749_T_A ENSG00000235098.4 -1.664835 -6.026790 4.165634e-08\n",
       "5 1_1347258_G_C ENSG00000235098.4 -1.664835 -6.026790 4.165634e-08\n",
       "6 1_1349075_G_T ENSG00000235098.4 -1.639674 -6.001124 4.654968e-08"
      ]
     },
     "metadata": {},
     "output_type": "display_data"
    },
    {
     "data": {
      "text/html": [
       "<span style=white-space:pre-wrap>'N. duplicated SNPs:  20'</span>"
      ],
      "text/latex": [
       "'N. duplicated SNPs:  20'"
      ],
      "text/markdown": [
       "<span style=white-space:pre-wrap>'N. duplicated SNPs:  20'</span>"
      ],
      "text/plain": [
       "[1] \"N. duplicated SNPs:  20\""
      ]
     },
     "metadata": {},
     "output_type": "display_data"
    }
   ],
   "source": [
    "head(eqtls)\n",
    "signifSNP <- eqtls %>%\n",
    "    dplyr::filter(p.value < 5e-8) %>%\n",
    "    pull(SNP)\n",
    "\n",
    "paste('N. duplicated SNPs: ', sum(duplicated(signifSNP)))"
   ]
  },
  {
   "cell_type": "markdown",
   "metadata": {
    "id": "NoqpbbkPEBEL"
   },
   "source": [
    "---\n",
    "# Further exploration\n"
   ]
  },
  {
   "cell_type": "markdown",
   "metadata": {
    "id": "iK2IXdGLFzAH"
   },
   "source": [
    "- Next, make a histogram for the distance of cis-eQTLs from the TSS of the canditate Gene."
   ]
  },
  {
   "cell_type": "code",
   "execution_count": 82,
   "metadata": {
    "id": "MHd73Ay2Hl4u"
   },
   "outputs": [
    {
     "data": {
      "text/html": [
       "<table class=\"dataframe\">\n",
       "<caption>A data.frame: 6 × 8</caption>\n",
       "<thead>\n",
       "\t<tr><th></th><th scope=col>SNP</th><th scope=col>gene</th><th scope=col>beta</th><th scope=col>t.stat</th><th scope=col>p.value</th><th scope=col>SNP_pos</th><th scope=col>gene_pos</th><th scope=col>dist.to.tss</th></tr>\n",
       "\t<tr><th></th><th scope=col>&lt;chr&gt;</th><th scope=col>&lt;chr&gt;</th><th scope=col>&lt;dbl&gt;</th><th scope=col>&lt;dbl&gt;</th><th scope=col>&lt;dbl&gt;</th><th scope=col>&lt;int&gt;</th><th scope=col>&lt;int&gt;</th><th scope=col>&lt;int&gt;</th></tr>\n",
       "</thead>\n",
       "<tbody>\n",
       "\t<tr><th scope=row>1</th><td>1_1342712_G_T</td><td>ENSG00000235098.4</td><td>-1.664835</td><td>-6.026790</td><td>4.165634e-08</td><td>1342712</td><td>1357148</td><td>14436</td></tr>\n",
       "\t<tr><th scope=row>2</th><td>1_1345274_A_G</td><td>ENSG00000235098.4</td><td>-1.664835</td><td>-6.026790</td><td>4.165634e-08</td><td>1345274</td><td>1357148</td><td>11874</td></tr>\n",
       "\t<tr><th scope=row>3</th><td>1_1346312_A_G</td><td>ENSG00000235098.4</td><td>-1.664835</td><td>-6.026790</td><td>4.165634e-08</td><td>1346312</td><td>1357148</td><td>10836</td></tr>\n",
       "\t<tr><th scope=row>4</th><td>1_1346749_T_A</td><td>ENSG00000235098.4</td><td>-1.664835</td><td>-6.026790</td><td>4.165634e-08</td><td>1346749</td><td>1357148</td><td>10399</td></tr>\n",
       "\t<tr><th scope=row>5</th><td>1_1347258_G_C</td><td>ENSG00000235098.4</td><td>-1.664835</td><td>-6.026790</td><td>4.165634e-08</td><td>1347258</td><td>1357148</td><td> 9890</td></tr>\n",
       "\t<tr><th scope=row>6</th><td>1_1349075_G_T</td><td>ENSG00000235098.4</td><td>-1.639674</td><td>-6.001124</td><td>4.654968e-08</td><td>1349075</td><td>1357148</td><td> 8073</td></tr>\n",
       "</tbody>\n",
       "</table>\n"
      ],
      "text/latex": [
       "A data.frame: 6 × 8\n",
       "\\begin{tabular}{r|llllllll}\n",
       "  & SNP & gene & beta & t.stat & p.value & SNP\\_pos & gene\\_pos & dist.to.tss\\\\\n",
       "  & <chr> & <chr> & <dbl> & <dbl> & <dbl> & <int> & <int> & <int>\\\\\n",
       "\\hline\n",
       "\t1 & 1\\_1342712\\_G\\_T & ENSG00000235098.4 & -1.664835 & -6.026790 & 4.165634e-08 & 1342712 & 1357148 & 14436\\\\\n",
       "\t2 & 1\\_1345274\\_A\\_G & ENSG00000235098.4 & -1.664835 & -6.026790 & 4.165634e-08 & 1345274 & 1357148 & 11874\\\\\n",
       "\t3 & 1\\_1346312\\_A\\_G & ENSG00000235098.4 & -1.664835 & -6.026790 & 4.165634e-08 & 1346312 & 1357148 & 10836\\\\\n",
       "\t4 & 1\\_1346749\\_T\\_A & ENSG00000235098.4 & -1.664835 & -6.026790 & 4.165634e-08 & 1346749 & 1357148 & 10399\\\\\n",
       "\t5 & 1\\_1347258\\_G\\_C & ENSG00000235098.4 & -1.664835 & -6.026790 & 4.165634e-08 & 1347258 & 1357148 &  9890\\\\\n",
       "\t6 & 1\\_1349075\\_G\\_T & ENSG00000235098.4 & -1.639674 & -6.001124 & 4.654968e-08 & 1349075 & 1357148 &  8073\\\\\n",
       "\\end{tabular}\n"
      ],
      "text/markdown": [
       "\n",
       "A data.frame: 6 × 8\n",
       "\n",
       "| <!--/--> | SNP &lt;chr&gt; | gene &lt;chr&gt; | beta &lt;dbl&gt; | t.stat &lt;dbl&gt; | p.value &lt;dbl&gt; | SNP_pos &lt;int&gt; | gene_pos &lt;int&gt; | dist.to.tss &lt;int&gt; |\n",
       "|---|---|---|---|---|---|---|---|---|\n",
       "| 1 | 1_1342712_G_T | ENSG00000235098.4 | -1.664835 | -6.026790 | 4.165634e-08 | 1342712 | 1357148 | 14436 |\n",
       "| 2 | 1_1345274_A_G | ENSG00000235098.4 | -1.664835 | -6.026790 | 4.165634e-08 | 1345274 | 1357148 | 11874 |\n",
       "| 3 | 1_1346312_A_G | ENSG00000235098.4 | -1.664835 | -6.026790 | 4.165634e-08 | 1346312 | 1357148 | 10836 |\n",
       "| 4 | 1_1346749_T_A | ENSG00000235098.4 | -1.664835 | -6.026790 | 4.165634e-08 | 1346749 | 1357148 | 10399 |\n",
       "| 5 | 1_1347258_G_C | ENSG00000235098.4 | -1.664835 | -6.026790 | 4.165634e-08 | 1347258 | 1357148 |  9890 |\n",
       "| 6 | 1_1349075_G_T | ENSG00000235098.4 | -1.639674 | -6.001124 | 4.654968e-08 | 1349075 | 1357148 |  8073 |\n",
       "\n"
      ],
      "text/plain": [
       "  SNP           gene              beta      t.stat    p.value      SNP_pos\n",
       "1 1_1342712_G_T ENSG00000235098.4 -1.664835 -6.026790 4.165634e-08 1342712\n",
       "2 1_1345274_A_G ENSG00000235098.4 -1.664835 -6.026790 4.165634e-08 1345274\n",
       "3 1_1346312_A_G ENSG00000235098.4 -1.664835 -6.026790 4.165634e-08 1346312\n",
       "4 1_1346749_T_A ENSG00000235098.4 -1.664835 -6.026790 4.165634e-08 1346749\n",
       "5 1_1347258_G_C ENSG00000235098.4 -1.664835 -6.026790 4.165634e-08 1347258\n",
       "6 1_1349075_G_T ENSG00000235098.4 -1.639674 -6.001124 4.654968e-08 1349075\n",
       "  gene_pos dist.to.tss\n",
       "1 1357148  14436      \n",
       "2 1357148  11874      \n",
       "3 1357148  10836      \n",
       "4 1357148  10399      \n",
       "5 1357148   9890      \n",
       "6 1357148   8073      "
      ]
     },
     "metadata": {},
     "output_type": "display_data"
    },
    {
     "data": {
      "image/png": "[encoded data removed]",
      "text/plain": [
       "Plot with title “Histogram of cis-eQTL distances ”"
      ]
     },
     "metadata": {
      "image/png": {
       "height": 420,
       "width": 420
      }
     },
     "output_type": "display_data"
    }
   ],
   "source": [
    "# Distance to TSS.\n",
    "eqtls.tss <- eqtls %>%\n",
    "                left_join(., snp.loc[,-2], by=c(\"SNP\"=\"SNP_ID\")) %>% # merge MatrixEQTL summary stats with SNP location\n",
    "                rename(\"SNP_pos\"=\"pos\") %>%\n",
    "                left_join(., gene.loc[,c(1,3)], by=\"gene\") %>% # now also add gene location\n",
    "                rename(\"gene_pos\"=\"start\") %>%\n",
    "                mutate(dist.to.tss=gene_pos-SNP_pos) # calculate TSS distance\n",
    "head(eqtls.tss)\n",
    "\n",
    "hist(eqtls.tss$dist.to.tss, breaks = 100, main = 'Histogram of cis-eQTL distances ' , xlab = 'Distance to TSS')\n",
    "abline(v=0)\n"
   ]
  },
  {
   "cell_type": "markdown",
   "metadata": {
    "id": "rcaSgHLy4TA9"
   },
   "source": [
    "- As we expected most of the signals are clustereed around the TSS of the Gene.\n"
   ]
  },
  {
   "cell_type": "markdown",
   "metadata": {
    "id": "qF1DfnYHYlk_"
   },
   "source": [
    "Now, let's retrieve the best eQTL (the one with the smallest p-value) for the eGene with the most findings."
   ]
  },
  {
   "cell_type": "code",
   "execution_count": 83,
   "metadata": {
    "id": "MlaG-y5r4OKV"
   },
   "outputs": [
    {
     "data": {
      "text/html": [
       "<table class=\"dataframe\">\n",
       "<caption>A tibble: 31 × 2</caption>\n",
       "<thead>\n",
       "\t<tr><th scope=col>gene</th><th scope=col>n.eqtls</th></tr>\n",
       "\t<tr><th scope=col>&lt;chr&gt;</th><th scope=col>&lt;int&gt;</th></tr>\n",
       "</thead>\n",
       "<tbody>\n",
       "\t<tr><td>ENSG00000198468.3 </td><td>163</td></tr>\n",
       "\t<tr><td>ENSG00000236624.4 </td><td>149</td></tr>\n",
       "\t<tr><td>ENSG00000142794.14</td><td> 87</td></tr>\n",
       "\t<tr><td>ENSG00000226251.1 </td><td> 87</td></tr>\n",
       "\t<tr><td>ENSG00000272030.1 </td><td> 84</td></tr>\n",
       "\t<tr><td>ENSG00000231365.1 </td><td> 57</td></tr>\n",
       "\t<tr><td>ENSG00000142856.12</td><td> 46</td></tr>\n",
       "\t<tr><td>ENSG00000218510.3 </td><td> 36</td></tr>\n",
       "\t<tr><td>ENSG00000084072.12</td><td> 26</td></tr>\n",
       "\t<tr><td>ENSG00000272004.1 </td><td> 25</td></tr>\n",
       "\t<tr><td>ENSG00000259834.1 </td><td> 24</td></tr>\n",
       "\t<tr><td>ENSG00000235098.4 </td><td> 22</td></tr>\n",
       "\t<tr><td>ENSG00000007933.8 </td><td> 21</td></tr>\n",
       "\t<tr><td>ENSG00000162836.7 </td><td> 19</td></tr>\n",
       "\t<tr><td>ENSG00000177272.7 </td><td> 19</td></tr>\n",
       "\t<tr><td>ENSG00000272195.1 </td><td> 19</td></tr>\n",
       "\t<tr><td>ENSG00000215845.6 </td><td> 12</td></tr>\n",
       "\t<tr><td>ENSG00000237975.2 </td><td> 12</td></tr>\n",
       "\t<tr><td>ENSG00000233621.1 </td><td>  7</td></tr>\n",
       "\t<tr><td>ENSG00000142632.12</td><td>  5</td></tr>\n",
       "\t<tr><td>ENSG00000203666.8 </td><td>  4</td></tr>\n",
       "\t<tr><td>ENSG00000269737.1 </td><td>  4</td></tr>\n",
       "\t<tr><td>ENSG00000177614.5 </td><td>  3</td></tr>\n",
       "\t<tr><td>ENSG00000241720.2 </td><td>  3</td></tr>\n",
       "\t<tr><td>ENSG00000134184.8 </td><td>  2</td></tr>\n",
       "\t<tr><td>ENSG00000272668.1 </td><td>  2</td></tr>\n",
       "\t<tr><td>ENSG00000137944.12</td><td>  1</td></tr>\n",
       "\t<tr><td>ENSG00000162723.5 </td><td>  1</td></tr>\n",
       "\t<tr><td>ENSG00000197568.9 </td><td>  1</td></tr>\n",
       "\t<tr><td>ENSG00000238078.1 </td><td>  1</td></tr>\n",
       "\t<tr><td>ENSG00000272823.1 </td><td>  1</td></tr>\n",
       "</tbody>\n",
       "</table>\n"
      ],
      "text/latex": [
       "A tibble: 31 × 2\n",
       "\\begin{tabular}{ll}\n",
       " gene & n.eqtls\\\\\n",
       " <chr> & <int>\\\\\n",
       "\\hline\n",
       "\t ENSG00000198468.3  & 163\\\\\n",
       "\t ENSG00000236624.4  & 149\\\\\n",
       "\t ENSG00000142794.14 &  87\\\\\n",
       "\t ENSG00000226251.1  &  87\\\\\n",
       "\t ENSG00000272030.1  &  84\\\\\n",
       "\t ENSG00000231365.1  &  57\\\\\n",
       "\t ENSG00000142856.12 &  46\\\\\n",
       "\t ENSG00000218510.3  &  36\\\\\n",
       "\t ENSG00000084072.12 &  26\\\\\n",
       "\t ENSG00000272004.1  &  25\\\\\n",
       "\t ENSG00000259834.1  &  24\\\\\n",
       "\t ENSG00000235098.4  &  22\\\\\n",
       "\t ENSG00000007933.8  &  21\\\\\n",
       "\t ENSG00000162836.7  &  19\\\\\n",
       "\t ENSG00000177272.7  &  19\\\\\n",
       "\t ENSG00000272195.1  &  19\\\\\n",
       "\t ENSG00000215845.6  &  12\\\\\n",
       "\t ENSG00000237975.2  &  12\\\\\n",
       "\t ENSG00000233621.1  &   7\\\\\n",
       "\t ENSG00000142632.12 &   5\\\\\n",
       "\t ENSG00000203666.8  &   4\\\\\n",
       "\t ENSG00000269737.1  &   4\\\\\n",
       "\t ENSG00000177614.5  &   3\\\\\n",
       "\t ENSG00000241720.2  &   3\\\\\n",
       "\t ENSG00000134184.8  &   2\\\\\n",
       "\t ENSG00000272668.1  &   2\\\\\n",
       "\t ENSG00000137944.12 &   1\\\\\n",
       "\t ENSG00000162723.5  &   1\\\\\n",
       "\t ENSG00000197568.9  &   1\\\\\n",
       "\t ENSG00000238078.1  &   1\\\\\n",
       "\t ENSG00000272823.1  &   1\\\\\n",
       "\\end{tabular}\n"
      ],
      "text/markdown": [
       "\n",
       "A tibble: 31 × 2\n",
       "\n",
       "| gene &lt;chr&gt; | n.eqtls &lt;int&gt; |\n",
       "|---|---|\n",
       "| ENSG00000198468.3  | 163 |\n",
       "| ENSG00000236624.4  | 149 |\n",
       "| ENSG00000142794.14 |  87 |\n",
       "| ENSG00000226251.1  |  87 |\n",
       "| ENSG00000272030.1  |  84 |\n",
       "| ENSG00000231365.1  |  57 |\n",
       "| ENSG00000142856.12 |  46 |\n",
       "| ENSG00000218510.3  |  36 |\n",
       "| ENSG00000084072.12 |  26 |\n",
       "| ENSG00000272004.1  |  25 |\n",
       "| ENSG00000259834.1  |  24 |\n",
       "| ENSG00000235098.4  |  22 |\n",
       "| ENSG00000007933.8  |  21 |\n",
       "| ENSG00000162836.7  |  19 |\n",
       "| ENSG00000177272.7  |  19 |\n",
       "| ENSG00000272195.1  |  19 |\n",
       "| ENSG00000215845.6  |  12 |\n",
       "| ENSG00000237975.2  |  12 |\n",
       "| ENSG00000233621.1  |   7 |\n",
       "| ENSG00000142632.12 |   5 |\n",
       "| ENSG00000203666.8  |   4 |\n",
       "| ENSG00000269737.1  |   4 |\n",
       "| ENSG00000177614.5  |   3 |\n",
       "| ENSG00000241720.2  |   3 |\n",
       "| ENSG00000134184.8  |   2 |\n",
       "| ENSG00000272668.1  |   2 |\n",
       "| ENSG00000137944.12 |   1 |\n",
       "| ENSG00000162723.5  |   1 |\n",
       "| ENSG00000197568.9  |   1 |\n",
       "| ENSG00000238078.1  |   1 |\n",
       "| ENSG00000272823.1  |   1 |\n",
       "\n"
      ],
      "text/plain": [
       "   gene               n.eqtls\n",
       "1  ENSG00000198468.3  163    \n",
       "2  ENSG00000236624.4  149    \n",
       "3  ENSG00000142794.14  87    \n",
       "4  ENSG00000226251.1   87    \n",
       "5  ENSG00000272030.1   84    \n",
       "6  ENSG00000231365.1   57    \n",
       "7  ENSG00000142856.12  46    \n",
       "8  ENSG00000218510.3   36    \n",
       "9  ENSG00000084072.12  26    \n",
       "10 ENSG00000272004.1   25    \n",
       "11 ENSG00000259834.1   24    \n",
       "12 ENSG00000235098.4   22    \n",
       "13 ENSG00000007933.8   21    \n",
       "14 ENSG00000162836.7   19    \n",
       "15 ENSG00000177272.7   19    \n",
       "16 ENSG00000272195.1   19    \n",
       "17 ENSG00000215845.6   12    \n",
       "18 ENSG00000237975.2   12    \n",
       "19 ENSG00000233621.1    7    \n",
       "20 ENSG00000142632.12   5    \n",
       "21 ENSG00000203666.8    4    \n",
       "22 ENSG00000269737.1    4    \n",
       "23 ENSG00000177614.5    3    \n",
       "24 ENSG00000241720.2    3    \n",
       "25 ENSG00000134184.8    2    \n",
       "26 ENSG00000272668.1    2    \n",
       "27 ENSG00000137944.12   1    \n",
       "28 ENSG00000162723.5    1    \n",
       "29 ENSG00000197568.9    1    \n",
       "30 ENSG00000238078.1    1    \n",
       "31 ENSG00000272823.1    1    "
      ]
     },
     "metadata": {},
     "output_type": "display_data"
    }
   ],
   "source": [
    "# Best eQTL for the Gene with most findings.\n",
    "eqtls %>% \n",
    "    group_by(gene) %>% \n",
    "    summarise(n.eqtls = n()) %>% \n",
    "    arrange(desc(n.eqtls))\n",
    "\n"
   ]
  },
  {
   "cell_type": "code",
   "execution_count": 84,
   "metadata": {},
   "outputs": [
    {
     "data": {
      "text/html": [
       "<table class=\"dataframe\">\n",
       "<caption>A data.frame: 1 × 5</caption>\n",
       "<thead>\n",
       "\t<tr><th></th><th scope=col>SNP</th><th scope=col>gene</th><th scope=col>beta</th><th scope=col>t.stat</th><th scope=col>p.value</th></tr>\n",
       "\t<tr><th></th><th scope=col>&lt;chr&gt;</th><th scope=col>&lt;chr&gt;</th><th scope=col>&lt;dbl&gt;</th><th scope=col>&lt;dbl&gt;</th><th scope=col>&lt;dbl&gt;</th></tr>\n",
       "</thead>\n",
       "<tbody>\n",
       "\t<tr><th scope=row>1</th><td>1_213014465_G_A</td><td>ENSG00000198468.3</td><td>0.1928299</td><td>9.034383</td><td>4.599992e-14</td></tr>\n",
       "</tbody>\n",
       "</table>\n"
      ],
      "text/latex": [
       "A data.frame: 1 × 5\n",
       "\\begin{tabular}{r|lllll}\n",
       "  & SNP & gene & beta & t.stat & p.value\\\\\n",
       "  & <chr> & <chr> & <dbl> & <dbl> & <dbl>\\\\\n",
       "\\hline\n",
       "\t1 & 1\\_213014465\\_G\\_A & ENSG00000198468.3 & 0.1928299 & 9.034383 & 4.599992e-14\\\\\n",
       "\\end{tabular}\n"
      ],
      "text/markdown": [
       "\n",
       "A data.frame: 1 × 5\n",
       "\n",
       "| <!--/--> | SNP &lt;chr&gt; | gene &lt;chr&gt; | beta &lt;dbl&gt; | t.stat &lt;dbl&gt; | p.value &lt;dbl&gt; |\n",
       "|---|---|---|---|---|---|\n",
       "| 1 | 1_213014465_G_A | ENSG00000198468.3 | 0.1928299 | 9.034383 | 4.599992e-14 |\n",
       "\n"
      ],
      "text/plain": [
       "  SNP             gene              beta      t.stat   p.value     \n",
       "1 1_213014465_G_A ENSG00000198468.3 0.1928299 9.034383 4.599992e-14"
      ]
     },
     "metadata": {},
     "output_type": "display_data"
    }
   ],
   "source": [
    "top.signal <- eqtls %>% \n",
    "                dplyr::filter(gene == 'ENSG00000198468.3') %>%  \n",
    "                slice(which.min(p.value))\n",
    "head(top.signal)"
   ]
  },
  {
   "cell_type": "markdown",
   "metadata": {
    "id": "5iJM3g07GRSJ"
   },
   "source": [
    "- Visualize the effect of the best eQTL for the ENSG00000198468.3 Gene."
   ]
  },
  {
   "cell_type": "code",
   "execution_count": 85,
   "metadata": {
    "colab": {
     "base_uri": "https://localhost:8080/",
     "height": 437
    },
    "id": "CAbqhwIS6bxN",
    "outputId": "d122a99e-fa8b-42f4-9f3d-d440e6ef566c"
   },
   "outputs": [
    {
     "data": {
      "image/png": "[encoded data removed]",
      "text/plain": [
       "Plot with title “ENSG00000198468.3”"
      ]
     },
     "metadata": {
      "image/png": {
       "height": 420,
       "width": 420
      }
     },
     "output_type": "display_data"
    }
   ],
   "source": [
    "# Boxplot for the best eQTL.\n",
    "plot.data <- snps %>% \n",
    "                dplyr::filter(rownames(snps) == top.signal$SNP)\n",
    "\n",
    "plot.data = as.data.frame(t(plot.data))\n",
    "\n",
    "plot.data = cbind(plot.data, ge[rownames(ge) == top.signal$gene,]) # add gene expression\n",
    "\n",
    "\n",
    "boxplot(as.numeric(plot.data[[2]]) ~ as.factor(as.character(plot.data[[1]])), xlab = \"1_213014465_G_A\",\n",
    "   ylab = \"GE\", main = \"ENSG00000198468.3\")"
   ]
  },
  {
   "cell_type": "markdown",
   "metadata": {
    "id": "QHo7NZc4V6y4"
   },
   "source": [
    "---\n"
   ]
  }
 ],
 "metadata": {
  "colab": {
   "include_colab_link": true,
   "provenance": []
  },
  "kernelspec": {
   "display_name": "R",
   "language": "R",
   "name": "ir"
  },
  "language_info": {
   "codemirror_mode": "r",
   "file_extension": ".r",
   "mimetype": "text/x-r-source",
   "name": "R",
   "pygments_lexer": "r",
   "version": "4.2.2"
  }
 },
 "nbformat": 4,
 "nbformat_minor": 1
}
