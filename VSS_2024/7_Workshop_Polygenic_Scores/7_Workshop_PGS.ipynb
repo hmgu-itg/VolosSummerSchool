{
  "nbformat": 4,
  "nbformat_minor": 0,
  "metadata": {
    "colab": {
      "provenance": [],
      "collapsed_sections": [
        "KujnAQgeYQ_a"
      ]
    },
    "kernelspec": {
      "name": "ir",
      "display_name": "R"
    },
    "language_info": {
      "name": "R"
    }
  },
  "cells": [
    {
      "cell_type": "markdown",
      "source": [
        "<center><h1>Exercise on Polygenic Scoring</h1>\n",
        "<b>Human Genetics of complex traits</b></br></br>\n",
        "<i><small>Ana Arruda (ana.arruda@helmholtz-muenchen.de) - Ozvan Bocher (ozvan.bocher@helmholtz-muenchen.de)</i></small>\n",
        "</center>\n",
        "\n",
        "# Summary\n",
        "In this exercise, we will apply two polygenic scores to samples from the 1000 Genomes project: **a polygenic risk score for Coronary Artery Disease (CAD)** and a **polygenic score for levels of the MEP1B protein**. We will perform the following steps:\n",
        "- Compute the two scores by hand in R and using Plink\n",
        "- See how well these two scores predict the traits in question\n",
        "- Study the influence of ethnicity, and adjust for it\n",
        "- Examine the polygenicity of these two traits through a genome-wide association.\n",
        "\n",
        "During this practical, we will mostly use the R software but we will as well make use of Plink, a very common tool for a wide range of genetic analyses.\n",
        "There are some optional exercises in the practical that you might want to do if you progress fast.\n",
        "Multiple questions are asked through this notebook. The answers are provided in hidden cells but please try to answer the questions by yourself to get the most of this session.\n",
        "\n",
        "Use `gc()` from time to time to free up memory."
      ],
      "metadata": {
        "id": "24Ilbze6VNQj"
      }
    },
    {
      "cell_type": "markdown",
      "source": [
        "# Downloading the data and installing libraries\n",
        "We need following data:\n",
        "\n",
        "\n",
        "*   Polygenic risk score (PGS000337) for CAD\n",
        "*   Polygenic risk score for MET1B\n",
        "*   Genetic data\n",
        "\n",
        "\n",
        "All data is in the following location: https://www.dropbox.com/scl/fo/h0gwms5yhgd44od5fm11s/h?dl=0&rlkey=7ksbrzt4xyeoxkoq2kwrc4omu. We will download the data in the corresponding exercise and unzip it when necessary."
      ],
      "metadata": {
        "id": "bxrKvGCEVSrB"
      }
    },
    {
      "cell_type": "markdown",
      "source": [
        "We will start by downloading the packages that we will need in R. We need `R.utils` (this step will need a few minutes to run) and `manqq`.\n",
        "We will use the classical R libraries to import and export files. Nevertheless, be aware that genetic files can be large and this can take a lot of memory and computation time in R. The library `data.table` can be useful to answer this issue and codes with how to use this library will be provided throughout this notebook."
      ],
      "metadata": {
        "id": "rC7krQ680zvG"
      }
    },
    {
      "cell_type": "code",
      "source": [
        "install.packages('R.utils')\n",
        "devtools::install_github(\"hmgu-itg/man_qq_annotate\")\n",
        "install.packages('qqman')"
      ],
      "metadata": {
        "id": "PbI-fues0xdw"
      },
      "execution_count": null,
      "outputs": []
    },
    {
      "cell_type": "markdown",
      "source": [
        "Now, let's install the `plink` software:"
      ],
      "metadata": {
        "id": "wlYSTDpD18aK"
      }
    },
    {
      "cell_type": "code",
      "source": [
        "cat(system(\"wget https://s3.amazonaws.com/plink1-assets/plink_linux_x86_64_20210606.zip\", intern=T), sep=\"\\n\")\n",
        "cat(system(\"unzip plink_linux_x86_64_20210606.zip\", intern=T), sep=\"\\n\")\n",
        "cat(system(\"rm prettify toy.* LICENSE\", intern=T), sep=\"\\n\")\n",
        "cat(system('./plink --help', intern=T), sep=\"\\n\")"
      ],
      "metadata": {
        "id": "q7Q0vSysEN-1"
      },
      "execution_count": null,
      "outputs": []
    },
    {
      "cell_type": "markdown",
      "source": [
        "# **PGS**\n",
        "## Importing scores\n",
        "As previously mentioned, we will study two PGS, one for CAD and the other for the MEP1B protein levels. These scores were computed on large studies and are publicly available. We will start by importing the summary statistics for the variants used to construct the two scores.\n",
        "\n",
        "\n",
        "**Exercise 1:**\n",
        "- Import the data from the dropbox: https://www.dropbox.com/s/4083718iyo46nw2/liftedover.CAD.score?dl=1 for CAD and https://www.dropbox.com/s/o71gg622t2vnjqu/MEP1B.gilly.prs.txt?dl=1 for MEP1B. Use `read.table()` to do so.\n",
        "- If needed, create an `id` column corresponding to chr`chromosome_number`:`position`\n",
        "- For both traits, export a file containing the columns `id`, `effect_allele` and `effect_weight` (rename the columns of the file if necessary). These files should be name `CAD.score` and `MEP1B.score`.\n",
        "\n",
        "**Question 1:** How many variants compose the two scores ?"
      ],
      "metadata": {
        "id": "yRvj7O9V6_hF"
      }
    },
    {
      "cell_type": "code",
      "source": [
        "#@title Scores importation\n",
        "cadscore = read.table(\"https://www.dropbox.com/s/4083718iyo46nw2/liftedover.CAD.score?dl=1\")\n",
        "mepscore=read.table(\"https://www.dropbox.com/s/o71gg622t2vnjqu/MEP1B.gilly.prs.txt?dl=1\", header = TRUE)\n",
        "head(cadscore)\n",
        "head(mepscore)"
      ],
      "metadata": {
        "id": "o5e2H1V73tEw",
        "cellView": "form"
      },
      "execution_count": null,
      "outputs": []
    },
    {
      "cell_type": "code",
      "source": [
        "# use this tab and try to solve the task by youself"
      ],
      "metadata": {
        "id": "knNa_6QJDUhh"
      },
      "execution_count": null,
      "outputs": []
    },
    {
      "cell_type": "code",
      "source": [
        "#@title Get id column\n",
        "colnames(cadscore) <- c(\"chr_name\", \"chr_position\", \"effect_allele\", \"effect_weight\", \"id_alleles\", \"id\")\n",
        "head(cadscore)\n",
        "mepscore$id <- paste0(\"chr\", mepscore$chr, \":\", mepscore$pos)\n",
        "head(mepscore)"
      ],
      "metadata": {
        "id": "LmkySIlO8ZXa",
        "cellView": "form"
      },
      "execution_count": null,
      "outputs": []
    },
    {
      "cell_type": "code",
      "source": [
        "# use this tab and try to solve the task by youself"
      ],
      "metadata": {
        "id": "lLRnMJyBDtk0"
      },
      "execution_count": null,
      "outputs": []
    },
    {
      "cell_type": "code",
      "source": [
        "#@title Export the files\n",
        "write.table(cadscore[,c(\"id\", \"effect_allele\", \"effect_weight\")], \"CAD.score\", sep=\"\\t\", col.names=F, quote=F, row.names = F)\n",
        "write.table(mepscore[,c(\"id\", \"A1\", \"effect\")], \"MEP1B.score\", sep=\"\\t\", col.names=F, quote=F, row.names = F)"
      ],
      "metadata": {
        "id": "4Q7MIuNd9CJX",
        "cellView": "form"
      },
      "execution_count": null,
      "outputs": []
    },
    {
      "cell_type": "code",
      "source": [
        "# use this tab and try to solve the task by youself"
      ],
      "metadata": {
        "id": "MjEf1fWoDuCh"
      },
      "execution_count": null,
      "outputs": []
    },
    {
      "cell_type": "code",
      "source": [
        "#@title Answer question 1\n",
        "cat(\"CAD PGS is composed of\", nrow(cadscore), \"variants\\n\")\n",
        "cat(\"MEP1B PGS is composed of\", nrow(mepscore), \"variants\\n\")"
      ],
      "metadata": {
        "id": "3jdxPtK7-xq0",
        "cellView": "form"
      },
      "execution_count": null,
      "outputs": []
    },
    {
      "cell_type": "code",
      "source": [
        "# use this tab and try to solve the task by youself"
      ],
      "metadata": {
        "id": "Ylu0doGKDutu"
      },
      "execution_count": null,
      "outputs": []
    },
    {
      "cell_type": "code",
      "source": [
        "#@title **Optional** Alternative using the data.table library\n",
        "cadscore = fread(\"https://www.dropbox.com/s/4083718iyo46nw2/liftedover.CAD.score?dl=1\")\n",
        "cadscore[,id:=paste0(\"chr\", V1, \":\", V2)]\n",
        "cadscore = cadscore[, .(chr_name=V1, chr_position=V2, effect_allele=V3, effect_weight=V4, id)]\n",
        "fwrite(cadscore[,c(\"id\", \"effect_allele\", \"effect_weight\")], \"CAD.score\", sep=\"\\t\", col.names=F, quote=F)\n",
        "\n",
        "#With MEP1B\n",
        "mepscore=fread(\"https://www.dropbox.com/s/o71gg622t2vnjqu/MEP1B.gilly.prs.txt?dl=1\")\n",
        "mepscore[,id:=paste0(\"chr\", chr, \":\", pos)]\n",
        "head(mepscore)\n",
        "fwrite(mepscore[,c(\"id\", \"A1\", \"effect\")], \"MEP1B.score\", sep=\"\\t\", col.names=F, quote=F)"
      ],
      "metadata": {
        "cellView": "form",
        "id": "-4TEKL5x9auP"
      },
      "execution_count": null,
      "outputs": []
    },
    {
      "cell_type": "markdown",
      "source": [
        "## Applying scores\n",
        "We will now apply the scores to 2504 individuals of the 1000 Genome project. From the lecture, you will remember that we need genotype data for these individuals as well as the weights contained in the score files above. We will first use R to manually compute these PGS and then Plink, a popular genetic toolbox installed in this environment."
      ],
      "metadata": {
        "id": "KujnAQgeYQ_a"
      }
    },
    {
      "cell_type": "markdown",
      "source": [
        "# Method 1: Manually applying scores (R)"
      ],
      "metadata": {
        "id": "lHRV58ozYfen"
      }
    },
    {
      "cell_type": "markdown",
      "source": [
        "**Exercise 2**: We will start by loading the genetic file autosomal.forPRS.mx.traw file.\n",
        "- Get the data from https://www.dropbox.com/s/civmjfv89ou72cc/PRS.course.forscore.tar.gz using `system` and `wget`\n",
        "- Untar the data\n",
        "- Import the genotypes (file `autosomal.forPRS.mx.traw`) and the individual information (file `autosomal.forPRS.fam`) in R using `read.table`. The matrix of genotypes has positions as rows and samples as columns. The first 6 columns describe the chromosome position and alleles.\n",
        "- Save the names of the samples present in the genotype matrix\n",
        "\n",
        "**Question 2**: How many variants are present in the genotype file ? How many individuals are in the genotype matrix and in the fam file ?"
      ],
      "metadata": {
        "id": "8F_MsYEcbCDm"
      }
    },
    {
      "cell_type": "code",
      "source": [
        "#@title Download and untar data\n",
        "cat(system('wget https://www.dropbox.com/s/civmjfv89ou72cc/PRS.course.forscore.tar.gz', intern=T), sep=\"\\n\")\n",
        "cat(system('tar -xf PRS.course.forscore.tar.gz', intern=T), sep=\"\\n\")"
      ],
      "metadata": {
        "id": "IT-gToNmAD-9",
        "cellView": "form"
      },
      "execution_count": null,
      "outputs": []
    },
    {
      "cell_type": "code",
      "source": [
        "# use this tab and try to solve the task by youself"
      ],
      "metadata": {
        "id": "aGpELwLTDodR"
      },
      "execution_count": null,
      "outputs": []
    },
    {
      "cell_type": "code",
      "source": [
        "#@title Import genotypes and fam files\n",
        "genos=read.table(\"autosomal.forPRS.mx.traw\", header = TRUE)\n",
        "famfile=read.table(\"autosomal.forPRS.fam\")\n",
        "head(genos)\n",
        "head(famfile)"
      ],
      "metadata": {
        "id": "llDy_LBS5plW",
        "cellView": "form"
      },
      "execution_count": null,
      "outputs": []
    },
    {
      "cell_type": "code",
      "source": [
        "# use this tab and try to solve the task by youself"
      ],
      "metadata": {
        "id": "onJAcx5rDqtw"
      },
      "execution_count": null,
      "outputs": []
    },
    {
      "cell_type": "code",
      "source": [
        "#@title Save the names of the samples\n",
        "spnames=colnames(genos)[7:ncol(genos)]\n",
        "length(spnames)"
      ],
      "metadata": {
        "id": "h_pzlK2o8HxZ",
        "cellView": "form"
      },
      "execution_count": null,
      "outputs": []
    },
    {
      "cell_type": "code",
      "source": [
        "# use this tab and try to solve the task by youself"
      ],
      "metadata": {
        "id": "_-V-Qhr2DrQA"
      },
      "execution_count": null,
      "outputs": []
    },
    {
      "cell_type": "code",
      "source": [
        "#@title Answer question 2\n",
        "cat(\"There are\", nrow(genos), \"variants in the genotype matrix\\n\")\n",
        "cat(\"There are\", ncol(genos)-6, \"individuals in the genotype matrix\\n\")\n",
        "cat(\"There are\", nrow(famfile), \"individuals in the fam file\\n\")"
      ],
      "metadata": {
        "id": "f1JYwGzK6NiR",
        "cellView": "form"
      },
      "execution_count": null,
      "outputs": []
    },
    {
      "cell_type": "code",
      "source": [
        "# use this tab and try to solve the task by youself"
      ],
      "metadata": {
        "id": "wMm74hILDylq"
      },
      "execution_count": null,
      "outputs": []
    },
    {
      "cell_type": "code",
      "source": [
        "#@title **Optional** Alternative using the data.table library\n",
        "genos=data.table::fread(\"autosomal.forPRS.mx.traw\")\n",
        "famfile=fread(\"autosomal.forPRS.fam\")"
      ],
      "metadata": {
        "id": "SkRH6Ek2cUEg",
        "cellView": "form"
      },
      "execution_count": null,
      "outputs": []
    },
    {
      "cell_type": "markdown",
      "source": [
        "**Exercise 3:** Apply the MEP1B score by:\n",
        "- creating a genotype matrix restricted to the variants included in the MEP1B score\n",
        "- applying an element-wise multiplication column by column, and sum the weighted genotypes:  $score_j=∑_{i∈SNPs}w_i∗g_i$  where  $i$  denotes SNPs and  $j$  denotes individuals. Hint: use the functions `colSums()` and `apply()`\n",
        "\n",
        "Look at the distribution of the score with `hist`.\n",
        "\n",
        "**Question 3:** What can you say about this distribution ?"
      ],
      "metadata": {
        "id": "jdRebr1z23aC"
      }
    },
    {
      "cell_type": "code",
      "source": [
        "#@title Apply the MEP1B score\n",
        "mepg = subset(genos, SNP %in% mepscore$id)\n",
        "head(mepg)\n",
        "head(mepscore)\n",
        "\n",
        "mepg.score <- colSums(apply(mepg[, spnames], 2, function(x) x*mepscore$effect))"
      ],
      "metadata": {
        "id": "9OBAJLBeCzTL",
        "cellView": "form"
      },
      "execution_count": null,
      "outputs": []
    },
    {
      "cell_type": "code",
      "source": [
        "# use this tab and try to solve the task by youself"
      ],
      "metadata": {
        "id": "Umqx7aTpDzqg"
      },
      "execution_count": null,
      "outputs": []
    },
    {
      "cell_type": "code",
      "source": [
        "#@title Distribution of MEP1B score\n",
        "hist(mepg.score)\n",
        "hist(mepg.score, breaks = 40)\n",
        "#The MEP1B score deviates markedly from the normal assumption."
      ],
      "metadata": {
        "id": "ZYY9LgNcDk6O",
        "cellView": "form"
      },
      "execution_count": null,
      "outputs": []
    },
    {
      "cell_type": "code",
      "source": [
        "# use this tab and try to solve the task by youself"
      ],
      "metadata": {
        "id": "VYlPUpO1D0CF"
      },
      "execution_count": null,
      "outputs": []
    },
    {
      "cell_type": "markdown",
      "source": [
        "**Exercise 4:** CAD score\n",
        "- Combine the information of the genotype matrix and the CAD scores using the `merge()` function in R\n",
        "\n",
        "**Question 4:**\n",
        "- Are all of the positions used in the CAD score present in the genotype matrix ?\n",
        "- Is there a perfect match between the effect alleles of the scores and the ones in the genotype matrix ?"
      ],
      "metadata": {
        "id": "d2P11OTOEzDG"
      }
    },
    {
      "cell_type": "code",
      "source": [
        "#@title Combine genotypes and CAD scores information\n",
        "head(cadscore)\n",
        "head(genos)\n",
        "cadg=merge(cadscore, genos, by.x=\"id\", by.y=\"SNP\", sort = F)\n",
        "nrow(cadg)"
      ],
      "metadata": {
        "id": "pbgg9kbqEyi-",
        "cellView": "form"
      },
      "execution_count": null,
      "outputs": []
    },
    {
      "cell_type": "code",
      "source": [
        "# use this tab and try to solve the task by youself"
      ],
      "metadata": {
        "id": "7fnIYMgGD1bS"
      },
      "execution_count": null,
      "outputs": []
    },
    {
      "cell_type": "code",
      "source": [
        "#@title Answer question 4\n",
        "dim(cadscore)\n",
        "dim(cadg)\n",
        "#All of the variants used for the CAD score are not present in the genotype matrix\n",
        "\n",
        "all(cadg$effect_allele == cadg$COUNTED)\n",
        "head(cadg[,c(\"id\", \"effect_allele\", \"effect_weight\", \"COUNTED\", \"ALT\")])\n",
        "#Even when the positions are present, the alleles can be different. For example, the effect allele for position 1:1236037 in the score is T whil it is C in the genotype data\n",
        "#We will have to solve this issue before applying the CAD score"
      ],
      "metadata": {
        "id": "xSH2bjWLPA5U",
        "cellView": "form"
      },
      "execution_count": null,
      "outputs": []
    },
    {
      "cell_type": "code",
      "source": [
        "# use this tab and try to solve the task by youself"
      ],
      "metadata": {
        "id": "Si3rQH_rD5zy"
      },
      "execution_count": null,
      "outputs": []
    },
    {
      "cell_type": "markdown",
      "source": [
        "**Exercise 5:** Apply the CAD score:\n",
        "- If the effect alleles are not the same for the score and the genotype matrix, you need to flip the effect (= change sign of effect)\n",
        "- Compute CAD score for each individual by applying an element-wise multiplication column by column as before\n",
        "- Create a data frame `cadg.mepg.scores` with the following columns: `id`, `CAD.manual` and `MEP1B.manual`. It will be used later to compare the results with the ones from the `plink` software.\n",
        "\n",
        "**Question 5:** What do you think about the distribution of the CAD score ?"
      ],
      "metadata": {
        "id": "F-qLDDzUPxaZ"
      }
    },
    {
      "cell_type": "code",
      "source": [
        "#@title Apply the CAD score\n",
        "# If the effect allele is the ALT allele, inverse the effect\n",
        "cadg[which(cadg$ALT == cadg$effect_allele), \"effect_weight\"] <- -cadg[which(cadg$ALT == cadg$effect_allele), \"effect_weight\"]\n",
        "head(cadg)\n",
        "#Compute the score\n",
        "cadg.score <- colSums(apply(cadg[,spnames], 2, function(x) x*cadg$effect_weight), na.rm = TRUE)"
      ],
      "metadata": {
        "id": "dvk6o-3QQjO2",
        "cellView": "form"
      },
      "execution_count": null,
      "outputs": []
    },
    {
      "cell_type": "code",
      "source": [
        "# use this tab and try to solve the task by youself"
      ],
      "metadata": {
        "id": "GI4GA4oeD6z9"
      },
      "execution_count": null,
      "outputs": []
    },
    {
      "cell_type": "code",
      "source": [
        "#@title Combine the results\n",
        "cadg.mepg.scores <- data.frame(id=names(cadg.score), CAD.manual=cadg.score)\n",
        "cadg.mepg.scores$MEP1B.manual <- data.frame(id=names(mepg.score), MEP1B.manual=mepg.score)[cadg.mepg.scores$id, \"MEP1B.manual\"]\n",
        "head(cadg.mepg.scores)\n"
      ],
      "metadata": {
        "id": "r1NlLUeWdDgb",
        "cellView": "form"
      },
      "execution_count": null,
      "outputs": []
    },
    {
      "cell_type": "code",
      "source": [
        "# use this tab and try to solve the task by youself"
      ],
      "metadata": {
        "id": "Fm9-y0x9D7qW"
      },
      "execution_count": null,
      "outputs": []
    },
    {
      "cell_type": "code",
      "source": [
        "#@title Answer question 5\n",
        "hist(cadg.mepg.scores$CAD.manual, breaks = 40)\n",
        "#The CAD score is normally distributed, which is expected from a PGS of a highly polygenic trait"
      ],
      "metadata": {
        "id": "WRUiAuIzQ7QR",
        "cellView": "form"
      },
      "execution_count": null,
      "outputs": []
    },
    {
      "cell_type": "code",
      "source": [
        "# use this tab and try to solve the task by youself"
      ],
      "metadata": {
        "id": "HjkJxLcmD8Zg"
      },
      "execution_count": null,
      "outputs": []
    },
    {
      "cell_type": "code",
      "source": [
        "#@title **Optional** Alternative using the data.table library\n",
        "#MEP1B\n",
        "mepg=genos[SNP %in% mepscore$id]\n",
        "mepg\n",
        "mepg.score=colSums(mepg[,lapply(.SD, function(x) x*mepscore$effect), .SDcol=spnames])\n",
        "#CAD\n",
        "cadg[,eff:=effect_weight]\n",
        "cadg[effect_allele==ALT,eff:=-1*eff]\n",
        "cadg=cadg[effect_allele==ALT | effect_allele == COUNTED]\n",
        "cadg=cadg[,lapply(.SD, function(x) sum(x*eff, na.rm=T)), .SDcol=spnames]"
      ],
      "metadata": {
        "id": "VQX3iD_TcXlZ",
        "cellView": "form"
      },
      "execution_count": null,
      "outputs": []
    },
    {
      "cell_type": "code",
      "source": [
        "rm(genos)  # to free up memory space\n",
        "gc()  # to free up memory space"
      ],
      "metadata": {
        "id": "_7w3JxlSciic"
      },
      "execution_count": null,
      "outputs": []
    },
    {
      "cell_type": "markdown",
      "source": [
        "# Method 2: Applying scores using Plink\n",
        "We will now use the plink software to compute the scores. To have more information on how to proceed, use:\n",
        "`cat(system('./plink --help', intern=T), sep=\"\\n\")`\n",
        "\n",
        "**Exercise 6:**\n",
        "- Apply the scores to `autosomal.forPRS` using `CAD.score` and `MET1B.score`\n",
        "- Import the results `CAD.profile` and `MEP1B.profile` to `R`\n",
        "- Merge all the scores with the previous dataframe\n",
        "- Compute the correlations between the scores computed in `R` or in `plink` for CAD and MEP1B\n",
        "\n",
        "**Question 6:** You should observe some differences for CAD, where do you think they come from ?"
      ],
      "metadata": {
        "id": "Wsq-R57XSVCb"
      }
    },
    {
      "cell_type": "code",
      "source": [
        "#@title Apply the scores using plink\n",
        "cat(system('./plink --bfile autosomal.forPRS --score CAD.score --out CAD', intern=T), sep=\"\\n\")\n",
        "cat(system('./plink --bfile autosomal.forPRS --score MEP1B.score --out MEP1B', intern=T), sep=\"\\n\")"
      ],
      "metadata": {
        "id": "wZn870hTGUEz",
        "cellView": "form"
      },
      "execution_count": null,
      "outputs": []
    },
    {
      "cell_type": "code",
      "source": [
        "# use this tab and try to solve the task by youself"
      ],
      "metadata": {
        "id": "nuY-rcWSD_H1"
      },
      "execution_count": null,
      "outputs": []
    },
    {
      "cell_type": "code",
      "source": [
        "#@title Import the computed scores and combine with R-made scores\n",
        "cadsc = read.table(\"CAD.profile\", header = TRUE)\n",
        "mepsc = read.table(\"MEP1B.profile\", header = TRUE)\n",
        "head(cadsc) ; head(mepsc)\n",
        "cadsc$id <- paste0(cadsc$FID, \"_\", cadsc$IID)\n",
        "mepsc$id <- paste0(mepsc$FID, \"_\", mepsc$IID)\n",
        "allscores=merge(cadg.mepg.scores, cadsc[,c(\"id\", \"SCORE\")], by=\"id\", sort = FALSE)\n",
        "colnames(allscores)[4] <- \"CAD.Plink\"\n",
        "allscores=merge(allscores, mepsc[,c(\"id\", \"SCORE\")], by=\"id\")\n",
        "colnames(allscores)[5] <- \"MEP1B.Plink\"\n",
        "dim(allscores)\n",
        "head(allscores)"
      ],
      "metadata": {
        "id": "dT7W8VsbGeqN",
        "cellView": "form"
      },
      "execution_count": null,
      "outputs": []
    },
    {
      "cell_type": "code",
      "source": [
        "# use this tab and try to solve the task by youself"
      ],
      "metadata": {
        "id": "FRuVKTAkD_yg"
      },
      "execution_count": null,
      "outputs": []
    },
    {
      "cell_type": "code",
      "source": [
        "#@title Correlation between the scores\n",
        "cor(allscores[,-1])"
      ],
      "metadata": {
        "id": "4SExsznrHj6f",
        "cellView": "form"
      },
      "execution_count": null,
      "outputs": []
    },
    {
      "cell_type": "code",
      "source": [
        "# use this tab and try to solve the task by youself"
      ],
      "metadata": {
        "id": "pjnuRqyEEAyM"
      },
      "execution_count": null,
      "outputs": []
    },
    {
      "cell_type": "code",
      "source": [
        "#@title Question 6\n",
        "\n",
        "#We see a slight discrepancy between the manual and Plink-generated CAD scores.\n",
        "#This is likely due to our imperfect allele matching, PLINK is more conservative as it only keeps variants where effect alleles concord."
      ],
      "metadata": {
        "id": "_KDMh6KV5Apm",
        "cellView": "form"
      },
      "execution_count": null,
      "outputs": []
    },
    {
      "cell_type": "code",
      "source": [
        "# use this tab and try to solve the task by youself"
      ],
      "metadata": {
        "id": "bNutLmP7EkvB"
      },
      "execution_count": null,
      "outputs": []
    },
    {
      "cell_type": "markdown",
      "source": [
        "# Predictive accuracy of MEP1B levels and CAD events\n",
        "We will now look at the predictive accuracy of the two scores by looking at the actual phenotypes of individuals for those two traits. This information is available for a cohort of 1000 individuals representing a subset of the 1000 Genomes project.\n",
        "\n",
        "**Exercise 7**:\n",
        "- Load the CAD (https://www.dropbox.com/s/xs7wsgij95w2uau/CAD.phenotype?dl=1) and MEP1B phenotypes (https://www.dropbox.com/s/5rmhjmv0d6oqxpr/MEP1B.phenotype?dl=1).\n",
        "- Import the data in `R` and add the phenotype to the files gathering all scores\n",
        "- Plot the plink scores against the true phenotypes. Hint: think about which kind of plot to use according to the data type you have (i.e. continous or discrete)\n",
        "- Compute the Pearson's correlation for MEP1B\n",
        "- Get the top and bottom deciles of the distribution for CAD using the function `quantiles()`.\n",
        "- Compute the odds ratio for people in the top vs bottom deciles of the distribution for CAD. Remember that $OR=Odds_{Q2}/Odds_{Q1}$ with $Odds_{Q1}=P(Case/Q1)/P(Control/Q1)$\n",
        "\n",
        "**Question 7:** What can you say about the predictive accuracy of both scores?"
      ],
      "metadata": {
        "id": "_Hq69Enldrxy"
      }
    },
    {
      "cell_type": "code",
      "source": [
        "#@title Download phenotypes and import in R\n",
        "rCAD=read.table(\"https://www.dropbox.com/s/xs7wsgij95w2uau/CAD.phenotype?dl=1\")\n",
        "rMEP=read.table(\"https://www.dropbox.com/s/5rmhjmv0d6oqxpr/MEP1B.phenotype?dl=1\")\n",
        "colnames(rCAD) <- c(\"id\", \"CADpheno\")\n",
        "colnames(rMEP) <- c(\"id\", \"MEP1Bpheno\")\n",
        "allscores.pheno=merge(allscores, rCAD, by=\"id\")\n",
        "allscores.pheno=merge(allscores.pheno, rMEP, by=\"id\")\n",
        "head(allscores.pheno)\n",
        "dim(allscores.pheno)"
      ],
      "metadata": {
        "id": "bse1lbjtdQ_I",
        "cellView": "form"
      },
      "execution_count": null,
      "outputs": []
    },
    {
      "cell_type": "code",
      "source": [
        "# use this tab and try to solve the task by youself"
      ],
      "metadata": {
        "id": "NwsYMfOfElt9"
      },
      "execution_count": null,
      "outputs": []
    },
    {
      "cell_type": "code",
      "source": [
        "#@title Graphical representations\n",
        "plot(allscores.pheno$MEP1Bpheno, allscores.pheno$MEP1B.Plink, col=\"cornflowerblue\", pch=20, main = \"MEP1B\")\n",
        "boxplot(allscores.pheno$CAD.Plink ~ allscores.pheno$CADpheno, col=\"cornflowerblue\", pch=20, main = \"CAD\")"
      ],
      "metadata": {
        "id": "Q4McIVgyJvRz",
        "cellView": "form"
      },
      "execution_count": null,
      "outputs": []
    },
    {
      "cell_type": "code",
      "source": [
        "# use this tab and try to solve the task by youself"
      ],
      "metadata": {
        "id": "xXGDpM9XEmnm"
      },
      "execution_count": null,
      "outputs": []
    },
    {
      "cell_type": "code",
      "source": [
        "#@title Correlation for MEP1B score\n",
        "cor(allscores.pheno$MEP1Bpheno, allscores.pheno$MEP1B.Plink)"
      ],
      "metadata": {
        "id": "XMQFZ6hiiRDq",
        "cellView": "form"
      },
      "execution_count": null,
      "outputs": []
    },
    {
      "cell_type": "code",
      "source": [
        "# use this tab and try to solve the task by youself"
      ],
      "metadata": {
        "id": "gRTlYnbmEnR4"
      },
      "execution_count": null,
      "outputs": []
    },
    {
      "cell_type": "code",
      "source": [
        "#@title Calculate the top and bottom deciles of the distribution for CAD\n",
        "cadq=quantile(allscores.pheno$CAD.Plink, c(0.1, 0.9))\n",
        "cadq"
      ],
      "metadata": {
        "id": "OmLQJf-JCAKi",
        "cellView": "form"
      },
      "execution_count": null,
      "outputs": []
    },
    {
      "cell_type": "code",
      "source": [
        "# use this tab and try to solve the task by youself"
      ],
      "metadata": {
        "id": "QNMKcqEZEn-N"
      },
      "execution_count": null,
      "outputs": []
    },
    {
      "cell_type": "code",
      "source": [
        "#@title OR CAD\n",
        "#Compute the Odds for bottom decile\n",
        "Q1=table(allscores.pheno[which(allscores.pheno$CAD.Plink<cadq[1]),]$CADpheno)\n",
        "Q1\n",
        "OddsQ1 = Q1[2]/Q1[1]\n",
        "\n",
        "#Compute the Odds for top decile\n",
        "Q2=table(allscores.pheno[which(allscores.pheno$CAD.Plink>cadq[2]),]$CADpheno)\n",
        "Q2\n",
        "OddsQ2 = Q2[2]/Q2[1]\n",
        "\n",
        "#Compute the odds ratio\n",
        "OR=OddsQ2/OddsQ1\n",
        "OR"
      ],
      "metadata": {
        "id": "HIN3L2gwWH1h",
        "cellView": "form"
      },
      "execution_count": null,
      "outputs": []
    },
    {
      "cell_type": "code",
      "source": [
        "# use this tab and try to solve the task by youself"
      ],
      "metadata": {
        "id": "GNUTzU8kEoiF"
      },
      "execution_count": null,
      "outputs": []
    },
    {
      "cell_type": "code",
      "source": [
        "#@title Question 7\n",
        "# The correlation for MEP1B is quite low, highlighting a moderate prediction value of this score.\n",
        "# The CAD OR is high, highlighting the fact that the predictive value of the corresponding score is good."
      ],
      "metadata": {
        "id": "SuRH62ZBBsx2",
        "cellView": "form"
      },
      "execution_count": null,
      "outputs": []
    },
    {
      "cell_type": "code",
      "source": [
        "# use this tab and try to solve the task by youself"
      ],
      "metadata": {
        "id": "yhENlEfsEpSY"
      },
      "execution_count": null,
      "outputs": []
    },
    {
      "cell_type": "markdown",
      "source": [
        "# **PRS and Polygenicity**\n",
        "Until now, we have applied two genetic risk scores and examined how well they predict actual phenotypes. We will now examine what these scores can tell us about the genetic architecture of these traits."
      ],
      "metadata": {
        "id": "uDH761CviqKn"
      }
    },
    {
      "cell_type": "markdown",
      "source": [
        "**Question 8**: How many variants are present in each score (see `Question 1`)? Does that correspond to what you know of the genetic architecture of both traits?"
      ],
      "metadata": {
        "id": "x69J8Kdhit4t"
      }
    },
    {
      "cell_type": "code",
      "source": [
        "#@title Question 8\n",
        "nrow(cadscore)\n",
        "nrow(mepscore)\n",
        "#Yes. MEP1B is a protein trait, it is expected to be much less polygenic than CAD which is a complex trait."
      ],
      "metadata": {
        "id": "RI-XPs8Aivkm",
        "cellView": "form"
      },
      "execution_count": null,
      "outputs": []
    },
    {
      "cell_type": "code",
      "source": [
        "# use this tab and try to solve the task by youself"
      ],
      "metadata": {
        "id": "QRyF-eWEEqO5"
      },
      "execution_count": null,
      "outputs": []
    },
    {
      "cell_type": "markdown",
      "source": [
        "# Bonus exercise: lifting over the polygenic score\n",
        "We have worked in this exercise with a CAD score that was obtained after a liftover. The original CAD score was downloaded from the publicly available PGS catalog. Variants in that score are identified by chromosome:position, but are on build 37 (also called hg19) of the human reference genome. Our genetic data is on build 38, and we must therefore first map these coordinates onto that build to apply the PGS to the genetic data. That process is called a liftover. We have provided you the score in the right build for the previous exercise but in this optional exercise, we give you the possibility to perform the liftover yourself.\n",
        "There are R libraries that can do this, but they come from the Bioconductor project, and are clunky and hard to use. We will use an external program called CrossMap.\n"
      ],
      "metadata": {
        "id": "MDj8xSQbWkiK"
      }
    },
    {
      "cell_type": "markdown",
      "source": [
        "**Step 1**:\n",
        "Download the dictionary of positions from build 37 to 38 from the USCS Liftover FTP Website: https://hgdownload.cse.ucsc.edu/goldenpath/hg19/liftOver/hg19ToHg38.over.chain.gz"
      ],
      "metadata": {
        "id": "VcQ_uglEWuw-"
      }
    },
    {
      "cell_type": "code",
      "source": [
        "#@title Downloading the data\n",
        "cat(system('\n",
        "(rm *.chain.gz || echo downloading) && wget https://hgdownload.cse.ucsc.edu/goldenpath/hg19/liftOver/hg19ToHg38.over.chain.gz 2>&1\n",
        "', intern=T), sep=\"\\n\")"
      ],
      "metadata": {
        "id": "22udhwXmWkC7",
        "cellView": "form"
      },
      "execution_count": null,
      "outputs": []
    },
    {
      "cell_type": "code",
      "source": [
        "# use this tab and try to solve the task by youself"
      ],
      "metadata": {
        "id": "Gxrc_PeuE5Yi"
      },
      "execution_count": null,
      "outputs": []
    },
    {
      "cell_type": "markdown",
      "source": [
        "**Step 2:** Install CrossMap using `pip3 install` and look at the help page"
      ],
      "metadata": {
        "id": "kmF9G_UCMWxD"
      }
    },
    {
      "cell_type": "code",
      "source": [
        "#@title Install CrossMap\n",
        "cat(system('pip3 install CrossMap', intern=T), sep=\"\\n\")\n",
        "cat(system('CrossMap.py --help 2>&1', intern=T), sep=\"\\n\")"
      ],
      "metadata": {
        "id": "wQCE1ubnM5QA",
        "cellView": "form"
      },
      "execution_count": null,
      "outputs": []
    },
    {
      "cell_type": "code",
      "source": [
        "# use this tab and try to solve the task by youself"
      ],
      "metadata": {
        "id": "jzNIFD8_FcZZ"
      },
      "execution_count": null,
      "outputs": []
    },
    {
      "cell_type": "markdown",
      "source": [
        "As you can see, CrossMap supports multiple input formats. We are going to use `bed` as it is the easiest to use. This format is composed of 3 mandatory, tab-separated columns, and an arbitrary number of columns afterwards. The 3 columns are `chr`, `pos-1`, `pos`. We say that the second column is '0-based' while the third one is '1-based'."
      ],
      "metadata": {
        "id": "T1BhlIC6W20S"
      }
    },
    {
      "cell_type": "markdown",
      "source": [
        "**Step 3**:\n",
        "- Download the CAD score from https://ftp.ebi.ac.uk/pub/databases/spot/pgs/scores/PGS000337/ScoringFiles/PGS000337.txt.gz\n",
        "- Read it in R\n",
        "- Make it compatible with the BED format.\n",
        "- Export the file to `cad.bed` (without the column names)"
      ],
      "metadata": {
        "id": "sye19D6UW6go"
      }
    },
    {
      "cell_type": "code",
      "source": [
        "#@title Download the score and make a bed file\n",
        "cat(system('wget https://ftp.ebi.ac.uk/pub/databases/spot/pgs/scores/PGS000337/ScoringFiles/PGS000337.txt.gz', intern=T), sep=\"\\n\")\n",
        "cadscore = read.table(gzfile(\"PGS000337.txt.gz\"), header = TRUE)\n",
        "cadscore$start <- cadscore$chr_position-1\n",
        "cadscore <- cadscore[,c(\"chr_name\", \"start\", \"chr_position\", \"effect_allele\", \"effect_weight\", \"variant_description\")]\n",
        "write.table(cadscore, \"cad.bed\", col.names = F, row.names = F, quote = F, sep = \"\\t\")\n",
        "\n",
        "head(cadscore)"
      ],
      "metadata": {
        "id": "zdUqLXj0N4pI",
        "cellView": "form"
      },
      "execution_count": null,
      "outputs": []
    },
    {
      "cell_type": "code",
      "source": [
        "# use this tab and try to solve the task by youself"
      ],
      "metadata": {
        "id": "jqwwXDhpFewF"
      },
      "execution_count": null,
      "outputs": []
    },
    {
      "cell_type": "markdown",
      "source": [
        "**Step 4**: Use CrossMap bed to convert the positions in the CAD score from build 37 to build 38."
      ],
      "metadata": {
        "id": "PjHS2EtMW_gM"
      }
    },
    {
      "cell_type": "code",
      "source": [
        "#@title Convert the positions\n",
        "cat(system('CrossMap.py bed hg19ToHg38.over.chain.gz cad.bed cad.38.bed 2>&1', intern=T), sep=\"\\n\")"
      ],
      "metadata": {
        "id": "D31fnr9kXBk-",
        "cellView": "form"
      },
      "execution_count": null,
      "outputs": []
    },
    {
      "cell_type": "code",
      "source": [
        "# use this tab and try to solve the task by youself"
      ],
      "metadata": {
        "id": "W6DYqQvOFkTV"
      },
      "execution_count": null,
      "outputs": []
    },
    {
      "cell_type": "markdown",
      "source": [
        "**Step 5**:\n",
        "- Read in the lifted over file\n",
        "- Remove the second column (pos - 1),\n",
        "- Remove any position that maps outside of the autosomes (chr1-chr22),\n",
        "- Check that no variant maps to several positions on build 38."
      ],
      "metadata": {
        "id": "bVFouKv-XEAR"
      }
    },
    {
      "cell_type": "code",
      "source": [
        "#@title Import the lifted positions and keep only autosomes\n",
        "liftedover = read.table(\"cad.38.bed\")\n",
        "colnames(liftedover) <- colnames(cadscore)\n",
        "liftedover = liftedover[,-which(colnames(liftedover) == \"start\")]\n",
        "dim(liftedover)\n",
        "#Remove the positions not mapping to chromosomes 1 to 22\n",
        "liftedover <- subset(liftedover, chr_name %in% 1:22)\n",
        "dim(liftedover)"
      ],
      "metadata": {
        "id": "PscNaBDPP612",
        "cellView": "form"
      },
      "execution_count": null,
      "outputs": []
    },
    {
      "cell_type": "code",
      "source": [
        "# use this tab and try to solve the task by youself"
      ],
      "metadata": {
        "id": "RNDR7QDcFlEc"
      },
      "execution_count": null,
      "outputs": []
    },
    {
      "cell_type": "code",
      "source": [
        "#@title Do variants map to several positions ?\n",
        "nb.positions <- table(liftedover$variant_description)\n",
        "head(nb.positions)\n",
        "table(nb.positions)\n",
        "#All of the variants map only to one position --> ok"
      ],
      "metadata": {
        "id": "alraV9OwXJAR",
        "cellView": "form"
      },
      "execution_count": null,
      "outputs": []
    },
    {
      "cell_type": "code",
      "source": [
        "# use this tab and try to solve the task by youself"
      ],
      "metadata": {
        "id": "ijAuSHCuFlsB"
      },
      "execution_count": null,
      "outputs": []
    },
    {
      "cell_type": "markdown",
      "source": [
        "**Step 6**: Create a tab-separated, headerless score file for your lifted over CAD score, with the following columns :\n",
        "\n",
        "*   `id` which has the form chr1:1234\n",
        "*   `effect_allele`\n",
        "*   `effect_weight`\n",
        "\n",
        "Export the file to `CAD.score`. This file corresponds to what we used in the first part of this workshop."
      ],
      "metadata": {
        "id": "sh5Wnw_GXHde"
      }
    },
    {
      "cell_type": "code",
      "source": [
        "#@title Create the final file\n",
        "cadscore=liftedover\n",
        "cadscore$id = paste0(cadscore$chr_name, \":\", cadscore$chr_position)\n",
        "write.table(cadscore[,c(\"id\", \"effect_allele\", \"effect_weight\")], \"CAD.score\", sep =\"\\t\", col.names = F, row.names = F, quote = F)\n",
        "write.table(cadscore, \"CAD.score\", sep =\"\\t\", col.names = F, row.names = F, quote = F)"
      ],
      "metadata": {
        "id": "t-egx6_YR8oo",
        "cellView": "form"
      },
      "execution_count": null,
      "outputs": []
    },
    {
      "cell_type": "code",
      "source": [
        "# use this tab and try to solve the task by youself"
      ],
      "metadata": {
        "id": "pRKm2alvFmak"
      },
      "execution_count": null,
      "outputs": []
    }
  ]
}