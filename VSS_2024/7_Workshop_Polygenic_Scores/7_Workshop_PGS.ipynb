{
  "nbformat": 4,
  "nbformat_minor": 0,
  "metadata": {
    "colab": {
      "provenance": [],
      "collapsed_sections": [
        "KujnAQgeYQ_a"
      ]
    },
    "kernelspec": {
      "name": "ir",
      "display_name": "R"
    },
    "language_info": {
      "name": "R"
    }
  },
  "cells": [
    {
      "cell_type": "markdown",
      "source": [
        "<center><h1>Exercise on Polygenic Scoring</h1>\n",
        "<b>Human Genetics of complex traits</b></br></br>\n",
        "<i><small>Ana Arruda (ana.arruda@helmholtz-muenchen.de) - Ozvan Bocher (ozvan.bocher@helmholtz-muenchen.de)</i></small>\n",
        "</center>\n",
        "\n",
        "# Summary\n",
        "In this exercise, we will apply two polygenic scores to samples from the 1000 Genomes project: **a polygenic risk score for Coronary Artery Disease (CAD)** and a **polygenic score for levels of the MEP1B protein**. We will perform the following steps:\n",
        "- Compute the two scores by hand in R and using Plink\n",
        "- See how well these two scores predict the traits in question\n",
        "- Study the influence of ethnicity, and adjust for it\n",
        "- Examine the polygenicity of these two traits through a genome-wide association.\n",
        "\n",
        "During this practical, we will mostly use the R software but we will as well make use of Plink, a very common tool for a wide range of genetic analyses.\n",
        "There are some optional exercises in the practical that you might want to do if you progress fast.\n",
        "Multiple questions are asked through this notebook. The answers are provided in hidden cells but please try to answer the questions by yourself to get the most of this session.\n",
        "\n",
        "Use `gc()` from time to time to free up memory."
      ],
      "metadata": {
        "id": "24Ilbze6VNQj"
      }
    },
    {
      "cell_type": "markdown",
      "source": [
        "# Downloading the data and installing libraries\n",
        "We need following data:\n",
        "\n",
        "\n",
        "*   Polygenic risk score (PGS000337) for CAD\n",
        "*   Polygenic risk score for MET1B\n",
        "*   Genetic data\n",
        "\n",
        "\n",
        "All data is in the following location: https://www.dropbox.com/scl/fo/h0gwms5yhgd44od5fm11s/h?dl=0&rlkey=7ksbrzt4xyeoxkoq2kwrc4omu. We will download the data in the corresponding exercise and unzip it when necessary."
      ],
      "metadata": {
        "id": "bxrKvGCEVSrB"
      }
    },
    {
      "cell_type": "markdown",
      "source": [
        "We will start by downloading the packages that we will need in R. We need `R.utils` (this step will need a few minutes to run) and `manqq`.\n",
        "We will use the classical R libraries to import and export files. Nevertheless, be aware that genetic files can be large and this can take a lot of memory and computation time in R. The library `data.table` can be useful to answer this issue and codes with how to use this library will be provided throughout this notebook."
      ],
      "metadata": {
        "id": "rC7krQ680zvG"
      }
    },
    {
      "cell_type": "code",
      "source": [
        "install.packages('R.utils')\n",
        "devtools::install_github(\"hmgu-itg/man_qq_annotate\")\n",
        "install.packages('qqman')"
      ],
      "metadata": {
        "id": "PbI-fues0xdw",
        "outputId": "3d1fb3cd-a953-4e49-e446-ad5bf0243f74",
        "colab": {
          "base_uri": "https://localhost:8080/"
        }
      },
      "execution_count": null,
      "outputs": [
        {
          "output_type": "stream",
          "name": "stderr",
          "text": [
            "Installing package into ‘/usr/local/lib/R/site-library’\n",
            "(as ‘lib’ is unspecified)\n",
            "\n",
            "also installing the dependencies ‘R.oo’, ‘R.methodsS3’\n",
            "\n",
            "\n",
            "Downloading GitHub repo hmgu-itg/man_qq_annotate@HEAD\n",
            "\n"
          ]
        },
        {
          "output_type": "stream",
          "name": "stdout",
          "text": [
            "jsonlite   (1.8.7  -> 1.8.8  ) [CRAN]\n",
            "findpython (NA     -> 1.0.8  ) [CRAN]\n",
            "openssl    (2.0.6  -> 2.1.1  ) [CRAN]\n",
            "curl       (5.0.2  -> 5.2.0  ) [CRAN]\n",
            "argparse   (NA     -> 2.2.2  ) [CRAN]\n",
            "zoo        (NA     -> 1.8-12 ) [CRAN]\n",
            "assertthat (NA     -> 0.2.1  ) [CRAN]\n",
            "data.table (1.14.8 -> 1.14.10) [CRAN]\n",
            "rjson      (NA     -> 0.2.21 ) [CRAN]\n"
          ]
        },
        {
          "output_type": "stream",
          "name": "stderr",
          "text": [
            "Installing 9 packages: jsonlite, findpython, openssl, curl, argparse, zoo, assertthat, data.table, rjson\n",
            "\n",
            "Installing packages into ‘/usr/local/lib/R/site-library’\n",
            "(as ‘lib’ is unspecified)\n",
            "\n"
          ]
        },
        {
          "output_type": "stream",
          "name": "stdout",
          "text": [
            "\u001b[36m──\u001b[39m \u001b[36mR CMD build\u001b[39m \u001b[36m─────────────────────────────────────────────────────────────────\u001b[39m\n",
            "* checking for file ‘/tmp/Rtmpq9nZof/remotesc752f839ba/hmgu-itg-man_qq_annotate-546fe4f/DESCRIPTION’ ... OK\n",
            "* preparing ‘manqq’:\n",
            "* checking DESCRIPTION meta-information ... OK\n",
            "* checking for LF line-endings in source and make files and shell scripts\n",
            "* checking for empty or unneeded directories\n",
            "* building ‘manqq_0.2.4.tar.gz’\n",
            "\n"
          ]
        },
        {
          "output_type": "stream",
          "name": "stderr",
          "text": [
            "Installing package into ‘/usr/local/lib/R/site-library’\n",
            "(as ‘lib’ is unspecified)\n",
            "\n",
            "Installing package into ‘/usr/local/lib/R/site-library’\n",
            "(as ‘lib’ is unspecified)\n",
            "\n",
            "also installing the dependency ‘calibrate’\n",
            "\n",
            "\n"
          ]
        }
      ]
    },
    {
      "cell_type": "markdown",
      "source": [
        "Now, let's install the `plink` software:"
      ],
      "metadata": {
        "id": "wlYSTDpD18aK"
      }
    },
    {
      "cell_type": "code",
      "source": [
        "cat(system(\"wget https://s3.amazonaws.com/plink1-assets/plink_linux_x86_64_20210606.zip\", intern=T), sep=\"\\n\")\n",
        "cat(system(\"unzip plink_linux_x86_64_20210606.zip\", intern=T), sep=\"\\n\")\n",
        "cat(system(\"rm prettify toy.* LICENSE\", intern=T), sep=\"\\n\")\n",
        "cat(system('./plink --help', intern=T), sep=\"\\n\")"
      ],
      "metadata": {
        "id": "q7Q0vSysEN-1",
        "outputId": "064273db-631a-45e1-eab8-364dd8f6efc5",
        "colab": {
          "base_uri": "https://localhost:8080/"
        }
      },
      "execution_count": null,
      "outputs": [
        {
          "output_type": "stream",
          "name": "stdout",
          "text": [
            "\n",
            "Archive:  plink_linux_x86_64_20210606.zip\n",
            "  inflating: plink                   \n",
            "  inflating: LICENSE                 \n",
            "  inflating: toy.ped                 \n",
            "  inflating: toy.map                 \n",
            "  inflating: prettify                \n",
            "\n",
            "PLINK v1.90b6.24 64-bit (6 Jun 2021)           www.cog-genomics.org/plink/1.9/\n",
            "(C) 2005-2021 Shaun Purcell, Christopher Chang   GNU General Public License v3\n",
            "\n",
            "In the command line flag definitions that follow,\n",
            "  * <angle brackets> denote a required parameter, where the text between the\n",
            "    angle brackets describes its nature.\n",
            "  * ['square brackets + single-quotes'] denotes an optional modifier.  Use the\n",
            "    EXACT text in the quotes.\n",
            "  * [{bar|separated|braced|bracketed|values}] denotes a collection of mutually\n",
            "    exclusive optional modifiers (again, the exact text must be used).  When\n",
            "    there are no outer square brackets, one of the choices must be selected.\n",
            "  * ['quoted_text='<description of value>] denotes an optional modifier that\n",
            "    must begin with the quoted text, and be followed by a value with no\n",
            "    whitespace in between.  '|' may also be used here to indicate mutually\n",
            "    exclusive options.\n",
            "  * [square brackets without quotes or braces] denote an optional parameter,\n",
            "    where the text between the brackets describes its nature.\n",
            "  * An ellipsis (...) indicates that you may enter multiple parameters of the\n",
            "    specified type.\n",
            "\n",
            "  plink <input flag(s)...> [command flag(s)...] [other flag(s)...]\n",
            "  plink --help [flag name(s)...]\n",
            "\n",
            "Most PLINK runs require exactly one main input fileset.  The following flags\n",
            "are available for defining its form and location:\n",
            "\n",
            "  --bfile [prefix] : Specify .bed + .bim + .fam prefix (default 'plink').\n",
            "  --bed <filename> : Specify full name of .bed file.\n",
            "  --bim <filename> : Specify full name of .bim file.\n",
            "  --fam <filename> : Specify full name of .fam file.\n",
            "\n",
            "  --keep-autoconv  : With --file/--tfile/--lfile/--vcf/--bcf/--data/--23file,\n",
            "                     don't delete autogenerated binary fileset at end of run.\n",
            "\n",
            "  --file [prefix]  : Specify .ped + .map filename prefix (default 'plink').\n",
            "  --ped <filename> : Specify full name of .ped file.\n",
            "  --map <filename> : Specify full name of .map file.\n",
            "\n",
            "  --no-fid         : .fam/.ped file does not contain column 1 (family ID).\n",
            "  --no-parents     : .fam/.ped file does not contain columns 3-4 (parents).\n",
            "  --no-sex         : .fam/.ped file does not contain column 5 (sex).\n",
            "  --no-pheno       : .fam/.ped file does not contain column 6 (phenotype).\n",
            "\n",
            "  --tfile [prefix] : Specify .tped + .tfam filename prefix (default 'plink').\n",
            "  --tped <fname>   : Specify full name of .tped file.\n",
            "  --tfam <fname>   : Specify full name of .tfam file.\n",
            "\n",
            "  --lfile [prefix] : Specify .lgen + .map + .fam (long-format fileset) prefix.\n",
            "  --lgen <fname>   : Specify full name of .lgen file.\n",
            "  --reference <fn> : Specify default allele file accompanying .lgen input.\n",
            "  --allele-count   : When used with --lfile/--lgen + --reference, specifies\n",
            "                     that the .lgen file contains reference allele counts.\n",
            "\n",
            "  --vcf <filename> : Specify full name of .vcf or .vcf.gz file.\n",
            "  --bcf <filename> : Specify full name of BCF2 file.\n",
            "\n",
            "  --data [prefix]  : Specify Oxford .gen + .sample prefix (default 'plink').\n",
            "  --gen <filename> : Specify full name of .gen or .gen.gz file.\n",
            "  --bgen <f> ['snpid-chr'] : Specify full name of .bgen file.\n",
            "  --sample <fname> : Specify full name of .sample file.\n",
            "\n",
            "  --23file <fname> [FID] [IID] [sex] [pheno] [pat. ID] [mat. ID] :\n",
            "    Specify 23andMe input file.\n",
            "\n",
            "  --grm-gz [prfx]  : Specify .grm.gz + .grm.id (GCTA rel. matrix) prefix.\n",
            "  --grm-bin [prfx] : Specify .grm.bin + .grm.N.bin + .grm.id (GCTA triangular\n",
            "                     binary relationship matrix) filename prefix.\n",
            "\n",
            "  --dummy <sample ct> <SNP ct> [missing geno freq] [missing pheno freq]\n",
            "          [{acgt | 1234 | 12}] ['scalar-pheno']\n",
            "    This generates a fake input dataset with the specified number of samples\n",
            "    and SNPs.  By default, the missing genotype and phenotype frequencies are\n",
            "    zero, and genotypes are As and Bs (change the latter with\n",
            "    'acgt'/'1234'/'12').  The 'scalar-pheno' modifier causes a normally\n",
            "    distributed scalar phenotype to be generated instead of a binary one.\n",
            "\n",
            "  --simulate <simulation parameter file> [{tags | haps}] [{acgt | 1234 | 12}]\n",
            "  --simulate-qt <sim. parameter file> [{tags | haps}] [{acgt | 1234 | 12}]\n",
            "    --simulate generates a fake input dataset with disease-associated SNPs,\n",
            "    while --simulate-qt generates a dataset with quantitative trait loci.\n",
            "\n",
            "Output files have names of the form 'plink.<extension>' by default.  You can\n",
            "change the 'plink' prefix with\n",
            "\n",
            "  --out <prefix>   : Specify prefix for output files.\n",
            "\n",
            "Most runs also require at least one of the following commands:\n",
            "\n",
            "  --make-bed\n",
            "    Create a new binary fileset.  Unlike the automatic text-to-binary\n",
            "    converters (which only heed chromosome filters), this supports all of\n",
            "    PLINK's filtering flags.\n",
            "  --make-just-bim\n",
            "  --make-just-fam\n",
            "    Variants of --make-bed which only write a new .bim or .fam file.  Can be\n",
            "    used with only .bim/.fam input.\n",
            "    USE THESE CAUTIOUSLY.  It is very easy to desynchronize your binary\n",
            "    genotype data and your .bim/.fam indexes if you use these commands\n",
            "    improperly.  If you have any doubt, stick with --make-bed.\n",
            "\n",
            "  --recode <output format> [{01 | 12}] [{tab | tabx | spacex | bgz | gen-gz}]\n",
            "           ['include-alt'] ['omit-nonmale-y']\n",
            "    Create a new text fileset with all filters applied.  The following output\n",
            "    formats are supported:\n",
            "    * '23': 23andMe 4-column format.  This can only be used on a single\n",
            "      sample's data (--keep may be handy), and does not support multicharacter\n",
            "      allele codes.\n",
            "    * 'A': Sample-major additive (0/1/2) coding, suitable for loading from R.\n",
            "      If you need uncounted alleles to be named in the header line, add the\n",
            "      'include-alt' modifier.\n",
            "    * 'AD': Sample-major additive (0/1/2) + dominant (het=1/hom=0) coding.\n",
            "      Also supports 'include-alt'.\n",
            "    * 'A-transpose': Variant-major 0/1/2.\n",
            "    * 'beagle': Unphased per-autosome .dat and .map files, readable by early\n",
            "      BEAGLE versions.\n",
            "    * 'beagle-nomap': Single .beagle.dat file.\n",
            "    * 'bimbam': Regular BIMBAM format.\n",
            "    * 'bimbam-1chr': BIMBAM format, with a two-column .pos.txt file.  Does not\n",
            "      support multiple chromosomes.\n",
            "    * 'fastphase': Per-chromosome fastPHASE files, with\n",
            "      .chr-<chr #>.recode.phase.inp filename extensions.\n",
            "    * 'fastphase-1chr': Single .recode.phase.inp file.  Does not support\n",
            "      multiple chromosomes.\n",
            "    * 'HV': Per-chromosome Haploview files, with .chr-<chr #>{.ped,.info}\n",
            "      filename extensions.\n",
            "    * 'HV-1chr': Single Haploview .ped + .info file pair.  Does not support\n",
            "      multiple chromosomes.\n",
            "    * 'lgen': PLINK 1 long-format (.lgen + .fam + .map), loadable with --lfile.\n",
            "    * 'lgen-ref': .lgen + .fam + .map + .ref, loadable with --lfile +\n",
            "       --reference.\n",
            "    * 'list': Single genotype-based list, up to 4 lines per variant.  To omit\n",
            "      nonmale genotypes on the Y chromosome, add the 'omit-nonmale-y' modifier.\n",
            "    * 'rlist': .rlist + .fam + .map fileset, where the .rlist file is a\n",
            "      genotype-based list which omits the most common genotype for each\n",
            "      variant.  Also supports 'omit-nonmale-y'.\n",
            "    * 'oxford': Oxford-format .gen + .sample.  With the 'gen-gz' modifier, the\n",
            "      .gen file is gzipped.\n",
            "    * 'ped': PLINK 1 sample-major (.ped + .map), loadable with --file.\n",
            "    * 'compound-genotypes': Same as 'ped', except that the space between each\n",
            "      pair of same-variant allele codes is removed.\n",
            "    * 'structure': Structure-format.\n",
            "    * 'transpose': PLINK 1 variant-major (.tped + .tfam), loadable with\n",
            "      --tfile.\n",
            "    * 'vcf', 'vcf-fid', 'vcf-iid': VCFv4.2.  'vcf-fid' and 'vcf-iid' cause\n",
            "      family IDs or within-family IDs respectively to be used for the sample\n",
            "      IDs in the last header row, while 'vcf' merges both IDs and puts an\n",
            "      underscore between them.  If the 'bgz' modifier is added, the VCF file is\n",
            "      block-gzipped.\n",
            "      The A2 allele is saved as the reference and normally flagged as not based\n",
            "      on a real reference genome (INFO:PR).  When it is important for reference\n",
            "      alleles to be correct, you'll also want to include --a2-allele and\n",
            "      --real-ref-alleles in your command.\n",
            "    In addition,\n",
            "    * The '12' modifier causes A1 (usually minor) alleles to be coded as '1'\n",
            "      and A2 alleles to be coded as '2', while '01' maps A1 -> 0 and A2 -> 1.\n",
            "    * The 'tab' modifier makes the output mostly tab-delimited instead of\n",
            "      mostly space-delimited.  'tabx' and 'spacex' force all tabs and all\n",
            "      spaces, respectively.\n",
            "\n",
            "  --flip-scan ['verbose']\n",
            "    (alias: --flipscan)\n",
            "    LD-based scan for case/control strand inconsistency.\n",
            "\n",
            "  --write-covar\n",
            "    If a --covar file is loaded, --make-bed/--make-just-fam and --recode\n",
            "    automatically generate an updated version (with all filters applied).\n",
            "    However, if you do not wish to simultaneously generate a new genotype file,\n",
            "    you can use --write-covar to just produce a pruned covariate file.\n",
            "\n",
            "  --write-cluster ['omit-unassigned']\n",
            "    If clusters are specified with --within/--family, this generates a new\n",
            "    cluster file (with all filters applied).  The 'omit-unassigned' modifier\n",
            "    causes unclustered samples to be omitted from the file; otherwise their\n",
            "    cluster is 'NA'.\n",
            "\n",
            "  --write-set\n",
            "  --set-table\n",
            "    If sets have been defined, --write-set dumps 'END'-terminated set\n",
            "    membership lists to <output prefix>.set, while --set-table writes a\n",
            "    variant-by-set membership table to <output prefix>.set.table.\n",
            "\n",
            "  --merge <.ped filename> <.map filename>\n",
            "  --merge <text fileset prefix>\n",
            "  --bmerge <.bed filename> <.bim filename> <.fam filename>\n",
            "  --bmerge <binary fileset prefix>\n",
            "    Merge the given fileset with the initially loaded fileset, writing the\n",
            "    result to <output prefix>.bed + .bim + .fam.  (It is no longer necessary to\n",
            "    simultaneously specify --make-bed.)\n",
            "  --merge-list <filename>\n",
            "    Merge all filesets named in the text file with the reference fileset, if\n",
            "    one was specified.  (However, this can also be used *without* a reference;\n",
            "    in that case, the newly created fileset is then treated as the reference by\n",
            "    most other PLINK operations.)  The text file is interpreted as follows:\n",
            "    * If a line contains only one name, it is assumed to be the prefix for a\n",
            "      binary fileset.\n",
            "    * If a line contains exactly two names, they are assumed to be the full\n",
            "      filenames for a text fileset (.ped first, then .map).\n",
            "    * If a line contains exactly three names, they are assumed to be the full\n",
            "      filenames for a binary fileset (.bed, then .bim, then .fam).\n",
            "\n",
            "  --write-snplist\n",
            "  --list-23-indels\n",
            "    --write-snplist writes a .snplist file listing the names of all variants\n",
            "    which pass the filters and inclusion thresholds you've specified, while\n",
            "    --list-23-indels writes the subset with 23andMe-style indel calls (D/I\n",
            "    allele codes).\n",
            "\n",
            "  --list-duplicate-vars ['require-same-ref'] ['ids-only'] ['suppress-first']\n",
            "    --list-duplicate-vars writes a .dupvar file describing all groups of\n",
            "    variants with matching positions and allele codes.\n",
            "    * By default, A1/A2 allele assignments are ignored; use 'require-same-ref'\n",
            "      to override this.\n",
            "    * Normally, the report contains position and allele codes.  To remove them\n",
            "      (and produce a file directly usable with e.g. --extract/--exclude), use\n",
            "      'ids-only'.  Note that this command will fail in 'ids-only' mode if any\n",
            "      of the reported IDs are not unique.\n",
            "    * 'suppress-first' causes the first variant ID in each group to be omitted\n",
            "      from the report.\n",
            "\n",
            "  --freq [{counts | case-control}] ['gz']\n",
            "  --freqx ['gz']\n",
            "    --freq generates a basic allele frequency (or count, if the 'counts'\n",
            "    modifier is present) report.  This can be combined with --within/--family\n",
            "    to produce a cluster-stratified allele frequency/count report instead, or\n",
            "    the 'case-control' modifier to report case and control allele frequencies\n",
            "    separately.\n",
            "    --freqx generates a more detailed genotype count report, designed for use\n",
            "    with --read-freq.\n",
            "\n",
            "  --missing ['gz']\n",
            "    Generate sample- and variant-based missing data reports.  If clusters are\n",
            "    defined, the variant-based report is cluster-stratified.  'gz' causes the\n",
            "    output files to be gzipped.\n",
            "    Unlike most other commands, this doesn't treat het. haploids as missing.\n",
            "\n",
            "  --test-mishap\n",
            "    Check for association between missing calls and flanking haplotypes.\n",
            "\n",
            "  --hardy ['midp'] ['gz']\n",
            "    Generate a Hardy-Weinberg exact test p-value report.  (This does NOT\n",
            "    simultaneously filter on the p-value any more; use --hwe for that.)  With\n",
            "    the 'midp' modifier, the test applies the mid-p adjustment described in\n",
            "    Graffelman J, Moreno V (2013) The mid p-value in exact tests for\n",
            "    Hardy-Weinberg Equilibrium.\n",
            "\n",
            "  --mendel ['summaries-only']\n",
            "    Generate a Mendel error report.  The 'summaries-only' modifier causes the\n",
            "    .mendel file (listing every single error) to be skipped.\n",
            "\n",
            "  --het ['small-sample'] ['gz']\n",
            "  --ibc\n",
            "    Estimate inbreeding coefficients.  --het reports method-of-moments\n",
            "    estimates, while --ibc calculates all three values described in Yang J, Lee\n",
            "    SH, Goddard ME and Visscher PM (2011) GCTA: A Tool for Genome-wide Complex\n",
            "    Trait Analysis.  (That paper also describes the relationship matrix\n",
            "    computation we reimplement.)\n",
            "    * These functions require decent MAF estimates.  If there are very few\n",
            "      samples in your immediate fileset, --read-freq is practically mandatory\n",
            "      since imputed MAFs are wildly inaccurate in that case.\n",
            "    * They also assume the marker set is in approximate linkage equilibrium.\n",
            "    * By default, --het omits the n/(n-1) multiplier in Nei's expected\n",
            "      homozygosity formula.  The 'small-sample' modifier causes it to be\n",
            "      included, while forcing --het to use MAFs imputed from founders in the\n",
            "      immediate dataset.\n",
            "\n",
            "  --check-sex [female max F] [male min F]\n",
            "  --check-sex ycount [female max F] [male min F] [female max Y obs]\n",
            "                     [male min Y obs]\n",
            "  --check-sex y-only [female max Y obs] [male min Y obs]\n",
            "  --impute-sex [female max F] [male min F]\n",
            "  --impute-sex ycount [female max F] [male min F] [female max Y obs]\n",
            "                      [male min Y obs]\n",
            "  --impute-sex y-only [female max Y obs] [male min Y obs]\n",
            "    --check-sex normally compares sex assignments in the input dataset with\n",
            "    those imputed from X chromosome inbreeding coefficients.\n",
            "    * Make sure that the X chromosome pseudo-autosomal region has been split\n",
            "      off (with e.g. --split-x) before using this.\n",
            "    * You also need decent MAF estimates (so, with very few samples in your\n",
            "      immediate fileset, use --read-freq), and your marker set should be in\n",
            "      approximate linkage equilibrium.\n",
            "    * By default, F estimates smaller than 0.2 yield female calls, and values\n",
            "      larger than 0.8 yield male calls.  If you pass numeric parameter(s) to\n",
            "      --check-sex, the first two control these thresholds.\n",
            "    There are now two modes which consider Y chromosome data.\n",
            "    * In 'ycount' mode, gender is still imputed from the X chromosome, but\n",
            "      female calls are downgraded to ambiguous whenever more than 0 nonmissing\n",
            "      Y genotypes are present, and male calls are downgraded when fewer than 0\n",
            "      are present.  (Note that these are counts, not rates.)  These thresholds\n",
            "      are controllable with --check-sex ycount's optional 3rd and 4th numeric\n",
            "      parameters.\n",
            "    * In 'y-only' mode, gender is imputed from nonmissing Y genotype counts.\n",
            "      The male minimum threshold defaults to 1 instead of zero in this case.\n",
            "    --impute-sex changes sex assignments to the imputed values, and is\n",
            "    otherwise identical to --check-sex.  It must be used with\n",
            "    --make-bed/--recode/--write-covar.\n",
            "\n",
            "  --fst ['case-control']\n",
            "    (alias: --Fst)\n",
            "    Estimate Wright's Fst for each autosomal diploid variant using the method\n",
            "    introduced in Weir BS, Cockerham CC (1984) Estimating F-statistics for the\n",
            "    analysis of population structure, given a set of subpopulations defined via\n",
            "    --within.  Raw and weighted global means are also reported.\n",
            "    * If you're interested in the global means, it is usually best to perform\n",
            "      this calculation on a marker set in approximate linkage equilibrium.\n",
            "    * If you have only two subpopulations, you can represent them with\n",
            "      case/control status and use the 'case-control' modifier.\n",
            "\n",
            "  --indep <window size>['kb'] <step size (variant ct)> <VIF threshold>\n",
            "  --indep-pairwise <window size>['kb'] <step size (variant ct)> <r^2 threshold>\n",
            "  --indep-pairphase <window size>['kb'] <step size (variant ct)> <r^2 thresh>\n",
            "    Generate a list of markers in approximate linkage equilibrium.  With the\n",
            "    'kb' modifier, the window size is in kilobase instead of variant count\n",
            "    units.  (Pre-'kb' space is optional, i.e. \"--indep-pairwise 500 kb 5 0.5\"\n",
            "    and \"--indep-pairwise 500kb 5 0.5\" have the same effect.)\n",
            "    Note that you need to rerun PLINK using --extract or --exclude on the\n",
            "    .prune.in/.prune.out file to apply the list to another computation.\n",
            "\n",
            "  --r [{square | square0 | triangle | inter-chr}] [{gz | bin | bin4}]\n",
            "      ['spaces'] ['in-phase'] [{d | dprime | dprime-signed}] ['with-freqs']\n",
            "      ['yes-really']\n",
            "  --r2 [{square | square0 | triangle | inter-chr}] [{gz | bin | bin4}]\n",
            "       ['spaces'] ['in-phase'] [{d | dprime | dprime-signed}] ['with-freqs']\n",
            "       ['yes-really']\n",
            "    LD statistic reports.  --r yields raw inter-variant correlations, while\n",
            "    --r2 reports their squares.  You can request results for all pairs in\n",
            "    matrix format (if you specify 'bin' or one of the shape modifiers), all\n",
            "    pairs in table format ('inter-chr'), or a limited window in table format\n",
            "    (default).\n",
            "    * The 'gz' modifier causes the output text file to be gzipped.\n",
            "    * 'bin' causes the output matrix to be written in double-precision binary\n",
            "      format, while 'bin4' specifics single-precision binary.  The matrix is\n",
            "      square if no shape is explicitly specified.\n",
            "    * By default, text matrices are tab-delimited; 'spaces' switches this.\n",
            "    * 'in-phase' adds a column with in-phase allele pairs to table-formatted\n",
            "      reports.  (This cannot be used with very long allele codes.)\n",
            "    * 'dprime' adds the absolute value of Lewontin's D-prime statistic to\n",
            "      table-formatted reports, and forces both r/r^2 and D-prime to be based on\n",
            "      the maximum likelihood solution to the cubic equation discussed in Gaunt\n",
            "      T, Rodriguez S, Day I (2007) Cubic exact solutions for the estimation of\n",
            "      pairwise haplotype frequencies.\n",
            "      'dprime-signed' keeps the sign, while 'd' skips division by D_{max}.\n",
            "    * 'with-freqs' adds MAF columns to table-formatted reports.\n",
            "    * Since the resulting file can easily be huge, you're required to add the\n",
            "      'yes-really' modifier when requesting an unfiltered, non-distributed all\n",
            "      pairs computation on more than 400k variants.\n",
            "    * These computations can be subdivided with --parallel (even when the\n",
            "      'square' modifier is active).\n",
            "  --ld <variant ID> <variant ID> ['hwe-midp']\n",
            "    This displays haplotype frequencies, r^2, and D' for a single pair of\n",
            "    variants.  When there are multiple biologically possible solutions to the\n",
            "    haplotype frequency cubic equation, all are displayed (instead of just the\n",
            "    maximum likelihood solution identified by --r/--r2), along with HWE exact\n",
            "    test statistics.\n",
            "\n",
            "  --show-tags <filename>\n",
            "  --show-tags all\n",
            "    * If a file is specified, list all variants which tag at least one variant\n",
            "      named in the file.  (This will normally be a superset of the original\n",
            "      list, since a variant is considered to tag itself here.)\n",
            "    * If 'all' mode is specified, for each variant, each *other* variant which\n",
            "      tags it is reported.\n",
            "\n",
            "  --blocks ['no-pheno-req'] ['no-small-max-span']\n",
            "    Estimate haplotype blocks, via Haploview's interpretation of the block\n",
            "    definition suggested by Gabriel S et al. (2002) The Structure of Haplotype\n",
            "    Blocks in the Human Genome.\n",
            "    * Normally, samples with missing phenotypes are not considered by this\n",
            "      computation; the 'no-pheno-req' modifier lifts this restriction.\n",
            "    * Normally, size-2 blocks may not span more than 20kb, and size-3 blocks\n",
            "      are limited to 30kb.  The 'no-small-max-span' modifier removes these\n",
            "      limits.\n",
            "    The .blocks file is valid input for PLINK 1.07's --hap command.  However,\n",
            "    the --hap... family of flags has not been reimplemented in PLINK 1.9 due to\n",
            "    poor phasing accuracy relative to other software; for now, we recommend\n",
            "    using BEAGLE instead of PLINK for case/control haplotype association\n",
            "    analysis.  (You can use \"--recode beagle\" to export data to BEAGLE 3.3.)\n",
            "    We apologize for the inconvenience, and plan to develop variants of the\n",
            "    --hap... flags which handle pre-phased data effectively.\n",
            "\n",
            "  --distance [{square | square0 | triangle}] [{gz | bin | bin4}] ['ibs']\n",
            "             ['1-ibs'] ['allele-ct'] ['flat-missing']\n",
            "    Write a lower-triangular tab-delimited table of (weighted) genomic\n",
            "    distances in allele count units to <output prefix>.dist, and a list of the\n",
            "    corresponding sample IDs to <output prefix>.dist.id.  The first row of the\n",
            "    .dist file contains a single <genome 1-genome 2> distance, the second row\n",
            "    has the <genome 1-genome 3> and <genome 2-genome 3> distances in that\n",
            "    order, etc.\n",
            "    * It is usually best to perform this calculation on a marker set in\n",
            "      approximate linkage equilibrium.\n",
            "    * If the 'square' or 'square0' modifier is present, a square matrix is\n",
            "      written instead; 'square0' fills the upper right triangle with zeroes.\n",
            "    * If the 'gz' modifier is present, a compressed .dist.gz file is written\n",
            "      instead of a plain text file.\n",
            "    * If the 'bin' modifier is present, a binary (square) matrix of\n",
            "      double-precision floating point values, suitable for loading from R, is\n",
            "      instead written to <output prefix>.dist.bin.  ('bin4' specifies\n",
            "      single-precision numbers instead.)  This can be combined with 'square0'\n",
            "      if you still want the upper right zeroed out, or 'triangle' if you don't\n",
            "      want to pad the upper right at all.\n",
            "    * If the 'ibs' modifier is present, an identity-by-state matrix is written\n",
            "      to <output prefix>.mibs.  '1-ibs' causes distances expressed as genomic\n",
            "      proportions (i.e. 1 - IBS) to be written to <output prefix>.mdist.\n",
            "      Combine with 'allele-ct' if you want to generate the usual .dist file as\n",
            "      well.\n",
            "    * By default, distance rescaling in the presence of missing genotype calls\n",
            "      is sensitive to allele count distributions: if variant A contributes, on\n",
            "      average, twice as much to other pairwise distances as variant B, a\n",
            "      missing call at variant A will result in twice as large of a missingness\n",
            "      correction.  To turn this off (because e.g. your missing calls are highly\n",
            "      nonrandom), use the 'flat-missing' modifier.\n",
            "    * The computation can be subdivided with --parallel.\n",
            "  --distance-matrix\n",
            "  --ibs-matrix\n",
            "    These deprecated commands are equivalent to \"--distance 1-ibs flat-missing\n",
            "    square\" and \"--distance ibs flat-missing square\", respectively, except that\n",
            "    they generate space- instead of tab-delimited text matrices.\n",
            "\n",
            "  --make-rel [{square | square0 | triangle}] [{gz | bin | bin4}]\n",
            "             [{cov | ibc2 | ibc3}]\n",
            "    Write a lower-triangular variance-standardized realized relationship matrix\n",
            "    to <output prefix>.rel, and corresponding IDs to <output prefix>.rel.id.\n",
            "    * It is usually best to perform this calculation on a marker set in\n",
            "      approximate linkage equilibrium.\n",
            "    * 'square', 'square0', 'triangle', 'gz', 'bin', and 'bin4' act as they do\n",
            "      on --distance.\n",
            "    * The 'cov' modifier removes the variance standardization step, causing a\n",
            "      covariance matrix to be calculated instead.\n",
            "    * By default, the diagonal elements in the relationship matrix are based on\n",
            "      --ibc's Fhat1; use the 'ibc2' or 'ibc3' modifiers to base them on Fhat2\n",
            "      or Fhat3 instead.\n",
            "    * The computation can be subdivided with --parallel.\n",
            "  --make-grm-gz ['no-gz'] [{cov | ibc2 | ibc3}]\n",
            "  --make-grm-bin [{cov | ibc2 | ibc3}]\n",
            "    --make-grm-gz writes the relationships in GCTA's original gzipped list\n",
            "    format, which describes one pair per line, while --make-grm-bin writes them\n",
            "    in GCTA 1.1+'s single-precision triangular binary format.  Note that these\n",
            "    formats explicitly report the number of valid observations (where neither\n",
            "    sample has a missing call) for each pair, which is useful input for some\n",
            "    scripts.\n",
            "    These computations can be subdivided with --parallel.\n",
            "\n",
            "  --rel-cutoff [val]\n",
            "    (alias: --grm-cutoff)\n",
            "    Exclude one member of each pair of samples with relatedness greater than\n",
            "    the given cutoff value (default 0.025).  If no later operation will cause\n",
            "    the list of remaining samples to be written to disk, this will save it to\n",
            "    <output prefix>.rel.id.\n",
            "    Note that maximizing the remaining sample size is equivalent to the NP-hard\n",
            "    maximum independent set problem, so we use a greedy algorithm instead of\n",
            "    guaranteeing optimality.  (Use the --make-rel and --keep/--remove flags if\n",
            "    you want to try to do better.)\n",
            "\n",
            "  --ibs-test [permutation count]\n",
            "  --groupdist [iters] [d]\n",
            "    Given case/control phenotype data, these commands consider three subsets of\n",
            "    the distance matrix: pairs of affected samples, affected-unaffected pairs,\n",
            "    and pairs of unaffected samples.  Each of these subsets has a distribution\n",
            "    of pairwise genomic distances; --ibs-test uses permutation to estimate\n",
            "    p-values re: which types of pairs are most similar, while --groupdist\n",
            "    focuses on the differences between the centers of these distributions and\n",
            "    estimates standard errors via delete-d jackknife.\n",
            "\n",
            "  --regress-distance [iters] [d]\n",
            "    Linear regression of pairwise genomic distances on pairwise average\n",
            "    phenotypes and vice versa, using delete-d jackknife for standard errors.  A\n",
            "    scalar phenotype is required.\n",
            "    * With less than two parameters, d is set to <number of people>^0.6 rounded\n",
            "      down.  With no parameters, 100k iterations are run.\n",
            "  --regress-rel [iters] [d]\n",
            "    Linear regression of pairwise genomic relationships on pairwise average\n",
            "    phenotypes, and vice versa.  Defaults for iters and d are the same as for\n",
            "    --regress-distance.\n",
            "\n",
            "  --genome ['gz'] ['rel-check'] ['full'] ['unbounded'] ['nudge']\n",
            "    Generate an identity-by-descent report.\n",
            "    * It is usually best to perform this calculation on a marker set in\n",
            "      approximate linkage equilibrium.\n",
            "    * The 'rel-check' modifier excludes pairs of samples with different FIDs\n",
            "      from the final report.\n",
            "    * 'full' adds raw pairwise comparison data to the report.\n",
            "    * The P(IBD=0/1/2) estimator employed by this command sometimes yields\n",
            "      numbers outside the range [0,1]; by default, these are clipped.  The\n",
            "      'unbounded' modifier turns off this clipping.\n",
            "    * Then, when PI_HAT^2 < P(IBD=2), 'nudge' adjusts the final P(IBD=0/1/2)\n",
            "      estimates to a theoretically possible configuration.\n",
            "    * The computation can be subdivided with --parallel.\n",
            "\n",
            "  --homozyg [{group | group-verbose}] ['consensus-match'] ['extend']\n",
            "            ['subtract-1-from-lengths']\n",
            "  --homozyg-snp <min var count>\n",
            "  --homozyg-kb <min length>\n",
            "  --homozyg-density <max inverse density (kb/var)>\n",
            "  --homozyg-gap <max internal gap kb length>\n",
            "  --homozyg-het <max hets>\n",
            "  --homozyg-window-snp <scanning window size>\n",
            "  --homozyg-window-het <max hets in scanning window hit>\n",
            "  --homozyg-window-missing <max missing calls in scanning window hit>\n",
            "  --homozyg-window-threshold <min scanning window hit rate>\n",
            "    These commands request a set of run-of-homozygosity reports, and allow you\n",
            "    to customize how they are generated.\n",
            "    * If you're satisfied with all the default settings described below, just\n",
            "      use --homozyg with no modifiers.  Otherwise, --homozyg lets you change a\n",
            "      few binary settings:\n",
            "      * 'group[-verbose]' adds a report on pools of overlapping runs of\n",
            "        homozygosity.  (Automatically set when --homozyg-match is present.)\n",
            "      * With 'group[-verbose]', 'consensus-match' causes pairwise segmental\n",
            "        matches to be called based on the variants in the pool's consensus\n",
            "        segment, rather than the variants in the pairwise intersection.\n",
            "      * Due to how the scanning window algorithm works, it is possible for a\n",
            "        reported ROH to be adjacent to a few homozygous variants.  The 'extend'\n",
            "        modifier causes them to be included in the reported ROH if that\n",
            "        wouldn't cause a violation of the --homozyg-density bound.\n",
            "      * By default, segment bp lengths are calculated as <end bp position> -\n",
            "        <start bp position> + 1.  Therefore, reports normally differ slightly\n",
            "        from PLINK 1.07, which does not add 1 at the end.  For testing\n",
            "        purposes, you can use the 'subtract-1-from-lengths' modifier to apply\n",
            "        the old formula.\n",
            "    * By default, only runs of homozygosity containing at least 100 variants,\n",
            "      and of total length >= 1000 kilobases, are noted.  You can change these\n",
            "      minimums with --homozyg-snp and --homozyg-kb, respectively.\n",
            "    * By default, a ROH must have at least one variant per 50 kb on average;\n",
            "      change this bound with --homozyg-density.\n",
            "    * By default, if two consecutive variants are more than 1000 kb apart, they\n",
            "      cannot be in the same ROH; change this bound with --homozyg-gap.\n",
            "    * By default, a ROH can contain an unlimited number of heterozygous calls;\n",
            "      you can impose a limit with --homozyg-het.\n",
            "    * By default, the scanning window contains 50 variants; change this with\n",
            "      --homozyg-window-snp.\n",
            "    * By default, a scanning window hit can contain at most 1 heterozygous\n",
            "      call and 5 missing calls; change these limits with --homozyg-window-het\n",
            "      and --homozyg-window-missing, respectively.\n",
            "    * By default, for a variant to be eligible for inclusion in a ROH, the hit\n",
            "      rate of all scanning windows containing the variant must be at least\n",
            "      0.05; change this threshold with --homozyg-window-threshold.\n",
            "\n",
            "  --cluster ['cc'] [{group-avg | old-tiebreaks}] ['missing'] ['only2']\n",
            "    Cluster samples using a pairwise similarity statistic (normally IBS).\n",
            "    * The 'cc' modifier forces every cluster to have at least one case and one\n",
            "      control.\n",
            "    * The 'group-avg' modifier causes clusters to be joined based on average\n",
            "      instead of minimum pairwise similarity.\n",
            "    * The 'missing' modifier causes clustering to be based on\n",
            "      identity-by-missingness instead of identity-by-state, and writes a\n",
            "      space-delimited identity-by-missingness matrix to disk.\n",
            "    * The 'only2' modifier causes only a .cluster2 file (which is valid input\n",
            "      for --within) to be written; otherwise 2 other files will be produced.\n",
            "    * By default, IBS ties are not broken in the same manner as PLINK 1.07, so\n",
            "      final cluster solutions tend to differ.  This is generally harmless.\n",
            "      However, to simplify testing, you can use the 'old-tiebreaks' modifier to\n",
            "      force emulation of the old algorithm.\n",
            "\n",
            "  --pca [count] ['header'] ['tabs'] ['var-wts']\n",
            "    Calculates a variance-standardized relationship matrix (use\n",
            "    --make-rel/--make-grm-gz/--make-grm-bin to dump it), and extracts the top\n",
            "    20 principal components.\n",
            "    * It is usually best to perform this calculation on a marker set in\n",
            "      approximate linkage equilibrium.\n",
            "    * You can change the number of PCs by passing a numeric parameter.\n",
            "    * The 'header' modifier adds a header line to the .eigenvec output file.\n",
            "      (For compatibility with the GCTA flag of the same name, the default is no\n",
            "      header line.)\n",
            "    * The 'tabs' modifier causes the .eigenvec file(s) to be tab-delimited.\n",
            "    * The 'var-wts' modifier requests an additional .eigenvec.var file with PCs\n",
            "      expressed as variant weights instead of sample weights.\n",
            "\n",
            "  --neighbour <n1> <n2>\n",
            "    (alias: --neighbor)\n",
            "    Report IBS distances from each sample to their n1th- to n2th-nearest\n",
            "    neighbors, associated Z-scores, and the identities of those neighbors.\n",
            "    Useful for outlier detection.\n",
            "\n",
            "  --assoc ['perm' | 'mperm='<value>] ['perm-count'] [{fisher | fisher-midp}]\n",
            "          ['counts'] ['set-test']\n",
            "  --assoc ['perm' | 'mperm='<value>] ['perm-count'] ['qt-means'] ['lin']\n",
            "          ['set-test']\n",
            "  --model ['perm' | 'mperm='<value>] ['perm-count']\n",
            "          [{fisher | fisher-midp | trend-only}] ['set-test']\n",
            "          [{dom | rec | gen | trend}]\n",
            "    Basic association analysis report.\n",
            "    Given a case/control phenotype, --assoc performs a 1df chi-square allelic\n",
            "    test, while --model performs 4 other tests as well (1df dominant gene\n",
            "    action, 1df recessive gene action, 2df genotypic, Cochran-Armitage trend).\n",
            "    * With 'fisher'/'fisher-midp', Fisher's exact test is used to generate\n",
            "      p-values.  'fisher-midp' also applies Lancaster's mid-p adjustment.\n",
            "    * 'perm' causes an adaptive permutation test to be performed.\n",
            "    * 'mperm='<value> causes a max(T) permutation test with the specified\n",
            "      number of replications to be performed.\n",
            "    * 'perm-count' causes the permutation test report to include counts instead\n",
            "      of frequencies.\n",
            "    * 'counts' causes --assoc to report allele counts instead of frequencies.\n",
            "    * 'set-test' tests the significance of variant sets.  Requires permutation;\n",
            "      can be customized with --set-p/--set-r2/--set-max.\n",
            "    * 'dom', 'rec', 'gen', and 'trend' force the corresponding test to be used\n",
            "      as the basis for --model permutation.  (By default, the most significant\n",
            "      result among the allelic, dominant, and recessive tests is used.)\n",
            "    * 'trend-only' causes only the trend test to be performed.\n",
            "    Given a quantitative phenotype, --assoc normally performs a Wald test.\n",
            "    * In this case, the 'qt-means' modifier causes trait means and standard\n",
            "      deviations stratified by genotype to be reported as well.\n",
            "    * 'lin' causes the Lin statistic to be computed, and makes it the basis for\n",
            "      multiple-testing corrections and permutation tests.\n",
            "    Several other flags (most notably, --aperm) can be used to customize the\n",
            "    permutation test.\n",
            "\n",
            "  --mh ['perm' | 'mperm='<value>] ['perm-count'] ['set-test']\n",
            "    (alias: --cmh)\n",
            "  --bd ['perm' | 'perm-bd' | 'mperm='<value>] ['perm-count'] ['set-test']\n",
            "  --mh2\n",
            "  --homog\n",
            "    Given a case/control phenotype and a set of clusters, --mh computes 2x2xK\n",
            "    Cochran-Mantel-Haenszel statistics for each variant, while --bd also\n",
            "    performs the Breslow-Day test for odds ratio homogeneity.  Permutation and\n",
            "    variant set testing based on the CMH (default) or Breslow-Day (when\n",
            "    'perm-bd' is present) statistic are supported.\n",
            "    The following similar analyses are also available:\n",
            "    * --mh2 swaps the roles of case/control status and cluster membership,\n",
            "      performing a phenotype-stratified IxJxK Cochran-Mantel-Haenszel test on\n",
            "      association between cluster assignments and genotypes.\n",
            "    * --homog executes an alternative to the Breslow-Day test, based on\n",
            "      partitioning of the chi-square statistic.\n",
            "\n",
            "  --gxe [covariate index]\n",
            "    Given both a quantitative phenotype and a case/control covariate loaded\n",
            "    with --covar defining two groups, --gxe compares the regression coefficient\n",
            "    derived from considering only members of one group to the regression\n",
            "    coefficient derived from considering only members of the other.  By\n",
            "    default, the first covariate in the --covar file defines the groups; use\n",
            "    e.g. \"--gxe 3\" to base them on the third covariate instead.\n",
            "\n",
            "  --linear ['perm' | 'mperm='<value>] ['perm-count'] ['set-test']\n",
            "           [{genotypic | hethom | dominant | recessive | no-snp}]\n",
            "           ['hide-covar'] [{sex | no-x-sex}] ['interaction'] ['beta']\n",
            "           ['standard-beta'] ['intercept']\n",
            "  --logistic ['perm' | 'mperm='<value>] ['perm-count'] ['set-test']\n",
            "             [{genotypic | hethom | dominant | recessive | no-snp}]\n",
            "             ['hide-covar'] [{sex | no-x-sex}] ['interaction'] ['beta']\n",
            "             ['intercept']\n",
            "    Multi-covariate association analysis on a quantitative (--linear) or\n",
            "    case/control (--logistic) phenotype.  Normally used with --covar.\n",
            "    * 'perm' normally causes an adaptive permutation test to be performed on\n",
            "      the main effect, while 'mperm='<value> starts a max(T) permutation test.\n",
            "    * 'perm-count' causes the permutation test report to include counts instead\n",
            "      of frequencies.\n",
            "    * 'set-test' tests the significance of variant sets.  Requires permutation;\n",
            "      can be customized with --set-p/--set-r2/--set-max.\n",
            "    * The 'genotypic' modifier adds an additive effect/dominance deviation 2df\n",
            "      joint test (0/1/2 and 0/1/0 coding), while 'hethom' uses 0/0/1 and 0/1/0\n",
            "      coding instead.  If permutation is also requested, these modifiers cause\n",
            "      permutation to be based on the joint test.\n",
            "    * 'dominant' and 'recessive' specify a model assuming full dominance or\n",
            "      recessiveness, respectively, for the A1 allele.\n",
            "    * 'no-snp' causes regression to be performed only on the phenotype and the\n",
            "      covariates, without reference to genomic data.  If permutation is also\n",
            "      requested, results are reported for all covariates.\n",
            "    * 'hide-covar' removes covariate-specific lines from the report.\n",
            "    * By default, sex (male = 1, female = 0) is automatically added as a\n",
            "      covariate on X chromosome variants, and nowhere else.  The 'sex' modifier\n",
            "      causes it to be added everywhere, while 'no-x-sex' excludes it.\n",
            "    * 'interaction' adds genotype x covariate interactions to the model.  This\n",
            "      cannot be used with the usual permutation tests; use --tests to define\n",
            "      the permutation test statistic instead.\n",
            "    * 'intercept' causes intercepts to be included in the main report.\n",
            "    * For logistic regressions, the 'beta' modifier causes regression\n",
            "      coefficients instead of odds ratios to be reported.\n",
            "    * With --linear, the 'standard-beta' modifier standardizes the phenotype\n",
            "      and all predictors to zero mean and unit variance before regression.\n",
            "\n",
            "  --dosage <allele dosage file> ['noheader'] ['skip0='<i>] ['skip1='<j>]\n",
            "           ['skip2='<k>] ['dose1'] ['format='<m>] ['Zout']\n",
            "           [{occur | standard-beta}] ['sex'] ['case-control-freqs']\n",
            "  --dosage <list file> list [{sepheader | noheader}] ['skip0='<i>]\n",
            "           ['skip1='<j>] ['skip2='<k>] ['dose1'] ['format='<m>] ['Zout']\n",
            "           [{occur | standard-beta}] ['sex'] ['case-control-freqs']\n",
            "  --write-dosage\n",
            "    Process (possibly gzipped) text files with variant-major allelic dosage\n",
            "    data.  This cannot be used with a regular input fileset; instead, you must\n",
            "    *only* specify a .fam and possibly a .map file, and you can't specify any\n",
            "    other commands.\n",
            "    * PLINK 2.0 will have first-class support for genotype probabilities.  An\n",
            "      equivalent data import flag will be provided then, and --dosage will be\n",
            "      retired.\n",
            "    * By default, --dosage assumes that only one allelic dosage file should be\n",
            "      loaded.  To specify multiple files,\n",
            "      1. create a master list with one entry per line.  There are normally two\n",
            "         supported formats for this list: just a filename per line, or variant\n",
            "         batch numbers in the first column and filenames in the second.\n",
            "      2. Provide the name of that list as the first --dosage parameter.\n",
            "      3. Add the 'list' modifier.\n",
            "    * By default, --dosage assumes the allelic dosage file(s) contain a header\n",
            "      line, which has 'SNP' in column i+1, 'A1' in column i+j+2, 'A2' in column\n",
            "      i+j+3, and sample FID/IIDs starting from column i+j+k+4.  (i/j/k are\n",
            "      normally zero, but can be changed with 'skip0', 'skip1', and 'skip2'\n",
            "      respectively.)  If such a header line is not present,\n",
            "      * when all samples appear in the same order as they do in the .fam file,\n",
            "        you can use the 'noheader' modifier.\n",
            "      * Otherwise, use the 'sepheader' modifier, and append sample ID filenames\n",
            "        to your 'list' file entries.\n",
            "    * The 'format=' modifier lets you specify the number of values used to\n",
            "      represent each dosage.  'format=1' normally indicates a single 0..2 A1\n",
            "      expected count; 'dose1' modifies this to a 0..1 frequency.  'format=2'\n",
            "      (the default) indicates a 0..1 homozygous A1 likelihood followed by a\n",
            "      0..1 het likelihood, while 'format=3' indicates 0..1 hom A1, 0..1 het,\n",
            "      0..1 hom A2.\n",
            "    * 'Zout' causes the output file to be gzipped.\n",
            "    * Normally, an association analysis is performed.  'standard-beta' and\n",
            "      'sex' behave as they are supposed to with --linear/--logistic.\n",
            "      'case-control-freqs' causes case and control allele frequencies to be\n",
            "      reported separately.\n",
            "    * There are three alternate modes which cause the association analysis to\n",
            "      be skipped.\n",
            "      * 'occur' requests a simple variant occurrence report.\n",
            "      * --write-dosage causes a simple merged file matching the 'format'\n",
            "        specification (not including 'dose1') to be generated.\n",
            "      * --score applies a linear scoring system to the dosages.\n",
            "\n",
            "  --lasso <h2 estimate> [min lambda] ['report-zeroes']\n",
            "    Estimate variant effect sizes via LASSO regression.  You must provide an\n",
            "    additive heritability estimate to calibrate the regression.\n",
            "    Note that this method may require a very large sample size (e.g. hundreds\n",
            "    of thousands) to be effective on complex polygenic traits.\n",
            "\n",
            "  --test-missing ['perm' | 'mperm='<value>] ['perm-count'] ['midp']\n",
            "    Check for association between missingness and case/control status, using\n",
            "    Fisher's exact test.  (Het. haploids are treated as missing.)\n",
            "    The 'midp' modifier causes Lancaster's mid-p adjustment to be applied.\n",
            "\n",
            "  --make-perm-pheno <ct>\n",
            "    Generate phenotype permutations and write them to disk, without invoking an\n",
            "    association test.\n",
            "\n",
            "  --tdt [{exact | exact-midp | poo}] ['perm' | 'mperm='<value>] ['perm-count']\n",
            "        [{parentdt1 | parentdt2 | pat | mat}] ['set-test']\n",
            "    Report transmission disequilibrium test statistics, given case/control\n",
            "    phenotypes and pedigree information.\n",
            "    * A Mendel error check is performed before the main tests; offending\n",
            "      genotypes are treated as missing by this analysis.\n",
            "    * By default, the basic TDT p-value is based on a chi-square test unless\n",
            "      you request the exact binomial test with 'exact' or 'exact-midp'.\n",
            "    * 'perm'/'mperm=' requests a family-based adaptive or max(T) permutation\n",
            "      test.  By default, the permutation test statistic is the basic TDT\n",
            "      p-value; 'parentdt1'/'parentdt2' cause parenTDT or combined test\n",
            "      p-values, respectively, to be considered instead.\n",
            "    * 'set-test' tests the significance of variant sets.  This cannot be used\n",
            "      with exact tests for now.\n",
            "    The 'poo' modifier causes a parent-of-origin analysis to be performed\n",
            "    instead, with transmissions from heterozygous fathers and heterozygous\n",
            "    mothers considered separately.\n",
            "    * The parent-of-origin analysis does not currently support exact tests.\n",
            "    * By default, the permutation test statistic is the absolute\n",
            "      parent-of-origin test Z score; 'pat'/'mat' cause paternal or maternal TDT\n",
            "      chi-square statistics, respectively, to be considered instead.\n",
            "\n",
            "  --qfam ['perm' | 'mperm='<value>] ['perm-count'] ['emp-se']\n",
            "  --qfam-parents ['perm' | 'mperm='<value>] ['perm-count'] ['emp-se']\n",
            "  --qfam-between ['perm' | 'mperm='<value>] ['perm-count'] ['emp-se']\n",
            "  --qfam-total ['perm' | 'mperm='<value>] ['perm-count'] ['emp-se']\n",
            "    QFAM family-based association test for quantitative traits.\n",
            "    * A Mendel error check is performed before the main tests; offending\n",
            "      genotypes are treated as missing by this analysis.\n",
            "    * This procedure requires permutation.  'perm' and 'perm-count' have the\n",
            "      usual meanings.  However, 'mperm='<value> just specifies a fixed number\n",
            "      of permutations; the method does not support a proper max(T) test.\n",
            "    * The 'emp-se' modifier adds BETA and EMP_SE (empirical standard error for\n",
            "      beta) fields to the .perm output file.\n",
            "\n",
            "  --annotate <PLINK report> ['attrib='<file>] ['ranges='<file>]\n",
            "             ['filter='<file>] ['snps='<file>] [{NA | prune}] ['block']\n",
            "             ['subset='<file>] ['minimal'] ['distance']\n",
            "    Add annotations to a variant-based PLINK report.  This requires an\n",
            "    annotation source:\n",
            "    * 'attrib='<file> specifies a (possibly gzipped) attribute file.\n",
            "    * 'ranges='<file> specifies a gene/range list file.\n",
            "    (Both source types can be specified simultaneously.)  The following options\n",
            "    are also supported:\n",
            "    * 'filter='<file> causes only variants within one of the ranges in the file\n",
            "      to be included in the new report.\n",
            "    * 'snps='<file> causes only variants named in the file to be included in\n",
            "      the new report.\n",
            "    * The 'NA' modifier causes unannotated variants to have 'NA' instead of '.'\n",
            "      in the new report's ANNOT column, while the 'prune' modifier excludes\n",
            "      them entirely.\n",
            "    * The 'block' modifier replaces the single ANNOT column with a 0/1-coded\n",
            "      column for each possible annotation.\n",
            "    * With 'ranges',\n",
            "      * 'subset='<file> causes only intervals named in the subset file to be\n",
            "        loaded from the ranges file.\n",
            "      * interval annotations normally come with a parenthesized signed distance\n",
            "        to the interval boundary (0 if the variant is located inside the\n",
            "        interval; this is always true without --border).  They can be excluded\n",
            "        with the 'minimal' modifier.\n",
            "      * the 'distance' modifier adds 'DIST' and 'SGN' columns describing signed\n",
            "        distance to the nearest interval.\n",
            "    * When --pfilter is present, high p-values are filtered out.\n",
            "\n",
            "  --clump <PLINK report filename(s)...>\n",
            "    Process association analysis report(s) with 'SNP' and p-value columns,\n",
            "    organizing results by LD-based clumps.  Multiple filenames can be separated\n",
            "    by spaces or commas.\n",
            "\n",
            "  --gene-report <PLINK report> <gene range file>\n",
            "    Generate a gene-based report from a variant-based report.\n",
            "    * When --pfilter is present, high p-values are filtered out.\n",
            "    * When --extract (without 'range') is present, only variants named in the\n",
            "      --extract file are considered.\n",
            "\n",
            "  --meta-analysis <PLINK report filenames...>\n",
            "  --meta-analysis <PLINK report filenames...> + [{logscale | qt}]\n",
            "                  [{no-map | no-allele}] ['study'] ['report-all']\n",
            "                  ['weighted-z']\n",
            "    Perform a meta-analysis on several variant-based reports with 'SNP' and\n",
            "    'SE' fields.\n",
            "    * Normally, an 'OR' odds ratio field must also be present in each input\n",
            "      file.  With 'logscale', 'BETA' log-odds values/regression coefficients\n",
            "      are expected instead, but the generated report will still contain odds\n",
            "      ratio estimates.  With 'qt', both input and output values are regression\n",
            "      betas.\n",
            "    * 'CHR', 'BP', and 'A1' fields are also normally required.  'no-map' causes\n",
            "      them to all be ignored, while 'no-allele' causes just 'A1' to be ignored.\n",
            "    * If 'A2' fields are present, and neither 'no-map' nor 'no-allele' was\n",
            "      specified, A1/A2 allele flips are handled properly.  Otherwise, A1\n",
            "      mismatches are thrown out.\n",
            "    * 'study' causes study-specific effect estimates to be collated in the\n",
            "      meta-analysis report.\n",
            "    * 'report-all' causes variants present in only a single input file to be\n",
            "      included in the meta-analysis report.\n",
            "    * 'weighted-z' requests weighted Z-score-based p-values (as computed by the\n",
            "      Abecasis Lab's METAL software) in addition to the usual inverse\n",
            "      variance-based analysis.  This requires P and effective sample size\n",
            "      fields.\n",
            "    * When --extract (without 'range') is present, only variants named in the\n",
            "      --extract file are considered.\n",
            "    * Unless 'no-map' is specified, chromosome filters are also respected.\n",
            "\n",
            "  --fast-epistasis [{boost | joint-effects | no-ueki}] ['case-only']\n",
            "                   [{set-by-set | set-by-all}] ['nop']\n",
            "  --epistasis [{set-by-set | set-by-all}]\n",
            "    Scan for epistatic interactions.  --fast-epistasis inspects 3x3 joint\n",
            "    genotype count tables and only applies to case/control phenotypes, while\n",
            "    --epistasis performs linear or logistic regression.\n",
            "    * By default, --fast-epistasis uses the PLINK 1.07 allele-based test.  Two\n",
            "      newer tests are now supported: 'boost' invokes the likelihood ratio test\n",
            "      introduced by Wan X et al. (2010) BOOST: A Fast Approach to Detecting\n",
            "      Gene-Gene Interactions in Genome-wide Case-Control Studies, while\n",
            "      'joint-effects' applies the joint effects test introduced in Ueki M,\n",
            "      Cordell HJ (2012) Improved statistics for genome-wide interaction\n",
            "      analysis.\n",
            "    * The original --fast-epistasis test normally applies the variance and\n",
            "      empty cell corrections suggested by Ueki and Cordell's paper.  To disable\n",
            "      them, use the 'no-ueki' modifier.\n",
            "    * 'case-only' requests a case-only instead of a case/control test.\n",
            "    * By default, all pairs of variants across the entire genome are tested.\n",
            "      To just test pairs of variants within a single set, add the 'set-by-set'\n",
            "      modifier and load exactly one set with --set/--make-set; with exactly two\n",
            "      sets loaded, all variants in one set are tested against all variants in\n",
            "      the other.  'set-by-all' tests all variants in one set against the entire\n",
            "      genome instead.\n",
            "    * 'nop' strips p-values from the main report.\n",
            "    * These computations can be subdivided with --parallel; however...\n",
            "  --epistasis-summary-merge <common file prefix> <ct>\n",
            "    When a --[fast-]epistasis job is subdivided with --parallel, the main\n",
            "    report can be assembled at the end by applying Unix 'cat' in the usual\n",
            "    manner, but the .summary.1, .summary.2, ... files may require a specialized\n",
            "    merge.  --epistasis-summary-merge takes care of the latter.\n",
            "\n",
            "  --twolocus <variant ID> <variant ID>\n",
            "    Two-locus joint genotype count report.\n",
            "\n",
            "  --score <filename> [i] [j] [k] ['header'] [{sum | no-sum}]\n",
            "          [{no-mean-imputation | center}] ['include-cnt'] ['double-dosage']\n",
            "    Apply a linear scoring system to each sample.\n",
            "    The input file should have one line per scored variant.  Variant IDs are\n",
            "    read from column #i, allele codes are read from column #j, and scores are\n",
            "    read from column #k, where i defaults to 1, j defaults to i+1, and k\n",
            "    defaults to j+1.\n",
            "    * The 'header' modifier causes the first nonempty line of the input file to\n",
            "      be ignored; otherwise, --score assumes there is no header line.\n",
            "    * By default, final scores are averages of the valid per-variant scores.\n",
            "      The 'sum' modifier causes sums to be reported instead.  (This cannot be\n",
            "      used with 'no-mean-imputation'.  And for backward compatibility, 'sum' is\n",
            "      automatically on with dosage data unless 'no-sum' is specified.)\n",
            "    * By default, copies of the unnamed allele contribute zero to score, while\n",
            "      missing genotypes contribute an amount proportional to the loaded (via\n",
            "      --read-freq) or imputed allele frequency.  To throw out missing\n",
            "      observations instead (decreasing the denominator in the final average\n",
            "      when this happens), use the 'no-mean-imputation' modifier.\n",
            "    * Alternatively, you can use the 'center' modifier to shift all scores to\n",
            "      mean zero.\n",
            "    * This command can be used with dosage data.  By default, the 'CNT' column\n",
            "      is omitted from the output file in this case; use 'include-cnt' to keep\n",
            "      it.  Also, note that scores are multiplied by 0..1 dosages, not 0..2\n",
            "      diploid allele counts, unless the 'double-dosage' modifier is present.\n",
            "\n",
            "  --R <R script file> ['debug']\n",
            "    Connect to a Rserve (preferably version 1.7 or later) background process,\n",
            "    and execute the Rplink function defined in the input file.  (Unless the\n",
            "    'debug' modifier is present; in that case, the R commands that PLINK would\n",
            "    have tried to execute are logged to a file.)\n",
            "\n",
            "  --write-var-ranges <block ct>\n",
            "    Divide the set of variants into equal-size blocks.  (Can be used with\n",
            "    --snps to split a job across multiple machines.)\n",
            "\n",
            "The following other flags are supported.  (Order of operations is described at\n",
            "https://www.cog-genomics.org/plink/1.9/order .)\n",
            "  --script <fname> : Include command-line options from file.\n",
            "  --rerun [log]    : Rerun commands in log (default 'plink.log').\n",
            "  --version        : Display only version number before exiting.\n",
            "  --silent         : Suppress output to console.\n",
            "  --gplink         : Reserved for interoperation with gPLINK.\n",
            "  --missing-genotype <char> : Set missing genotype code (normally '0').\n",
            "  --double-id          : Set both FIDs and IIDs to the VCF/BCF sample ID.\n",
            "  --const-fid [ID]     : Set all FIDs to the given constant (default '0').\n",
            "  --id-delim [d]       : Parse sample IDs as <FID><d><IID> (default delim '_').\n",
            "  --vcf-idspace-to <c> : Convert spaces in sample IDs to the given character.\n",
            "  --biallelic-only ['strict'] ['list'] : Skip VCF variants with 2+ ALT alleles.\n",
            "  --vcf-min-qual <val>           : Skip VCF variants with low/missing QUAL.\n",
            "  --vcf-filter [exception(s)...] : Skip variants which have FILTER failures.\n",
            "  --vcf-require-gt               : Skip variants with no GT field.\n",
            "  --vcf-min-gq <val>             : No-call a genotype when GQ is below the\n",
            "                                   given threshold.\n",
            "  --vcf-min-gp <val>             : No-call a genotype when 0-1 scaled GP is\n",
            "                                   below the given threshold.\n",
            "  --vcf-half-call <m>  : Specify how '0/.' and similar VCF GT values should be\n",
            "                         handled.  The following four modes are supported:\n",
            "                         * 'error'/'e' (default) errors out and reports line #.\n",
            "                         * 'haploid'/'h' treats them as haploid calls.\n",
            "                         * 'missing'/'m' treats them as missing.\n",
            "                         * 'reference'/'r' treats the missing value as 0.\n",
            "  --oxford-single-chr <chr nm> : Specify single-chromosome .gen file with\n",
            "                                 ignorable first column.\n",
            "  --oxford-pheno-name <col nm> : Import named phenotype from the .sample file.\n",
            "  --hard-call-threshold <val>  : When an Oxford-format fileset is loaded, calls\n",
            "  --hard-call-threshold random   with uncertainty level greater than 0.1 are\n",
            "                                 normally treated as missing.  You can adjust\n",
            "                                 this threshold by providing a numeric\n",
            "                                 parameter, or randomize all calls with\n",
            "                                 'random'.\n",
            "  --missing-code [string list] : Comma-delimited list of missing phenotype\n",
            "    (alias: --missing_code)      values for Oxford-format filesets (def. 'NA').\n",
            "  --simulate-ncases <num>   : Set --simulate case count (default 1000).\n",
            "  --simulate-ncontrols <n>  : Set --simulate control count (default 1000).\n",
            "  --simulate-prevalence <p> : Set --simulate disease prevalence (default 0.01).\n",
            "  --simulate-n <num>        : Set --simulate-qt sample count (default 1000).\n",
            "  --simulate-label <prefix> : Set --simulate[-qt] FID/IID name prefix.\n",
            "  --simulate-missing <freq> : Set --simulate[-qt] missing genotype frequency.\n",
            "  --allow-extra-chr ['0']   : Permit unrecognized chromosome codes.  The '0'\n",
            "    (alias: --aec)            modifier causes them to be treated as if they had\n",
            "                              been set to zero.\n",
            "  --chr-set <autosome ct> ['no-x'] ['no-y'] ['no-xy'] ['no-mt'] :\n",
            "    Specify a nonhuman chromosome set.  The first parameter sets the number of\n",
            "    diploid autosome pairs if positive, or haploid chromosomes if negative.\n",
            "    Given diploid autosomes, the remaining modifiers indicate the absence of\n",
            "    the named non-autosomal chromosomes.\n",
            "  --cow/--dog/--horse/--mouse/--rice/--sheep : Shortcuts for those species.\n",
            "  --autosome-num <value>    : Alias for \"--chr-set <value> no-y no-xy no-mt\".\n",
            "  --cm-map <fname pattern> [chr] : Use SHAPEIT-format recombination maps to set\n",
            "                                   centimorgan positions.  To process more than\n",
            "                                   one chromosome, include a '@' in the first\n",
            "                                   parameter where the chrom. number belongs,\n",
            "                                   e.g. 'genetic_map_chr@_combined_b37.txt'.\n",
            "  --zero-cms         : Zero out centimorgan positions.\n",
            "  --allow-no-samples : Allow the input fileset to contain no samples.\n",
            "  --allow-no-vars    : Allow the input fileset to contain no variants.\n",
            "  --pheno <fname>  : Load phenotype data from the specified file, instead of\n",
            "                     using the values in the main input fileset.\n",
            "  --all-pheno      : For basic association tests, loop through all phenotypes\n",
            "                     in --pheno file.\n",
            "  --mpheno <n>     : Load phenotype from column (n+2) in --pheno file.\n",
            "  --pheno-name <c> : If --pheno file has a header row, use column with the\n",
            "                     given name.\n",
            "  --pheno-merge    : When the main input fileset contains an phenotype value\n",
            "                     for a sample, but the --pheno file does not, use the\n",
            "                     original value instead of treating the phenotype as\n",
            "                     missing.\n",
            "  --missing-phenotype <v> : Set missing phenotype value (normally -9).\n",
            "  --1                     : Expect case/control phenotypes to be coded as\n",
            "                            0 = control, 1 = case, instead of the usual\n",
            "                            0 = missing, 1 = control, 2 = case.  This also\n",
            "                            forces phenotypes to be interpreted as case/ctrl.\n",
            "  --make-pheno <fn> <val> : Define a new case/control phenotype.  If the val\n",
            "                            parameter is '*', all samples listed in the given\n",
            "                            file are cases, and everyone else is a control.\n",
            "                            (Note that, in some shells, it is necessary to\n",
            "                            surround the * with quotes.)\n",
            "                            Otherwise, all samples with third column entry\n",
            "                            equal to the val parameter are cases, and all other\n",
            "                            samples mentioned in the file are controls.\n",
            "  --tail-pheno <Lt> [Hbt] : Downcode a scalar phenotype to a case/control\n",
            "                            phenotype.  All samples with phenotype values\n",
            "                            greater than Hbt are cases, and all with values\n",
            "                            less than or equal to Lt are controls.  If Hbt is\n",
            "                            unspecified, it is equal to Lt; otherwise,\n",
            "                            in-between phenotype values are set to missing.\n",
            "  --covar <filename> ['keep-pheno-on-missing-cov'] : Specify covariate file.\n",
            "  --covar-name <...>       : Specify covariate(s) in --covar file by name.\n",
            "                             Separate multiple names with spaces or commas, and\n",
            "                             use dashes to designate ranges.\n",
            "  --covar-number <...>     : Specify covariate(s) in --covar file by index.\n",
            "  --no-const-covar         : Exclude constant covariates.\n",
            "  --allow-no-covars        : Allow no covariates to be loaded from --covar\n",
            "                             file.\n",
            "  --within <f> ['keep-NA'] : Specify initial cluster assignments.\n",
            "  --mwithin <n>            : Load cluster assignments from column n+2.\n",
            "  --family                 : Create a cluster for each family ID.\n",
            "  --loop-assoc <f> ['keep-NA']  : Run specified case/control association\n",
            "                                  commands once for each cluster in the file,\n",
            "                                  using cluster membership as the phenotype.\n",
            "  --set <filename>              : Load sets from a .set file.\n",
            "  --set-names <name(s)...>      : Load only sets named on the command line.\n",
            "                                  Use spaces to separate multiple names.\n",
            "  --subset <filename>           : Load only sets named in the given text file.\n",
            "  --set-collapse-all <set name> : Merge all sets.\n",
            "  --complement-sets             : Invert all sets.  (Names gain 'C_' prefixes.)\n",
            "  --make-set-complement-all <s> : --set-collapse-all + inversion.\n",
            "  --make-set <filename>         : Define sets from a list of named bp ranges.\n",
            "  --make-set-border <kbs>       : Stretch regions in --make-set file.\n",
            "  --make-set-collapse-group     : Define sets from groups instead of sets in\n",
            "                                  --make-set file.\n",
            "  --keep <filename>       : Exclude all samples not named in the file.\n",
            "  --remove <filename>     : Exclude all samples named in the file.\n",
            "  --keep-fam <filename>   : Exclude all families not named in the file.\n",
            "  --remove-fam <filename> : Exclude all families named in the file.\n",
            "  --extract ['range'] <f> : Exclude all variants not named in the file.\n",
            "  --exclude ['range'] <f> : Exclude all variants named in the file.\n",
            "  --keep-clusters <filename>          : These can be used individually or in\n",
            "  --keep-cluster-names <name(s)...>     combination to define a list of\n",
            "                                        clusters to keep; all samples not in a\n",
            "                                        cluster in that list are then excluded.\n",
            "                                        Use spaces to separate cluster names\n",
            "                                        for --keep-cluster-names.\n",
            "  --remove-clusters <filename>        : Exclude all clusters named in the file.\n",
            "  --remove-cluster-names <name(s)...> : Exclude the named clusters.\n",
            "  --gene <sets...> : Exclude variants not in a set named on the command line.\n",
            "                     (Separate multiple set names with spaces.)\n",
            "  --gene-all       : Exclude variants which aren't a member of any set.  (PLINK\n",
            "                     1.07 automatically did this under some circumstances.)\n",
            "  --attrib <f> [att lst] : Given a file assigning attributes to variants, and a\n",
            "  --attrib-indiv <f> [a]   comma-delimited list (with no whitespace) of\n",
            "                           attribute names, remove variants/samples which are\n",
            "                           either missing from the file or don't have any of\n",
            "                           the listed attributes.  If some attribute names in\n",
            "                           the list are preceded by '-', they are treated as\n",
            "                           \"negative match conditions\" instead: variants with\n",
            "                           at least one negative match attribute are removed.\n",
            "                           The first character in the list cannot be a '-', due\n",
            "                           to how command-line parsing works; add a comma in\n",
            "                           front to get around this.\n",
            "  --chr <chrs...>  : Exclude all variants not on the given chromosome(s).\n",
            "                     Valid choices for humans are 0 (unplaced), 1-22, X, Y, XY,\n",
            "                     and MT.  Separate multiple chromosomes with spaces and/or\n",
            "                     commas, and use a dash (no adjacent spaces permitted) to\n",
            "                     denote a range, e.g. \"--chr 1-4, 22, xy\".\n",
            "  --not-chr <...>  : Reverse of --chr (exclude variants on listed chromosomes).\n",
            "  --autosome       : Exclude all non-autosomal variants.\n",
            "  --autosome-xy    : Exclude all non-autosomal variants, except those with\n",
            "                     chromosome code XY (pseudo-autosomal region of X).\n",
            "  --snps-only ['just-acgt'] : Exclude non-SNP variants.  By default, SNP = both\n",
            "                              allele codes are single-character; 'just-acgt'\n",
            "                              restricts codes to {A,C,G,T,a,c,g,t,<missing>}.\n",
            "  --from <var ID>  : Use ID(s) to specify a variant range to load.  When used\n",
            "  --to   <var ID>    together, both variants must be on the same chromosome.\n",
            "  --snp  <var ID>  : Specify a single variant to load.\n",
            "  --exclude-snp <> : Specify a single variant to exclude.\n",
            "  --window  <kbs>  : With --snp or --exclude-snp, loads/excludes all variants\n",
            "                     within half the specified kb distance of the named one.\n",
            "  --from-bp <pos>  : Use physical position(s) to define a variant range to\n",
            "  --to-bp   <pos>    load.  --from-kb/--to-kb/--from-mb/--to-mb allow decimal\n",
            "  --from-kb <pos>    values.  You must also specify a single chromosome (using\n",
            "  --to-kb   <pos>    e.g. --chr) when using these flags.\n",
            "  --from-mb <pos>\n",
            "  --to-mb   <pos>\n",
            "  --snps <var IDs...>  : Use IDs to specify variant range(s) to load or\n",
            "  --exclude-snps <...>   exclude.  E.g. \"--snps rs1111-rs2222, rs3333, rs4444\".\n",
            "  --thin <p>       : Randomly remove variants, retaining each with prob. p.\n",
            "  --thin-count <n> : Randomly remove variants until n of them remain.\n",
            "  --bp-space <bps> : Remove variants so that each pair is no closer than the\n",
            "                     given bp distance.  (Equivalent to VCFtools --thin.)\n",
            "  --thin-indiv <p>         : Randomly remove samples, retaining with prob. p.\n",
            "  --thin-indiv-count <n>   : Randomly remove samples until n of them remain.\n",
            "  --filter <f> <val(s)...> : Exclude all samples without a 3rd column entry in\n",
            "                             the given file matching one of the given\n",
            "                             space-separated value(s).\n",
            "  --mfilter <n>            : Match against (n+2)th column instead.\n",
            "  --geno [val]     : Exclude variants with missing call frequencies greater\n",
            "                     than a threshold (default 0.1).  (Note that the default\n",
            "                     threshold is only applied if --geno is invoked without a\n",
            "                     parameter; when --geno is not invoked, no per-variant\n",
            "                     missing call frequency ceiling is enforced at all.  Other\n",
            "                     inclusion/exclusion default thresholds work the same way.)\n",
            "  --mind [val]     : Exclude samples with missing call frequencies greater than\n",
            "                     a threshold (default 0.1).\n",
            "  --oblig-missing <f1> <f2> : Specify blocks of missing genotype calls for\n",
            "                              --geno/--mind to ignore.  The first file should\n",
            "                              have variant IDs in the first column and block\n",
            "                              IDs in the second, while the second file should\n",
            "                              have FIDs in the first column, IIDs in the\n",
            "                              second, and block IDs in the third.\n",
            "  --prune             : Remove samples with missing phenotypes.\n",
            "  --maf [freq]        : Exclude variants with minor allele frequency lower than\n",
            "                        a threshold (default 0.01).\n",
            "  --max-maf <freq>    : Exclude variants with MAF greater than the threshold.\n",
            "  --mac <ct>          : Exclude variants with minor allele count lower than the\n",
            "    (alias: --min-ac)   given threshold.\n",
            "  --max-mac <ct>      : Exclude variants with minor allele count greater than\n",
            "    (alias: --max-ac)   the given threshold.\n",
            "  --maf-succ       : Rule of succession MAF estimation (used in EIGENSOFT).\n",
            "                     Given j observations of one allele and k >= j observations\n",
            "                     of the other, infer a MAF of (j+1) / (j+k+2), rather than\n",
            "                     the default j / (j+k).\n",
            "  --read-freq <fn> : Estimate MAFs and heterozygote frequencies from the given\n",
            "                     --freq[x] report, instead of the input fileset.\n",
            "  --hwe <p> ['midp'] ['include-nonctrl'] : Exclude variants with Hardy-Weinberg\n",
            "                                           equilibrium exact test p-values\n",
            "                                           below a threshold.\n",
            "  --me <t> <v> ['var-first'] : Filter out trios and variants with Mendel error\n",
            "                               rates exceeding the given thresholds.\n",
            "  --me-exclude-one [ratio]   : Make --me exclude only one sample per trio.\n",
            "  --qual-scores <f> [qcol] [IDcol] [skip] : Filter out variants with\n",
            "                                            out-of-range quality scores.\n",
            "                                            Default range is now [0, \\infty ).\n",
            "  --qual-threshold <min qual score>       : Set --qual-scores range floor.\n",
            "  --qual-max-threshold <max qual score>   : Set --qual-scores range ceiling.\n",
            "  --allow-no-sex   : Do not treat ambiguous-sex samples as having missing\n",
            "                     phenotypes in analysis commands.  (Automatic /w --no-sex.)\n",
            "  --must-have-sex  : Force ambiguous-sex phenotypes to missing on\n",
            "                     --make-bed/--make-just-fam/--recode/--write-covar.\n",
            "  --filter-cases       : Include only cases in the current analysis.\n",
            "  --filter-controls    : Include only controls.\n",
            "  --filter-males       : Include only males.\n",
            "  --filter-females     : Include only females.\n",
            "  --filter-founders    : Include only founders.\n",
            "  --filter-nonfounders : Include only nonfounders.\n",
            "  --nonfounders        : Include nonfounders in allele freq/HWE calculations.\n",
            "  --make-founders ['require-2-missing'] ['first'] :\n",
            "    Clear parental IDs for those with 1+ missing parent(s).\n",
            "  --recode-allele <fn> : With --recode A/A-transpose/AD, count alleles named in\n",
            "                         the file (otherwise A1 alleles are always counted).\n",
            "  --output-chr <MT code> : Set chromosome coding scheme in output files by\n",
            "                           providing the desired human mitochondrial code.\n",
            "                           (Options are '26', 'M', 'MT', '0M', 'chr26', 'chrM',\n",
            "                           and 'chrMT'.)\n",
            "  --output-missing-genotype <ch> : Set the code used to represent missing\n",
            "                                   genotypes in output files (normally the\n",
            "                                   --missing-genotype value).\n",
            "  --output-missing-phenotype <s> : Set the string used to represent missing\n",
            "                                   phenotypes in output files (normally the\n",
            "                                   --missing-phenotype value).\n",
            "  --zero-cluster <f> : In combination with --within/--family, set blocks of\n",
            "                       genotype calls to missing.  The input file should have\n",
            "                       variant IDs in the first column and cluster IDs in the\n",
            "                       second.  This must now be used with --make-bed and no\n",
            "                       other output commands.\n",
            "  --set-hh-missing       : Cause --make-bed and --recode to set heterozygous\n",
            "                           haploid genotypes to missing.\n",
            "  --set-mixed-mt-missing : Cause --make-bed and --recode to set mixed MT\n",
            "                           genotypes to missing.\n",
            "  --split-x <bp1> <bp2> ['no-fail']\n",
            "  --split-x <build> ['no-fail'] :\n",
            "    Changes chromosome code of all chrX variants with bp position <= bp1 or >=\n",
            "    bp2 to XY.  The following build codes are supported as shorthand:\n",
            "    * 'b36'/'hg18' = NCBI 36, 2709521/154584237\n",
            "    * 'b37'/'hg19' = GRCh37, 2699520/154931044\n",
            "    * 'b38'/'hg38' = GRCh38, 2781479/155701383\n",
            "    By default, PLINK errors out when no variants would be affected by\n",
            "    --split-x; the 'no-fail' modifier (useful in scripts) overrides this.\n",
            "  --merge-x ['no-fail'] : Merge XY chromosome back with X.\n",
            "  --set-me-missing      : Cause --make-bed to set Mendel errors to missing.\n",
            "  --fill-missing-a2     : Cause --make-bed to replace all missing calls with\n",
            "                          homozygous A2 calls.\n",
            "  --set-missing-var-ids <t>   : Given a template string with a '@' where the\n",
            "                                chromosome code should go and '#' where the bp\n",
            "                                coordinate belongs, --set-missing-var-ids\n",
            "                                assigns chromosome-and-bp-based IDs to unnamed\n",
            "                                variants.\n",
            "                                You may also use '$1' and '$2' to refer to\n",
            "                                allele names in the template string, and in\n",
            "                                fact this becomes essential when multiple\n",
            "                                variants share the same coordinate.\n",
            "  --new-id-max-allele-len <n> : Specify maximum number of leading characters\n",
            "                                from allele names to include in new variant IDs\n",
            "                                (default 23).\n",
            "  --missing-var-code <string> : Change unnamed variant code (default '.').\n",
            "  --update-chr  <f> [chrcol] [IDcol]  [skip] : Update variant chromosome codes.\n",
            "  --update-cm   <f> [cmcol]  [IDcol]  [skip] : Update centimorgan positions.\n",
            "  --update-map  <f> [bpcol]  [IDcol]  [skip] : Update variant bp positions.\n",
            "  --update-name <f> [newcol] [oldcol] [skip] : Update variant IDs.\n",
            "  --update-alleles <fname> : Update variant allele codes.\n",
            "  --allele1234 ['multichar'] : Interpret/recode A/C/G/T alleles as 1/2/3/4.\n",
            "                               With 'multichar', converts all A/C/G/Ts in\n",
            "                               allele names to 1/2/3/4s.\n",
            "  --alleleACGT ['multichar'] : Reverse of --allele1234.\n",
            "  --update-ids <f>     : Update sample IDs.\n",
            "  --update-parents <f> : Update parental IDs.\n",
            "  --update-sex <f> [n] : Update sexes.  Sex (1 or M = male, 2 or F = female, 0\n",
            "                         = missing) is loaded from column n+2 (default n is 1).\n",
            "  --flip <filename>    : Flip alleles (A<->T, C<->G) for SNP IDs in the file.\n",
            "  --flip-subset <fn>   : Only apply --flip to samples in --flip-subset file.\n",
            "  --flip-scan-window <ct+1> : Set --flip-scan max variant ct dist. (def. 10).\n",
            "  --flip-scan-window-kb <x> : Set --flip-scan max kb distance (default 1000).\n",
            "  --flip-scan-threshold <x> : Set --flip-scan min correlation (default 0.5).\n",
            "  --keep-allele-order  : Keep the allele order defined in the .bim file,\n",
            "  --real-ref-alleles     instead of forcing A2 to be the major allele.\n",
            "                         --real-ref-alleles also removes 'PR' from the INFO\n",
            "                         values emitted by --recode vcf{,-fid,-iid}.\n",
            "  --a1-allele <f> [a1col] [IDcol] [skip] : Force alleles in the file to A1.\n",
            "  --a2-allele <filename> [a2col] [IDcol] [skip] :\n",
            "    Force alleles in the file to A2.  (\"--a2-allele <VCF filename> 4 3 '#'\",\n",
            "    which scrapes reference allele assignments from a VCF file, is especially\n",
            "    useful.)\n",
            "  --indiv-sort <m> [f] : Specify FID/IID sort order.  The following four modes\n",
            "                         are supported:\n",
            "                         * 'none'/'0' keeps samples in the order they were\n",
            "                           loaded.  Default for non-merge operations.\n",
            "                         * 'natural'/'n' invokes 'natural sort', e.g.\n",
            "                           'id2' < 'ID3' < 'id10'.  Default when merging.\n",
            "                         * 'ascii'/'a' sorts in ASCII order, e.g.\n",
            "                           'ID3' < 'id10' < 'id2'.\n",
            "                         * 'file'/'f' uses the order in the given file (named\n",
            "                           in the second parameter).\n",
            "                         For now, only --merge/--bmerge/--merge-list and\n",
            "                         --make-bed/--make-just-fam respect this flag.\n",
            "  --with-phenotype ['no-parents'] [{no-sex | female-2}] :\n",
            "    Include more sample info in new .cov file.\n",
            "  --dummy-coding [N] ['no-round'] : Split categorical variables (n categories,\n",
            "                                    2 < n <= N, default N is 49) into n-1\n",
            "                                    binary dummy variables when writing\n",
            "                                    covariate file.\n",
            "  --merge-mode <n>   : Adjust --[b]merge/--merge-list behavior based on a\n",
            "                       numeric code.\n",
            "                       1 (default) = ignore missing calls, otherwise difference\n",
            "                                     -> missing\n",
            "                       2 = only overwrite originally missing calls\n",
            "                       3 = only overwrite when nonmissing in new file\n",
            "                       4/5 = never overwrite and always overwrite, respectively\n",
            "                       6 = report all mismatching calls without merging\n",
            "                       7 = report mismatching nonmissing calls without merging\n",
            "  --merge-equal-pos  : With --merge/--bmerge/--merge-list, merge variants with\n",
            "                       different names but identical positions.  (Exception:\n",
            "                       same-position chromosome code 0 variants aren't merged.)\n",
            "  --mendel-duos      : Make Mendel error checks consider samples with only one\n",
            "                       parent in the dataset.\n",
            "  --mendel-multigen  : Make Mendel error checks consider (great-)grandparental\n",
            "                       genotypes when parental genotype data is missing.\n",
            "  --ld-window <ct+1> : Set --r/--r2 max variant ct pairwise distance (usu. 10).\n",
            "  --ld-window-kb <x> : Set --r/--r2 max kb pairwise distance (usually 1000).\n",
            "  --ld-window-cm <x> : Set --r/--r2 max centimorgan pairwise distance.\n",
            "  --ld-window-r2 <x> : Set threshold for --r2 report inclusion (usually 0.2).\n",
            "  --ld-snp <var ID>  : Set first variant in all --r/--r2 pairs.\n",
            "  --ld-snps <vID...> : Restrict first --r/--r2 variant to the given ranges.\n",
            "  --ld-snp-list <f>  : Restrict first --r/--r2 var. to those named in the file.\n",
            "  --list-all         : Generate the 'all' mode report when using --show-tags in\n",
            "                       file mode.\n",
            "  --tag-kb <kbs>     : Set --show-tags max tag kb distance (default 250).\n",
            "  --tag-r2 <val>     : Set --show-tags min tag r-squared (default 0.8)\n",
            "  --tag-mode2        : Use two-column --show-tags (file mode) I/O format.\n",
            "  --ld-xchr <code>   : Set chrX model for --indep[-pairwise], --r/--r2,\n",
            "                       --flip-scan, and --show-tags.\n",
            "                       1 (default) = males coded 0/1, females 0/1/2 (A1 dosage)\n",
            "                       2 = males coded 0/2\n",
            "                       3 = males coded 0/2, but females given double weighting\n",
            "  --blocks-max-kb <kbs>      : Set --blocks maximum haploblock span (def. 200).\n",
            "  --blocks-min-maf <cutoff>  : Adjust --blocks MAF minimum (default 0.05).\n",
            "  --blocks-strong-lowci <x>  : Set --blocks \"strong LD\" CI thresholds (defaults\n",
            "  --blocks-strong-highci <x>   0.70 and 0.98).\n",
            "  --blocks-recomb-highci <x> : Set 'recombination' CI threshold (default 0.90).\n",
            "  --blocks-inform-frac <x>   : Force haploblock <strong LD pairs>:<total\n",
            "                               informative pairs> ratios to be larger than this\n",
            "                               value (default 0.95).\n",
            "  --distance-wts exp=<x>        : When computing genomic distances, assign each\n",
            "                                  variant a weight of (2q(1-q))^{-x}, where q\n",
            "                                  is the loaded or inferred MAF.\n",
            "  --read-dists <dist file> [id file] : Load a triangular binary distance matrix\n",
            "                                       instead of recalculating from scratch.\n",
            "  --ppc-gap <val>    : Minimum number of base pairs, in thousands, between\n",
            "                       informative pairs of markers used in --genome PPC test.\n",
            "                       500 if unspecified.\n",
            "  --min <cutoff>     : Specify minimum PI_HAT for inclusion in --genome report.\n",
            "  --max <cutoff>     : Specify maximum PI_HAT for inclusion in --genome report.\n",
            "  --homozyg-match <> : Set minimum concordance across jointly homozygous\n",
            "                       variants for a pairwise allelic match to be declared.\n",
            "  --pool-size <ct>   : Set minimum size of pools in \"--homozyg group\" report.\n",
            "  --read-genome <fn> : Load --genome report for --cluster/--neighbour, instead\n",
            "                       of recalculating IBS and PPC test p-values from scratch.\n",
            "  --ppc <p-val>    : Specify minimum PPC test p-value within a cluster.\n",
            "  --mc <max size>  : Specify maximum cluster size.\n",
            "  --mcc <c1> <c2>  : Specify maximum case and control counts per cluster.\n",
            "  --K <min count>  : Specify minimum cluster count.\n",
            "  --ibm <val>      : Specify minimum identity-by-missingness.\n",
            "  --match <f> [mv] : Use covariate values to restrict clustering.  Without\n",
            "                     --match-type, two samples can only be in the same cluster\n",
            "                     if all covariates match.  The optional second parameter\n",
            "                     specifies a covariate value to treat as missing.\n",
            "  --match-type <f> : Refine interpretation of --match file.  The --match-type\n",
            "                     file is expected to be a single line with as many entries\n",
            "                     as the --match file has covariates; '0' entries specify\n",
            "                     \"negative matches\" (i.e. samples with equal covariate\n",
            "                     values cannot be in the same cluster), '1' entries specify\n",
            "                     \"positive matches\" (default), and '-1' causes the\n",
            "                     corresponding covariate to be ignored.\n",
            "  --qmatch <f> [m] : Force all members of a cluster to have similar\n",
            "  --qt <fname>       quantitative covariate values.  The --qmatch file contains\n",
            "                     the covariate values, while the --qt file is a list of\n",
            "                     nonnegative tolerances (and '-1's marking covariates to\n",
            "                     skip).\n",
            "  --pca-cluster-names <...> : These can be used individually or in combination\n",
            "  --pca-clusters <fname>      to define a list of clusters to use in the basic\n",
            "                              --pca computation.  (--pca-cluster-names expects\n",
            "                              a space-delimited sequence of cluster names,\n",
            "                              while --pca-clusters expects a file with one\n",
            "                              cluster name per line.)  All samples outside\n",
            "                              those clusters will then be projected on to the\n",
            "                              calculated PCs.\n",
            "  --mds-plot <dims> ['by-cluster'] ['eigendecomp'] ['eigvals'] :\n",
            "    Multidimensional scaling analysis.  Requires --cluster.\n",
            "  --cell <thresh>  : Skip some --model tests when a contingency table entry is\n",
            "                     smaller than the given threshold.\n",
            "  --condition <var ID> [{dominant | recessive}] : Add one variant as a --linear\n",
            "                                                  or --logistic covariate.\n",
            "  --condition-list <f> [{dominant | recessive}] : Add variants named in the\n",
            "                                                  file as --linear/--logistic\n",
            "                                                  covariates.\n",
            "  --parameters <...>  : Include only the given covariates/interactions in the\n",
            "                        --linear/--logistic models, identified by a list of\n",
            "                        1-based indices and/or ranges of them.\n",
            "  --tests <all> [...] : Perform a (joint) test on the specified term(s) in the\n",
            "                        --linear/--logistic model, identified by 1-based\n",
            "                        indices and/or ranges of them.  If permutation was\n",
            "                        requested, it is based on this test.\n",
            "                        * Note that, when --parameters is also present, the\n",
            "                          indices refer to the terms remaining AFTER pruning by\n",
            "                          --parameters.\n",
            "                        * You can use \"--tests all\" to include all terms.\n",
            "  --vif <max VIF>     : Set VIF threshold for --linear multicollinearity check\n",
            "                        (default 50).\n",
            "  --xchr-model <code> : Set the X chromosome --linear/--logistic model.\n",
            "                        0 = skip sex and haploid chromosomes\n",
            "                        1 (default) = add sex as a covariate on X chromosome\n",
            "                        2 = code male genotypes 0/2 instead of 0/1\n",
            "                        3 = test for interaction between genotype and sex\n",
            "  --lasso-select-covars [cov(s)...] : Subject some or all covariates to LASSO\n",
            "                                      model selection.\n",
            "  --adjust ['gc'] ['log10'] ['qq-plot'] : Report some multiple-testing\n",
            "                                          corrections.\n",
            "  --lambda <val>   : Set genomic control lambda for --adjust.\n",
            "  --ci <size>      : Report confidence intervals for odds ratios.\n",
            "  --pfilter <val>  : Filter out association test results with higher p-values.\n",
            "  --aperm <min perms - 1> [max perms] [alpha] [beta] [init interval] [slope] :\n",
            "    Set up to six parameters controlling adaptive permutation tests.\n",
            "    * The first two control the minimum and maximum number of permutations that\n",
            "      may be run for each variant; default values are 5 and 1000000.\n",
            "    * The next two control the early termination condition.  A\n",
            "      100% * (1 - beta/2T) confidence interval is calculated for each empirical\n",
            "      p-value, where T is the total number of variants; whenever this\n",
            "      confidence interval doesn't contain alpha, the variant is exempted from\n",
            "      further permutation testing.  Default values are 0 and 1e-4.\n",
            "    * The last two control when the early termination condition is checked.  If\n",
            "      a check occurs at permutation #p, the next check occurs after\n",
            "      <slope>p + <init interval> more permutations (rounded down).  Default\n",
            "      initial interval is 1, and default slope is 0.001.\n",
            "  --mperm-save     : Save best max(T) permutation test statistics.\n",
            "  --mperm-save-all : Save all max(T) permutation test statistics.\n",
            "  --set-p <p-val>        : Adjust set test significant variant p-value ceiling\n",
            "                           (default 0.05).\n",
            "  --set-r2 [v] ['write'] : Adjust set test significant variant pairwise r^2\n",
            "                           ceiling (default 0.5).  'write' causes violating\n",
            "                          pairs to be dumped to <output prefix>.ldset.\n",
            "  --set-max <ct>         : Adjust set test maximum # of significant variants\n",
            "                           considered per set (default 5).\n",
            "  --set-test-lambda <v>  : Specify genomic control correction for set test.\n",
            "  --border <kbs>            : Extend --annotate range intervals by given # kbs.\n",
            "  --annotate-snp-field <nm> : Set --annotate variant ID field name.\n",
            "  --clump-p1 <pval> : Set --clump index var. p-value ceiling (default 1e-4).\n",
            "  --clump-p2 <pval> : Set --clump secondary p-value threshold (default 0.01).\n",
            "  --clump-r2 <r^2>  : Set --clump r^2 threshold (default 0.5).\n",
            "  --clump-kb <kbs>  : Set --clump kb radius (default 250).\n",
            "  --clump-snp-field <n...>  : Set --clump variant ID field name (default\n",
            "                              'SNP').  With multiple field names, earlier names\n",
            "                              take precedence over later ones.\n",
            "  --clump-field <name...>   : Set --clump p-value field name (default 'P').\n",
            "  --clump-allow-overlap     : Let --clump non-index vars. join multiple clumps.\n",
            "  --clump-verbose           : Request extended --clump report.\n",
            "  --clump-annotate <hdr...> : Include named extra fields in --clump-verbose and\n",
            "                              --clump-best reports.  (Field names can be\n",
            "                              separated with spaces or commas.)\n",
            "  --clump-range <filename>  : Report overlaps between clumps and regions.\n",
            "  --clump-range-border <kb> : Stretch regions in --clump-range file.\n",
            "  --clump-index-first       : Extract --clump index vars. from only first file.\n",
            "  --clump-replicate         : Exclude clumps which contain secondary results\n",
            "                              from only one file.\n",
            "  --clump-best              : Report best proxy for each --clump index var.\n",
            "  --meta-analysis-chr-field <n...> : Set --meta-analysis chromosome, variant\n",
            "  --meta-analysis-snp-field <n...>   ID, position, A1/A2 allele, p-value,\n",
            "  --meta-analysis-bp-field <n...>    standard error, and/or effective sample\n",
            "  --meta-analysis-a1-field <n...>    size field names.\n",
            "  --meta-analysis-a2-field <n...>    Defaults are 'CHR', 'SNP', 'BP', 'A1',\n",
            "  --meta-analysis-p-field <n...>     'A2', 'P', 'SE', and 'NMISS',\n",
            "  --meta-analysis-se-field <n...>    respectively.  When multiple parameters\n",
            "  --meta-analysis-ess-field <n...>   are given to these flags, earlier names\n",
            "                                     take precedence over later ones.\n",
            "                                     Note that, if the numbers of cases and\n",
            "                                     controls are unequal, effective sample\n",
            "                                     size should be\n",
            "                                       4 / (1/<# cases> + 1/<# controls>).\n",
            "  --meta-analysis-report-dups      : When a variant appears multiple times in\n",
            "                                     in the same file, report that.\n",
            "  --gene-list-border <kbs>   : Extend --gene-report regions by given # of kbs.\n",
            "  --gene-subset <filename>   : Specify gene name subset for --gene-report.\n",
            "  --gene-report-snp-field <> : Set --gene-report variant ID field name (default\n",
            "                               'SNP').  Only relevant with --extract.\n",
            "  --gap <kbs>      : Set \"--fast-epistasis case-only\" min. gap (default 1000).\n",
            "  --epi1 <p-value> : Set --[fast-]epistasis reporting threshold (default\n",
            "                     5e-6 for 'boost', 1e-4 otherwise).\n",
            "  --epi2 <p-value> : Set threshold for contributing to SIG_E count (def. 0.01).\n",
            "  --je-cellmin <n> : Set required number of observations per 3x3x2 contingency\n",
            "                     table cell for joint-effects test (default 5).\n",
            "  --q-score-range <range file> <data file> [i] [j] ['header'] :\n",
            "    Apply --score to subset(s) of variants in the primary score list based\n",
            "    on e.g. p-value ranges.\n",
            "    * The first file should have range labels in the first column, p-value\n",
            "      lower bounds in the second column, and upper bounds in the third column.\n",
            "      Lines with too few entries, or nonnumeric values in the second or third\n",
            "      column, are ignored.\n",
            "    * The second file should contain a variant ID and a p-value on each\n",
            "      nonempty line (except possibly the first).  Variant IDs are read from\n",
            "      column #i and p-values are read from column #j, where i defaults to 1 and\n",
            "      j defaults to i+1.  The 'header' modifier causes the first nonempty line\n",
            "      of this file to be skipped.\n",
            "  --R-port <port #>  : Connect to Rserve on a port other than 6311.\n",
            "  --R-host <host>    : Connect to Rserve host.\n",
            "  --R-socket <sock>  : Connect to Rserve socket.\n",
            "  --parallel <k> <n> : Divide the output matrix into n pieces, and only compute\n",
            "                       the kth piece.  The primary output file will have the\n",
            "                       piece number included in its name, e.g. plink.rel.13 or\n",
            "                       plink.rel.13.gz if k is 13.  Concatenating these files\n",
            "                       in order will yield the full matrix of interest.  (Yes,\n",
            "                       this can be done before unzipping.)\n",
            "                       N.B. This generally cannot be used to directly write a\n",
            "                       symmetric square matrix.  Choose square0 or triangle\n",
            "                       shape instead, and postprocess as necessary.\n",
            "  --memory <val>     : Set size, in MB, of initial workspace malloc attempt.\n",
            "                       (Practically mandatory when using GNU parallel.)\n",
            "  --threads <val>    : Set maximum number of concurrent threads.\n",
            "                       This has one known limitation: some BLAS/LAPACK linear\n",
            "                       algebra operations are multithreaded in a way that PLINK\n",
            "                       cannot control.  If this is problematic, you should\n",
            "                       recompile against single-threaded BLAS/LAPACK.\n",
            "  --d <char>         : Change variant/covariate range delimiter (normally '-').\n",
            "  --seed <val...>    : Set random number seed(s).  Each value must be an\n",
            "                       integer between 0 and 4294967295 inclusive.\n",
            "  --perm-batch-size <val> : Set number of permutations per batch for some\n",
            "                            permutation tests.\n",
            "  --native           : Allow Intel MKL to use processor-dependent code paths.\n",
            "  --output-min-p <p> : Specify minimum p-value to write to reports.\n",
            "  --debug            : Use slower, more crash-resistant logging method.\n",
            "\n",
            "Primary methods paper:\n",
            "Chang CC, Chow CC, Tellier LCAM, Vattikuti S, Purcell SM, Lee JJ (2015)\n",
            "Second-generation PLINK: rising to the challenge of larger and richer datasets.\n",
            "GigaScience, 4.\n",
            "\n",
            "For further documentation and support, consult the main webpage\n",
            "(https://www.cog-genomics.org/plink/1.9 ) and/or the mailing list\n",
            "(https://groups.google.com/d/forum/plink2-users ).\n"
          ]
        }
      ]
    },
    {
      "cell_type": "markdown",
      "source": [
        "# **PGS**\n",
        "## Importing scores\n",
        "As previously mentioned, we will study two PGS, one for CAD and the other for the MEP1B protein levels. These scores were computed on large studies and are publicly available. We will start by importing the summary statistics for the variants used to construct the two scores.\n",
        "\n",
        "\n",
        "**Exercise 1:**\n",
        "- Import the data from the dropbox: https://www.dropbox.com/s/4083718iyo46nw2/liftedover.CAD.score?dl=1 for CAD and https://www.dropbox.com/s/o71gg622t2vnjqu/MEP1B.gilly.prs.txt?dl=1 for MEP1B. Use `read.table()` to do so.\n",
        "- If needed, create an `id` column corresponding to chr`chromosome_number`:`position`\n",
        "- For both traits, export a file containing the columns `id`, `effect_allele` and `effect_weight` (rename the columns of the file if necessary). These files should be name `CAD.score` and `MEP1B.score`.\n",
        "\n",
        "**Question 1:** How many variants compose the two scores ?"
      ],
      "metadata": {
        "id": "yRvj7O9V6_hF"
      }
    },
    {
      "cell_type": "code",
      "source": [
        "#@title Scores importation\n",
        "cadscore = read.table(\"https://www.dropbox.com/s/4083718iyo46nw2/liftedover.CAD.score?dl=1\")\n",
        "mepscore=read.table(\"https://www.dropbox.com/s/o71gg622t2vnjqu/MEP1B.gilly.prs.txt?dl=1\", header = TRUE)\n",
        "head(cadscore)\n",
        "head(mepscore)"
      ],
      "metadata": {
        "id": "o5e2H1V73tEw",
        "outputId": "9a093371-34cb-4b62-f1d8-81db0206a8b1",
        "colab": {
          "base_uri": "https://localhost:8080/",
          "height": 555
        }
      },
      "execution_count": null,
      "outputs": [
        {
          "output_type": "display_data",
          "data": {
            "text/html": [
              "<table class=\"dataframe\">\n",
              "<caption>A data.frame: 6 × 6</caption>\n",
              "<thead>\n",
              "\t<tr><th></th><th scope=col>V1</th><th scope=col>V2</th><th scope=col>V3</th><th scope=col>V4</th><th scope=col>V5</th><th scope=col>V6</th></tr>\n",
              "\t<tr><th></th><th scope=col>&lt;chr&gt;</th><th scope=col>&lt;int&gt;</th><th scope=col>&lt;chr&gt;</th><th scope=col>&lt;dbl&gt;</th><th scope=col>&lt;chr&gt;</th><th scope=col>&lt;chr&gt;</th></tr>\n",
              "</thead>\n",
              "<tbody>\n",
              "\t<tr><th scope=row>1</th><td>1</td><td>1023851</td><td>A</td><td> 0.0113215</td><td>1:959231:G:A </td><td>chr1:1023851</td></tr>\n",
              "\t<tr><th scope=row>2</th><td>1</td><td>1184478</td><td>T</td><td>-0.0165875</td><td>1:1119858:C:T</td><td>chr1:1184478</td></tr>\n",
              "\t<tr><th scope=row>3</th><td>1</td><td>1186644</td><td>C</td><td> 0.0135431</td><td>1:1122024:T:C</td><td>chr1:1186644</td></tr>\n",
              "\t<tr><th scope=row>4</th><td>1</td><td>1219478</td><td>T</td><td>-0.0243073</td><td>1:1154858:C:T</td><td>chr1:1219478</td></tr>\n",
              "\t<tr><th scope=row>5</th><td>1</td><td>1236037</td><td>T</td><td>-0.0126844</td><td>1:1171417:C:T</td><td>chr1:1236037</td></tr>\n",
              "\t<tr><th scope=row>6</th><td>1</td><td>1274972</td><td>G</td><td>-0.0193357</td><td>1:1210352:A:G</td><td>chr1:1274972</td></tr>\n",
              "</tbody>\n",
              "</table>\n"
            ],
            "text/markdown": "\nA data.frame: 6 × 6\n\n| <!--/--> | V1 &lt;chr&gt; | V2 &lt;int&gt; | V3 &lt;chr&gt; | V4 &lt;dbl&gt; | V5 &lt;chr&gt; | V6 &lt;chr&gt; |\n|---|---|---|---|---|---|---|\n| 1 | 1 | 1023851 | A |  0.0113215 | 1:959231:G:A  | chr1:1023851 |\n| 2 | 1 | 1184478 | T | -0.0165875 | 1:1119858:C:T | chr1:1184478 |\n| 3 | 1 | 1186644 | C |  0.0135431 | 1:1122024:T:C | chr1:1186644 |\n| 4 | 1 | 1219478 | T | -0.0243073 | 1:1154858:C:T | chr1:1219478 |\n| 5 | 1 | 1236037 | T | -0.0126844 | 1:1171417:C:T | chr1:1236037 |\n| 6 | 1 | 1274972 | G | -0.0193357 | 1:1210352:A:G | chr1:1274972 |\n\n",
            "text/latex": "A data.frame: 6 × 6\n\\begin{tabular}{r|llllll}\n  & V1 & V2 & V3 & V4 & V5 & V6\\\\\n  & <chr> & <int> & <chr> & <dbl> & <chr> & <chr>\\\\\n\\hline\n\t1 & 1 & 1023851 & A &  0.0113215 & 1:959231:G:A  & chr1:1023851\\\\\n\t2 & 1 & 1184478 & T & -0.0165875 & 1:1119858:C:T & chr1:1184478\\\\\n\t3 & 1 & 1186644 & C &  0.0135431 & 1:1122024:T:C & chr1:1186644\\\\\n\t4 & 1 & 1219478 & T & -0.0243073 & 1:1154858:C:T & chr1:1219478\\\\\n\t5 & 1 & 1236037 & T & -0.0126844 & 1:1171417:C:T & chr1:1236037\\\\\n\t6 & 1 & 1274972 & G & -0.0193357 & 1:1210352:A:G & chr1:1274972\\\\\n\\end{tabular}\n",
            "text/plain": [
              "  V1 V2      V3 V4         V5            V6          \n",
              "1 1  1023851 A   0.0113215 1:959231:G:A  chr1:1023851\n",
              "2 1  1184478 T  -0.0165875 1:1119858:C:T chr1:1184478\n",
              "3 1  1186644 C   0.0135431 1:1122024:T:C chr1:1186644\n",
              "4 1  1219478 T  -0.0243073 1:1154858:C:T chr1:1219478\n",
              "5 1  1236037 T  -0.0126844 1:1171417:C:T chr1:1236037\n",
              "6 1  1274972 G  -0.0193357 1:1210352:A:G chr1:1274972"
            ]
          },
          "metadata": {}
        },
        {
          "output_type": "display_data",
          "data": {
            "text/html": [
              "<table class=\"dataframe\">\n",
              "<caption>A data.frame: 6 × 5</caption>\n",
              "<thead>\n",
              "\t<tr><th></th><th scope=col>chr</th><th scope=col>pos</th><th scope=col>A1</th><th scope=col>A2</th><th scope=col>effect</th></tr>\n",
              "\t<tr><th></th><th scope=col>&lt;int&gt;</th><th scope=col>&lt;int&gt;</th><th scope=col>&lt;chr&gt;</th><th scope=col>&lt;chr&gt;</th><th scope=col>&lt;dbl&gt;</th></tr>\n",
              "</thead>\n",
              "<tbody>\n",
              "\t<tr><th scope=row>1</th><td>18</td><td>32038169</td><td>T</td><td>C</td><td>-0.2891709</td></tr>\n",
              "\t<tr><th scope=row>2</th><td>18</td><td>32067215</td><td>C</td><td>T</td><td> 0.4230704</td></tr>\n",
              "\t<tr><th scope=row>3</th><td>18</td><td>32208550</td><td>G</td><td>C</td><td>-0.6470447</td></tr>\n",
              "\t<tr><th scope=row>4</th><td>18</td><td>32224458</td><td>T</td><td>C</td><td>-0.6871607</td></tr>\n",
              "\t<tr><th scope=row>5</th><td>18</td><td>32224900</td><td>A</td><td>T</td><td>-1.0701130</td></tr>\n",
              "\t<tr><th scope=row>6</th><td>18</td><td>32317264</td><td>C</td><td>G</td><td>-0.5560340</td></tr>\n",
              "</tbody>\n",
              "</table>\n"
            ],
            "text/markdown": "\nA data.frame: 6 × 5\n\n| <!--/--> | chr &lt;int&gt; | pos &lt;int&gt; | A1 &lt;chr&gt; | A2 &lt;chr&gt; | effect &lt;dbl&gt; |\n|---|---|---|---|---|---|\n| 1 | 18 | 32038169 | T | C | -0.2891709 |\n| 2 | 18 | 32067215 | C | T |  0.4230704 |\n| 3 | 18 | 32208550 | G | C | -0.6470447 |\n| 4 | 18 | 32224458 | T | C | -0.6871607 |\n| 5 | 18 | 32224900 | A | T | -1.0701130 |\n| 6 | 18 | 32317264 | C | G | -0.5560340 |\n\n",
            "text/latex": "A data.frame: 6 × 5\n\\begin{tabular}{r|lllll}\n  & chr & pos & A1 & A2 & effect\\\\\n  & <int> & <int> & <chr> & <chr> & <dbl>\\\\\n\\hline\n\t1 & 18 & 32038169 & T & C & -0.2891709\\\\\n\t2 & 18 & 32067215 & C & T &  0.4230704\\\\\n\t3 & 18 & 32208550 & G & C & -0.6470447\\\\\n\t4 & 18 & 32224458 & T & C & -0.6871607\\\\\n\t5 & 18 & 32224900 & A & T & -1.0701130\\\\\n\t6 & 18 & 32317264 & C & G & -0.5560340\\\\\n\\end{tabular}\n",
            "text/plain": [
              "  chr pos      A1 A2 effect    \n",
              "1 18  32038169 T  C  -0.2891709\n",
              "2 18  32067215 C  T   0.4230704\n",
              "3 18  32208550 G  C  -0.6470447\n",
              "4 18  32224458 T  C  -0.6871607\n",
              "5 18  32224900 A  T  -1.0701130\n",
              "6 18  32317264 C  G  -0.5560340"
            ]
          },
          "metadata": {}
        }
      ]
    },
    {
      "cell_type": "code",
      "source": [
        "# use this tab and try to solve the task by youself"
      ],
      "metadata": {
        "id": "knNa_6QJDUhh"
      },
      "execution_count": null,
      "outputs": []
    },
    {
      "cell_type": "code",
      "source": [
        "#@title Get id column\n",
        "colnames(cadscore) <- c(\"chr_name\", \"chr_position\", \"effect_allele\", \"effect_weight\", \"id_alleles\", \"id\")\n",
        "head(cadscore)\n",
        "mepscore$id <- paste0(\"chr\", mepscore$chr, \":\", mepscore$pos)\n",
        "head(mepscore)"
      ],
      "metadata": {
        "id": "LmkySIlO8ZXa",
        "outputId": "6e4b4907-c631-47e8-c4ea-5f9a07827490",
        "colab": {
          "base_uri": "https://localhost:8080/",
          "height": 555
        }
      },
      "execution_count": null,
      "outputs": [
        {
          "output_type": "display_data",
          "data": {
            "text/html": [
              "<table class=\"dataframe\">\n",
              "<caption>A data.frame: 6 × 6</caption>\n",
              "<thead>\n",
              "\t<tr><th></th><th scope=col>chr_name</th><th scope=col>chr_position</th><th scope=col>effect_allele</th><th scope=col>effect_weight</th><th scope=col>id_alleles</th><th scope=col>id</th></tr>\n",
              "\t<tr><th></th><th scope=col>&lt;chr&gt;</th><th scope=col>&lt;int&gt;</th><th scope=col>&lt;chr&gt;</th><th scope=col>&lt;dbl&gt;</th><th scope=col>&lt;chr&gt;</th><th scope=col>&lt;chr&gt;</th></tr>\n",
              "</thead>\n",
              "<tbody>\n",
              "\t<tr><th scope=row>1</th><td>1</td><td>1023851</td><td>A</td><td> 0.0113215</td><td>1:959231:G:A </td><td>chr1:1023851</td></tr>\n",
              "\t<tr><th scope=row>2</th><td>1</td><td>1184478</td><td>T</td><td>-0.0165875</td><td>1:1119858:C:T</td><td>chr1:1184478</td></tr>\n",
              "\t<tr><th scope=row>3</th><td>1</td><td>1186644</td><td>C</td><td> 0.0135431</td><td>1:1122024:T:C</td><td>chr1:1186644</td></tr>\n",
              "\t<tr><th scope=row>4</th><td>1</td><td>1219478</td><td>T</td><td>-0.0243073</td><td>1:1154858:C:T</td><td>chr1:1219478</td></tr>\n",
              "\t<tr><th scope=row>5</th><td>1</td><td>1236037</td><td>T</td><td>-0.0126844</td><td>1:1171417:C:T</td><td>chr1:1236037</td></tr>\n",
              "\t<tr><th scope=row>6</th><td>1</td><td>1274972</td><td>G</td><td>-0.0193357</td><td>1:1210352:A:G</td><td>chr1:1274972</td></tr>\n",
              "</tbody>\n",
              "</table>\n"
            ],
            "text/markdown": "\nA data.frame: 6 × 6\n\n| <!--/--> | chr_name &lt;chr&gt; | chr_position &lt;int&gt; | effect_allele &lt;chr&gt; | effect_weight &lt;dbl&gt; | id_alleles &lt;chr&gt; | id &lt;chr&gt; |\n|---|---|---|---|---|---|---|\n| 1 | 1 | 1023851 | A |  0.0113215 | 1:959231:G:A  | chr1:1023851 |\n| 2 | 1 | 1184478 | T | -0.0165875 | 1:1119858:C:T | chr1:1184478 |\n| 3 | 1 | 1186644 | C |  0.0135431 | 1:1122024:T:C | chr1:1186644 |\n| 4 | 1 | 1219478 | T | -0.0243073 | 1:1154858:C:T | chr1:1219478 |\n| 5 | 1 | 1236037 | T | -0.0126844 | 1:1171417:C:T | chr1:1236037 |\n| 6 | 1 | 1274972 | G | -0.0193357 | 1:1210352:A:G | chr1:1274972 |\n\n",
            "text/latex": "A data.frame: 6 × 6\n\\begin{tabular}{r|llllll}\n  & chr\\_name & chr\\_position & effect\\_allele & effect\\_weight & id\\_alleles & id\\\\\n  & <chr> & <int> & <chr> & <dbl> & <chr> & <chr>\\\\\n\\hline\n\t1 & 1 & 1023851 & A &  0.0113215 & 1:959231:G:A  & chr1:1023851\\\\\n\t2 & 1 & 1184478 & T & -0.0165875 & 1:1119858:C:T & chr1:1184478\\\\\n\t3 & 1 & 1186644 & C &  0.0135431 & 1:1122024:T:C & chr1:1186644\\\\\n\t4 & 1 & 1219478 & T & -0.0243073 & 1:1154858:C:T & chr1:1219478\\\\\n\t5 & 1 & 1236037 & T & -0.0126844 & 1:1171417:C:T & chr1:1236037\\\\\n\t6 & 1 & 1274972 & G & -0.0193357 & 1:1210352:A:G & chr1:1274972\\\\\n\\end{tabular}\n",
            "text/plain": [
              "  chr_name chr_position effect_allele effect_weight id_alleles    id          \n",
              "1 1        1023851      A              0.0113215    1:959231:G:A  chr1:1023851\n",
              "2 1        1184478      T             -0.0165875    1:1119858:C:T chr1:1184478\n",
              "3 1        1186644      C              0.0135431    1:1122024:T:C chr1:1186644\n",
              "4 1        1219478      T             -0.0243073    1:1154858:C:T chr1:1219478\n",
              "5 1        1236037      T             -0.0126844    1:1171417:C:T chr1:1236037\n",
              "6 1        1274972      G             -0.0193357    1:1210352:A:G chr1:1274972"
            ]
          },
          "metadata": {}
        },
        {
          "output_type": "display_data",
          "data": {
            "text/html": [
              "<table class=\"dataframe\">\n",
              "<caption>A data.frame: 6 × 6</caption>\n",
              "<thead>\n",
              "\t<tr><th></th><th scope=col>chr</th><th scope=col>pos</th><th scope=col>A1</th><th scope=col>A2</th><th scope=col>effect</th><th scope=col>id</th></tr>\n",
              "\t<tr><th></th><th scope=col>&lt;int&gt;</th><th scope=col>&lt;int&gt;</th><th scope=col>&lt;chr&gt;</th><th scope=col>&lt;chr&gt;</th><th scope=col>&lt;dbl&gt;</th><th scope=col>&lt;chr&gt;</th></tr>\n",
              "</thead>\n",
              "<tbody>\n",
              "\t<tr><th scope=row>1</th><td>18</td><td>32038169</td><td>T</td><td>C</td><td>-0.2891709</td><td>chr18:32038169</td></tr>\n",
              "\t<tr><th scope=row>2</th><td>18</td><td>32067215</td><td>C</td><td>T</td><td> 0.4230704</td><td>chr18:32067215</td></tr>\n",
              "\t<tr><th scope=row>3</th><td>18</td><td>32208550</td><td>G</td><td>C</td><td>-0.6470447</td><td>chr18:32208550</td></tr>\n",
              "\t<tr><th scope=row>4</th><td>18</td><td>32224458</td><td>T</td><td>C</td><td>-0.6871607</td><td>chr18:32224458</td></tr>\n",
              "\t<tr><th scope=row>5</th><td>18</td><td>32224900</td><td>A</td><td>T</td><td>-1.0701130</td><td>chr18:32224900</td></tr>\n",
              "\t<tr><th scope=row>6</th><td>18</td><td>32317264</td><td>C</td><td>G</td><td>-0.5560340</td><td>chr18:32317264</td></tr>\n",
              "</tbody>\n",
              "</table>\n"
            ],
            "text/markdown": "\nA data.frame: 6 × 6\n\n| <!--/--> | chr &lt;int&gt; | pos &lt;int&gt; | A1 &lt;chr&gt; | A2 &lt;chr&gt; | effect &lt;dbl&gt; | id &lt;chr&gt; |\n|---|---|---|---|---|---|---|\n| 1 | 18 | 32038169 | T | C | -0.2891709 | chr18:32038169 |\n| 2 | 18 | 32067215 | C | T |  0.4230704 | chr18:32067215 |\n| 3 | 18 | 32208550 | G | C | -0.6470447 | chr18:32208550 |\n| 4 | 18 | 32224458 | T | C | -0.6871607 | chr18:32224458 |\n| 5 | 18 | 32224900 | A | T | -1.0701130 | chr18:32224900 |\n| 6 | 18 | 32317264 | C | G | -0.5560340 | chr18:32317264 |\n\n",
            "text/latex": "A data.frame: 6 × 6\n\\begin{tabular}{r|llllll}\n  & chr & pos & A1 & A2 & effect & id\\\\\n  & <int> & <int> & <chr> & <chr> & <dbl> & <chr>\\\\\n\\hline\n\t1 & 18 & 32038169 & T & C & -0.2891709 & chr18:32038169\\\\\n\t2 & 18 & 32067215 & C & T &  0.4230704 & chr18:32067215\\\\\n\t3 & 18 & 32208550 & G & C & -0.6470447 & chr18:32208550\\\\\n\t4 & 18 & 32224458 & T & C & -0.6871607 & chr18:32224458\\\\\n\t5 & 18 & 32224900 & A & T & -1.0701130 & chr18:32224900\\\\\n\t6 & 18 & 32317264 & C & G & -0.5560340 & chr18:32317264\\\\\n\\end{tabular}\n",
            "text/plain": [
              "  chr pos      A1 A2 effect     id            \n",
              "1 18  32038169 T  C  -0.2891709 chr18:32038169\n",
              "2 18  32067215 C  T   0.4230704 chr18:32067215\n",
              "3 18  32208550 G  C  -0.6470447 chr18:32208550\n",
              "4 18  32224458 T  C  -0.6871607 chr18:32224458\n",
              "5 18  32224900 A  T  -1.0701130 chr18:32224900\n",
              "6 18  32317264 C  G  -0.5560340 chr18:32317264"
            ]
          },
          "metadata": {}
        }
      ]
    },
    {
      "cell_type": "code",
      "source": [
        "# use this tab and try to solve the task by youself"
      ],
      "metadata": {
        "id": "lLRnMJyBDtk0"
      },
      "execution_count": null,
      "outputs": []
    },
    {
      "cell_type": "code",
      "source": [
        "#@title Export the files\n",
        "write.table(cadscore[,c(\"id\", \"effect_allele\", \"effect_weight\")], \"CAD.score\", sep=\"\\t\", col.names=F, quote=F, row.names = F)\n",
        "write.table(mepscore[,c(\"id\", \"A1\", \"effect\")], \"MEP1B.score\", sep=\"\\t\", col.names=F, quote=F, row.names = F)"
      ],
      "metadata": {
        "id": "4Q7MIuNd9CJX"
      },
      "execution_count": null,
      "outputs": []
    },
    {
      "cell_type": "code",
      "source": [
        "# use this tab and try to solve the task by youself"
      ],
      "metadata": {
        "id": "MjEf1fWoDuCh"
      },
      "execution_count": null,
      "outputs": []
    },
    {
      "cell_type": "code",
      "source": [
        "#@title Answer question 1\n",
        "cat(\"CAD PGS is composed of\", nrow(cadscore), \"variants\\n\")\n",
        "cat(\"MEP1B PGS is composed of\", nrow(mepscore), \"variants\\n\")"
      ],
      "metadata": {
        "id": "3jdxPtK7-xq0",
        "outputId": "3d79a82b-b086-464b-d22d-b218c5ed344a",
        "colab": {
          "base_uri": "https://localhost:8080/"
        }
      },
      "execution_count": null,
      "outputs": [
        {
          "output_type": "stream",
          "name": "stdout",
          "text": [
            "CAD PGS is composed of 75001 variants\n",
            "MEP1B PGS is composed of 7 variants\n"
          ]
        }
      ]
    },
    {
      "cell_type": "code",
      "source": [
        "# use this tab and try to solve the task by youself"
      ],
      "metadata": {
        "id": "Ylu0doGKDutu"
      },
      "execution_count": null,
      "outputs": []
    },
    {
      "cell_type": "code",
      "source": [
        "#@title **Optional** Alternative using the data.table library\n",
        "cadscore = fread(\"https://www.dropbox.com/s/4083718iyo46nw2/liftedover.CAD.score?dl=1\")\n",
        "cadscore[,id:=paste0(\"chr\", V1, \":\", V2)]\n",
        "cadscore = cadscore[, .(chr_name=V1, chr_position=V2, effect_allele=V3, effect_weight=V4, id)]\n",
        "fwrite(cadscore[,c(\"id\", \"effect_allele\", \"effect_weight\")], \"CAD.score\", sep=\"\\t\", col.names=F, quote=F)\n",
        "\n",
        "#With MEP1B\n",
        "mepscore=fread(\"https://www.dropbox.com/s/o71gg622t2vnjqu/MEP1B.gilly.prs.txt?dl=1\")\n",
        "mepscore[,id:=paste0(\"chr\", chr, \":\", pos)]\n",
        "head(mepscore)\n",
        "fwrite(mepscore[,c(\"id\", \"A1\", \"effect\")], \"MEP1B.score\", sep=\"\\t\", col.names=F, quote=F)"
      ],
      "metadata": {
        "cellView": "form",
        "id": "-4TEKL5x9auP"
      },
      "execution_count": null,
      "outputs": []
    },
    {
      "cell_type": "markdown",
      "source": [
        "## Applying scores\n",
        "We will now apply the scores to 2504 individuals of the 1000 Genome project. From the lecture, you will remember that we need genotype data for these individuals as well as the weights contained in the score files above. We will first use R to manually compute these PGS and then Plink, a popular genetic toolbox installed in this environment."
      ],
      "metadata": {
        "id": "KujnAQgeYQ_a"
      }
    },
    {
      "cell_type": "markdown",
      "source": [
        "# Method 1: Manually applying scores (R)"
      ],
      "metadata": {
        "id": "lHRV58ozYfen"
      }
    },
    {
      "cell_type": "markdown",
      "source": [
        "**Exercise 2**: We will start by loading the genetic file autosomal.forPRS.mx.traw file.\n",
        "- Get the data from https://www.dropbox.com/s/civmjfv89ou72cc/PRS.course.forscore.tar.gz using `system` and `wget`\n",
        "- Untar the data\n",
        "- Import the genotypes (file `autosomal.forPRS.mx.traw`) and the individual information (file `autosomal.forPRS.fam`) in R using `read.table`. The matrix of genotypes has positions as rows and samples as columns. The first 6 columns describe the chromosome position and alleles.\n",
        "- Save the names of the samples present in the genotype matrix\n",
        "\n",
        "**Question 2**: How many variants are present in the genotype file ? How many individuals are in the genotype matrix and in the fam file ?"
      ],
      "metadata": {
        "id": "8F_MsYEcbCDm"
      }
    },
    {
      "cell_type": "code",
      "source": [
        "#@title Download and untar data\n",
        "cat(system('wget https://www.dropbox.com/s/civmjfv89ou72cc/PRS.course.forscore.tar.gz', intern=T), sep=\"\\n\")\n",
        "cat(system('tar -xf PRS.course.forscore.tar.gz', intern=T), sep=\"\\n\")"
      ],
      "metadata": {
        "id": "IT-gToNmAD-9",
        "outputId": "0e466158-daeb-4121-c5e7-81df817fe048",
        "colab": {
          "base_uri": "https://localhost:8080/"
        }
      },
      "execution_count": null,
      "outputs": [
        {
          "output_type": "stream",
          "name": "stdout",
          "text": [
            "\n",
            "\n"
          ]
        }
      ]
    },
    {
      "cell_type": "code",
      "source": [
        "# use this tab and try to solve the task by youself"
      ],
      "metadata": {
        "id": "aGpELwLTDodR"
      },
      "execution_count": null,
      "outputs": []
    },
    {
      "cell_type": "code",
      "source": [
        "#@title Import genotypes and fam files\n",
        "genos=read.table(\"autosomal.forPRS.mx.traw\", header = TRUE)\n",
        "famfile=read.table(\"autosomal.forPRS.fam\")\n",
        "head(genos)\n",
        "head(famfile)"
      ],
      "metadata": {
        "id": "llDy_LBS5plW",
        "outputId": "1e56881d-bf48-411a-bbb4-730f62d1a066",
        "colab": {
          "base_uri": "https://localhost:8080/",
          "height": 575
        }
      },
      "execution_count": null,
      "outputs": [
        {
          "output_type": "display_data",
          "data": {
            "text/html": [
              "<table class=\"dataframe\">\n",
              "<caption>A data.frame: 6 × 2510</caption>\n",
              "<thead>\n",
              "\t<tr><th></th><th scope=col>CHR</th><th scope=col>SNP</th><th scope=col>X.C.M</th><th scope=col>POS</th><th scope=col>COUNTED</th><th scope=col>ALT</th><th scope=col>HG00096_HG00096</th><th scope=col>HG00097_HG00097</th><th scope=col>HG00099_HG00099</th><th scope=col>HG00100_HG00100</th><th scope=col>⋯</th><th scope=col>NA21128_NA21128</th><th scope=col>NA21129_NA21129</th><th scope=col>NA21130_NA21130</th><th scope=col>NA21133_NA21133</th><th scope=col>NA21135_NA21135</th><th scope=col>NA21137_NA21137</th><th scope=col>NA21141_NA21141</th><th scope=col>NA21142_NA21142</th><th scope=col>NA21143_NA21143</th><th scope=col>NA21144_NA21144</th></tr>\n",
              "\t<tr><th></th><th scope=col>&lt;int&gt;</th><th scope=col>&lt;chr&gt;</th><th scope=col>&lt;int&gt;</th><th scope=col>&lt;int&gt;</th><th scope=col>&lt;chr&gt;</th><th scope=col>&lt;chr&gt;</th><th scope=col>&lt;int&gt;</th><th scope=col>&lt;int&gt;</th><th scope=col>&lt;int&gt;</th><th scope=col>&lt;int&gt;</th><th scope=col>⋯</th><th scope=col>&lt;int&gt;</th><th scope=col>&lt;int&gt;</th><th scope=col>&lt;int&gt;</th><th scope=col>&lt;int&gt;</th><th scope=col>&lt;int&gt;</th><th scope=col>&lt;int&gt;</th><th scope=col>&lt;int&gt;</th><th scope=col>&lt;int&gt;</th><th scope=col>&lt;int&gt;</th><th scope=col>&lt;int&gt;</th></tr>\n",
              "</thead>\n",
              "<tbody>\n",
              "\t<tr><th scope=row>1</th><td>1</td><td>chr1:1023851</td><td>0</td><td>1023851</td><td>A</td><td>G</td><td>0</td><td>1</td><td>2</td><td>1</td><td>⋯</td><td>1</td><td>2</td><td>1</td><td>0</td><td>0</td><td>0</td><td>2</td><td>1</td><td>1</td><td>0</td></tr>\n",
              "\t<tr><th scope=row>2</th><td>1</td><td>chr1:1184478</td><td>0</td><td>1184478</td><td>T</td><td>C</td><td>0</td><td>0</td><td>0</td><td>0</td><td>⋯</td><td>0</td><td>1</td><td>0</td><td>0</td><td>1</td><td>0</td><td>1</td><td>1</td><td>1</td><td>0</td></tr>\n",
              "\t<tr><th scope=row>3</th><td>1</td><td>chr1:1186644</td><td>0</td><td>1186644</td><td>C</td><td>T</td><td>0</td><td>0</td><td>0</td><td>0</td><td>⋯</td><td>1</td><td>0</td><td>2</td><td>1</td><td>0</td><td>1</td><td>1</td><td>1</td><td>1</td><td>0</td></tr>\n",
              "\t<tr><th scope=row>4</th><td>1</td><td>chr1:1219478</td><td>0</td><td>1219478</td><td>T</td><td>C</td><td>0</td><td>0</td><td>0</td><td>0</td><td>⋯</td><td>0</td><td>0</td><td>0</td><td>0</td><td>0</td><td>0</td><td>0</td><td>0</td><td>0</td><td>0</td></tr>\n",
              "\t<tr><th scope=row>5</th><td>1</td><td>chr1:1236037</td><td>0</td><td>1236037</td><td>C</td><td>T</td><td>1</td><td>1</td><td>2</td><td>1</td><td>⋯</td><td>1</td><td>0</td><td>0</td><td>0</td><td>1</td><td>1</td><td>0</td><td>0</td><td>0</td><td>1</td></tr>\n",
              "\t<tr><th scope=row>6</th><td>1</td><td>chr1:1274972</td><td>0</td><td>1274972</td><td>G</td><td>A</td><td>0</td><td>0</td><td>0</td><td>0</td><td>⋯</td><td>0</td><td>1</td><td>1</td><td>1</td><td>0</td><td>1</td><td>1</td><td>2</td><td>2</td><td>0</td></tr>\n",
              "</tbody>\n",
              "</table>\n"
            ],
            "text/markdown": "\nA data.frame: 6 × 2510\n\n| <!--/--> | CHR &lt;int&gt; | SNP &lt;chr&gt; | X.C.M &lt;int&gt; | POS &lt;int&gt; | COUNTED &lt;chr&gt; | ALT &lt;chr&gt; | HG00096_HG00096 &lt;int&gt; | HG00097_HG00097 &lt;int&gt; | HG00099_HG00099 &lt;int&gt; | HG00100_HG00100 &lt;int&gt; | ⋯ ⋯ | NA21128_NA21128 &lt;int&gt; | NA21129_NA21129 &lt;int&gt; | NA21130_NA21130 &lt;int&gt; | NA21133_NA21133 &lt;int&gt; | NA21135_NA21135 &lt;int&gt; | NA21137_NA21137 &lt;int&gt; | NA21141_NA21141 &lt;int&gt; | NA21142_NA21142 &lt;int&gt; | NA21143_NA21143 &lt;int&gt; | NA21144_NA21144 &lt;int&gt; |\n|---|---|---|---|---|---|---|---|---|---|---|---|---|---|---|---|---|---|---|---|---|---|\n| 1 | 1 | chr1:1023851 | 0 | 1023851 | A | G | 0 | 1 | 2 | 1 | ⋯ | 1 | 2 | 1 | 0 | 0 | 0 | 2 | 1 | 1 | 0 |\n| 2 | 1 | chr1:1184478 | 0 | 1184478 | T | C | 0 | 0 | 0 | 0 | ⋯ | 0 | 1 | 0 | 0 | 1 | 0 | 1 | 1 | 1 | 0 |\n| 3 | 1 | chr1:1186644 | 0 | 1186644 | C | T | 0 | 0 | 0 | 0 | ⋯ | 1 | 0 | 2 | 1 | 0 | 1 | 1 | 1 | 1 | 0 |\n| 4 | 1 | chr1:1219478 | 0 | 1219478 | T | C | 0 | 0 | 0 | 0 | ⋯ | 0 | 0 | 0 | 0 | 0 | 0 | 0 | 0 | 0 | 0 |\n| 5 | 1 | chr1:1236037 | 0 | 1236037 | C | T | 1 | 1 | 2 | 1 | ⋯ | 1 | 0 | 0 | 0 | 1 | 1 | 0 | 0 | 0 | 1 |\n| 6 | 1 | chr1:1274972 | 0 | 1274972 | G | A | 0 | 0 | 0 | 0 | ⋯ | 0 | 1 | 1 | 1 | 0 | 1 | 1 | 2 | 2 | 0 |\n\n",
            "text/latex": "A data.frame: 6 × 2510\n\\begin{tabular}{r|lllllllllllllllllllll}\n  & CHR & SNP & X.C.M & POS & COUNTED & ALT & HG00096\\_HG00096 & HG00097\\_HG00097 & HG00099\\_HG00099 & HG00100\\_HG00100 & ⋯ & NA21128\\_NA21128 & NA21129\\_NA21129 & NA21130\\_NA21130 & NA21133\\_NA21133 & NA21135\\_NA21135 & NA21137\\_NA21137 & NA21141\\_NA21141 & NA21142\\_NA21142 & NA21143\\_NA21143 & NA21144\\_NA21144\\\\\n  & <int> & <chr> & <int> & <int> & <chr> & <chr> & <int> & <int> & <int> & <int> & ⋯ & <int> & <int> & <int> & <int> & <int> & <int> & <int> & <int> & <int> & <int>\\\\\n\\hline\n\t1 & 1 & chr1:1023851 & 0 & 1023851 & A & G & 0 & 1 & 2 & 1 & ⋯ & 1 & 2 & 1 & 0 & 0 & 0 & 2 & 1 & 1 & 0\\\\\n\t2 & 1 & chr1:1184478 & 0 & 1184478 & T & C & 0 & 0 & 0 & 0 & ⋯ & 0 & 1 & 0 & 0 & 1 & 0 & 1 & 1 & 1 & 0\\\\\n\t3 & 1 & chr1:1186644 & 0 & 1186644 & C & T & 0 & 0 & 0 & 0 & ⋯ & 1 & 0 & 2 & 1 & 0 & 1 & 1 & 1 & 1 & 0\\\\\n\t4 & 1 & chr1:1219478 & 0 & 1219478 & T & C & 0 & 0 & 0 & 0 & ⋯ & 0 & 0 & 0 & 0 & 0 & 0 & 0 & 0 & 0 & 0\\\\\n\t5 & 1 & chr1:1236037 & 0 & 1236037 & C & T & 1 & 1 & 2 & 1 & ⋯ & 1 & 0 & 0 & 0 & 1 & 1 & 0 & 0 & 0 & 1\\\\\n\t6 & 1 & chr1:1274972 & 0 & 1274972 & G & A & 0 & 0 & 0 & 0 & ⋯ & 0 & 1 & 1 & 1 & 0 & 1 & 1 & 2 & 2 & 0\\\\\n\\end{tabular}\n",
            "text/plain": [
              "  CHR SNP          X.C.M POS     COUNTED ALT HG00096_HG00096 HG00097_HG00097\n",
              "1 1   chr1:1023851 0     1023851 A       G   0               1              \n",
              "2 1   chr1:1184478 0     1184478 T       C   0               0              \n",
              "3 1   chr1:1186644 0     1186644 C       T   0               0              \n",
              "4 1   chr1:1219478 0     1219478 T       C   0               0              \n",
              "5 1   chr1:1236037 0     1236037 C       T   1               1              \n",
              "6 1   chr1:1274972 0     1274972 G       A   0               0              \n",
              "  HG00099_HG00099 HG00100_HG00100 ⋯ NA21128_NA21128 NA21129_NA21129\n",
              "1 2               1               ⋯ 1               2              \n",
              "2 0               0               ⋯ 0               1              \n",
              "3 0               0               ⋯ 1               0              \n",
              "4 0               0               ⋯ 0               0              \n",
              "5 2               1               ⋯ 1               0              \n",
              "6 0               0               ⋯ 0               1              \n",
              "  NA21130_NA21130 NA21133_NA21133 NA21135_NA21135 NA21137_NA21137\n",
              "1 1               0               0               0              \n",
              "2 0               0               1               0              \n",
              "3 2               1               0               1              \n",
              "4 0               0               0               0              \n",
              "5 0               0               1               1              \n",
              "6 1               1               0               1              \n",
              "  NA21141_NA21141 NA21142_NA21142 NA21143_NA21143 NA21144_NA21144\n",
              "1 2               1               1               0              \n",
              "2 1               1               1               0              \n",
              "3 1               1               1               0              \n",
              "4 0               0               0               0              \n",
              "5 0               0               0               1              \n",
              "6 1               2               2               0              "
            ]
          },
          "metadata": {}
        },
        {
          "output_type": "display_data",
          "data": {
            "text/html": [
              "<table class=\"dataframe\">\n",
              "<caption>A data.frame: 6 × 6</caption>\n",
              "<thead>\n",
              "\t<tr><th></th><th scope=col>V1</th><th scope=col>V2</th><th scope=col>V3</th><th scope=col>V4</th><th scope=col>V5</th><th scope=col>V6</th></tr>\n",
              "\t<tr><th></th><th scope=col>&lt;chr&gt;</th><th scope=col>&lt;chr&gt;</th><th scope=col>&lt;int&gt;</th><th scope=col>&lt;int&gt;</th><th scope=col>&lt;int&gt;</th><th scope=col>&lt;int&gt;</th></tr>\n",
              "</thead>\n",
              "<tbody>\n",
              "\t<tr><th scope=row>1</th><td>HG00096</td><td>HG00096</td><td>0</td><td>0</td><td>0</td><td>-9</td></tr>\n",
              "\t<tr><th scope=row>2</th><td>HG00097</td><td>HG00097</td><td>0</td><td>0</td><td>0</td><td>-9</td></tr>\n",
              "\t<tr><th scope=row>3</th><td>HG00099</td><td>HG00099</td><td>0</td><td>0</td><td>0</td><td>-9</td></tr>\n",
              "\t<tr><th scope=row>4</th><td>HG00100</td><td>HG00100</td><td>0</td><td>0</td><td>0</td><td>-9</td></tr>\n",
              "\t<tr><th scope=row>5</th><td>HG00101</td><td>HG00101</td><td>0</td><td>0</td><td>0</td><td>-9</td></tr>\n",
              "\t<tr><th scope=row>6</th><td>HG00102</td><td>HG00102</td><td>0</td><td>0</td><td>0</td><td>-9</td></tr>\n",
              "</tbody>\n",
              "</table>\n"
            ],
            "text/markdown": "\nA data.frame: 6 × 6\n\n| <!--/--> | V1 &lt;chr&gt; | V2 &lt;chr&gt; | V3 &lt;int&gt; | V4 &lt;int&gt; | V5 &lt;int&gt; | V6 &lt;int&gt; |\n|---|---|---|---|---|---|---|\n| 1 | HG00096 | HG00096 | 0 | 0 | 0 | -9 |\n| 2 | HG00097 | HG00097 | 0 | 0 | 0 | -9 |\n| 3 | HG00099 | HG00099 | 0 | 0 | 0 | -9 |\n| 4 | HG00100 | HG00100 | 0 | 0 | 0 | -9 |\n| 5 | HG00101 | HG00101 | 0 | 0 | 0 | -9 |\n| 6 | HG00102 | HG00102 | 0 | 0 | 0 | -9 |\n\n",
            "text/latex": "A data.frame: 6 × 6\n\\begin{tabular}{r|llllll}\n  & V1 & V2 & V3 & V4 & V5 & V6\\\\\n  & <chr> & <chr> & <int> & <int> & <int> & <int>\\\\\n\\hline\n\t1 & HG00096 & HG00096 & 0 & 0 & 0 & -9\\\\\n\t2 & HG00097 & HG00097 & 0 & 0 & 0 & -9\\\\\n\t3 & HG00099 & HG00099 & 0 & 0 & 0 & -9\\\\\n\t4 & HG00100 & HG00100 & 0 & 0 & 0 & -9\\\\\n\t5 & HG00101 & HG00101 & 0 & 0 & 0 & -9\\\\\n\t6 & HG00102 & HG00102 & 0 & 0 & 0 & -9\\\\\n\\end{tabular}\n",
            "text/plain": [
              "  V1      V2      V3 V4 V5 V6\n",
              "1 HG00096 HG00096 0  0  0  -9\n",
              "2 HG00097 HG00097 0  0  0  -9\n",
              "3 HG00099 HG00099 0  0  0  -9\n",
              "4 HG00100 HG00100 0  0  0  -9\n",
              "5 HG00101 HG00101 0  0  0  -9\n",
              "6 HG00102 HG00102 0  0  0  -9"
            ]
          },
          "metadata": {}
        }
      ]
    },
    {
      "cell_type": "code",
      "source": [
        "# use this tab and try to solve the task by youself"
      ],
      "metadata": {
        "id": "onJAcx5rDqtw"
      },
      "execution_count": null,
      "outputs": []
    },
    {
      "cell_type": "code",
      "source": [
        "#@title Save the names of the samples\n",
        "spnames=colnames(genos)[7:ncol(genos)]\n",
        "length(spnames)"
      ],
      "metadata": {
        "id": "h_pzlK2o8HxZ",
        "outputId": "abc93396-6f54-475c-a962-95699fda4991",
        "colab": {
          "base_uri": "https://localhost:8080/",
          "height": 34
        }
      },
      "execution_count": null,
      "outputs": [
        {
          "output_type": "display_data",
          "data": {
            "text/html": [
              "2504"
            ],
            "text/markdown": "2504",
            "text/latex": "2504",
            "text/plain": [
              "[1] 2504"
            ]
          },
          "metadata": {}
        }
      ]
    },
    {
      "cell_type": "code",
      "source": [
        "# use this tab and try to solve the task by youself"
      ],
      "metadata": {
        "id": "_-V-Qhr2DrQA"
      },
      "execution_count": null,
      "outputs": []
    },
    {
      "cell_type": "code",
      "source": [
        "#@title Answer question 2\n",
        "cat(\"There are\", nrow(genos), \"variants in the genotype matrix\\n\")\n",
        "cat(\"There are\", ncol(genos)-6, \"individuals in the genotype matrix\\n\")\n",
        "cat(\"There are\", nrow(famfile), \"individuals in the fam file\\n\")"
      ],
      "metadata": {
        "id": "f1JYwGzK6NiR",
        "outputId": "fb99a624-9dc8-45df-ae4d-9234dfa92228",
        "colab": {
          "base_uri": "https://localhost:8080/"
        }
      },
      "execution_count": null,
      "outputs": [
        {
          "output_type": "stream",
          "name": "stdout",
          "text": [
            "There are 75624 variants in the genotype matrix\n",
            "There are 2504 individuals in the genotype matrix\n",
            "There are 2504 individuals in the fam file\n"
          ]
        }
      ]
    },
    {
      "cell_type": "code",
      "source": [
        "# use this tab and try to solve the task by youself"
      ],
      "metadata": {
        "id": "wMm74hILDylq"
      },
      "execution_count": null,
      "outputs": []
    },
    {
      "cell_type": "code",
      "source": [
        "#@title **Optional** Alternative using the data.table library\n",
        "genos=data.table::fread(\"autosomal.forPRS.mx.traw\")\n",
        "famfile=fread(\"autosomal.forPRS.fam\")"
      ],
      "metadata": {
        "id": "SkRH6Ek2cUEg",
        "cellView": "form"
      },
      "execution_count": null,
      "outputs": []
    },
    {
      "cell_type": "markdown",
      "source": [
        "**Exercise 3:** Apply the MEP1B score by:\n",
        "- creating a genotype matrix restricted to the variants included in the MEP1B score\n",
        "- applying an element-wise multiplication column by column, and sum the weighted genotypes:  $score_j=∑_{i∈SNPs}w_i∗g_i$  where  $i$  denotes SNPs and  $j$  denotes individuals. Hint: use the functions `colSums()` and `apply()`\n",
        "\n",
        "Look at the distribution of the score with `hist`.\n",
        "\n",
        "**Question 3:** What can you say about this distribution ?"
      ],
      "metadata": {
        "id": "jdRebr1z23aC"
      }
    },
    {
      "cell_type": "code",
      "source": [
        "#@title Apply the MEP1B score\n",
        "mepg = subset(genos, SNP %in% mepscore$id)\n",
        "head(mepg)\n",
        "head(mepscore)\n",
        "\n",
        "mepg.score <- colSums(apply(mepg[, spnames], 2, function(x) x*mepscore$effect))"
      ],
      "metadata": {
        "id": "9OBAJLBeCzTL",
        "outputId": "371f1664-3a04-4640-cf9d-80969e4f05fa",
        "colab": {
          "base_uri": "https://localhost:8080/",
          "height": 575
        }
      },
      "execution_count": null,
      "outputs": [
        {
          "output_type": "display_data",
          "data": {
            "text/html": [
              "<table class=\"dataframe\">\n",
              "<caption>A data.frame: 6 × 2510</caption>\n",
              "<thead>\n",
              "\t<tr><th></th><th scope=col>CHR</th><th scope=col>SNP</th><th scope=col>X.C.M</th><th scope=col>POS</th><th scope=col>COUNTED</th><th scope=col>ALT</th><th scope=col>HG00096_HG00096</th><th scope=col>HG00097_HG00097</th><th scope=col>HG00099_HG00099</th><th scope=col>HG00100_HG00100</th><th scope=col>⋯</th><th scope=col>NA21128_NA21128</th><th scope=col>NA21129_NA21129</th><th scope=col>NA21130_NA21130</th><th scope=col>NA21133_NA21133</th><th scope=col>NA21135_NA21135</th><th scope=col>NA21137_NA21137</th><th scope=col>NA21141_NA21141</th><th scope=col>NA21142_NA21142</th><th scope=col>NA21143_NA21143</th><th scope=col>NA21144_NA21144</th></tr>\n",
              "\t<tr><th></th><th scope=col>&lt;int&gt;</th><th scope=col>&lt;chr&gt;</th><th scope=col>&lt;int&gt;</th><th scope=col>&lt;int&gt;</th><th scope=col>&lt;chr&gt;</th><th scope=col>&lt;chr&gt;</th><th scope=col>&lt;int&gt;</th><th scope=col>&lt;int&gt;</th><th scope=col>&lt;int&gt;</th><th scope=col>&lt;int&gt;</th><th scope=col>⋯</th><th scope=col>&lt;int&gt;</th><th scope=col>&lt;int&gt;</th><th scope=col>&lt;int&gt;</th><th scope=col>&lt;int&gt;</th><th scope=col>&lt;int&gt;</th><th scope=col>&lt;int&gt;</th><th scope=col>&lt;int&gt;</th><th scope=col>&lt;int&gt;</th><th scope=col>&lt;int&gt;</th><th scope=col>&lt;int&gt;</th></tr>\n",
              "</thead>\n",
              "<tbody>\n",
              "\t<tr><th scope=row>68064</th><td>18</td><td>chr18:32038169</td><td>0</td><td>32038169</td><td>T</td><td>C</td><td>0</td><td>1</td><td>1</td><td>2</td><td>⋯</td><td>0</td><td>1</td><td>1</td><td>1</td><td>1</td><td>2</td><td>0</td><td>1</td><td>0</td><td>1</td></tr>\n",
              "\t<tr><th scope=row>68065</th><td>18</td><td>chr18:32067215</td><td>0</td><td>32067215</td><td>C</td><td>T</td><td>0</td><td>0</td><td>0</td><td>0</td><td>⋯</td><td>0</td><td>0</td><td>0</td><td>0</td><td>0</td><td>0</td><td>0</td><td>0</td><td>0</td><td>0</td></tr>\n",
              "\t<tr><th scope=row>68072</th><td>18</td><td>chr18:32208550</td><td>0</td><td>32208550</td><td>G</td><td>C</td><td>0</td><td>1</td><td>1</td><td>0</td><td>⋯</td><td>1</td><td>1</td><td>0</td><td>0</td><td>0</td><td>1</td><td>0</td><td>0</td><td>2</td><td>1</td></tr>\n",
              "\t<tr><th scope=row>68075</th><td>18</td><td>chr18:32224458</td><td>0</td><td>32224458</td><td>T</td><td>C</td><td>0</td><td>0</td><td>0</td><td>0</td><td>⋯</td><td>0</td><td>0</td><td>0</td><td>0</td><td>0</td><td>0</td><td>0</td><td>0</td><td>0</td><td>1</td></tr>\n",
              "\t<tr><th scope=row>68076</th><td>18</td><td>chr18:32224900</td><td>0</td><td>32224900</td><td>A</td><td>T</td><td>2</td><td>2</td><td>1</td><td>0</td><td>⋯</td><td>1</td><td>1</td><td>1</td><td>2</td><td>1</td><td>1</td><td>0</td><td>0</td><td>2</td><td>2</td></tr>\n",
              "\t<tr><th scope=row>68079</th><td>18</td><td>chr18:32317264</td><td>0</td><td>32317264</td><td>C</td><td>G</td><td>0</td><td>0</td><td>0</td><td>0</td><td>⋯</td><td>0</td><td>1</td><td>1</td><td>0</td><td>0</td><td>0</td><td>0</td><td>0</td><td>0</td><td>0</td></tr>\n",
              "</tbody>\n",
              "</table>\n"
            ],
            "text/markdown": "\nA data.frame: 6 × 2510\n\n| <!--/--> | CHR &lt;int&gt; | SNP &lt;chr&gt; | X.C.M &lt;int&gt; | POS &lt;int&gt; | COUNTED &lt;chr&gt; | ALT &lt;chr&gt; | HG00096_HG00096 &lt;int&gt; | HG00097_HG00097 &lt;int&gt; | HG00099_HG00099 &lt;int&gt; | HG00100_HG00100 &lt;int&gt; | ⋯ ⋯ | NA21128_NA21128 &lt;int&gt; | NA21129_NA21129 &lt;int&gt; | NA21130_NA21130 &lt;int&gt; | NA21133_NA21133 &lt;int&gt; | NA21135_NA21135 &lt;int&gt; | NA21137_NA21137 &lt;int&gt; | NA21141_NA21141 &lt;int&gt; | NA21142_NA21142 &lt;int&gt; | NA21143_NA21143 &lt;int&gt; | NA21144_NA21144 &lt;int&gt; |\n|---|---|---|---|---|---|---|---|---|---|---|---|---|---|---|---|---|---|---|---|---|---|\n| 68064 | 18 | chr18:32038169 | 0 | 32038169 | T | C | 0 | 1 | 1 | 2 | ⋯ | 0 | 1 | 1 | 1 | 1 | 2 | 0 | 1 | 0 | 1 |\n| 68065 | 18 | chr18:32067215 | 0 | 32067215 | C | T | 0 | 0 | 0 | 0 | ⋯ | 0 | 0 | 0 | 0 | 0 | 0 | 0 | 0 | 0 | 0 |\n| 68072 | 18 | chr18:32208550 | 0 | 32208550 | G | C | 0 | 1 | 1 | 0 | ⋯ | 1 | 1 | 0 | 0 | 0 | 1 | 0 | 0 | 2 | 1 |\n| 68075 | 18 | chr18:32224458 | 0 | 32224458 | T | C | 0 | 0 | 0 | 0 | ⋯ | 0 | 0 | 0 | 0 | 0 | 0 | 0 | 0 | 0 | 1 |\n| 68076 | 18 | chr18:32224900 | 0 | 32224900 | A | T | 2 | 2 | 1 | 0 | ⋯ | 1 | 1 | 1 | 2 | 1 | 1 | 0 | 0 | 2 | 2 |\n| 68079 | 18 | chr18:32317264 | 0 | 32317264 | C | G | 0 | 0 | 0 | 0 | ⋯ | 0 | 1 | 1 | 0 | 0 | 0 | 0 | 0 | 0 | 0 |\n\n",
            "text/latex": "A data.frame: 6 × 2510\n\\begin{tabular}{r|lllllllllllllllllllll}\n  & CHR & SNP & X.C.M & POS & COUNTED & ALT & HG00096\\_HG00096 & HG00097\\_HG00097 & HG00099\\_HG00099 & HG00100\\_HG00100 & ⋯ & NA21128\\_NA21128 & NA21129\\_NA21129 & NA21130\\_NA21130 & NA21133\\_NA21133 & NA21135\\_NA21135 & NA21137\\_NA21137 & NA21141\\_NA21141 & NA21142\\_NA21142 & NA21143\\_NA21143 & NA21144\\_NA21144\\\\\n  & <int> & <chr> & <int> & <int> & <chr> & <chr> & <int> & <int> & <int> & <int> & ⋯ & <int> & <int> & <int> & <int> & <int> & <int> & <int> & <int> & <int> & <int>\\\\\n\\hline\n\t68064 & 18 & chr18:32038169 & 0 & 32038169 & T & C & 0 & 1 & 1 & 2 & ⋯ & 0 & 1 & 1 & 1 & 1 & 2 & 0 & 1 & 0 & 1\\\\\n\t68065 & 18 & chr18:32067215 & 0 & 32067215 & C & T & 0 & 0 & 0 & 0 & ⋯ & 0 & 0 & 0 & 0 & 0 & 0 & 0 & 0 & 0 & 0\\\\\n\t68072 & 18 & chr18:32208550 & 0 & 32208550 & G & C & 0 & 1 & 1 & 0 & ⋯ & 1 & 1 & 0 & 0 & 0 & 1 & 0 & 0 & 2 & 1\\\\\n\t68075 & 18 & chr18:32224458 & 0 & 32224458 & T & C & 0 & 0 & 0 & 0 & ⋯ & 0 & 0 & 0 & 0 & 0 & 0 & 0 & 0 & 0 & 1\\\\\n\t68076 & 18 & chr18:32224900 & 0 & 32224900 & A & T & 2 & 2 & 1 & 0 & ⋯ & 1 & 1 & 1 & 2 & 1 & 1 & 0 & 0 & 2 & 2\\\\\n\t68079 & 18 & chr18:32317264 & 0 & 32317264 & C & G & 0 & 0 & 0 & 0 & ⋯ & 0 & 1 & 1 & 0 & 0 & 0 & 0 & 0 & 0 & 0\\\\\n\\end{tabular}\n",
            "text/plain": [
              "      CHR SNP            X.C.M POS      COUNTED ALT HG00096_HG00096\n",
              "68064 18  chr18:32038169 0     32038169 T       C   0              \n",
              "68065 18  chr18:32067215 0     32067215 C       T   0              \n",
              "68072 18  chr18:32208550 0     32208550 G       C   0              \n",
              "68075 18  chr18:32224458 0     32224458 T       C   0              \n",
              "68076 18  chr18:32224900 0     32224900 A       T   2              \n",
              "68079 18  chr18:32317264 0     32317264 C       G   0              \n",
              "      HG00097_HG00097 HG00099_HG00099 HG00100_HG00100 ⋯ NA21128_NA21128\n",
              "68064 1               1               2               ⋯ 0              \n",
              "68065 0               0               0               ⋯ 0              \n",
              "68072 1               1               0               ⋯ 1              \n",
              "68075 0               0               0               ⋯ 0              \n",
              "68076 2               1               0               ⋯ 1              \n",
              "68079 0               0               0               ⋯ 0              \n",
              "      NA21129_NA21129 NA21130_NA21130 NA21133_NA21133 NA21135_NA21135\n",
              "68064 1               1               1               1              \n",
              "68065 0               0               0               0              \n",
              "68072 1               0               0               0              \n",
              "68075 0               0               0               0              \n",
              "68076 1               1               2               1              \n",
              "68079 1               1               0               0              \n",
              "      NA21137_NA21137 NA21141_NA21141 NA21142_NA21142 NA21143_NA21143\n",
              "68064 2               0               1               0              \n",
              "68065 0               0               0               0              \n",
              "68072 1               0               0               2              \n",
              "68075 0               0               0               0              \n",
              "68076 1               0               0               2              \n",
              "68079 0               0               0               0              \n",
              "      NA21144_NA21144\n",
              "68064 1              \n",
              "68065 0              \n",
              "68072 1              \n",
              "68075 1              \n",
              "68076 2              \n",
              "68079 0              "
            ]
          },
          "metadata": {}
        },
        {
          "output_type": "display_data",
          "data": {
            "text/html": [
              "<table class=\"dataframe\">\n",
              "<caption>A data.frame: 6 × 6</caption>\n",
              "<thead>\n",
              "\t<tr><th></th><th scope=col>chr</th><th scope=col>pos</th><th scope=col>A1</th><th scope=col>A2</th><th scope=col>effect</th><th scope=col>id</th></tr>\n",
              "\t<tr><th></th><th scope=col>&lt;int&gt;</th><th scope=col>&lt;int&gt;</th><th scope=col>&lt;chr&gt;</th><th scope=col>&lt;chr&gt;</th><th scope=col>&lt;dbl&gt;</th><th scope=col>&lt;chr&gt;</th></tr>\n",
              "</thead>\n",
              "<tbody>\n",
              "\t<tr><th scope=row>1</th><td>18</td><td>32038169</td><td>T</td><td>C</td><td>-0.2891709</td><td>chr18:32038169</td></tr>\n",
              "\t<tr><th scope=row>2</th><td>18</td><td>32067215</td><td>C</td><td>T</td><td> 0.4230704</td><td>chr18:32067215</td></tr>\n",
              "\t<tr><th scope=row>3</th><td>18</td><td>32208550</td><td>G</td><td>C</td><td>-0.6470447</td><td>chr18:32208550</td></tr>\n",
              "\t<tr><th scope=row>4</th><td>18</td><td>32224458</td><td>T</td><td>C</td><td>-0.6871607</td><td>chr18:32224458</td></tr>\n",
              "\t<tr><th scope=row>5</th><td>18</td><td>32224900</td><td>A</td><td>T</td><td>-1.0701130</td><td>chr18:32224900</td></tr>\n",
              "\t<tr><th scope=row>6</th><td>18</td><td>32317264</td><td>C</td><td>G</td><td>-0.5560340</td><td>chr18:32317264</td></tr>\n",
              "</tbody>\n",
              "</table>\n"
            ],
            "text/markdown": "\nA data.frame: 6 × 6\n\n| <!--/--> | chr &lt;int&gt; | pos &lt;int&gt; | A1 &lt;chr&gt; | A2 &lt;chr&gt; | effect &lt;dbl&gt; | id &lt;chr&gt; |\n|---|---|---|---|---|---|---|\n| 1 | 18 | 32038169 | T | C | -0.2891709 | chr18:32038169 |\n| 2 | 18 | 32067215 | C | T |  0.4230704 | chr18:32067215 |\n| 3 | 18 | 32208550 | G | C | -0.6470447 | chr18:32208550 |\n| 4 | 18 | 32224458 | T | C | -0.6871607 | chr18:32224458 |\n| 5 | 18 | 32224900 | A | T | -1.0701130 | chr18:32224900 |\n| 6 | 18 | 32317264 | C | G | -0.5560340 | chr18:32317264 |\n\n",
            "text/latex": "A data.frame: 6 × 6\n\\begin{tabular}{r|llllll}\n  & chr & pos & A1 & A2 & effect & id\\\\\n  & <int> & <int> & <chr> & <chr> & <dbl> & <chr>\\\\\n\\hline\n\t1 & 18 & 32038169 & T & C & -0.2891709 & chr18:32038169\\\\\n\t2 & 18 & 32067215 & C & T &  0.4230704 & chr18:32067215\\\\\n\t3 & 18 & 32208550 & G & C & -0.6470447 & chr18:32208550\\\\\n\t4 & 18 & 32224458 & T & C & -0.6871607 & chr18:32224458\\\\\n\t5 & 18 & 32224900 & A & T & -1.0701130 & chr18:32224900\\\\\n\t6 & 18 & 32317264 & C & G & -0.5560340 & chr18:32317264\\\\\n\\end{tabular}\n",
            "text/plain": [
              "  chr pos      A1 A2 effect     id            \n",
              "1 18  32038169 T  C  -0.2891709 chr18:32038169\n",
              "2 18  32067215 C  T   0.4230704 chr18:32067215\n",
              "3 18  32208550 G  C  -0.6470447 chr18:32208550\n",
              "4 18  32224458 T  C  -0.6871607 chr18:32224458\n",
              "5 18  32224900 A  T  -1.0701130 chr18:32224900\n",
              "6 18  32317264 C  G  -0.5560340 chr18:32317264"
            ]
          },
          "metadata": {}
        }
      ]
    },
    {
      "cell_type": "code",
      "source": [
        "# use this tab and try to solve the task by youself"
      ],
      "metadata": {
        "id": "Umqx7aTpDzqg"
      },
      "execution_count": null,
      "outputs": []
    },
    {
      "cell_type": "code",
      "source": [
        "#@title Distribution of MEP1B score\n",
        "hist(mepg.score)\n",
        "hist(mepg.score, breaks = 40)\n",
        "#The MEP1B score deviates markedly from the normal assumption."
      ],
      "metadata": {
        "id": "ZYY9LgNcDk6O",
        "outputId": "db449a2d-da3a-4170-e821-5b0060f91ad1",
        "colab": {
          "base_uri": "https://localhost:8080/",
          "height": 857
        }
      },
      "execution_count": null,
      "outputs": [
        {
          "output_type": "display_data",
          "data": {
            "text/plain": [
              "Plot with title “Histogram of mepg.score”"
            ],
            "image/png": "[encoded data removed]"
          },
          "metadata": {
            "image/png": {
              "width": 420,
              "height": 420
            }
          }
        },
        {
          "output_type": "display_data",
          "data": {
            "text/plain": [
              "Plot with title “Histogram of mepg.score”"
            ],
            "image/png": "[encoded data removed]"
          },
          "metadata": {
            "image/png": {
              "width": 420,
              "height": 420
            }
          }
        }
      ]
    },
    {
      "cell_type": "code",
      "source": [
        "# use this tab and try to solve the task by youself"
      ],
      "metadata": {
        "id": "VYlPUpO1D0CF"
      },
      "execution_count": null,
      "outputs": []
    },
    {
      "cell_type": "markdown",
      "source": [
        "**Exercise 4:** CAD score\n",
        "- Combine the information of the genotype matrix and the CAD scores using the `merge()` function in R\n",
        "\n",
        "**Question 4:**\n",
        "- Are all of the positions used in the CAD score present in the genotype matrix ?\n",
        "- Is there a perfect match between the effect alleles of the scores and the ones in the genotype matrix ?"
      ],
      "metadata": {
        "id": "d2P11OTOEzDG"
      }
    },
    {
      "cell_type": "code",
      "source": [
        "#@title Combine genotypes and CAD scores information\n",
        "head(cadscore)\n",
        "head(genos)\n",
        "cadg=merge(cadscore, genos, by.x=\"id\", by.y=\"SNP\", sort = F)\n",
        "nrow(cadg)"
      ],
      "metadata": {
        "id": "pbgg9kbqEyi-",
        "outputId": "edca4084-ff1c-4cb6-e935-7239643a85af",
        "colab": {
          "base_uri": "https://localhost:8080/",
          "height": 592
        }
      },
      "execution_count": null,
      "outputs": [
        {
          "output_type": "display_data",
          "data": {
            "text/html": [
              "<table class=\"dataframe\">\n",
              "<caption>A data.frame: 6 × 6</caption>\n",
              "<thead>\n",
              "\t<tr><th></th><th scope=col>chr_name</th><th scope=col>chr_position</th><th scope=col>effect_allele</th><th scope=col>effect_weight</th><th scope=col>id_alleles</th><th scope=col>id</th></tr>\n",
              "\t<tr><th></th><th scope=col>&lt;chr&gt;</th><th scope=col>&lt;int&gt;</th><th scope=col>&lt;chr&gt;</th><th scope=col>&lt;dbl&gt;</th><th scope=col>&lt;chr&gt;</th><th scope=col>&lt;chr&gt;</th></tr>\n",
              "</thead>\n",
              "<tbody>\n",
              "\t<tr><th scope=row>1</th><td>1</td><td>1023851</td><td>A</td><td> 0.0113215</td><td>1:959231:G:A </td><td>chr1:1023851</td></tr>\n",
              "\t<tr><th scope=row>2</th><td>1</td><td>1184478</td><td>T</td><td>-0.0165875</td><td>1:1119858:C:T</td><td>chr1:1184478</td></tr>\n",
              "\t<tr><th scope=row>3</th><td>1</td><td>1186644</td><td>C</td><td> 0.0135431</td><td>1:1122024:T:C</td><td>chr1:1186644</td></tr>\n",
              "\t<tr><th scope=row>4</th><td>1</td><td>1219478</td><td>T</td><td>-0.0243073</td><td>1:1154858:C:T</td><td>chr1:1219478</td></tr>\n",
              "\t<tr><th scope=row>5</th><td>1</td><td>1236037</td><td>T</td><td>-0.0126844</td><td>1:1171417:C:T</td><td>chr1:1236037</td></tr>\n",
              "\t<tr><th scope=row>6</th><td>1</td><td>1274972</td><td>G</td><td>-0.0193357</td><td>1:1210352:A:G</td><td>chr1:1274972</td></tr>\n",
              "</tbody>\n",
              "</table>\n"
            ],
            "text/markdown": "\nA data.frame: 6 × 6\n\n| <!--/--> | chr_name &lt;chr&gt; | chr_position &lt;int&gt; | effect_allele &lt;chr&gt; | effect_weight &lt;dbl&gt; | id_alleles &lt;chr&gt; | id &lt;chr&gt; |\n|---|---|---|---|---|---|---|\n| 1 | 1 | 1023851 | A |  0.0113215 | 1:959231:G:A  | chr1:1023851 |\n| 2 | 1 | 1184478 | T | -0.0165875 | 1:1119858:C:T | chr1:1184478 |\n| 3 | 1 | 1186644 | C |  0.0135431 | 1:1122024:T:C | chr1:1186644 |\n| 4 | 1 | 1219478 | T | -0.0243073 | 1:1154858:C:T | chr1:1219478 |\n| 5 | 1 | 1236037 | T | -0.0126844 | 1:1171417:C:T | chr1:1236037 |\n| 6 | 1 | 1274972 | G | -0.0193357 | 1:1210352:A:G | chr1:1274972 |\n\n",
            "text/latex": "A data.frame: 6 × 6\n\\begin{tabular}{r|llllll}\n  & chr\\_name & chr\\_position & effect\\_allele & effect\\_weight & id\\_alleles & id\\\\\n  & <chr> & <int> & <chr> & <dbl> & <chr> & <chr>\\\\\n\\hline\n\t1 & 1 & 1023851 & A &  0.0113215 & 1:959231:G:A  & chr1:1023851\\\\\n\t2 & 1 & 1184478 & T & -0.0165875 & 1:1119858:C:T & chr1:1184478\\\\\n\t3 & 1 & 1186644 & C &  0.0135431 & 1:1122024:T:C & chr1:1186644\\\\\n\t4 & 1 & 1219478 & T & -0.0243073 & 1:1154858:C:T & chr1:1219478\\\\\n\t5 & 1 & 1236037 & T & -0.0126844 & 1:1171417:C:T & chr1:1236037\\\\\n\t6 & 1 & 1274972 & G & -0.0193357 & 1:1210352:A:G & chr1:1274972\\\\\n\\end{tabular}\n",
            "text/plain": [
              "  chr_name chr_position effect_allele effect_weight id_alleles    id          \n",
              "1 1        1023851      A              0.0113215    1:959231:G:A  chr1:1023851\n",
              "2 1        1184478      T             -0.0165875    1:1119858:C:T chr1:1184478\n",
              "3 1        1186644      C              0.0135431    1:1122024:T:C chr1:1186644\n",
              "4 1        1219478      T             -0.0243073    1:1154858:C:T chr1:1219478\n",
              "5 1        1236037      T             -0.0126844    1:1171417:C:T chr1:1236037\n",
              "6 1        1274972      G             -0.0193357    1:1210352:A:G chr1:1274972"
            ]
          },
          "metadata": {}
        },
        {
          "output_type": "display_data",
          "data": {
            "text/html": [
              "<table class=\"dataframe\">\n",
              "<caption>A data.frame: 6 × 2510</caption>\n",
              "<thead>\n",
              "\t<tr><th></th><th scope=col>CHR</th><th scope=col>SNP</th><th scope=col>X.C.M</th><th scope=col>POS</th><th scope=col>COUNTED</th><th scope=col>ALT</th><th scope=col>HG00096_HG00096</th><th scope=col>HG00097_HG00097</th><th scope=col>HG00099_HG00099</th><th scope=col>HG00100_HG00100</th><th scope=col>⋯</th><th scope=col>NA21128_NA21128</th><th scope=col>NA21129_NA21129</th><th scope=col>NA21130_NA21130</th><th scope=col>NA21133_NA21133</th><th scope=col>NA21135_NA21135</th><th scope=col>NA21137_NA21137</th><th scope=col>NA21141_NA21141</th><th scope=col>NA21142_NA21142</th><th scope=col>NA21143_NA21143</th><th scope=col>NA21144_NA21144</th></tr>\n",
              "\t<tr><th></th><th scope=col>&lt;int&gt;</th><th scope=col>&lt;chr&gt;</th><th scope=col>&lt;int&gt;</th><th scope=col>&lt;int&gt;</th><th scope=col>&lt;chr&gt;</th><th scope=col>&lt;chr&gt;</th><th scope=col>&lt;int&gt;</th><th scope=col>&lt;int&gt;</th><th scope=col>&lt;int&gt;</th><th scope=col>&lt;int&gt;</th><th scope=col>⋯</th><th scope=col>&lt;int&gt;</th><th scope=col>&lt;int&gt;</th><th scope=col>&lt;int&gt;</th><th scope=col>&lt;int&gt;</th><th scope=col>&lt;int&gt;</th><th scope=col>&lt;int&gt;</th><th scope=col>&lt;int&gt;</th><th scope=col>&lt;int&gt;</th><th scope=col>&lt;int&gt;</th><th scope=col>&lt;int&gt;</th></tr>\n",
              "</thead>\n",
              "<tbody>\n",
              "\t<tr><th scope=row>1</th><td>1</td><td>chr1:1023851</td><td>0</td><td>1023851</td><td>A</td><td>G</td><td>0</td><td>1</td><td>2</td><td>1</td><td>⋯</td><td>1</td><td>2</td><td>1</td><td>0</td><td>0</td><td>0</td><td>2</td><td>1</td><td>1</td><td>0</td></tr>\n",
              "\t<tr><th scope=row>2</th><td>1</td><td>chr1:1184478</td><td>0</td><td>1184478</td><td>T</td><td>C</td><td>0</td><td>0</td><td>0</td><td>0</td><td>⋯</td><td>0</td><td>1</td><td>0</td><td>0</td><td>1</td><td>0</td><td>1</td><td>1</td><td>1</td><td>0</td></tr>\n",
              "\t<tr><th scope=row>3</th><td>1</td><td>chr1:1186644</td><td>0</td><td>1186644</td><td>C</td><td>T</td><td>0</td><td>0</td><td>0</td><td>0</td><td>⋯</td><td>1</td><td>0</td><td>2</td><td>1</td><td>0</td><td>1</td><td>1</td><td>1</td><td>1</td><td>0</td></tr>\n",
              "\t<tr><th scope=row>4</th><td>1</td><td>chr1:1219478</td><td>0</td><td>1219478</td><td>T</td><td>C</td><td>0</td><td>0</td><td>0</td><td>0</td><td>⋯</td><td>0</td><td>0</td><td>0</td><td>0</td><td>0</td><td>0</td><td>0</td><td>0</td><td>0</td><td>0</td></tr>\n",
              "\t<tr><th scope=row>5</th><td>1</td><td>chr1:1236037</td><td>0</td><td>1236037</td><td>C</td><td>T</td><td>1</td><td>1</td><td>2</td><td>1</td><td>⋯</td><td>1</td><td>0</td><td>0</td><td>0</td><td>1</td><td>1</td><td>0</td><td>0</td><td>0</td><td>1</td></tr>\n",
              "\t<tr><th scope=row>6</th><td>1</td><td>chr1:1274972</td><td>0</td><td>1274972</td><td>G</td><td>A</td><td>0</td><td>0</td><td>0</td><td>0</td><td>⋯</td><td>0</td><td>1</td><td>1</td><td>1</td><td>0</td><td>1</td><td>1</td><td>2</td><td>2</td><td>0</td></tr>\n",
              "</tbody>\n",
              "</table>\n"
            ],
            "text/markdown": "\nA data.frame: 6 × 2510\n\n| <!--/--> | CHR &lt;int&gt; | SNP &lt;chr&gt; | X.C.M &lt;int&gt; | POS &lt;int&gt; | COUNTED &lt;chr&gt; | ALT &lt;chr&gt; | HG00096_HG00096 &lt;int&gt; | HG00097_HG00097 &lt;int&gt; | HG00099_HG00099 &lt;int&gt; | HG00100_HG00100 &lt;int&gt; | ⋯ ⋯ | NA21128_NA21128 &lt;int&gt; | NA21129_NA21129 &lt;int&gt; | NA21130_NA21130 &lt;int&gt; | NA21133_NA21133 &lt;int&gt; | NA21135_NA21135 &lt;int&gt; | NA21137_NA21137 &lt;int&gt; | NA21141_NA21141 &lt;int&gt; | NA21142_NA21142 &lt;int&gt; | NA21143_NA21143 &lt;int&gt; | NA21144_NA21144 &lt;int&gt; |\n|---|---|---|---|---|---|---|---|---|---|---|---|---|---|---|---|---|---|---|---|---|---|\n| 1 | 1 | chr1:1023851 | 0 | 1023851 | A | G | 0 | 1 | 2 | 1 | ⋯ | 1 | 2 | 1 | 0 | 0 | 0 | 2 | 1 | 1 | 0 |\n| 2 | 1 | chr1:1184478 | 0 | 1184478 | T | C | 0 | 0 | 0 | 0 | ⋯ | 0 | 1 | 0 | 0 | 1 | 0 | 1 | 1 | 1 | 0 |\n| 3 | 1 | chr1:1186644 | 0 | 1186644 | C | T | 0 | 0 | 0 | 0 | ⋯ | 1 | 0 | 2 | 1 | 0 | 1 | 1 | 1 | 1 | 0 |\n| 4 | 1 | chr1:1219478 | 0 | 1219478 | T | C | 0 | 0 | 0 | 0 | ⋯ | 0 | 0 | 0 | 0 | 0 | 0 | 0 | 0 | 0 | 0 |\n| 5 | 1 | chr1:1236037 | 0 | 1236037 | C | T | 1 | 1 | 2 | 1 | ⋯ | 1 | 0 | 0 | 0 | 1 | 1 | 0 | 0 | 0 | 1 |\n| 6 | 1 | chr1:1274972 | 0 | 1274972 | G | A | 0 | 0 | 0 | 0 | ⋯ | 0 | 1 | 1 | 1 | 0 | 1 | 1 | 2 | 2 | 0 |\n\n",
            "text/latex": "A data.frame: 6 × 2510\n\\begin{tabular}{r|lllllllllllllllllllll}\n  & CHR & SNP & X.C.M & POS & COUNTED & ALT & HG00096\\_HG00096 & HG00097\\_HG00097 & HG00099\\_HG00099 & HG00100\\_HG00100 & ⋯ & NA21128\\_NA21128 & NA21129\\_NA21129 & NA21130\\_NA21130 & NA21133\\_NA21133 & NA21135\\_NA21135 & NA21137\\_NA21137 & NA21141\\_NA21141 & NA21142\\_NA21142 & NA21143\\_NA21143 & NA21144\\_NA21144\\\\\n  & <int> & <chr> & <int> & <int> & <chr> & <chr> & <int> & <int> & <int> & <int> & ⋯ & <int> & <int> & <int> & <int> & <int> & <int> & <int> & <int> & <int> & <int>\\\\\n\\hline\n\t1 & 1 & chr1:1023851 & 0 & 1023851 & A & G & 0 & 1 & 2 & 1 & ⋯ & 1 & 2 & 1 & 0 & 0 & 0 & 2 & 1 & 1 & 0\\\\\n\t2 & 1 & chr1:1184478 & 0 & 1184478 & T & C & 0 & 0 & 0 & 0 & ⋯ & 0 & 1 & 0 & 0 & 1 & 0 & 1 & 1 & 1 & 0\\\\\n\t3 & 1 & chr1:1186644 & 0 & 1186644 & C & T & 0 & 0 & 0 & 0 & ⋯ & 1 & 0 & 2 & 1 & 0 & 1 & 1 & 1 & 1 & 0\\\\\n\t4 & 1 & chr1:1219478 & 0 & 1219478 & T & C & 0 & 0 & 0 & 0 & ⋯ & 0 & 0 & 0 & 0 & 0 & 0 & 0 & 0 & 0 & 0\\\\\n\t5 & 1 & chr1:1236037 & 0 & 1236037 & C & T & 1 & 1 & 2 & 1 & ⋯ & 1 & 0 & 0 & 0 & 1 & 1 & 0 & 0 & 0 & 1\\\\\n\t6 & 1 & chr1:1274972 & 0 & 1274972 & G & A & 0 & 0 & 0 & 0 & ⋯ & 0 & 1 & 1 & 1 & 0 & 1 & 1 & 2 & 2 & 0\\\\\n\\end{tabular}\n",
            "text/plain": [
              "  CHR SNP          X.C.M POS     COUNTED ALT HG00096_HG00096 HG00097_HG00097\n",
              "1 1   chr1:1023851 0     1023851 A       G   0               1              \n",
              "2 1   chr1:1184478 0     1184478 T       C   0               0              \n",
              "3 1   chr1:1186644 0     1186644 C       T   0               0              \n",
              "4 1   chr1:1219478 0     1219478 T       C   0               0              \n",
              "5 1   chr1:1236037 0     1236037 C       T   1               1              \n",
              "6 1   chr1:1274972 0     1274972 G       A   0               0              \n",
              "  HG00099_HG00099 HG00100_HG00100 ⋯ NA21128_NA21128 NA21129_NA21129\n",
              "1 2               1               ⋯ 1               2              \n",
              "2 0               0               ⋯ 0               1              \n",
              "3 0               0               ⋯ 1               0              \n",
              "4 0               0               ⋯ 0               0              \n",
              "5 2               1               ⋯ 1               0              \n",
              "6 0               0               ⋯ 0               1              \n",
              "  NA21130_NA21130 NA21133_NA21133 NA21135_NA21135 NA21137_NA21137\n",
              "1 1               0               0               0              \n",
              "2 0               0               1               0              \n",
              "3 2               1               0               1              \n",
              "4 0               0               0               0              \n",
              "5 0               0               1               1              \n",
              "6 1               1               0               1              \n",
              "  NA21141_NA21141 NA21142_NA21142 NA21143_NA21143 NA21144_NA21144\n",
              "1 2               1               1               0              \n",
              "2 1               1               1               0              \n",
              "3 1               1               1               0              \n",
              "4 0               0               0               0              \n",
              "5 0               0               0               1              \n",
              "6 1               2               2               0              "
            ]
          },
          "metadata": {}
        },
        {
          "output_type": "display_data",
          "data": {
            "text/html": [
              "74913"
            ],
            "text/markdown": "74913",
            "text/latex": "74913",
            "text/plain": [
              "[1] 74913"
            ]
          },
          "metadata": {}
        }
      ]
    },
    {
      "cell_type": "code",
      "source": [
        "# use this tab and try to solve the task by youself"
      ],
      "metadata": {
        "id": "7fnIYMgGD1bS"
      },
      "execution_count": null,
      "outputs": []
    },
    {
      "cell_type": "code",
      "source": [
        "#@title Answer question 4\n",
        "dim(cadscore)\n",
        "dim(cadg)\n",
        "#All of the variants used for the CAD score are not present in the genotype matrix\n",
        "\n",
        "all(cadg$effect_allele == cadg$COUNTED)\n",
        "head(cadg[,c(\"id\", \"effect_allele\", \"effect_weight\", \"COUNTED\", \"ALT\")])\n",
        "#Even when the positions are present, the alleles can be different. For example, the effect allele for position 1:1236037 in the score is T whil it is C in the genotype data\n",
        "#We will have to solve this issue before applying the CAD score"
      ],
      "metadata": {
        "id": "xSH2bjWLPA5U",
        "outputId": "25721643-33ea-4032-e128-8f1c1dbb86df",
        "colab": {
          "base_uri": "https://localhost:8080/",
          "height": 338
        }
      },
      "execution_count": null,
      "outputs": [
        {
          "output_type": "display_data",
          "data": {
            "text/html": [
              "<style>\n",
              ".list-inline {list-style: none; margin:0; padding: 0}\n",
              ".list-inline>li {display: inline-block}\n",
              ".list-inline>li:not(:last-child)::after {content: \"\\00b7\"; padding: 0 .5ex}\n",
              "</style>\n",
              "<ol class=list-inline><li>75001</li><li>6</li></ol>\n"
            ],
            "text/markdown": "1. 75001\n2. 6\n\n\n",
            "text/latex": "\\begin{enumerate*}\n\\item 75001\n\\item 6\n\\end{enumerate*}\n",
            "text/plain": [
              "[1] 75001     6"
            ]
          },
          "metadata": {}
        },
        {
          "output_type": "display_data",
          "data": {
            "text/html": [
              "<style>\n",
              ".list-inline {list-style: none; margin:0; padding: 0}\n",
              ".list-inline>li {display: inline-block}\n",
              ".list-inline>li:not(:last-child)::after {content: \"\\00b7\"; padding: 0 .5ex}\n",
              "</style>\n",
              "<ol class=list-inline><li>74913</li><li>2515</li></ol>\n"
            ],
            "text/markdown": "1. 74913\n2. 2515\n\n\n",
            "text/latex": "\\begin{enumerate*}\n\\item 74913\n\\item 2515\n\\end{enumerate*}\n",
            "text/plain": [
              "[1] 74913  2515"
            ]
          },
          "metadata": {}
        },
        {
          "output_type": "display_data",
          "data": {
            "text/html": [
              "FALSE"
            ],
            "text/markdown": "FALSE",
            "text/latex": "FALSE",
            "text/plain": [
              "[1] FALSE"
            ]
          },
          "metadata": {}
        },
        {
          "output_type": "display_data",
          "data": {
            "text/html": [
              "<table class=\"dataframe\">\n",
              "<caption>A data.frame: 6 × 5</caption>\n",
              "<thead>\n",
              "\t<tr><th></th><th scope=col>id</th><th scope=col>effect_allele</th><th scope=col>effect_weight</th><th scope=col>COUNTED</th><th scope=col>ALT</th></tr>\n",
              "\t<tr><th></th><th scope=col>&lt;chr&gt;</th><th scope=col>&lt;chr&gt;</th><th scope=col>&lt;dbl&gt;</th><th scope=col>&lt;chr&gt;</th><th scope=col>&lt;chr&gt;</th></tr>\n",
              "</thead>\n",
              "<tbody>\n",
              "\t<tr><th scope=row>1</th><td>chr1:1023851</td><td>A</td><td> 0.0113215</td><td>A</td><td>G</td></tr>\n",
              "\t<tr><th scope=row>2</th><td>chr1:1184478</td><td>T</td><td>-0.0165875</td><td>T</td><td>C</td></tr>\n",
              "\t<tr><th scope=row>3</th><td>chr1:1186644</td><td>C</td><td> 0.0135431</td><td>C</td><td>T</td></tr>\n",
              "\t<tr><th scope=row>4</th><td>chr1:1219478</td><td>T</td><td>-0.0243073</td><td>T</td><td>C</td></tr>\n",
              "\t<tr><th scope=row>5</th><td>chr1:1236037</td><td>T</td><td>-0.0126844</td><td>C</td><td>T</td></tr>\n",
              "\t<tr><th scope=row>6</th><td>chr1:1274972</td><td>G</td><td>-0.0193357</td><td>G</td><td>A</td></tr>\n",
              "</tbody>\n",
              "</table>\n"
            ],
            "text/markdown": "\nA data.frame: 6 × 5\n\n| <!--/--> | id &lt;chr&gt; | effect_allele &lt;chr&gt; | effect_weight &lt;dbl&gt; | COUNTED &lt;chr&gt; | ALT &lt;chr&gt; |\n|---|---|---|---|---|---|\n| 1 | chr1:1023851 | A |  0.0113215 | A | G |\n| 2 | chr1:1184478 | T | -0.0165875 | T | C |\n| 3 | chr1:1186644 | C |  0.0135431 | C | T |\n| 4 | chr1:1219478 | T | -0.0243073 | T | C |\n| 5 | chr1:1236037 | T | -0.0126844 | C | T |\n| 6 | chr1:1274972 | G | -0.0193357 | G | A |\n\n",
            "text/latex": "A data.frame: 6 × 5\n\\begin{tabular}{r|lllll}\n  & id & effect\\_allele & effect\\_weight & COUNTED & ALT\\\\\n  & <chr> & <chr> & <dbl> & <chr> & <chr>\\\\\n\\hline\n\t1 & chr1:1023851 & A &  0.0113215 & A & G\\\\\n\t2 & chr1:1184478 & T & -0.0165875 & T & C\\\\\n\t3 & chr1:1186644 & C &  0.0135431 & C & T\\\\\n\t4 & chr1:1219478 & T & -0.0243073 & T & C\\\\\n\t5 & chr1:1236037 & T & -0.0126844 & C & T\\\\\n\t6 & chr1:1274972 & G & -0.0193357 & G & A\\\\\n\\end{tabular}\n",
            "text/plain": [
              "  id           effect_allele effect_weight COUNTED ALT\n",
              "1 chr1:1023851 A              0.0113215    A       G  \n",
              "2 chr1:1184478 T             -0.0165875    T       C  \n",
              "3 chr1:1186644 C              0.0135431    C       T  \n",
              "4 chr1:1219478 T             -0.0243073    T       C  \n",
              "5 chr1:1236037 T             -0.0126844    C       T  \n",
              "6 chr1:1274972 G             -0.0193357    G       A  "
            ]
          },
          "metadata": {}
        }
      ]
    },
    {
      "cell_type": "code",
      "source": [
        "# use this tab and try to solve the task by youself"
      ],
      "metadata": {
        "id": "Si3rQH_rD5zy"
      },
      "execution_count": null,
      "outputs": []
    },
    {
      "cell_type": "markdown",
      "source": [
        "**Exercise 5:** Apply the CAD score:\n",
        "- If the effect alleles are not the same for the score and the genotype matrix, you need to flip the effect (= change sign of effect)\n",
        "- Compute CAD score for each individual by applying an element-wise multiplication column by column as before\n",
        "- Create a data frame `cadg.mepg.scores` with the following columns: `id`, `CAD.manual` and `MEP1B.manual`. It will be used later to compare the results with the ones from the `plink` software.\n",
        "\n",
        "**Question 5:** What do you think about the distribution of the CAD score ?"
      ],
      "metadata": {
        "id": "F-qLDDzUPxaZ"
      }
    },
    {
      "cell_type": "code",
      "source": [
        "#@title Apply the CAD score\n",
        "# If the effect allele is the ALT allele, inverse the effect\n",
        "cadg[which(cadg$ALT == cadg$effect_allele), \"effect_weight\"] <- -cadg[which(cadg$ALT == cadg$effect_allele), \"effect_weight\"]\n",
        "head(cadg)\n",
        "#Compute the score\n",
        "cadg.score <- colSums(apply(cadg[,spnames], 2, function(x) x*cadg$effect_weight), na.rm = TRUE)"
      ],
      "metadata": {
        "id": "dvk6o-3QQjO2",
        "outputId": "717c9e48-8e5b-4bdd-b743-9cb7b73db4b4",
        "colab": {
          "base_uri": "https://localhost:8080/",
          "height": 306
        }
      },
      "execution_count": null,
      "outputs": [
        {
          "output_type": "display_data",
          "data": {
            "text/html": [
              "<table class=\"dataframe\">\n",
              "<caption>A data.frame: 6 × 2515</caption>\n",
              "<thead>\n",
              "\t<tr><th></th><th scope=col>id</th><th scope=col>chr_name</th><th scope=col>chr_position</th><th scope=col>effect_allele</th><th scope=col>effect_weight</th><th scope=col>id_alleles</th><th scope=col>CHR</th><th scope=col>X.C.M</th><th scope=col>POS</th><th scope=col>COUNTED</th><th scope=col>⋯</th><th scope=col>NA21128_NA21128</th><th scope=col>NA21129_NA21129</th><th scope=col>NA21130_NA21130</th><th scope=col>NA21133_NA21133</th><th scope=col>NA21135_NA21135</th><th scope=col>NA21137_NA21137</th><th scope=col>NA21141_NA21141</th><th scope=col>NA21142_NA21142</th><th scope=col>NA21143_NA21143</th><th scope=col>NA21144_NA21144</th></tr>\n",
              "\t<tr><th></th><th scope=col>&lt;chr&gt;</th><th scope=col>&lt;chr&gt;</th><th scope=col>&lt;int&gt;</th><th scope=col>&lt;chr&gt;</th><th scope=col>&lt;dbl&gt;</th><th scope=col>&lt;chr&gt;</th><th scope=col>&lt;int&gt;</th><th scope=col>&lt;int&gt;</th><th scope=col>&lt;int&gt;</th><th scope=col>&lt;chr&gt;</th><th scope=col>⋯</th><th scope=col>&lt;int&gt;</th><th scope=col>&lt;int&gt;</th><th scope=col>&lt;int&gt;</th><th scope=col>&lt;int&gt;</th><th scope=col>&lt;int&gt;</th><th scope=col>&lt;int&gt;</th><th scope=col>&lt;int&gt;</th><th scope=col>&lt;int&gt;</th><th scope=col>&lt;int&gt;</th><th scope=col>&lt;int&gt;</th></tr>\n",
              "</thead>\n",
              "<tbody>\n",
              "\t<tr><th scope=row>1</th><td>chr1:1023851</td><td>1</td><td>1023851</td><td>A</td><td> 0.0113215</td><td>1:959231:G:A </td><td>1</td><td>0</td><td>1023851</td><td>A</td><td>⋯</td><td>1</td><td>2</td><td>1</td><td>0</td><td>0</td><td>0</td><td>2</td><td>1</td><td>1</td><td>0</td></tr>\n",
              "\t<tr><th scope=row>2</th><td>chr1:1184478</td><td>1</td><td>1184478</td><td>T</td><td>-0.0165875</td><td>1:1119858:C:T</td><td>1</td><td>0</td><td>1184478</td><td>T</td><td>⋯</td><td>0</td><td>1</td><td>0</td><td>0</td><td>1</td><td>0</td><td>1</td><td>1</td><td>1</td><td>0</td></tr>\n",
              "\t<tr><th scope=row>3</th><td>chr1:1186644</td><td>1</td><td>1186644</td><td>C</td><td> 0.0135431</td><td>1:1122024:T:C</td><td>1</td><td>0</td><td>1186644</td><td>C</td><td>⋯</td><td>1</td><td>0</td><td>2</td><td>1</td><td>0</td><td>1</td><td>1</td><td>1</td><td>1</td><td>0</td></tr>\n",
              "\t<tr><th scope=row>4</th><td>chr1:1219478</td><td>1</td><td>1219478</td><td>T</td><td>-0.0243073</td><td>1:1154858:C:T</td><td>1</td><td>0</td><td>1219478</td><td>T</td><td>⋯</td><td>0</td><td>0</td><td>0</td><td>0</td><td>0</td><td>0</td><td>0</td><td>0</td><td>0</td><td>0</td></tr>\n",
              "\t<tr><th scope=row>5</th><td>chr1:1236037</td><td>1</td><td>1236037</td><td>T</td><td> 0.0126844</td><td>1:1171417:C:T</td><td>1</td><td>0</td><td>1236037</td><td>C</td><td>⋯</td><td>1</td><td>0</td><td>0</td><td>0</td><td>1</td><td>1</td><td>0</td><td>0</td><td>0</td><td>1</td></tr>\n",
              "\t<tr><th scope=row>6</th><td>chr1:1274972</td><td>1</td><td>1274972</td><td>G</td><td>-0.0193357</td><td>1:1210352:A:G</td><td>1</td><td>0</td><td>1274972</td><td>G</td><td>⋯</td><td>0</td><td>1</td><td>1</td><td>1</td><td>0</td><td>1</td><td>1</td><td>2</td><td>2</td><td>0</td></tr>\n",
              "</tbody>\n",
              "</table>\n"
            ],
            "text/markdown": "\nA data.frame: 6 × 2515\n\n| <!--/--> | id &lt;chr&gt; | chr_name &lt;chr&gt; | chr_position &lt;int&gt; | effect_allele &lt;chr&gt; | effect_weight &lt;dbl&gt; | id_alleles &lt;chr&gt; | CHR &lt;int&gt; | X.C.M &lt;int&gt; | POS &lt;int&gt; | COUNTED &lt;chr&gt; | ⋯ ⋯ | NA21128_NA21128 &lt;int&gt; | NA21129_NA21129 &lt;int&gt; | NA21130_NA21130 &lt;int&gt; | NA21133_NA21133 &lt;int&gt; | NA21135_NA21135 &lt;int&gt; | NA21137_NA21137 &lt;int&gt; | NA21141_NA21141 &lt;int&gt; | NA21142_NA21142 &lt;int&gt; | NA21143_NA21143 &lt;int&gt; | NA21144_NA21144 &lt;int&gt; |\n|---|---|---|---|---|---|---|---|---|---|---|---|---|---|---|---|---|---|---|---|---|---|\n| 1 | chr1:1023851 | 1 | 1023851 | A |  0.0113215 | 1:959231:G:A  | 1 | 0 | 1023851 | A | ⋯ | 1 | 2 | 1 | 0 | 0 | 0 | 2 | 1 | 1 | 0 |\n| 2 | chr1:1184478 | 1 | 1184478 | T | -0.0165875 | 1:1119858:C:T | 1 | 0 | 1184478 | T | ⋯ | 0 | 1 | 0 | 0 | 1 | 0 | 1 | 1 | 1 | 0 |\n| 3 | chr1:1186644 | 1 | 1186644 | C |  0.0135431 | 1:1122024:T:C | 1 | 0 | 1186644 | C | ⋯ | 1 | 0 | 2 | 1 | 0 | 1 | 1 | 1 | 1 | 0 |\n| 4 | chr1:1219478 | 1 | 1219478 | T | -0.0243073 | 1:1154858:C:T | 1 | 0 | 1219478 | T | ⋯ | 0 | 0 | 0 | 0 | 0 | 0 | 0 | 0 | 0 | 0 |\n| 5 | chr1:1236037 | 1 | 1236037 | T |  0.0126844 | 1:1171417:C:T | 1 | 0 | 1236037 | C | ⋯ | 1 | 0 | 0 | 0 | 1 | 1 | 0 | 0 | 0 | 1 |\n| 6 | chr1:1274972 | 1 | 1274972 | G | -0.0193357 | 1:1210352:A:G | 1 | 0 | 1274972 | G | ⋯ | 0 | 1 | 1 | 1 | 0 | 1 | 1 | 2 | 2 | 0 |\n\n",
            "text/latex": "A data.frame: 6 × 2515\n\\begin{tabular}{r|lllllllllllllllllllll}\n  & id & chr\\_name & chr\\_position & effect\\_allele & effect\\_weight & id\\_alleles & CHR & X.C.M & POS & COUNTED & ⋯ & NA21128\\_NA21128 & NA21129\\_NA21129 & NA21130\\_NA21130 & NA21133\\_NA21133 & NA21135\\_NA21135 & NA21137\\_NA21137 & NA21141\\_NA21141 & NA21142\\_NA21142 & NA21143\\_NA21143 & NA21144\\_NA21144\\\\\n  & <chr> & <chr> & <int> & <chr> & <dbl> & <chr> & <int> & <int> & <int> & <chr> & ⋯ & <int> & <int> & <int> & <int> & <int> & <int> & <int> & <int> & <int> & <int>\\\\\n\\hline\n\t1 & chr1:1023851 & 1 & 1023851 & A &  0.0113215 & 1:959231:G:A  & 1 & 0 & 1023851 & A & ⋯ & 1 & 2 & 1 & 0 & 0 & 0 & 2 & 1 & 1 & 0\\\\\n\t2 & chr1:1184478 & 1 & 1184478 & T & -0.0165875 & 1:1119858:C:T & 1 & 0 & 1184478 & T & ⋯ & 0 & 1 & 0 & 0 & 1 & 0 & 1 & 1 & 1 & 0\\\\\n\t3 & chr1:1186644 & 1 & 1186644 & C &  0.0135431 & 1:1122024:T:C & 1 & 0 & 1186644 & C & ⋯ & 1 & 0 & 2 & 1 & 0 & 1 & 1 & 1 & 1 & 0\\\\\n\t4 & chr1:1219478 & 1 & 1219478 & T & -0.0243073 & 1:1154858:C:T & 1 & 0 & 1219478 & T & ⋯ & 0 & 0 & 0 & 0 & 0 & 0 & 0 & 0 & 0 & 0\\\\\n\t5 & chr1:1236037 & 1 & 1236037 & T &  0.0126844 & 1:1171417:C:T & 1 & 0 & 1236037 & C & ⋯ & 1 & 0 & 0 & 0 & 1 & 1 & 0 & 0 & 0 & 1\\\\\n\t6 & chr1:1274972 & 1 & 1274972 & G & -0.0193357 & 1:1210352:A:G & 1 & 0 & 1274972 & G & ⋯ & 0 & 1 & 1 & 1 & 0 & 1 & 1 & 2 & 2 & 0\\\\\n\\end{tabular}\n",
            "text/plain": [
              "  id           chr_name chr_position effect_allele effect_weight id_alleles   \n",
              "1 chr1:1023851 1        1023851      A              0.0113215    1:959231:G:A \n",
              "2 chr1:1184478 1        1184478      T             -0.0165875    1:1119858:C:T\n",
              "3 chr1:1186644 1        1186644      C              0.0135431    1:1122024:T:C\n",
              "4 chr1:1219478 1        1219478      T             -0.0243073    1:1154858:C:T\n",
              "5 chr1:1236037 1        1236037      T              0.0126844    1:1171417:C:T\n",
              "6 chr1:1274972 1        1274972      G             -0.0193357    1:1210352:A:G\n",
              "  CHR X.C.M POS     COUNTED ⋯ NA21128_NA21128 NA21129_NA21129 NA21130_NA21130\n",
              "1 1   0     1023851 A       ⋯ 1               2               1              \n",
              "2 1   0     1184478 T       ⋯ 0               1               0              \n",
              "3 1   0     1186644 C       ⋯ 1               0               2              \n",
              "4 1   0     1219478 T       ⋯ 0               0               0              \n",
              "5 1   0     1236037 C       ⋯ 1               0               0              \n",
              "6 1   0     1274972 G       ⋯ 0               1               1              \n",
              "  NA21133_NA21133 NA21135_NA21135 NA21137_NA21137 NA21141_NA21141\n",
              "1 0               0               0               2              \n",
              "2 0               1               0               1              \n",
              "3 1               0               1               1              \n",
              "4 0               0               0               0              \n",
              "5 0               1               1               0              \n",
              "6 1               0               1               1              \n",
              "  NA21142_NA21142 NA21143_NA21143 NA21144_NA21144\n",
              "1 1               1               0              \n",
              "2 1               1               0              \n",
              "3 1               1               0              \n",
              "4 0               0               0              \n",
              "5 0               0               1              \n",
              "6 2               2               0              "
            ]
          },
          "metadata": {}
        }
      ]
    },
    {
      "cell_type": "code",
      "source": [
        "# use this tab and try to solve the task by youself"
      ],
      "metadata": {
        "id": "GI4GA4oeD6z9"
      },
      "execution_count": null,
      "outputs": []
    },
    {
      "cell_type": "code",
      "source": [
        "#@title Combine the results\n",
        "cadg.mepg.scores <- data.frame(id=names(cadg.score), CAD.manual=cadg.score)\n",
        "cadg.mepg.scores$MEP1B.manual <- data.frame(id=names(mepg.score), MEP1B.manual=mepg.score)[cadg.mepg.scores$id, \"MEP1B.manual\"]\n",
        "head(cadg.mepg.scores)\n"
      ],
      "metadata": {
        "id": "r1NlLUeWdDgb",
        "outputId": "3d806737-7153-48ed-8b10-8f17b0b1247a",
        "colab": {
          "base_uri": "https://localhost:8080/",
          "height": 286
        }
      },
      "execution_count": null,
      "outputs": [
        {
          "output_type": "display_data",
          "data": {
            "text/html": [
              "<table class=\"dataframe\">\n",
              "<caption>A data.frame: 6 × 3</caption>\n",
              "<thead>\n",
              "\t<tr><th></th><th scope=col>id</th><th scope=col>CAD.manual</th><th scope=col>MEP1B.manual</th></tr>\n",
              "\t<tr><th></th><th scope=col>&lt;chr&gt;</th><th scope=col>&lt;dbl&gt;</th><th scope=col>&lt;dbl&gt;</th></tr>\n",
              "</thead>\n",
              "<tbody>\n",
              "\t<tr><th scope=row>HG00096_HG00096</th><td>HG00096_HG00096</td><td>5.499265</td><td>-1.8107488</td></tr>\n",
              "\t<tr><th scope=row>HG00097_HG00097</th><td>HG00097_HG00097</td><td>5.716100</td><td>-2.4174872</td></tr>\n",
              "\t<tr><th scope=row>HG00099_HG00099</th><td>HG00099_HG00099</td><td>9.140899</td><td>-2.0063286</td></tr>\n",
              "\t<tr><th scope=row>HG00100_HG00100</th><td>HG00100_HG00100</td><td>7.858507</td><td>-0.2488646</td></tr>\n",
              "\t<tr><th scope=row>HG00101_HG00101</th><td>HG00101_HG00101</td><td>9.590015</td><td>-2.6559537</td></tr>\n",
              "\t<tr><th scope=row>HG00102_HG00102</th><td>HG00102_HG00102</td><td>3.223081</td><td>-0.7406358</td></tr>\n",
              "</tbody>\n",
              "</table>\n"
            ],
            "text/markdown": "\nA data.frame: 6 × 3\n\n| <!--/--> | id &lt;chr&gt; | CAD.manual &lt;dbl&gt; | MEP1B.manual &lt;dbl&gt; |\n|---|---|---|---|\n| HG00096_HG00096 | HG00096_HG00096 | 5.499265 | -1.8107488 |\n| HG00097_HG00097 | HG00097_HG00097 | 5.716100 | -2.4174872 |\n| HG00099_HG00099 | HG00099_HG00099 | 9.140899 | -2.0063286 |\n| HG00100_HG00100 | HG00100_HG00100 | 7.858507 | -0.2488646 |\n| HG00101_HG00101 | HG00101_HG00101 | 9.590015 | -2.6559537 |\n| HG00102_HG00102 | HG00102_HG00102 | 3.223081 | -0.7406358 |\n\n",
            "text/latex": "A data.frame: 6 × 3\n\\begin{tabular}{r|lll}\n  & id & CAD.manual & MEP1B.manual\\\\\n  & <chr> & <dbl> & <dbl>\\\\\n\\hline\n\tHG00096\\_HG00096 & HG00096\\_HG00096 & 5.499265 & -1.8107488\\\\\n\tHG00097\\_HG00097 & HG00097\\_HG00097 & 5.716100 & -2.4174872\\\\\n\tHG00099\\_HG00099 & HG00099\\_HG00099 & 9.140899 & -2.0063286\\\\\n\tHG00100\\_HG00100 & HG00100\\_HG00100 & 7.858507 & -0.2488646\\\\\n\tHG00101\\_HG00101 & HG00101\\_HG00101 & 9.590015 & -2.6559537\\\\\n\tHG00102\\_HG00102 & HG00102\\_HG00102 & 3.223081 & -0.7406358\\\\\n\\end{tabular}\n",
            "text/plain": [
              "                id              CAD.manual MEP1B.manual\n",
              "HG00096_HG00096 HG00096_HG00096 5.499265   -1.8107488  \n",
              "HG00097_HG00097 HG00097_HG00097 5.716100   -2.4174872  \n",
              "HG00099_HG00099 HG00099_HG00099 9.140899   -2.0063286  \n",
              "HG00100_HG00100 HG00100_HG00100 7.858507   -0.2488646  \n",
              "HG00101_HG00101 HG00101_HG00101 9.590015   -2.6559537  \n",
              "HG00102_HG00102 HG00102_HG00102 3.223081   -0.7406358  "
            ]
          },
          "metadata": {}
        }
      ]
    },
    {
      "cell_type": "code",
      "source": [
        "# use this tab and try to solve the task by youself"
      ],
      "metadata": {
        "id": "Fm9-y0x9D7qW"
      },
      "execution_count": null,
      "outputs": []
    },
    {
      "cell_type": "code",
      "source": [
        "#@title Answer question 5\n",
        "hist(cadg.mepg.scores$CAD.manual, breaks = 40)\n",
        "#The CAD score is normally distributed, which is expected from a PGS of a highly polygenic trait"
      ],
      "metadata": {
        "id": "WRUiAuIzQ7QR",
        "outputId": "38d77882-03ea-47ad-ad72-45a38dd54230",
        "colab": {
          "base_uri": "https://localhost:8080/",
          "height": 437
        }
      },
      "execution_count": null,
      "outputs": [
        {
          "output_type": "display_data",
          "data": {
            "text/plain": [
              "Plot with title “Histogram of cadg.mepg.scores$CAD.manual”"
            ],
            "image/png": "[encoded data removed]"
          },
          "metadata": {
            "image/png": {
              "width": 420,
              "height": 420
            }
          }
        }
      ]
    },
    {
      "cell_type": "code",
      "source": [
        "# use this tab and try to solve the task by youself"
      ],
      "metadata": {
        "id": "HjkJxLcmD8Zg"
      },
      "execution_count": null,
      "outputs": []
    },
    {
      "cell_type": "code",
      "source": [
        "#@title **Optional** Alternative using the data.table library\n",
        "#MEP1B\n",
        "mepg=genos[SNP %in% mepscore$id]\n",
        "mepg\n",
        "mepg.score=colSums(mepg[,lapply(.SD, function(x) x*mepscore$effect), .SDcol=spnames])\n",
        "#CAD\n",
        "cadg[,eff:=effect_weight]\n",
        "cadg[effect_allele==ALT,eff:=-1*eff]\n",
        "cadg=cadg[effect_allele==ALT | effect_allele == COUNTED]\n",
        "cadg=cadg[,lapply(.SD, function(x) sum(x*eff, na.rm=T)), .SDcol=spnames]"
      ],
      "metadata": {
        "id": "VQX3iD_TcXlZ",
        "cellView": "form"
      },
      "execution_count": null,
      "outputs": []
    },
    {
      "cell_type": "code",
      "source": [
        "rm(genos)  # to free up memory space\n",
        "gc()  # to free up memory space"
      ],
      "metadata": {
        "id": "_7w3JxlSciic"
      },
      "execution_count": null,
      "outputs": []
    },
    {
      "cell_type": "markdown",
      "source": [
        "# Method 2: Applying scores using Plink\n",
        "We will now use the plink software to compute the scores. To have more information on how to proceed, use:\n",
        "`cat(system('./plink --help', intern=T), sep=\"\\n\")`\n",
        "\n",
        "**Exercise 6:**\n",
        "- Apply the scores to `autosomal.forPRS` using `CAD.score` and `MET1B.score`\n",
        "- Import the results `CAD.profile` and `MEP1B.profile` to `R`\n",
        "- Merge all the scores with the previous dataframe\n",
        "- Compute the correlations between the scores computed in `R` or in `plink` for CAD and MEP1B\n",
        "\n",
        "**Question 6:** You should observe some differences for CAD, where do you think they come from ?"
      ],
      "metadata": {
        "id": "Wsq-R57XSVCb"
      }
    },
    {
      "cell_type": "code",
      "source": [
        "#@title Apply the scores using plink\n",
        "cat(system('./plink --bfile autosomal.forPRS --score CAD.score --out CAD', intern=T), sep=\"\\n\")\n",
        "cat(system('./plink --bfile autosomal.forPRS --score MEP1B.score --out MEP1B', intern=T), sep=\"\\n\")"
      ],
      "metadata": {
        "id": "wZn870hTGUEz",
        "outputId": "a8d2e0a5-975a-46fc-ab83-9606a3243135",
        "colab": {
          "base_uri": "https://localhost:8080/"
        }
      },
      "execution_count": null,
      "outputs": [
        {
          "output_type": "stream",
          "name": "stdout",
          "text": [
            "PLINK v1.90b6.24 64-bit (6 Jun 2021)           www.cog-genomics.org/plink/1.9/\n",
            "(C) 2005-2021 Shaun Purcell, Christopher Chang   GNU General Public License v3\n",
            "Logging to CAD.log.\n",
            "Options in effect:\n",
            "  --bfile autosomal.forPRS\n",
            "  --out CAD\n",
            "  --score CAD.score\n",
            "\n",
            "12982 MB RAM detected; reserving 6491 MB for main workspace.\n",
            "75624 variants loaded from .bim file.\n",
            "2504 people (0 males, 0 females, 2504 ambiguous) loaded from .fam.\n",
            "Ambiguous sex IDs written to CAD.nosex .\n",
            "Using 1 thread (no multithreaded calculations invoked).\n",
            "Before main variant filters, 2504 founders and 0 nonfounders present.\n",
            "Calculating allele frequencies... 0%\b\b1%\b\b2%\b\b3%\b\b4%\b\b5%\b\b6%\b\b7%\b\b8%\b\b9%\b\b10%\b\b\b11%\b\b\b12%\b\b\b13%\b\b\b14%\b\b\b15%\b\b\b16%\b\b\b17%\b\b\b18%\b\b\b19%\b\b\b20%\b\b\b21%\b\b\b22%\b\b\b23%\b\b\b24%\b\b\b25%\b\b\b26%\b\b\b27%\b\b\b28%\b\b\b29%\b\b\b30%\b\b\b31%\b\b\b32%\b\b\b33%\b\b\b34%\b\b\b35%\b\b\b36%\b\b\b37%\b\b\b38%\b\b\b39%\b\b\b40%\b\b\b41%\b\b\b42%\b\b\b43%\b\b\b44%\b\b\b45%\b\b\b46%\b\b\b47%\b\b\b48%\b\b\b49%\b\b\b50%\b\b\b51%\b\b\b52%\b\b\b53%\b\b\b54%\b\b\b55%\b\b\b56%\b\b\b57%\b\b\b58%\b\b\b59%\b\b\b60%\b\b\b61%\b\b\b62%\b\b\b63%\b\b\b64%\b\b\b65%\b\b\b66%\b\b\b67%\b\b\b68%\b\b\b69%\b\b\b70%\b\b\b71%\b\b\b72%\b\b\b73%\b\b\b74%\b\b\b75%\b\b\b76%\b\b\b77%\b\b\b78%\b\b\b79%\b\b\b80%\b\b\b81%\b\b\b82%\b\b\b83%\b\b\b84%\b\b\b85%\b\b\b86%\b\b\b87%\b\b\b88%\b\b\b89%\b\b\b90%\b\b\b91%\b\b\b92%\b\b\b93%\b\b\b94%\b\b\b95%\b\b\b96%\b\b\b97%\b\b\b98%\b\b\b99%\b\b\b\b done.\n",
            "Total genotyping rate is 0.999812.\n",
            "75624 variants and 2504 people pass filters and QC.\n",
            "Note: No phenotypes present.\n",
            "--score: 74813 valid predictors loaded.\n",
            "--score: Results written to CAD.profile .\n",
            "PLINK v1.90b6.24 64-bit (6 Jun 2021)           www.cog-genomics.org/plink/1.9/\n",
            "(C) 2005-2021 Shaun Purcell, Christopher Chang   GNU General Public License v3\n",
            "Logging to MEP1B.log.\n",
            "Options in effect:\n",
            "  --bfile autosomal.forPRS\n",
            "  --out MEP1B\n",
            "  --score MEP1B.score\n",
            "\n",
            "12982 MB RAM detected; reserving 6491 MB for main workspace.\n",
            "75624 variants loaded from .bim file.\n",
            "2504 people (0 males, 0 females, 2504 ambiguous) loaded from .fam.\n",
            "Ambiguous sex IDs written to MEP1B.nosex .\n",
            "Using 1 thread (no multithreaded calculations invoked).\n",
            "Before main variant filters, 2504 founders and 0 nonfounders present.\n",
            "Calculating allele frequencies... 0%\b\b1%\b\b2%\b\b3%\b\b4%\b\b5%\b\b6%\b\b7%\b\b8%\b\b9%\b\b10%\b\b\b11%\b\b\b12%\b\b\b13%\b\b\b14%\b\b\b15%\b\b\b16%\b\b\b17%\b\b\b18%\b\b\b19%\b\b\b20%\b\b\b21%\b\b\b22%\b\b\b23%\b\b\b24%\b\b\b25%\b\b\b26%\b\b\b27%\b\b\b28%\b\b\b29%\b\b\b30%\b\b\b31%\b\b\b32%\b\b\b33%\b\b\b34%\b\b\b35%\b\b\b36%\b\b\b37%\b\b\b38%\b\b\b39%\b\b\b40%\b\b\b41%\b\b\b42%\b\b\b43%\b\b\b44%\b\b\b45%\b\b\b46%\b\b\b47%\b\b\b48%\b\b\b49%\b\b\b50%\b\b\b51%\b\b\b52%\b\b\b53%\b\b\b54%\b\b\b55%\b\b\b56%\b\b\b57%\b\b\b58%\b\b\b59%\b\b\b60%\b\b\b61%\b\b\b62%\b\b\b63%\b\b\b64%\b\b\b65%\b\b\b66%\b\b\b67%\b\b\b68%\b\b\b69%\b\b\b70%\b\b\b71%\b\b\b72%\b\b\b73%\b\b\b74%\b\b\b75%\b\b\b76%\b\b\b77%\b\b\b78%\b\b\b79%\b\b\b80%\b\b\b81%\b\b\b82%\b\b\b83%\b\b\b84%\b\b\b85%\b\b\b86%\b\b\b87%\b\b\b88%\b\b\b89%\b\b\b90%\b\b\b91%\b\b\b92%\b\b\b93%\b\b\b94%\b\b\b95%\b\b\b96%\b\b\b97%\b\b\b98%\b\b\b99%\b\b\b\b done.\n",
            "Total genotyping rate is 0.999812.\n",
            "75624 variants and 2504 people pass filters and QC.\n",
            "Note: No phenotypes present.\n",
            "--score: 7 valid predictors loaded.\n",
            "--score: Results written to MEP1B.profile .\n"
          ]
        }
      ]
    },
    {
      "cell_type": "code",
      "source": [
        "# use this tab and try to solve the task by youself"
      ],
      "metadata": {
        "id": "nuY-rcWSD_H1"
      },
      "execution_count": null,
      "outputs": []
    },
    {
      "cell_type": "code",
      "source": [
        "#@title Import the computed scores and combine with R-made scores\n",
        "cadsc = read.table(\"CAD.profile\", header = TRUE)\n",
        "mepsc = read.table(\"MEP1B.profile\", header = TRUE)\n",
        "head(cadsc) ; head(mepsc)\n",
        "cadsc$id <- paste0(cadsc$FID, \"_\", cadsc$IID)\n",
        "mepsc$id <- paste0(mepsc$FID, \"_\", mepsc$IID)\n",
        "allscores=merge(cadg.mepg.scores, cadsc[,c(\"id\", \"SCORE\")], by=\"id\", sort = FALSE)\n",
        "colnames(allscores)[4] <- \"CAD.Plink\"\n",
        "allscores=merge(allscores, mepsc[,c(\"id\", \"SCORE\")], by=\"id\")\n",
        "colnames(allscores)[5] <- \"MEP1B.Plink\"\n",
        "dim(allscores)\n",
        "head(allscores)"
      ],
      "metadata": {
        "id": "dT7W8VsbGeqN",
        "outputId": "d6c1faae-82c9-438d-9463-d0d66a367403",
        "colab": {
          "base_uri": "https://localhost:8080/",
          "height": 841
        }
      },
      "execution_count": null,
      "outputs": [
        {
          "output_type": "display_data",
          "data": {
            "text/html": [
              "<table class=\"dataframe\">\n",
              "<caption>A data.frame: 6 × 6</caption>\n",
              "<thead>\n",
              "\t<tr><th></th><th scope=col>FID</th><th scope=col>IID</th><th scope=col>PHENO</th><th scope=col>CNT</th><th scope=col>CNT2</th><th scope=col>SCORE</th></tr>\n",
              "\t<tr><th></th><th scope=col>&lt;chr&gt;</th><th scope=col>&lt;chr&gt;</th><th scope=col>&lt;int&gt;</th><th scope=col>&lt;int&gt;</th><th scope=col>&lt;int&gt;</th><th scope=col>&lt;dbl&gt;</th></tr>\n",
              "</thead>\n",
              "<tbody>\n",
              "\t<tr><th scope=row>1</th><td>HG00096</td><td>HG00096</td><td>-9</td><td>149594</td><td>50507</td><td>5.05267e-05</td></tr>\n",
              "\t<tr><th scope=row>2</th><td>HG00097</td><td>HG00097</td><td>-9</td><td>149596</td><td>50713</td><td>5.33455e-05</td></tr>\n",
              "\t<tr><th scope=row>3</th><td>HG00099</td><td>HG00099</td><td>-9</td><td>149600</td><td>50789</td><td>7.68214e-05</td></tr>\n",
              "\t<tr><th scope=row>4</th><td>HG00100</td><td>HG00100</td><td>-9</td><td>149604</td><td>50777</td><td>6.79659e-05</td></tr>\n",
              "\t<tr><th scope=row>5</th><td>HG00101</td><td>HG00101</td><td>-9</td><td>149604</td><td>50428</td><td>7.87867e-05</td></tr>\n",
              "\t<tr><th scope=row>6</th><td>HG00102</td><td>HG00102</td><td>-9</td><td>149606</td><td>50549</td><td>3.60922e-05</td></tr>\n",
              "</tbody>\n",
              "</table>\n"
            ],
            "text/markdown": "\nA data.frame: 6 × 6\n\n| <!--/--> | FID &lt;chr&gt; | IID &lt;chr&gt; | PHENO &lt;int&gt; | CNT &lt;int&gt; | CNT2 &lt;int&gt; | SCORE &lt;dbl&gt; |\n|---|---|---|---|---|---|---|\n| 1 | HG00096 | HG00096 | -9 | 149594 | 50507 | 5.05267e-05 |\n| 2 | HG00097 | HG00097 | -9 | 149596 | 50713 | 5.33455e-05 |\n| 3 | HG00099 | HG00099 | -9 | 149600 | 50789 | 7.68214e-05 |\n| 4 | HG00100 | HG00100 | -9 | 149604 | 50777 | 6.79659e-05 |\n| 5 | HG00101 | HG00101 | -9 | 149604 | 50428 | 7.87867e-05 |\n| 6 | HG00102 | HG00102 | -9 | 149606 | 50549 | 3.60922e-05 |\n\n",
            "text/latex": "A data.frame: 6 × 6\n\\begin{tabular}{r|llllll}\n  & FID & IID & PHENO & CNT & CNT2 & SCORE\\\\\n  & <chr> & <chr> & <int> & <int> & <int> & <dbl>\\\\\n\\hline\n\t1 & HG00096 & HG00096 & -9 & 149594 & 50507 & 5.05267e-05\\\\\n\t2 & HG00097 & HG00097 & -9 & 149596 & 50713 & 5.33455e-05\\\\\n\t3 & HG00099 & HG00099 & -9 & 149600 & 50789 & 7.68214e-05\\\\\n\t4 & HG00100 & HG00100 & -9 & 149604 & 50777 & 6.79659e-05\\\\\n\t5 & HG00101 & HG00101 & -9 & 149604 & 50428 & 7.87867e-05\\\\\n\t6 & HG00102 & HG00102 & -9 & 149606 & 50549 & 3.60922e-05\\\\\n\\end{tabular}\n",
            "text/plain": [
              "  FID     IID     PHENO CNT    CNT2  SCORE      \n",
              "1 HG00096 HG00096 -9    149594 50507 5.05267e-05\n",
              "2 HG00097 HG00097 -9    149596 50713 5.33455e-05\n",
              "3 HG00099 HG00099 -9    149600 50789 7.68214e-05\n",
              "4 HG00100 HG00100 -9    149604 50777 6.79659e-05\n",
              "5 HG00101 HG00101 -9    149604 50428 7.87867e-05\n",
              "6 HG00102 HG00102 -9    149606 50549 3.60922e-05"
            ]
          },
          "metadata": {}
        },
        {
          "output_type": "display_data",
          "data": {
            "text/html": [
              "<table class=\"dataframe\">\n",
              "<caption>A data.frame: 6 × 6</caption>\n",
              "<thead>\n",
              "\t<tr><th></th><th scope=col>FID</th><th scope=col>IID</th><th scope=col>PHENO</th><th scope=col>CNT</th><th scope=col>CNT2</th><th scope=col>SCORE</th></tr>\n",
              "\t<tr><th></th><th scope=col>&lt;chr&gt;</th><th scope=col>&lt;chr&gt;</th><th scope=col>&lt;int&gt;</th><th scope=col>&lt;int&gt;</th><th scope=col>&lt;int&gt;</th><th scope=col>&lt;dbl&gt;</th></tr>\n",
              "</thead>\n",
              "<tbody>\n",
              "\t<tr><th scope=row>1</th><td>HG00096</td><td>HG00096</td><td>-9</td><td>14</td><td>3</td><td>-0.1293390</td></tr>\n",
              "\t<tr><th scope=row>2</th><td>HG00097</td><td>HG00097</td><td>-9</td><td>14</td><td>6</td><td>-0.1726780</td></tr>\n",
              "\t<tr><th scope=row>3</th><td>HG00099</td><td>HG00099</td><td>-9</td><td>14</td><td>3</td><td>-0.1433090</td></tr>\n",
              "\t<tr><th scope=row>4</th><td>HG00100</td><td>HG00100</td><td>-9</td><td>14</td><td>3</td><td>-0.0177760</td></tr>\n",
              "\t<tr><th scope=row>5</th><td>HG00101</td><td>HG00101</td><td>-9</td><td>14</td><td>5</td><td>-0.1897110</td></tr>\n",
              "\t<tr><th scope=row>6</th><td>HG00102</td><td>HG00102</td><td>-9</td><td>14</td><td>2</td><td>-0.0529026</td></tr>\n",
              "</tbody>\n",
              "</table>\n"
            ],
            "text/markdown": "\nA data.frame: 6 × 6\n\n| <!--/--> | FID &lt;chr&gt; | IID &lt;chr&gt; | PHENO &lt;int&gt; | CNT &lt;int&gt; | CNT2 &lt;int&gt; | SCORE &lt;dbl&gt; |\n|---|---|---|---|---|---|---|\n| 1 | HG00096 | HG00096 | -9 | 14 | 3 | -0.1293390 |\n| 2 | HG00097 | HG00097 | -9 | 14 | 6 | -0.1726780 |\n| 3 | HG00099 | HG00099 | -9 | 14 | 3 | -0.1433090 |\n| 4 | HG00100 | HG00100 | -9 | 14 | 3 | -0.0177760 |\n| 5 | HG00101 | HG00101 | -9 | 14 | 5 | -0.1897110 |\n| 6 | HG00102 | HG00102 | -9 | 14 | 2 | -0.0529026 |\n\n",
            "text/latex": "A data.frame: 6 × 6\n\\begin{tabular}{r|llllll}\n  & FID & IID & PHENO & CNT & CNT2 & SCORE\\\\\n  & <chr> & <chr> & <int> & <int> & <int> & <dbl>\\\\\n\\hline\n\t1 & HG00096 & HG00096 & -9 & 14 & 3 & -0.1293390\\\\\n\t2 & HG00097 & HG00097 & -9 & 14 & 6 & -0.1726780\\\\\n\t3 & HG00099 & HG00099 & -9 & 14 & 3 & -0.1433090\\\\\n\t4 & HG00100 & HG00100 & -9 & 14 & 3 & -0.0177760\\\\\n\t5 & HG00101 & HG00101 & -9 & 14 & 5 & -0.1897110\\\\\n\t6 & HG00102 & HG00102 & -9 & 14 & 2 & -0.0529026\\\\\n\\end{tabular}\n",
            "text/plain": [
              "  FID     IID     PHENO CNT CNT2 SCORE     \n",
              "1 HG00096 HG00096 -9    14  3    -0.1293390\n",
              "2 HG00097 HG00097 -9    14  6    -0.1726780\n",
              "3 HG00099 HG00099 -9    14  3    -0.1433090\n",
              "4 HG00100 HG00100 -9    14  3    -0.0177760\n",
              "5 HG00101 HG00101 -9    14  5    -0.1897110\n",
              "6 HG00102 HG00102 -9    14  2    -0.0529026"
            ]
          },
          "metadata": {}
        },
        {
          "output_type": "display_data",
          "data": {
            "text/html": [
              "<style>\n",
              ".list-inline {list-style: none; margin:0; padding: 0}\n",
              ".list-inline>li {display: inline-block}\n",
              ".list-inline>li:not(:last-child)::after {content: \"\\00b7\"; padding: 0 .5ex}\n",
              "</style>\n",
              "<ol class=list-inline><li>2504</li><li>5</li></ol>\n"
            ],
            "text/markdown": "1. 2504\n2. 5\n\n\n",
            "text/latex": "\\begin{enumerate*}\n\\item 2504\n\\item 5\n\\end{enumerate*}\n",
            "text/plain": [
              "[1] 2504    5"
            ]
          },
          "metadata": {}
        },
        {
          "output_type": "display_data",
          "data": {
            "text/html": [
              "<table class=\"dataframe\">\n",
              "<caption>A data.frame: 6 × 5</caption>\n",
              "<thead>\n",
              "\t<tr><th></th><th scope=col>id</th><th scope=col>CAD.manual</th><th scope=col>MEP1B.manual</th><th scope=col>CAD.Plink</th><th scope=col>MEP1B.Plink</th></tr>\n",
              "\t<tr><th></th><th scope=col>&lt;chr&gt;</th><th scope=col>&lt;dbl&gt;</th><th scope=col>&lt;dbl&gt;</th><th scope=col>&lt;dbl&gt;</th><th scope=col>&lt;dbl&gt;</th></tr>\n",
              "</thead>\n",
              "<tbody>\n",
              "\t<tr><th scope=row>1</th><td>HG00096_HG00096</td><td>5.499265</td><td>-1.8107488</td><td>5.05267e-05</td><td>-0.1293390</td></tr>\n",
              "\t<tr><th scope=row>2</th><td>HG00097_HG00097</td><td>5.716100</td><td>-2.4174872</td><td>5.33455e-05</td><td>-0.1726780</td></tr>\n",
              "\t<tr><th scope=row>3</th><td>HG00099_HG00099</td><td>9.140899</td><td>-2.0063286</td><td>7.68214e-05</td><td>-0.1433090</td></tr>\n",
              "\t<tr><th scope=row>4</th><td>HG00100_HG00100</td><td>7.858507</td><td>-0.2488646</td><td>6.79659e-05</td><td>-0.0177760</td></tr>\n",
              "\t<tr><th scope=row>5</th><td>HG00101_HG00101</td><td>9.590015</td><td>-2.6559537</td><td>7.87867e-05</td><td>-0.1897110</td></tr>\n",
              "\t<tr><th scope=row>6</th><td>HG00102_HG00102</td><td>3.223081</td><td>-0.7406358</td><td>3.60922e-05</td><td>-0.0529026</td></tr>\n",
              "</tbody>\n",
              "</table>\n"
            ],
            "text/markdown": "\nA data.frame: 6 × 5\n\n| <!--/--> | id &lt;chr&gt; | CAD.manual &lt;dbl&gt; | MEP1B.manual &lt;dbl&gt; | CAD.Plink &lt;dbl&gt; | MEP1B.Plink &lt;dbl&gt; |\n|---|---|---|---|---|---|\n| 1 | HG00096_HG00096 | 5.499265 | -1.8107488 | 5.05267e-05 | -0.1293390 |\n| 2 | HG00097_HG00097 | 5.716100 | -2.4174872 | 5.33455e-05 | -0.1726780 |\n| 3 | HG00099_HG00099 | 9.140899 | -2.0063286 | 7.68214e-05 | -0.1433090 |\n| 4 | HG00100_HG00100 | 7.858507 | -0.2488646 | 6.79659e-05 | -0.0177760 |\n| 5 | HG00101_HG00101 | 9.590015 | -2.6559537 | 7.87867e-05 | -0.1897110 |\n| 6 | HG00102_HG00102 | 3.223081 | -0.7406358 | 3.60922e-05 | -0.0529026 |\n\n",
            "text/latex": "A data.frame: 6 × 5\n\\begin{tabular}{r|lllll}\n  & id & CAD.manual & MEP1B.manual & CAD.Plink & MEP1B.Plink\\\\\n  & <chr> & <dbl> & <dbl> & <dbl> & <dbl>\\\\\n\\hline\n\t1 & HG00096\\_HG00096 & 5.499265 & -1.8107488 & 5.05267e-05 & -0.1293390\\\\\n\t2 & HG00097\\_HG00097 & 5.716100 & -2.4174872 & 5.33455e-05 & -0.1726780\\\\\n\t3 & HG00099\\_HG00099 & 9.140899 & -2.0063286 & 7.68214e-05 & -0.1433090\\\\\n\t4 & HG00100\\_HG00100 & 7.858507 & -0.2488646 & 6.79659e-05 & -0.0177760\\\\\n\t5 & HG00101\\_HG00101 & 9.590015 & -2.6559537 & 7.87867e-05 & -0.1897110\\\\\n\t6 & HG00102\\_HG00102 & 3.223081 & -0.7406358 & 3.60922e-05 & -0.0529026\\\\\n\\end{tabular}\n",
            "text/plain": [
              "  id              CAD.manual MEP1B.manual CAD.Plink   MEP1B.Plink\n",
              "1 HG00096_HG00096 5.499265   -1.8107488   5.05267e-05 -0.1293390 \n",
              "2 HG00097_HG00097 5.716100   -2.4174872   5.33455e-05 -0.1726780 \n",
              "3 HG00099_HG00099 9.140899   -2.0063286   7.68214e-05 -0.1433090 \n",
              "4 HG00100_HG00100 7.858507   -0.2488646   6.79659e-05 -0.0177760 \n",
              "5 HG00101_HG00101 9.590015   -2.6559537   7.87867e-05 -0.1897110 \n",
              "6 HG00102_HG00102 3.223081   -0.7406358   3.60922e-05 -0.0529026 "
            ]
          },
          "metadata": {}
        }
      ]
    },
    {
      "cell_type": "code",
      "source": [
        "# use this tab and try to solve the task by youself"
      ],
      "metadata": {
        "id": "FRuVKTAkD_yg"
      },
      "execution_count": null,
      "outputs": []
    },
    {
      "cell_type": "code",
      "source": [
        "#@title Correlation between the scores\n",
        "cor(allscores[,-1])"
      ],
      "metadata": {
        "id": "4SExsznrHj6f",
        "outputId": "81534e5c-450c-4cee-927d-5a4999db3814",
        "colab": {
          "base_uri": "https://localhost:8080/",
          "height": 192
        }
      },
      "execution_count": null,
      "outputs": [
        {
          "output_type": "display_data",
          "data": {
            "text/html": [
              "<table class=\"dataframe\">\n",
              "<caption>A matrix: 4 × 4 of type dbl</caption>\n",
              "<thead>\n",
              "\t<tr><th></th><th scope=col>CAD.manual</th><th scope=col>MEP1B.manual</th><th scope=col>CAD.Plink</th><th scope=col>MEP1B.Plink</th></tr>\n",
              "</thead>\n",
              "<tbody>\n",
              "\t<tr><th scope=row>CAD.manual</th><td> 1.00000000</td><td>-0.01538893</td><td> 0.99988250</td><td>-0.01538887</td></tr>\n",
              "\t<tr><th scope=row>MEP1B.manual</th><td>-0.01538893</td><td> 1.00000000</td><td>-0.01772568</td><td> 1.00000000</td></tr>\n",
              "\t<tr><th scope=row>CAD.Plink</th><td> 0.99988250</td><td>-0.01772568</td><td> 1.00000000</td><td>-0.01772562</td></tr>\n",
              "\t<tr><th scope=row>MEP1B.Plink</th><td>-0.01538887</td><td> 1.00000000</td><td>-0.01772562</td><td> 1.00000000</td></tr>\n",
              "</tbody>\n",
              "</table>\n"
            ],
            "text/markdown": "\nA matrix: 4 × 4 of type dbl\n\n| <!--/--> | CAD.manual | MEP1B.manual | CAD.Plink | MEP1B.Plink |\n|---|---|---|---|---|\n| CAD.manual |  1.00000000 | -0.01538893 |  0.99988250 | -0.01538887 |\n| MEP1B.manual | -0.01538893 |  1.00000000 | -0.01772568 |  1.00000000 |\n| CAD.Plink |  0.99988250 | -0.01772568 |  1.00000000 | -0.01772562 |\n| MEP1B.Plink | -0.01538887 |  1.00000000 | -0.01772562 |  1.00000000 |\n\n",
            "text/latex": "A matrix: 4 × 4 of type dbl\n\\begin{tabular}{r|llll}\n  & CAD.manual & MEP1B.manual & CAD.Plink & MEP1B.Plink\\\\\n\\hline\n\tCAD.manual &  1.00000000 & -0.01538893 &  0.99988250 & -0.01538887\\\\\n\tMEP1B.manual & -0.01538893 &  1.00000000 & -0.01772568 &  1.00000000\\\\\n\tCAD.Plink &  0.99988250 & -0.01772568 &  1.00000000 & -0.01772562\\\\\n\tMEP1B.Plink & -0.01538887 &  1.00000000 & -0.01772562 &  1.00000000\\\\\n\\end{tabular}\n",
            "text/plain": [
              "             CAD.manual  MEP1B.manual CAD.Plink   MEP1B.Plink\n",
              "CAD.manual    1.00000000 -0.01538893   0.99988250 -0.01538887\n",
              "MEP1B.manual -0.01538893  1.00000000  -0.01772568  1.00000000\n",
              "CAD.Plink     0.99988250 -0.01772568   1.00000000 -0.01772562\n",
              "MEP1B.Plink  -0.01538887  1.00000000  -0.01772562  1.00000000"
            ]
          },
          "metadata": {}
        }
      ]
    },
    {
      "cell_type": "code",
      "source": [
        "# use this tab and try to solve the task by youself"
      ],
      "metadata": {
        "id": "pjnuRqyEEAyM"
      },
      "execution_count": null,
      "outputs": []
    },
    {
      "cell_type": "code",
      "source": [
        "#@title Question 6\n",
        "\n",
        "#We see a slight discrepancy between the manual and Plink-generated CAD scores.\n",
        "#This is likely due to our imperfect allele matching, PLINK is more conservative as it only keeps variants where effect alleles concord."
      ],
      "metadata": {
        "id": "_KDMh6KV5Apm"
      },
      "execution_count": null,
      "outputs": []
    },
    {
      "cell_type": "code",
      "source": [
        "# use this tab and try to solve the task by youself"
      ],
      "metadata": {
        "id": "bNutLmP7EkvB"
      },
      "execution_count": null,
      "outputs": []
    },
    {
      "cell_type": "markdown",
      "source": [
        "# Predictive accuracy of MEP1B levels and CAD events\n",
        "We will now look at the predictive accuracy of the two scores by looking at the actual phenotypes of individuals for those two traits. This information is available for a cohort of 1000 individuals representing a subset of the 1000 Genomes project.\n",
        "\n",
        "**Exercise 7**:\n",
        "- Load the CAD (https://www.dropbox.com/s/xs7wsgij95w2uau/CAD.phenotype?dl=1) and MEP1B phenotypes (https://www.dropbox.com/s/5rmhjmv0d6oqxpr/MEP1B.phenotype?dl=1).\n",
        "- Import the data in `R` and add the phenotype to the files gathering all scores\n",
        "- Plot the plink scores against the true phenotypes. Hint: think about which kind of plot to use according to the data type you have (i.e. continous or discrete)\n",
        "- Compute the Pearson's correlation for MEP1B\n",
        "- Get the top and bottom deciles of the distribution for CAD using the function `quantiles()`.\n",
        "- Compute the odds ratio for people in the top vs bottom deciles of the distribution for CAD. Remember that $OR=Odds_{Q2}/Odds_{Q1}$ with $Odds_{Q1}=P(Case/Q1)/P(Control/Q1)$\n",
        "\n",
        "**Question 7:** What can you say about the predictive accuracy of both scores?"
      ],
      "metadata": {
        "id": "_Hq69Enldrxy"
      }
    },
    {
      "cell_type": "code",
      "source": [
        "#@title Download phenotypes and import in R\n",
        "rCAD=read.table(\"https://www.dropbox.com/s/xs7wsgij95w2uau/CAD.phenotype?dl=1\")\n",
        "rMEP=read.table(\"https://www.dropbox.com/s/5rmhjmv0d6oqxpr/MEP1B.phenotype?dl=1\")\n",
        "colnames(rCAD) <- c(\"id\", \"CADpheno\")\n",
        "colnames(rMEP) <- c(\"id\", \"MEP1Bpheno\")\n",
        "allscores.pheno=merge(allscores, rCAD, by=\"id\")\n",
        "allscores.pheno=merge(allscores.pheno, rMEP, by=\"id\")\n",
        "head(allscores.pheno)\n",
        "dim(allscores.pheno)"
      ],
      "metadata": {
        "id": "bse1lbjtdQ_I",
        "outputId": "6a7b30c3-1446-4ccd-ce04-381d3a827fad",
        "colab": {
          "base_uri": "https://localhost:8080/",
          "height": 303
        }
      },
      "execution_count": null,
      "outputs": [
        {
          "output_type": "display_data",
          "data": {
            "text/html": [
              "<table class=\"dataframe\">\n",
              "<caption>A data.frame: 6 × 7</caption>\n",
              "<thead>\n",
              "\t<tr><th></th><th scope=col>id</th><th scope=col>CAD.manual</th><th scope=col>MEP1B.manual</th><th scope=col>CAD.Plink</th><th scope=col>MEP1B.Plink</th><th scope=col>CADpheno</th><th scope=col>MEP1Bpheno</th></tr>\n",
              "\t<tr><th></th><th scope=col>&lt;chr&gt;</th><th scope=col>&lt;dbl&gt;</th><th scope=col>&lt;dbl&gt;</th><th scope=col>&lt;dbl&gt;</th><th scope=col>&lt;dbl&gt;</th><th scope=col>&lt;int&gt;</th><th scope=col>&lt;dbl&gt;</th></tr>\n",
              "</thead>\n",
              "<tbody>\n",
              "\t<tr><th scope=row>1</th><td>HG00100_HG00100</td><td> 7.858507</td><td>-0.2488646</td><td> 6.79659e-05</td><td>-0.0177760</td><td>0</td><td> 0.8043038</td></tr>\n",
              "\t<tr><th scope=row>2</th><td>HG00101_HG00101</td><td> 9.590015</td><td>-2.6559537</td><td> 7.87867e-05</td><td>-0.1897110</td><td>0</td><td> 0.2982448</td></tr>\n",
              "\t<tr><th scope=row>3</th><td>HG00107_HG00107</td><td> 1.228113</td><td>-1.9660223</td><td> 2.38842e-05</td><td>-0.1404300</td><td>0</td><td>-0.3710304</td></tr>\n",
              "\t<tr><th scope=row>4</th><td>HG00110_HG00110</td><td>14.434249</td><td>-3.3537028</td><td> 1.10964e-04</td><td>-0.2395500</td><td>0</td><td>-2.0066681</td></tr>\n",
              "\t<tr><th scope=row>5</th><td>HG00113_HG00113</td><td> 5.287770</td><td>-1.1627703</td><td> 5.11322e-05</td><td>-0.0830550</td><td>1</td><td> 1.9434506</td></tr>\n",
              "\t<tr><th scope=row>6</th><td>HG00114_HG00114</td><td>-7.204362</td><td>-1.0047261</td><td>-3.23207e-05</td><td>-0.0717662</td><td>0</td><td> 0.5865678</td></tr>\n",
              "</tbody>\n",
              "</table>\n"
            ],
            "text/markdown": "\nA data.frame: 6 × 7\n\n| <!--/--> | id &lt;chr&gt; | CAD.manual &lt;dbl&gt; | MEP1B.manual &lt;dbl&gt; | CAD.Plink &lt;dbl&gt; | MEP1B.Plink &lt;dbl&gt; | CADpheno &lt;int&gt; | MEP1Bpheno &lt;dbl&gt; |\n|---|---|---|---|---|---|---|---|\n| 1 | HG00100_HG00100 |  7.858507 | -0.2488646 |  6.79659e-05 | -0.0177760 | 0 |  0.8043038 |\n| 2 | HG00101_HG00101 |  9.590015 | -2.6559537 |  7.87867e-05 | -0.1897110 | 0 |  0.2982448 |\n| 3 | HG00107_HG00107 |  1.228113 | -1.9660223 |  2.38842e-05 | -0.1404300 | 0 | -0.3710304 |\n| 4 | HG00110_HG00110 | 14.434249 | -3.3537028 |  1.10964e-04 | -0.2395500 | 0 | -2.0066681 |\n| 5 | HG00113_HG00113 |  5.287770 | -1.1627703 |  5.11322e-05 | -0.0830550 | 1 |  1.9434506 |\n| 6 | HG00114_HG00114 | -7.204362 | -1.0047261 | -3.23207e-05 | -0.0717662 | 0 |  0.5865678 |\n\n",
            "text/latex": "A data.frame: 6 × 7\n\\begin{tabular}{r|lllllll}\n  & id & CAD.manual & MEP1B.manual & CAD.Plink & MEP1B.Plink & CADpheno & MEP1Bpheno\\\\\n  & <chr> & <dbl> & <dbl> & <dbl> & <dbl> & <int> & <dbl>\\\\\n\\hline\n\t1 & HG00100\\_HG00100 &  7.858507 & -0.2488646 &  6.79659e-05 & -0.0177760 & 0 &  0.8043038\\\\\n\t2 & HG00101\\_HG00101 &  9.590015 & -2.6559537 &  7.87867e-05 & -0.1897110 & 0 &  0.2982448\\\\\n\t3 & HG00107\\_HG00107 &  1.228113 & -1.9660223 &  2.38842e-05 & -0.1404300 & 0 & -0.3710304\\\\\n\t4 & HG00110\\_HG00110 & 14.434249 & -3.3537028 &  1.10964e-04 & -0.2395500 & 0 & -2.0066681\\\\\n\t5 & HG00113\\_HG00113 &  5.287770 & -1.1627703 &  5.11322e-05 & -0.0830550 & 1 &  1.9434506\\\\\n\t6 & HG00114\\_HG00114 & -7.204362 & -1.0047261 & -3.23207e-05 & -0.0717662 & 0 &  0.5865678\\\\\n\\end{tabular}\n",
            "text/plain": [
              "  id              CAD.manual MEP1B.manual CAD.Plink    MEP1B.Plink CADpheno\n",
              "1 HG00100_HG00100  7.858507  -0.2488646    6.79659e-05 -0.0177760  0       \n",
              "2 HG00101_HG00101  9.590015  -2.6559537    7.87867e-05 -0.1897110  0       \n",
              "3 HG00107_HG00107  1.228113  -1.9660223    2.38842e-05 -0.1404300  0       \n",
              "4 HG00110_HG00110 14.434249  -3.3537028    1.10964e-04 -0.2395500  0       \n",
              "5 HG00113_HG00113  5.287770  -1.1627703    5.11322e-05 -0.0830550  1       \n",
              "6 HG00114_HG00114 -7.204362  -1.0047261   -3.23207e-05 -0.0717662  0       \n",
              "  MEP1Bpheno\n",
              "1  0.8043038\n",
              "2  0.2982448\n",
              "3 -0.3710304\n",
              "4 -2.0066681\n",
              "5  1.9434506\n",
              "6  0.5865678"
            ]
          },
          "metadata": {}
        },
        {
          "output_type": "display_data",
          "data": {
            "text/html": [
              "<style>\n",
              ".list-inline {list-style: none; margin:0; padding: 0}\n",
              ".list-inline>li {display: inline-block}\n",
              ".list-inline>li:not(:last-child)::after {content: \"\\00b7\"; padding: 0 .5ex}\n",
              "</style>\n",
              "<ol class=list-inline><li>1000</li><li>7</li></ol>\n"
            ],
            "text/markdown": "1. 1000\n2. 7\n\n\n",
            "text/latex": "\\begin{enumerate*}\n\\item 1000\n\\item 7\n\\end{enumerate*}\n",
            "text/plain": [
              "[1] 1000    7"
            ]
          },
          "metadata": {}
        }
      ]
    },
    {
      "cell_type": "code",
      "source": [
        "# use this tab and try to solve the task by youself"
      ],
      "metadata": {
        "id": "NwsYMfOfElt9"
      },
      "execution_count": null,
      "outputs": []
    },
    {
      "cell_type": "code",
      "source": [
        "#@title Graphical representations\n",
        "plot(allscores.pheno$MEP1Bpheno, allscores.pheno$MEP1B.Plink, col=\"cornflowerblue\", pch=20, main = \"MEP1B\")\n",
        "boxplot(allscores.pheno$CAD.Plink ~ allscores.pheno$CADpheno, col=\"cornflowerblue\", pch=20, main = \"CAD\")"
      ],
      "metadata": {
        "id": "Q4McIVgyJvRz",
        "outputId": "f91f8be7-4397-466e-9b7a-f129d0df5fbc",
        "colab": {
          "base_uri": "https://localhost:8080/",
          "height": 857
        }
      },
      "execution_count": null,
      "outputs": [
        {
          "output_type": "display_data",
          "data": {
            "text/plain": [
              "Plot with title “MEP1B”"
            ],
            "image/png": "[encoded data removed]"
          },
          "metadata": {
            "image/png": {
              "width": 420,
              "height": 420
            }
          }
        },
        {
          "output_type": "display_data",
          "data": {
            "text/plain": [
              "Plot with title “CAD”"
            ],
            "image/png": "[encoded data removed]"
          },
          "metadata": {
            "image/png": {
              "width": 420,
              "height": 420
            }
          }
        }
      ]
    },
    {
      "cell_type": "code",
      "source": [
        "# use this tab and try to solve the task by youself"
      ],
      "metadata": {
        "id": "xXGDpM9XEmnm"
      },
      "execution_count": null,
      "outputs": []
    },
    {
      "cell_type": "code",
      "source": [
        "#@title Correlation for MEP1B score\n",
        "cor(allscores.pheno$MEP1Bpheno, allscores.pheno$MEP1B.Plink)"
      ],
      "metadata": {
        "id": "XMQFZ6hiiRDq",
        "outputId": "9c9bb1ba-aa19-447a-ded7-e5c4a59f3cad",
        "colab": {
          "base_uri": "https://localhost:8080/",
          "height": 34
        }
      },
      "execution_count": null,
      "outputs": [
        {
          "output_type": "display_data",
          "data": {
            "text/html": [
              "0.427365235400612"
            ],
            "text/markdown": "0.427365235400612",
            "text/latex": "0.427365235400612",
            "text/plain": [
              "[1] 0.4273652"
            ]
          },
          "metadata": {}
        }
      ]
    },
    {
      "cell_type": "code",
      "source": [
        "# use this tab and try to solve the task by youself"
      ],
      "metadata": {
        "id": "gRTlYnbmEnR4"
      },
      "execution_count": null,
      "outputs": []
    },
    {
      "cell_type": "code",
      "source": [
        "#@title Calculate the top and bottom deciles of the distribution for CAD\n",
        "cadq=quantile(allscores.pheno$CAD.Plink, c(0.1, 0.9))\n",
        "cadq"
      ],
      "metadata": {
        "id": "OmLQJf-JCAKi",
        "outputId": "91a8ff58-016b-48b8-f243-c8e218573091",
        "colab": {
          "base_uri": "https://localhost:8080/",
          "height": 34
        }
      },
      "execution_count": null,
      "outputs": [
        {
          "output_type": "display_data",
          "data": {
            "text/html": [
              "<style>\n",
              ".dl-inline {width: auto; margin:0; padding: 0}\n",
              ".dl-inline>dt, .dl-inline>dd {float: none; width: auto; display: inline-block}\n",
              ".dl-inline>dt::after {content: \":\\0020\"; padding-right: .5ex}\n",
              ".dl-inline>dt:not(:first-of-type) {padding-left: .5ex}\n",
              "</style><dl class=dl-inline><dt>10%</dt><dd>1.546558e-05</dd><dt>90%</dt><dd>0.0001427608</dd></dl>\n"
            ],
            "text/markdown": "10%\n:   1.546558e-0590%\n:   0.0001427608\n\n",
            "text/latex": "\\begin{description*}\n\\item[10\\textbackslash{}\\%] 1.546558e-05\n\\item[90\\textbackslash{}\\%] 0.0001427608\n\\end{description*}\n",
            "text/plain": [
              "         10%          90% \n",
              "1.546558e-05 1.427608e-04 "
            ]
          },
          "metadata": {}
        }
      ]
    },
    {
      "cell_type": "code",
      "source": [
        "# use this tab and try to solve the task by youself"
      ],
      "metadata": {
        "id": "QNMKcqEZEn-N"
      },
      "execution_count": null,
      "outputs": []
    },
    {
      "cell_type": "code",
      "source": [
        "#@title OR CAD\n",
        "#Compute the Odds for bottom decile\n",
        "Q1=table(allscores.pheno[which(allscores.pheno$CAD.Plink<cadq[1]),]$CADpheno)\n",
        "Q1\n",
        "OddsQ1 = Q1[2]/Q1[1]\n",
        "\n",
        "#Compute the Odds for top decile\n",
        "Q2=table(allscores.pheno[which(allscores.pheno$CAD.Plink>cadq[2]),]$CADpheno)\n",
        "Q2\n",
        "OddsQ2 = Q2[2]/Q2[1]\n",
        "\n",
        "#Compute the odds ratio\n",
        "OR=OddsQ2/OddsQ1\n",
        "OR"
      ],
      "metadata": {
        "id": "HIN3L2gwWH1h",
        "outputId": "a668e91a-f4c8-4e88-efeb-ad1b5ee9b62c",
        "colab": {
          "base_uri": "https://localhost:8080/",
          "height": 138
        }
      },
      "execution_count": null,
      "outputs": [
        {
          "output_type": "display_data",
          "data": {
            "text/plain": [
              "\n",
              " 0  1 \n",
              "85 15 "
            ]
          },
          "metadata": {}
        },
        {
          "output_type": "display_data",
          "data": {
            "text/plain": [
              "\n",
              " 0  1 \n",
              "45 55 "
            ]
          },
          "metadata": {}
        },
        {
          "output_type": "display_data",
          "data": {
            "text/html": [
              "<strong>1:</strong> 6.92592592592593"
            ],
            "text/markdown": "**1:** 6.92592592592593",
            "text/latex": "\\textbf{1:} 6.92592592592593",
            "text/plain": [
              "       1 \n",
              "6.925926 "
            ]
          },
          "metadata": {}
        }
      ]
    },
    {
      "cell_type": "code",
      "source": [
        "# use this tab and try to solve the task by youself"
      ],
      "metadata": {
        "id": "GNUTzU8kEoiF"
      },
      "execution_count": null,
      "outputs": []
    },
    {
      "cell_type": "code",
      "source": [
        "#@title Question 7\n",
        "# The correlation for MEP1B is quite low, highlighting a moderate prediction value of this score.\n",
        "# The CAD OR is high, highlighting the fact that the predictive value of the corresponding score is good."
      ],
      "metadata": {
        "id": "SuRH62ZBBsx2"
      },
      "execution_count": null,
      "outputs": []
    },
    {
      "cell_type": "code",
      "source": [
        "# use this tab and try to solve the task by youself"
      ],
      "metadata": {
        "id": "yhENlEfsEpSY"
      },
      "execution_count": null,
      "outputs": []
    },
    {
      "cell_type": "markdown",
      "source": [
        "# **PRS and Polygenicity**\n",
        "Until now, we have applied two genetic risk scores and examined how well they predict actual phenotypes. We will now examine what these scores can tell us about the genetic architecture of these traits."
      ],
      "metadata": {
        "id": "uDH761CviqKn"
      }
    },
    {
      "cell_type": "markdown",
      "source": [
        "**Question 8**: How many variants are present in each score (see `Question 1`)? Does that correspond to what you know of the genetic architecture of both traits?"
      ],
      "metadata": {
        "id": "x69J8Kdhit4t"
      }
    },
    {
      "cell_type": "code",
      "source": [
        "#@title Question 8\n",
        "nrow(cadscore)\n",
        "nrow(mepscore)\n",
        "#Yes. MEP1B is a protein trait, it is expected to be much less polygenic than CAD which is a complex trait."
      ],
      "metadata": {
        "id": "RI-XPs8Aivkm",
        "outputId": "4dfe3bd9-9342-475d-9281-d16c8ef623c4",
        "colab": {
          "base_uri": "https://localhost:8080/",
          "height": 52
        }
      },
      "execution_count": null,
      "outputs": [
        {
          "output_type": "display_data",
          "data": {
            "text/html": [
              "75001"
            ],
            "text/markdown": "75001",
            "text/latex": "75001",
            "text/plain": [
              "[1] 75001"
            ]
          },
          "metadata": {}
        },
        {
          "output_type": "display_data",
          "data": {
            "text/html": [
              "7"
            ],
            "text/markdown": "7",
            "text/latex": "7",
            "text/plain": [
              "[1] 7"
            ]
          },
          "metadata": {}
        }
      ]
    },
    {
      "cell_type": "code",
      "source": [
        "# use this tab and try to solve the task by youself"
      ],
      "metadata": {
        "id": "QRyF-eWEEqO5"
      },
      "execution_count": null,
      "outputs": []
    },
    {
      "cell_type": "markdown",
      "source": [
        "# Bonus exercise: lifting over the polygenic score\n",
        "We have worked in this exercise with a CAD score that was obtained after a liftover. The original CAD score was downloaded from the publicly available PGS catalog. Variants in that score are identified by chromosome:position, but are on build 37 (also called hg19) of the human reference genome. Our genetic data is on build 38, and we must therefore first map these coordinates onto that build to apply the PGS to the genetic data. That process is called a liftover. We have provided you the score in the right build for the previous exercise but in this optional exercise, we give you the possibility to perform the liftover yourself.\n",
        "There are R libraries that can do this, but they come from the Bioconductor project, and are clunky and hard to use. We will use an external program called CrossMap.\n"
      ],
      "metadata": {
        "id": "MDj8xSQbWkiK"
      }
    },
    {
      "cell_type": "markdown",
      "source": [
        "**Step 1**:\n",
        "Download the dictionary of positions from build 37 to 38 from the USCS Liftover FTP Website: https://hgdownload.cse.ucsc.edu/goldenpath/hg19/liftOver/hg19ToHg38.over.chain.gz"
      ],
      "metadata": {
        "id": "VcQ_uglEWuw-"
      }
    },
    {
      "cell_type": "code",
      "source": [
        "#@title Downloading the data\n",
        "cat(system('\n",
        "(rm *.chain.gz || echo downloading) && wget https://hgdownload.cse.ucsc.edu/goldenpath/hg19/liftOver/hg19ToHg38.over.chain.gz 2>&1\n",
        "', intern=T), sep=\"\\n\")"
      ],
      "metadata": {
        "id": "22udhwXmWkC7",
        "cellView": "form"
      },
      "execution_count": null,
      "outputs": []
    },
    {
      "cell_type": "code",
      "source": [
        "# use this tab and try to solve the task by youself"
      ],
      "metadata": {
        "id": "Gxrc_PeuE5Yi"
      },
      "execution_count": null,
      "outputs": []
    },
    {
      "cell_type": "markdown",
      "source": [
        "**Step 2:** Install CrossMap using `pip3 install` and look at the help page"
      ],
      "metadata": {
        "id": "kmF9G_UCMWxD"
      }
    },
    {
      "cell_type": "code",
      "source": [
        "#@title Install CrossMap\n",
        "cat(system('pip3 install CrossMap', intern=T), sep=\"\\n\")\n",
        "cat(system('CrossMap.py --help 2>&1', intern=T), sep=\"\\n\")"
      ],
      "metadata": {
        "id": "wQCE1ubnM5QA",
        "cellView": "form"
      },
      "execution_count": null,
      "outputs": []
    },
    {
      "cell_type": "code",
      "source": [
        "# use this tab and try to solve the task by youself"
      ],
      "metadata": {
        "id": "jzNIFD8_FcZZ"
      },
      "execution_count": null,
      "outputs": []
    },
    {
      "cell_type": "markdown",
      "source": [
        "As you can see, CrossMap supports multiple input formats. We are going to use `bed` as it is the easiest to use. This format is composed of 3 mandatory, tab-separated columns, and an arbitrary number of columns afterwards. The 3 columns are `chr`, `pos-1`, `pos`. We say that the second column is '0-based' while the third one is '1-based'."
      ],
      "metadata": {
        "id": "T1BhlIC6W20S"
      }
    },
    {
      "cell_type": "markdown",
      "source": [
        "**Step 3**:\n",
        "- Download the CAD score from https://ftp.ebi.ac.uk/pub/databases/spot/pgs/scores/PGS000337/ScoringFiles/PGS000337.txt.gz\n",
        "- Read it in R\n",
        "- Make it compatible with the BED format.\n",
        "- Export the file to `cad.bed` (without the column names)"
      ],
      "metadata": {
        "id": "sye19D6UW6go"
      }
    },
    {
      "cell_type": "code",
      "source": [
        "#@title Download the score and make a bed file\n",
        "cat(system('wget https://ftp.ebi.ac.uk/pub/databases/spot/pgs/scores/PGS000337/ScoringFiles/PGS000337.txt.gz', intern=T), sep=\"\\n\")\n",
        "cadscore = read.table(gzfile(\"PGS000337.txt.gz\"), header = TRUE)\n",
        "cadscore$start <- cadscore$chr_position-1\n",
        "cadscore <- cadscore[,c(\"chr_name\", \"start\", \"chr_position\", \"effect_allele\", \"effect_weight\", \"variant_description\")]\n",
        "write.table(cadscore, \"cad.bed\", col.names = F, row.names = F, quote = F, sep = \"\\t\")\n",
        "\n",
        "head(cadscore)"
      ],
      "metadata": {
        "id": "zdUqLXj0N4pI",
        "cellView": "form"
      },
      "execution_count": null,
      "outputs": []
    },
    {
      "cell_type": "code",
      "source": [
        "# use this tab and try to solve the task by youself"
      ],
      "metadata": {
        "id": "jqwwXDhpFewF"
      },
      "execution_count": null,
      "outputs": []
    },
    {
      "cell_type": "markdown",
      "source": [
        "**Step 4**: Use CrossMap bed to convert the positions in the CAD score from build 37 to build 38."
      ],
      "metadata": {
        "id": "PjHS2EtMW_gM"
      }
    },
    {
      "cell_type": "code",
      "source": [
        "#@title Convert the positions\n",
        "cat(system('CrossMap.py bed hg19ToHg38.over.chain.gz cad.bed cad.38.bed 2>&1', intern=T), sep=\"\\n\")"
      ],
      "metadata": {
        "id": "D31fnr9kXBk-",
        "cellView": "form"
      },
      "execution_count": null,
      "outputs": []
    },
    {
      "cell_type": "code",
      "source": [
        "# use this tab and try to solve the task by youself"
      ],
      "metadata": {
        "id": "W6DYqQvOFkTV"
      },
      "execution_count": null,
      "outputs": []
    },
    {
      "cell_type": "markdown",
      "source": [
        "**Step 5**:\n",
        "- Read in the lifted over file\n",
        "- Remove the second column (pos - 1),\n",
        "- Remove any position that maps outside of the autosomes (chr1-chr22),\n",
        "- Check that no variant maps to several positions on build 38."
      ],
      "metadata": {
        "id": "bVFouKv-XEAR"
      }
    },
    {
      "cell_type": "code",
      "source": [
        "#@title Import the lifted positions and keep only autosomes\n",
        "liftedover = read.table(\"cad.38.bed\")\n",
        "colnames(liftedover) <- colnames(cadscore)\n",
        "liftedover = liftedover[,-which(colnames(liftedover) == \"start\")]\n",
        "dim(liftedover)\n",
        "#Remove the positions not mapping to chromosomes 1 to 22\n",
        "liftedover <- subset(liftedover, chr_name %in% 1:22)\n",
        "dim(liftedover)"
      ],
      "metadata": {
        "id": "PscNaBDPP612",
        "cellView": "form"
      },
      "execution_count": null,
      "outputs": []
    },
    {
      "cell_type": "code",
      "source": [
        "# use this tab and try to solve the task by youself"
      ],
      "metadata": {
        "id": "RNDR7QDcFlEc"
      },
      "execution_count": null,
      "outputs": []
    },
    {
      "cell_type": "code",
      "source": [
        "#@title Do variants map to several positions ?\n",
        "nb.positions <- table(liftedover$variant_description)\n",
        "head(nb.positions)\n",
        "table(nb.positions)\n",
        "#All of the variants map only to one position --> ok"
      ],
      "metadata": {
        "id": "alraV9OwXJAR",
        "cellView": "form"
      },
      "execution_count": null,
      "outputs": []
    },
    {
      "cell_type": "code",
      "source": [
        "# use this tab and try to solve the task by youself"
      ],
      "metadata": {
        "id": "ijAuSHCuFlsB"
      },
      "execution_count": null,
      "outputs": []
    },
    {
      "cell_type": "markdown",
      "source": [
        "**Step 6**: Create a tab-separated, headerless score file for your lifted over CAD score, with the following columns :\n",
        "\n",
        "*   `id` which has the form chr1:1234\n",
        "*   `effect_allele`\n",
        "*   `effect_weight`\n",
        "\n",
        "Export the file to `CAD.score`. This file corresponds to what we used in the first part of this workshop."
      ],
      "metadata": {
        "id": "sh5Wnw_GXHde"
      }
    },
    {
      "cell_type": "code",
      "source": [
        "#@title Create the final file\n",
        "cadscore=liftedover\n",
        "cadscore$id = paste0(cadscore$chr_name, \":\", cadscore$chr_position)\n",
        "write.table(cadscore[,c(\"id\", \"effect_allele\", \"effect_weight\")], \"CAD.score\", sep =\"\\t\", col.names = F, row.names = F, quote = F)\n",
        "write.table(cadscore, \"CAD.score\", sep =\"\\t\", col.names = F, row.names = F, quote = F)"
      ],
      "metadata": {
        "id": "t-egx6_YR8oo",
        "cellView": "form"
      },
      "execution_count": null,
      "outputs": []
    },
    {
      "cell_type": "code",
      "source": [
        "# use this tab and try to solve the task by youself"
      ],
      "metadata": {
        "id": "pRKm2alvFmak"
      },
      "execution_count": null,
      "outputs": []
    }
  ]
}