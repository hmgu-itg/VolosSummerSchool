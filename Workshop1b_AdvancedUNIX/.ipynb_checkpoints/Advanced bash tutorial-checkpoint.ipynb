{
 "cells": [
  {
   "cell_type": "markdown",
   "metadata": {},
   "source": [
    "# Advanced Bash tutorial\n",
    "\n",
    "**Topics covered in this tutorial**:\n",
    "\n",
    "* Text processing tools: grep, sed, cut, awk, join, tr and paste.\n",
    "* Simple variable handling.\n",
    "* Loops.\n",
    "* Conditionals.\n",
    "* Pipes, backticks and brackets.\n",
    "* Functions (?).\n"
   ]
  },
  {
   "cell_type": "markdown",
   "metadata": {},
   "source": [
    "## Downloading resources from the internet\n",
    "\n",
    "We are downloading the complete [GWAS catalog](https://www.ebi.ac.uk/gwas/) maintained by [EBI](https://www.ebi.ac.uk/) that contains all the published genome-wide associations to date. This collection by 2017.05.12 contains 29,196 SNPs and 33,898 associations publised in 2,882 research articles. You can perform simple queries on the database using the GWAS catalog website, but you can also download it so you can build you own database, perform systematic searches on a larger scale. You can find the download link in the top menubar.\n",
    "\n",
    "To download the file from the internet we use wget:"
   ]
  },
  {
   "cell_type": "code",
   "execution_count": 1,
   "metadata": {
    "collapsed": false
   },
   "outputs": [
    {
     "name": "stderr",
     "output_type": "stream",
     "text": [
      "bash: line 3: wget: command not found\n"
     ]
    }
   ],
   "source": [
    "%%bash\n",
    "\n",
    "# After the URL to the dataset, we specify the output file name.\n",
    "wget https://www.ebi.ac.uk/gwas/api/search/downloads/full -O GWAS_catalog_2017.05.12"
   ]
  },
  {
   "cell_type": "markdown",
   "metadata": {},
   "source": [
    "`wget` is an extremely powerful bash tool, and has a wide range of amazing features (like resuming interrupted download) that we can't cover here. As it has been mentioned in the previous workshop, you can read the comprehensive manual using `man wget`. This also apply to the rest of the tools we are covering in this session."
   ]
  },
  {
   "cell_type": "markdown",
   "metadata": {},
   "source": [
    "## Text processing bash tools\n",
    "\n",
    "**In the following section the following tools will be introduced:** wc, head, cat, tail, cut, join, paste, grep\n",
    "\n",
    "Taking a look at the content of the file we have just downloaded (some of these tools have already been mentioned in the previous workshop):"
   ]
  },
  {
   "cell_type": "code",
   "execution_count": 6,
   "metadata": {
    "collapsed": false
   },
   "outputs": [
    {
     "name": "stdout",
     "output_type": "stream",
     "text": [
      "   38038 GWAS_catalog_2017.05.12\n"
     ]
    }
   ],
   "source": [
    "%%bash\n",
    "\n",
    "# How many lines does the file have?\n",
    "wc -l GWAS_catalog_2017.05.12"
   ]
  },
  {
   "cell_type": "code",
   "execution_count": 7,
   "metadata": {
    "collapsed": false
   },
   "outputs": [
    {
     "name": "stdout",
     "output_type": "stream",
     "text": [
      "First 10 rows:\n",
      "DATE ADDED TO CATALOG\tPUBMEDID\tFIRST AUTHOR\tDATE\tJOURNAL\tLINK\tSTUDY\tDISEASE/TRAIT\tINITIAL SAMPLE SIZE\tREPLICATION SAMPLE SIZE\tREGION\tCHR_ID\tCHR_POS\tREPORTED GENE(S)\tMAPPED_GENE\tUPSTREAM_GENE_ID\tDOWNSTREAM_GENE_ID\tSNP_GENE_IDS\tUPSTREAM_GENE_DISTANCE\tDOWNSTREAM_GENE_DISTANCE\tSTRONGEST SNP-RISK ALLELE\tSNPS\tMERGED\tSNP_ID_CURRENT\tCONTEXT\tINTERGENIC\tRISK ALLELE FREQUENCY\tP-VALUE\tPVALUE_MLOG\tP-VALUE (TEXT)\tOR or BETA\t95% CI (TEXT)\tPLATFORM [SNPS PASSING QC]\tCNV\r\n",
      "2009-09-28\t18403759\tOber C\t2008-04-09\tN Engl J Med\twww.ncbi.nlm.nih.gov/pubmed/18403759\tEffect of variation in CHI3L1 on serum YKL-40 level, risk of asthma, and lung function.\tYKL-40 levels\t632 Hutterite individuals\t443 European ancestry cases, 491 European ancestry controls, 206 European ancestry individuals\t1q32.1\t1\t203186754\tCHI3L1\tCHI3L1\t\t\t1116\t\t\trs4950928-G\trs4950928\t0\t4950928\tupstream_gene_variant\t0\t0.29\t1E-13\t13.0\t\t0.3\t[NR] ng/ml decrease\tAffymetrix [290325]\tN\r\n",
      "2008-06-16\t18369459\tLiu Y\t2008-04-04\tPLoS Genet\twww.ncbi.nlm.nih.gov/pubmed/18369459\tA genome-wide association study of psoriasis and psoriatic arthritis identifies new disease loci.\tPsoriasis\t218 European ancestry cases, 519 European ancestry controls\t1,153 European ancestry cases, 1,217 European ancestry controls\t13q14.11\t13\t39776775\tCOG6\tCOG6\t\t\t57511\t\t\trs7993214-?\trs7993214\t0\t7993214\tintron_variant\t0\t0.65\t2E-6\t5.698970004336019\t\t1.41\t[1.22-1.61]\tIllumina [305983]\tN\r\n"
     ]
    }
   ],
   "source": [
    "%%bash\n",
    "\n",
    "# display the first n-rows of the file:\n",
    "echo \"First 10 rows:\"\n",
    "head -n3 GWAS_catalog_2017.05.12"
   ]
  },
  {
   "cell_type": "markdown",
   "metadata": {},
   "source": [
    "We can also list the last 10 lines of the file using `tail`\n",
    "```bash\n",
    "tail -n10 GWAS_catalog_2017.05.12\n",
    "```\n",
    "\n",
    "To display the whole content of a file we can use `cat`\n",
    "```bash\n",
    "cat GWAS_catalog_2017.05.12\n",
    "```\n",
    "\n",
    "From the first 10 rows we can see how the file is structured: \n",
    "* the first line is the header describing the content of each column (a more comprehensive explanation can be found on the [gwas website](https://www.ebi.ac.uk/gwas/docs/fileheaders))\n",
    "* then each line is an individual association between a genetic variant and an observed phenotype.\n",
    "\n",
    "Most of the columns are not relevant for us now, so let's extract the following columns: **PUBMEDID**(2nd column), Trait(8th column)"
   ]
  },
  {
   "cell_type": "code",
   "execution_count": null,
   "metadata": {
    "collapsed": true
   },
   "outputs": [],
   "source": [
    "%%bash\n",
    "\n",
    "echo \"List of the columns in the \""
   ]
  },
  {
   "cell_type": "markdown",
   "metadata": {},
   "source": [
    "### grep\n",
    "\n",
    "Filters lines of a file based on a defined criteria."
   ]
  },
  {
   "cell_type": "code",
   "execution_count": null,
   "metadata": {
    "collapsed": true
   },
   "outputs": [],
   "source": [
    "%%bash\n",
    "\n",
    "# extracting variants that are associated with height:\n",
    "grep height filename\n",
    "grep -i height filename\n",
    "grep \n",
    "\n",
    "\n",
    "# extracting lines that are associated with "
   ]
  },
  {
   "cell_type": "markdown",
   "metadata": {},
   "source": [
    "## Variables\n",
    "\n",
    "Temporarily storing a piece of information that we are going to refer later using its name. Two basic actions:\n",
    "1. Setting the value (assignment).\n",
    "2. Reading the value (The shell substitues the name of the variable with its value)."
   ]
  },
  {
   "cell_type": "code",
   "execution_count": 10,
   "metadata": {
    "collapsed": false
   },
   "outputs": [
    {
     "name": "stdout",
     "output_type": "stream",
     "text": [
      "1. 12\n",
      "2. 12\n",
      "3. 12\n",
      "gene_list_chr12_lst\n"
     ]
    },
    {
     "name": "stderr",
     "output_type": "stream",
     "text": [
      "ls: gene_list_chr: No such file or directory\n"
     ]
    }
   ],
   "source": [
    "%%bash\n",
    "\n",
    "# Setting the value a local variable (no spaces around the = sign):\n",
    "chromosome=12 \n",
    "\n",
    "# Calling variable:\n",
    "echo 1. $chromosome\n",
    "echo 2. ${chromosome}\n",
    "echo 3. \"${chromosome}\"\n",
    "\n",
    "# When curly braces are needed:\n",
    "ls gene_list_chr$chromosome_lst # Warning message! The variable name is not separated from the rest of the string!\n",
    "ls gene_list_chr${chromosome}_lst"
   ]
  },
  {
   "cell_type": "markdown",
   "metadata": {},
   "source": [
    "Often automatic value assignment is required when the value is read derived from an other process. Imagine a list of files"
   ]
  },
  {
   "cell_type": "code",
   "execution_count": 11,
   "metadata": {
    "collapsed": false
   },
   "outputs": [
    {
     "name": "stderr",
     "output_type": "stream",
     "text": [
      "UsageError: %%bash is a cell magic, but the cell body is empty.\n"
     ]
    }
   ],
   "source": [
    "%%bash\n",
    "\n"
   ]
  },
  {
   "cell_type": "markdown",
   "metadata": {},
   "source": [
    "## Loops\n",
    "\n",
    "Often we have to repeat a set of steps multiple times. In such cases loops are constructed to keep the code short and clean. In bash we mainly use the `for` and the `while` loops. "
   ]
  },
  {
   "cell_type": "code",
   "execution_count": 17,
   "metadata": {
    "collapsed": false
   },
   "outputs": [
    {
     "name": "stdout",
     "output_type": "stream",
     "text": [
      "Processing 1\n",
      "Processing 2\n",
      "Processing 3\n",
      "Processing 4\n",
      "Processing 5\n",
      "Processing 6\n",
      "Processing 7\n",
      "Processing 8\n",
      "Processing 9\n",
      "Processing 10\n",
      "Processing 11\n",
      "Processing 12\n",
      "Processing 13\n",
      "Processing 14\n",
      "Processing 15\n",
      "Processing 16\n",
      "Processing 17\n",
      "Processing 18\n",
      "Processing 19\n",
      "Processing 20\n",
      "Processing 21\n",
      "Processing 22\n"
     ]
    }
   ],
   "source": [
    "%%bash\n",
    "\n",
    "# Repeating a process for all autosomes:\n",
    "for chr in {1..22}; do\n",
    "    echo Processing ${chr}\n",
    "    # Some commands... \n",
    "done"
   ]
  },
  {
   "cell_type": "markdown",
   "metadata": {},
   "source": [
    "In the above example using the curly braces, we generate a series of numbers between 1 and 22. Then in each this value is assigned to variable named `chr` in "
   ]
  }
 ],
 "metadata": {
  "kernelspec": {
   "display_name": "Python 3",
   "language": "python",
   "name": "python3"
  },
  "language_info": {
   "codemirror_mode": {
    "name": "ipython",
    "version": 3
   },
   "file_extension": ".py",
   "mimetype": "text/x-python",
   "name": "python",
   "nbconvert_exporter": "python",
   "pygments_lexer": "ipython3",
   "version": "3.6.0"
  }
 },
 "nbformat": 4,
 "nbformat_minor": 2
}
