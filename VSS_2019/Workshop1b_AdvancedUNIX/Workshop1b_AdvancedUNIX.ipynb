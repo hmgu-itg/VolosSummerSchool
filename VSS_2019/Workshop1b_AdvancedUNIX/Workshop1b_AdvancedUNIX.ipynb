{
 "cells": [
  {
   "cell_type": "markdown",
   "metadata": {},
   "source": [
    "<script>\n",
    "    var code_show=true; //true -> hide code at first\n",
    "\n",
    "    function code_toggle() {\n",
    "        $('div.prompt').hide(); // always hide prompt\n",
    "\n",
    "        if (code_show){\n",
    "            $('div.input').hide();\n",
    "        } else {\n",
    "            $('div.input').show();\n",
    "        }\n",
    "        code_show = !code_show\n",
    "    }\n",
    "    $( document ).ready(code_toggle);\n",
    "</script>"
   ]
  },
  {
   "cell_type": "markdown",
   "metadata": {},
   "source": [
    "<center>\n",
    "<h1>Workshop 1b: Advanced UNIX/Bash</h1><br><br>\n",
    "<i><big> File operations, pipes, data reformatting and queries.</big><br><br>\n",
    "Arthur Gilly (ag15@sanger.ac.uk), Kostas Hatzikotoulas (kh9@sanger.ac.uk)</i>\n",
    "</center>\n",
    "\n",
    "**Topics covered in this tutorial**:\n",
    "\n",
    "* Text processing tools: grep, cut, tr and paste.\n",
    "* Sed and AWK.\n",
    "* Pipes and redirections.\n",
    "\n",
    "**Topics _not_ covered in this tutorial**:\n",
    "\n",
    "* Variable handling.\n",
    "* Loops.\n",
    "* Conditionals.\n",
    "* Subshells, FIFO pipes and named pipes.\n"
   ]
  },
  {
   "cell_type": "markdown",
   "metadata": {},
   "source": [
    "## Step 1 : Downloading resources from the internet\n",
    "\n",
    "It is easy to access the internet via the command line. For this we use the `wget` tool. We want to  download the complete [GWAS catalog](https://www.ebi.ac.uk/gwas/) maintained by [EBI](https://www.ebi.ac.uk/) that contains all the published genome-wide associations to date. This collection by 2018.05 contains 48,678 SNPs and 69,886 associations publised in 2,905 research articles. One year ago, the numbers were 29,196, 33,898 and 2,882, respectively. You can perform simple queries on the database using the GWAS catalog website, but you can also download it so you can build you own database. \n",
    "\n",
    "\n",
    "<div class=\"alert alert-success\"><b>Question 0:</b>  Go to the GWAS catalog website and find the download link. Create a directory in your home named `GWAS_catalog` and download it to a file named `GWAS_catalog_2018.05`. How large is the file you just downloaded?\n",
    "</div>\n",
    "\n",
    "\n",
    "<button type=\"button\" class=\"btn btn-primary\" onClick=\"code_toggle()\">Click here to show/hide answer</button>\n",
    "\n"
   ]
  },
  {
   "cell_type": "code",
   "execution_count": null,
   "metadata": {
    "collapsed": false
   },
   "outputs": [],
   "source": [
    "%%bash\n",
    "\n",
    "# Goes to your home\n",
    "cd\n",
    "\n",
    "# Creates directory and enters it\n",
    "mkdir GWAS_catalog && cd GWAS_catalog\n",
    "\n",
    "# After the URL to the dataset, we specify the output file name.\n",
    "wget https://www.ebi.ac.uk/gwas/api/search/downloads/full -O GWAS_catalog.txt\n",
    "\n",
    "# Size\n",
    "ls -lh GWAS_catalog.txt"
   ]
  },
  {
   "cell_type": "markdown",
   "metadata": {},
   "source": [
    "<div class=\"alert alert-info\"> The `&&` operator allows you to execute several commands one after the other, but only if previous ones succeed. For example `command1 && command2 && command3` will execute `command2` only if `command1` succeeded, and `command3` only if both `command1` and `command2` succeeded.\n",
    "</div>\n",
    "\n",
    "`wget` is an extremely powerful bash tool, and has a wide range of amazing features (like resuming interrupted download) that we can't cover here. As it has been mentioned in the previous workshop, you can read the comprehensive manual using `man wget`. This also apply to the rest of the tools we are covering in this session.\n",
    "\n",
    "<div class=\"alert alert-warning\"> The file we just downloaded was created in Windows. This creates problems, because some characters are coded in different ways in UNIX/Linux and Windows. To make the file Linux-compatible, we do `dos2unix GWAS_catalog.txt`.\n",
    "</div>"
   ]
  },
  {
   "cell_type": "markdown",
   "metadata": {},
   "source": [
    "## Text processing bash tools\n",
    "\n",
    "###  Step 2: Counting lines, first $n$ and last $n$ lines of a file\n",
    "\n",
    "\n",
    "<div class=\"alert alert-success\"><b>Question 1:</b>  Using `wc`, check the number of lines in the GWAS catalog. Using `head` and `tail`, display the first 10 lines and the last 5 lines of the file.\n",
    "</div>\n",
    "\n",
    "\n",
    "<button type=\"button\" class=\"btn btn-primary\" onClick=\"code_toggle()\">Click here to show/hide answer</button>\n"
   ]
  },
  {
   "cell_type": "code",
   "execution_count": 8,
   "metadata": {
    "collapsed": false,
    "scrolled": true
   },
   "outputs": [
    {
     "name": "stdout",
     "output_type": "stream",
     "text": [
      "69886 GWAS_catalog_2018.05\n",
      "DATE ADDED TO CATALOG\tPUBMEDID\tFIRST AUTHOR\tDATE\tJOURNAL\tLINK\tSTUDY\tDISEASE/TRAIT\tINITIAL SAMPLE SIZE\tREPLICATION SAMPLE SIZE\tREGION\tCHR_ID\tCHR_POS\tREPORTED GENE(S)\tMAPPED_GENE\tUPSTREAM_GENE_ID\tDOWNSTREAM_GENE_ID\tSNP_GENE_IDS\tUPSTREAM_GENE_DISTANCE\tDOWNSTREAM_GENE_DISTANCE\tSTRONGEST SNP-RISK ALLELE\tSNPS\tMERGED\tSNP_ID_CURRENT\tCONTEXT\tINTERGENIC\tRISK ALLELE FREQUENCY\tP-VALUE\tPVALUE_MLOG\tP-VALUE (TEXT)\tOR or BETA\t95% CI (TEXT)\tPLATFORM [SNPS PASSING QC]\tCNV\r\n",
      "2015-12-18\t25574825\tBaurecht H\t2015-01-08\tAm J Hum Genet\twww.ncbi.nlm.nih.gov/pubmed/25574825\tGenome-wide comparative analysis of atopic dermatitis and psoriasis gives insight into opposing genetic mechanisms.\tInflammatory skin disease\t2,079 European ancestry atopic dermatitis cases, 4,212 European ancestry psoriasis cases, 11,899 European ancestry controls\tNA\t17q25.3\t17\t78284479\tRP11-219G17.4\tLOC100996291 - LOC105371912\t100996291\t105371912\t\t5987\t57605\trs9302874-?\trs9302874\t0\t9302874\tregulatory_region_variant\t1\tNR\t2E-7\t6.698970004336019\t(Opposed)\t\t\tAffymetrix, Illumina [~ 5200000]\tN\r\n",
      "2015-12-18\t25574825\tBaurecht H\t2015-01-08\tAm J Hum Genet\twww.ncbi.nlm.nih.gov/pubmed/25574825\tGenome-wide comparative analysis of atopic dermatitis and psoriasis gives insight into opposing genetic mechanisms.\tInflammatory skin disease\t2,079 European ancestry atopic dermatitis cases, 4,212 European ancestry psoriasis cases, 11,899 European ancestry controls\tNA\t10q26.3\t10\t129683009\tMGMT\tMGMT\t\t\t4255\t\t\trs80312298-?\trs80312298\t0\t80312298\tintron_variant\t0\tNR\t6E-7\t6.221848749616356\t(Opposed)\t\t\tAffymetrix, Illumina [~ 5200000]\tN\r\n",
      "2015-12-18\t25574825\tBaurecht H\t2015-01-08\tAm J Hum Genet\twww.ncbi.nlm.nih.gov/pubmed/25574825\tGenome-wide comparative analysis of atopic dermatitis and psoriasis gives insight into opposing genetic mechanisms.\tInflammatory skin disease\t2,079 European ancestry atopic dermatitis cases, 4,212 European ancestry psoriasis cases, 11,899 European ancestry controls\tNA\t1q44\t1\t247490110\tOR2W5\tOR2B11 - OR2W5\t127623\t441932\t\t38128\t958\trs10802516-?\trs10802516\t0\t10802516\tintron_variant\t1\tNR\t6E-6\t5.221848749616356\t(Opposed)\t\t\tAffymetrix, Illumina [~ 5200000]\tN\r\n",
      "2015-12-18\t25574825\tBaurecht H\t2015-01-08\tAm J Hum Genet\twww.ncbi.nlm.nih.gov/pubmed/25574825\tGenome-wide comparative analysis of atopic dermatitis and psoriasis gives insight into opposing genetic mechanisms.\tInflammatory skin disease\t2,079 European ancestry atopic dermatitis cases, 4,212 European ancestry psoriasis cases, 11,899 European ancestry controls\tNA\t2p16.1\t2\t60845432\tAC010733.4\tRN7SL632P - LINC01185\t106481095\t400957\t\t13503\t2328\trs35741374-?\trs35741374\t0\t35741374\tintron_variant\t1\tNR\t4E-12\t11.397940008672037\t(Psoriasis)\t1.2\t[1.15–1.27]\tAffymetrix, Illumina [~ 5200000]\tN\r\n",
      "2015-12-18\t25574825\tBaurecht H\t2015-01-08\tAm J Hum Genet\twww.ncbi.nlm.nih.gov/pubmed/25574825\tGenome-wide comparative analysis of atopic dermatitis and psoriasis gives insight into opposing genetic mechanisms.\tInflammatory skin disease\t2,079 European ancestry atopic dermatitis cases, 4,212 European ancestry psoriasis cases, 11,899 European ancestry controls\tNA\t1q21.3\t1\t152619805\tLCE3A\tLCE3B - LCE3A\t353143\t353142\t\t5707\t3029\trs1581803-?\trs1581803\t0\t1581803\tdownstream_gene_variant\t1\tNR\t2E-12\t11.698970004336019\t(Psoriasis)\t1.22\t[1.15–1.30]\tAffymetrix, Illumina [~ 5200000]\tN\r\n",
      "2015-12-18\t25574825\tBaurecht H\t2015-01-08\tAm J Hum Genet\twww.ncbi.nlm.nih.gov/pubmed/25574825\tGenome-wide comparative analysis of atopic dermatitis and psoriasis gives insight into opposing genetic mechanisms.\tInflammatory skin disease\t2,079 European ancestry atopic dermatitis cases, 4,212 European ancestry psoriasis cases, 11,899 European ancestry controls\tNA\t6q23.3\t6\t137874556\tTNFAIP3\tTNFAIP3\t\t\t7128\t\t\trs643177-?\trs643177\t0\t643177\tintron_variant\t0\tNR\t9E-16\t15.045757490560675\t(Psoriasis)\t1.27\t[1.20–1.34]\tAffymetrix, Illumina [~ 5200000]\tN\r\n",
      "2015-12-18\t25574825\tBaurecht H\t2015-01-08\tAm J Hum Genet\twww.ncbi.nlm.nih.gov/pubmed/25574825\tGenome-wide comparative analysis of atopic dermatitis and psoriasis gives insight into opposing genetic mechanisms.\tInflammatory skin disease\t2,079 European ancestry atopic dermatitis cases, 4,212 European ancestry psoriasis cases, 11,899 European ancestry controls\tNA\t6q21\t6\t111261682\tKIAA1919\tKIAA1919\t\t\t91749\t\t\trs9487605-?\trs9487605\t0\t9487605\tintron_variant\t0\tNR\t1E-16\t16.0\t(Psoriasis)\t1.27\t[1.20–1.35]\tAffymetrix, Illumina [~ 5200000]\tN\r\n",
      "2015-12-18\t25574825\tBaurecht H\t2015-01-08\tAm J Hum Genet\twww.ncbi.nlm.nih.gov/pubmed/25574825\tGenome-wide comparative analysis of atopic dermatitis and psoriasis gives insight into opposing genetic mechanisms.\tInflammatory skin disease\t2,079 European ancestry atopic dermatitis cases, 4,212 European ancestry psoriasis cases, 11,899 European ancestry controls\tNA\t5q33.3\t5\t159231004\tCTB-11I22.1\tLOC105377682\t\t\t105377682\t\t\trs10515778-?\trs10515778\t0\t10515778\tintron_variant\t0\tNR\t2E-14\t13.698970004336019\t(Psoriasis)\t1.29\t[1.21–1.38]\tAffymetrix, Illumina [~ 5200000]\tN\r\n",
      "2015-12-18\t25574825\tBaurecht H\t2015-01-08\tAm J Hum Genet\twww.ncbi.nlm.nih.gov/pubmed/25574825\tGenome-wide comparative analysis of atopic dermatitis and psoriasis gives insight into opposing genetic mechanisms.\tInflammatory skin disease\t2,079 European ancestry atopic dermatitis cases, 4,212 European ancestry psoriasis cases, 11,899 European ancestry controls\tNA\t5q33.3\t5\t159332892\tAC008697.1\tLOC285626\t\t\t285626\t\t\trs2546890-?\trs2546890\t0\t2546890\tnon_coding_transcript_exon_variant\t0\tNR\t3E-35\t34.52287874528034\t(Psoriasis)\t1.39\t[1.32–1.47]\tAffymetrix, Illumina [~ 5200000]\tN\r\n",
      "2018-04-06\t29422604\tKlein AP\t2018-02-08\tNat Commun\twww.ncbi.nlm.nih.gov/pubmed/29422604\tGenome-wide meta-analysis identifies five new susceptibility loci for pancreatic cancer.\tPancreatic cancer\t9,040 European ancestry cases, 12,496 European ancestry controls\tup to 2,737 cases, up to 4,752 controls\t17q12\t17\t37718512\tHNF1B\tLOC105371754, HNF1B\t\t\t105371754, 6928\t\t\trs4795218-G\trs4795218\t0\t4795218\tintron_variant\t0\t0.77\t1E-8\t8.0\t\t1.1363636\t[1.09-1.19]\tIllumina [11381182] (imputed)\tN\r\n",
      "2018-04-06\t29422604\tKlein AP\t2018-02-08\tNat Commun\twww.ncbi.nlm.nih.gov/pubmed/29422604\tGenome-wide meta-analysis identifies five new susceptibility loci for pancreatic cancer.\tPancreatic cancer\t9,040 European ancestry cases, 12,496 European ancestry controls\tup to 2,737 cases, up to 4,752 controls\t8q21.13\t8\t75558169\tHNF4G\tHNF4G\t\t\t3174\t\t\trs2941471-A\trs2941471\t0\t2941471\tintron_variant\t0\t0.5700000000000001\t7E-10\t9.154901959985743\t\t1.1235955\t[1.08-1.18]\tIllumina [11381182] (imputed)\tN\r\n",
      "2018-04-06\t29422604\tKlein AP\t2018-02-08\tNat Commun\twww.ncbi.nlm.nih.gov/pubmed/29422604\tGenome-wide meta-analysis identifies five new susceptibility loci for pancreatic cancer.\tPancreatic cancer\t9,040 European ancestry cases, 12,496 European ancestry controls\tup to 2,737 cases, up to 4,752 controls\t2p14\t2\t67412637\tintergenic, ETAA1\tETAA1 - LOC107985891\t54465\t107985891\t\t2226\t30942\trs1486134-G\trs1486134\t0\t1486134\tdownstream_gene_variant\t1\t0.28\t5E-9\t8.301029995663981\t\t1.13\t[1.09-1.17]\tIllumina [11381182] (imputed)\tN\r\n",
      "2018-04-06\t29422604\tKlein AP\t2018-02-08\tNat Commun\twww.ncbi.nlm.nih.gov/pubmed/29422604\tGenome-wide meta-analysis identifies five new susceptibility loci for pancreatic cancer.\tPancreatic cancer\t9,040 European ancestry cases, 12,496 European ancestry controls\tup to 2,737 cases, up to 4,752 controls\t22q12.1\t22\t28904318\tZNRF3\tZNRF3\t\t\t84133\t\t\trs16986825-T\trs16986825\t0\t16986825\tintron_variant\t0\t0.15\t1E-8\t8.0\t\t1.15\t[1.10 -1.20]\tIllumina [11381182] (imputed)\tN\r\n",
      "2018-04-06\t29422604\tKlein AP\t2018-02-08\tNat Commun\twww.ncbi.nlm.nih.gov/pubmed/29422604\tGenome-wide meta-analysis identifies five new susceptibility loci for pancreatic cancer.\tPancreatic cancer\t9,040 European ancestry cases, 12,496 European ancestry controls\tup to 2,737 cases, up to 4,752 controls\t8q24.21\t8\t127707639\tMYC\tCASC11\t\t\t100270680\t\t\trs10094872-T\trs10094872\t0\t10094872\tintron_variant\t0\t0.36\t1E-9\t9.0\t(EA)\t1.14\t[1.10-1.19]\tIllumina [11381182] (imputed)\tN\r\n",
      "2018-04-06\t29422604\tKlein AP\t2018-02-08\tNat Commun\twww.ncbi.nlm.nih.gov/pubmed/29422604\tGenome-wide meta-analysis identifies five new susceptibility loci for pancreatic cancer.\tPancreatic cancer\t9,040 European ancestry cases, 12,496 European ancestry controls\tup to 2,737 cases, up to 4,752 controls\t17q12\t17\t37718512\tHNF1B\tLOC105371754, HNF1B\t\t\t105371754, 6928\t\t\trs4795218-G\trs4795218\t0\t4795218\tintron_variant\t0\t0.77\t1E-8\t8.0\t\t1.1363636\t[1.09-1.19]\tIllumina [11381182] (imputed)\tN\r\n",
      "2018-04-06\t29422604\tKlein AP\t2018-02-08\tNat Commun\twww.ncbi.nlm.nih.gov/pubmed/29422604\tGenome-wide meta-analysis identifies five new susceptibility loci for pancreatic cancer.\tPancreatic cancer\t9,040 European ancestry cases, 12,496 European ancestry controls\tup to 2,737 cases, up to 4,752 controls\t8q21.13\t8\t75558169\tHNF4G\tHNF4G\t\t\t3174\t\t\trs2941471-A\trs2941471\t0\t2941471\tintron_variant\t0\t0.5700000000000001\t7E-10\t9.154901959985743\t\t1.1235955\t[1.08-1.18]\tIllumina [11381182] (imputed)\tN\r\n",
      "2018-04-06\t29422604\tKlein AP\t2018-02-08\tNat Commun\twww.ncbi.nlm.nih.gov/pubmed/29422604\tGenome-wide meta-analysis identifies five new susceptibility loci for pancreatic cancer.\tPancreatic cancer\t9,040 European ancestry cases, 12,496 European ancestry controls\tup to 2,737 cases, up to 4,752 controls\t2p14\t2\t67412637\tintergenic, ETAA1\tETAA1 - LOC107985891\t54465\t107985891\t\t2226\t30942\trs1486134-G\trs1486134\t0\t1486134\tdownstream_gene_variant\t1\t0.28\t5E-9\t8.301029995663981\t\t1.13\t[1.09-1.17]\tIllumina [11381182] (imputed)\tN\r\n",
      "2018-04-06\t29422604\tKlein AP\t2018-02-08\tNat Commun\twww.ncbi.nlm.nih.gov/pubmed/29422604\tGenome-wide meta-analysis identifies five new susceptibility loci for pancreatic cancer.\tPancreatic cancer\t9,040 European ancestry cases, 12,496 European ancestry controls\tup to 2,737 cases, up to 4,752 controls\t22q12.1\t22\t28904318\tZNRF3\tZNRF3\t\t\t84133\t\t\trs16986825-T\trs16986825\t0\t16986825\tintron_variant\t0\t0.15\t1E-8\t8.0\t\t1.15\t[1.10 -1.20]\tIllumina [11381182] (imputed)\tN\r\n",
      "2018-04-06\t29422604\tKlein AP\t2018-02-08\tNat Commun\twww.ncbi.nlm.nih.gov/pubmed/29422604\tGenome-wide meta-analysis identifies five new susceptibility loci for pancreatic cancer.\tPancreatic cancer\t9,040 European ancestry cases, 12,496 European ancestry controls\tup to 2,737 cases, up to 4,752 controls\t8q24.21\t8\t127707639\tMYC\tCASC11\t\t\t100270680\t\t\trs10094872-T\trs10094872\t0\t10094872\tintron_variant\t0\t0.36\t1E-9\t9.0\t(EA)\t1.14\t[1.10-1.19]\tIllumina [11381182] (imputed)\tN\r\n"
     ]
    }
   ],
   "source": [
    "%%bash\n",
    "\n",
    "# How many lines does the file have?\n",
    "wc -l GWAS_catalog.txt\n",
    "\n",
    "# First 10 rows\n",
    "head GWAS_catalog.txt\n",
    "\n",
    "# Last 5 rows\n",
    "tail -5 GWAS_catalog.txt\n",
    "tail -n 5 GWAS_catalog.txt"
   ]
  },
  {
   "cell_type": "markdown",
   "metadata": {},
   "source": [
    "\n",
    "From the first 10 rows we can see how the file is structured: \n",
    "* the first line is the header describing the content of each column (a more comprehensive explanation can be found on the [gwas website](https://www.ebi.ac.uk/gwas/docs/fileheaders))\n",
    "* then each line is an individual association between a genetic variant and an observed phenotype.\n",
    "\n",
    "### Step 2b : Using pipes\n",
    "\n",
    "Right now, all the commands we ran were printing their output to the screen (like `wc`) or to a file (`wget -O`). But we can also make the output go to another bash command. We do this using the \"pipe\" character (`|`). For example, `command1 | command2` will pass the output of `command1` to the input of `command2`. \n",
    "\n",
    "\n",
    "<div class=\"alert alert-success\"><b>Question 2:</b>  Using `head` piped to `tail`, print **only the 400th line** of the GWAS catalog. \n",
    "<br><br>\n",
    "`cat` prints the output of one or more files to the screen. Using `cat` and `wc`, print the number of lines in the GWAS catalog.\n",
    "</div>\n",
    "\n",
    "\n",
    "<button type=\"button\" class=\"btn btn-primary\" onClick=\"code_toggle()\">Click here to show/hide answer</button>\n"
   ]
  },
  {
   "cell_type": "code",
   "execution_count": 2,
   "metadata": {
    "collapsed": false
   },
   "outputs": [
    {
     "name": "stdout",
     "output_type": "stream",
     "text": [
      "2016-01-27\t25673413\tLocke AE\t2015-02-12\tNature\twww.ncbi.nlm.nih.gov/pubmed/25673413\tGenetic studies of body mass index yield new insights for obesity biology.\tBody mass index\tup to 104,666 European ancestry male individuals, up to 132,115 European ancestry female individuals, 370 African American male individuals, 517 African American female individuals, 512 Hispanic male individuals, 764 Hispanic female individuals\tup to 48,274 European ancestry male individuals, up to 39,864 European ancestry female individuals, 2,441 African American or Afro-Caribbean male individuals, 6,314 African American or Afro-Caribbean female individuals, 919 Filipino male individuals, 828 Filipino female individuals, 205 Seychelles male individuals, 287 Seychelles female individuals, 2,964 South Asian ancestry male individuals, 658 South Asian ancestry female individuals\t2p23.3\t2\t26705943\tKCNK3\tKCNK3\t\t\t3777\t\t\trs11126666-A\trs11126666\t0\t11126666\tintron_variant\t0\t0.285\t1E-8\t8.0\t(EA, men)\t0.026\t[0.017-0.035] kg/m2 increase\tAffymetrix, Illumina [2550021]\tN\r\n",
      "69886\n"
     ]
    }
   ],
   "source": [
    "%%bash\n",
    "\n",
    "head -400 GWAS_catalog.txt | tail -1\n",
    "\n",
    "cat GWAS_catalog.txt | wc -l"
   ]
  },
  {
   "cell_type": "markdown",
   "metadata": {},
   "source": [
    "### Step 3 : redirections\n",
    "\n",
    "Instead of ouputting the result of a command to another command, we can also tell UNIX to write the output to a file. This is not so useful when you have 1 command, but when you have several piped commands (pipeline) it is used to write the end result to a file. There are 2 types of redirection:\n",
    "\n",
    "* **overwrite** which is a single \"greater than\". `command1 > file` will overwrite `file` if it exists, otherwise create it and fill it with the output of `command1`.\n",
    "* **append**, which is a double \"greater than\". `command1 >> file` will add the output of `command1` to `file`, creating it if it does not exist.\n",
    "\n",
    "\n",
    "<div class=\"alert alert-success\"><b>Question 3:</b>  Using `head`, `tail` and pipes, create a file named `400th_line.txt` that contains **only the header and the 400th line**, and display it using `cat`.\n",
    "\n",
    "</div>\n",
    "\n",
    "\n",
    "<button type=\"button\" class=\"btn btn-primary\" onClick=\"code_toggle()\">Click here to show/hide answer</button>\n"
   ]
  },
  {
   "cell_type": "code",
   "execution_count": 3,
   "metadata": {
    "collapsed": false,
    "scrolled": true
   },
   "outputs": [
    {
     "name": "stdout",
     "output_type": "stream",
     "text": [
      "DATE ADDED TO CATALOG\tPUBMEDID\tFIRST AUTHOR\tDATE\tJOURNAL\tLINK\tSTUDY\tDISEASE/TRAIT\tINITIAL SAMPLE SIZE\tREPLICATION SAMPLE SIZE\tREGION\tCHR_ID\tCHR_POS\tREPORTED GENE(S)\tMAPPED_GENE\tUPSTREAM_GENE_ID\tDOWNSTREAM_GENE_ID\tSNP_GENE_IDS\tUPSTREAM_GENE_DISTANCE\tDOWNSTREAM_GENE_DISTANCE\tSTRONGEST SNP-RISK ALLELE\tSNPS\tMERGED\tSNP_ID_CURRENT\tCONTEXT\tINTERGENIC\tRISK ALLELE FREQUENCY\tP-VALUE\tPVALUE_MLOG\tP-VALUE (TEXT)\tOR or BETA\t95% CI (TEXT)\tPLATFORM [SNPS PASSING QC]\tCNV\r\n",
      "2016-01-27\t25673413\tLocke AE\t2015-02-12\tNature\twww.ncbi.nlm.nih.gov/pubmed/25673413\tGenetic studies of body mass index yield new insights for obesity biology.\tBody mass index\tup to 104,666 European ancestry male individuals, up to 132,115 European ancestry female individuals, 370 African American male individuals, 517 African American female individuals, 512 Hispanic male individuals, 764 Hispanic female individuals\tup to 48,274 European ancestry male individuals, up to 39,864 European ancestry female individuals, 2,441 African American or Afro-Caribbean male individuals, 6,314 African American or Afro-Caribbean female individuals, 919 Filipino male individuals, 828 Filipino female individuals, 205 Seychelles male individuals, 287 Seychelles female individuals, 2,964 South Asian ancestry male individuals, 658 South Asian ancestry female individuals\t2p23.3\t2\t26705943\tKCNK3\tKCNK3\t\t\t3777\t\t\trs11126666-A\trs11126666\t0\t11126666\tintron_variant\t0\t0.285\t1E-8\t8.0\t(EA, men)\t0.026\t[0.017-0.035] kg/m2 increase\tAffymetrix, Illumina [2550021]\tN\r\n"
     ]
    }
   ],
   "source": [
    "%%bash\n",
    "\n",
    "## First the header\n",
    "head -1 GWAS_catalog.txt > 400th_line.txt\n",
    "\n",
    "## Then the 400th line\n",
    "head -400 GWAS_catalog.txt | tail -1 >> 400th_line.txt\n",
    "\n",
    "cat 400th_line.txt"
   ]
  },
  {
   "cell_type": "markdown",
   "metadata": {},
   "source": [
    "<div class=\"alert alert-success\"><b>Question 4:</b> The file you have created contains both spaces and tab characters as separators, which makes it a bit messy to display. The `column` command can add artificial spaces to a pipe, so that it looks a bit more like Excel. Pipe `cat` into `column -s$'\\t' -t`, and then into `less`. By default, `less` folds long lines to make them fit the screen. We have very long lines so we want to display them laterally, without breaking them. Can you find the option in the `less` manual that does that? The 400th line of the GWAS catalog tells us about a mutation in a gene. Can you find the chromosome, position and gene for that variant?\n",
    "\n",
    "</div>\n",
    "\n",
    "\n",
    "<button type=\"button\" class=\"btn btn-primary\" onClick=\"code_toggle()\">Click here to show/hide answer</button>\n"
   ]
  },
  {
   "cell_type": "code",
   "execution_count": null,
   "metadata": {
    "collapsed": false
   },
   "outputs": [],
   "source": [
    "%%bash\n",
    "\n",
    "cat 400th_line.txt | column -s$'\\t' -t | less -S\n",
    "\n",
    "# chromosome 2     position 26705943  gene KCNK3"
   ]
  },
  {
   "cell_type": "markdown",
   "metadata": {},
   "source": [
    "### Searching files\n",
    "\n",
    "Very often, we want to search the contents of files. This is done using a very powerful command, `grep`.\n",
    "\n",
    "```bash\n",
    "\n",
    "grep [OPTIONS] [PATTERN] [FILE]\n",
    "\n",
    "# Example:\n",
    "\n",
    "grep Volos cities.txt\n",
    "```\n",
    "\n",
    "the last example looks for every line that contains \"Volos\" in the file `cities.txt` and displays the corresponding row. If your pattern contains a space, enclose it within simple or double quotes (e.g. `\"Volos, Thessalia\"` or `'Volos, Thessalia'`)\n",
    "\n",
    "<div class=\"alert alert-info\"> It is possible to search for several patterns at a time, not just one. If you are interested in only a few patterns, you can add them to the command line, separating them by `-e`. For example, ` grep -e Volos -e Thessaloniki cities.txt`. If you have many patterns that you want to search for, you can use `grep -f patterns.txt file.txt` where `patterns.txt` contains all the patterns you are interested in , 1 per line.\n",
    "</div>\n",
    "<br>\n",
    "\n",
    "<div class=\"alert alert-info\"> Interesting parameters for `grep` are `-w`, `-v`, `-i`, `-n`, `-A`, `-B`, `-C`, `-l` and `-L`. Check them out and play around with them if you have time!\n",
    "</div>\n",
    "\n",
    "<div class=\"alert alert-success\"><b>Question 5:</b> Use `grep` to search for other variants in the gene you found above. Using a pipe and `wc`, determine how many lines from the GWAS catalog mention it. How about the variant you found? Are there other lines that mention this variant?\n",
    "\n",
    "</div>\n",
    "\n",
    "<div class=\"alert alert-success\"><b>Question 6:</b> Before, we used 2 steps to create a file containing the 400th line. Now with `grep`, we can do everything in one line. Find something unique to the header and our 400th line, and create a file called `400th_line2.txt` that contains them (you might need several grep commands piped together). Use the `diff` command to check that the files are identical.\n",
    "</div>\n",
    "\n",
    "<button type=\"button\" class=\"btn btn-primary\" onClick=\"code_toggle()\">Click here to show/hide answers</button>\n"
   ]
  },
  {
   "cell_type": "code",
   "execution_count": null,
   "metadata": {
    "collapsed": true
   },
   "outputs": [],
   "source": [
    "%%bash\n",
    "## Question 5\n",
    "grep KCNK3 GWAS_catalog.txt\n",
    "grep KCNK3 GWAS_catalog.txt | wc -l\n",
    "\n",
    "grep 26705943 GWAS_catalog.txt | wc -l"
   ]
  },
  {
   "cell_type": "code",
   "execution_count": 21,
   "metadata": {
    "collapsed": true
   },
   "outputs": [],
   "source": [
    "%%bash\n",
    "## Question 6\n",
    "\n",
    "# the -n option of grep is useful here to show which line has a match\n",
    "\n",
    "# There is no single right answer here, you might have selected other search criteria that give the same result.\n",
    "grep -e DOWNSTREAM_GENE_DISTANCE -e 26705943 GWAS_catalog.txt| grep -e DOWNSTREAM_GENE_DISTANCE -e 'EA, men' > 400th_line2.txt\n",
    "\n",
    "# The diff output is empty: our files are identical!\n",
    "diff 400th_line.txt 400th_line2.txt"
   ]
  },
  {
   "cell_type": "markdown",
   "metadata": {},
   "source": [
    "### Step 4: Playing with columns: cut and paste\n",
    "\n",
    "As we now know, our file contains many columns, but we are interested in only a couple of them. `cut` allows to extract specific columns from a file, whereas `paste` appends several columns together. The delimiter (space, comma, tab) that separates your fields is specified with the `-d` argument (as they are special characters they will need to be quoted with `'`).\n",
    "\n",
    "#### Example\n",
    "The below command extracts columns 1 to 4, 6, and 8 to 10 of `file.txt` and prints the output to the screen.\n",
    "```bash\n",
    "cut -f1-4,6,8-10 file.txt\n",
    "```\n",
    "\n",
    "<div class=\"alert alert-success\"><b>Question 7:</b> Extract the associated disease/trait and the SNP id (column `SNPS`) from the GWAS catalog and write them to a file called `phenotype_SNP.txt`. Then create a file called `SNP_phenotype.txt` where the SNP column comes first, and the Disease/trait one second (`cut` alone is not enough for this, you need to create 2 files and paste them together).\n",
    "</div>\n",
    "\n",
    "<button type=\"button\" class=\"btn btn-primary\" onClick=\"code_toggle()\">Click here to show/hide answers</button>\n",
    "\n"
   ]
  },
  {
   "cell_type": "code",
   "execution_count": 22,
   "metadata": {
    "collapsed": true
   },
   "outputs": [],
   "source": [
    "%%bash\n",
    "\n",
    "cut -f8,22 GWAS_catalog.txt > phenotype_SNP.txt\n",
    "\n",
    "cut -f8 GWAS_catalog.txt > phenotype.txt\n",
    "cut -f22 GWAS_catalog.txt > SNP.txt\n",
    "\n",
    "paste SNP.txt phenotype.txt > SNP_phenotype.txt"
   ]
  },
  {
   "cell_type": "markdown",
   "metadata": {},
   "source": [
    "## Step 5 : Find and replace\n",
    "\n",
    "Once we have extracted some data, we often want to modify it. There are 2 programs to do this type of thing, one very simple and the other very complicated:\n",
    "\n",
    "* `tr` replaces every occurrence of one particular character by another character\n",
    "*  * The syntax is very simple : `command1 | tr 'a' 'b' ` replaces every occurrence of the letter a in the pipe by the letter b.\n",
    "* `sed` is more complicated to use, but allows to substitute pretty much anything by pretty much anything else.\n",
    "*  * `command1 | sed 's/pattern_to_find/replacement pattern/'`\n",
    "*  * `pattern_to_find` is a **regular expression**, a special command that allow you to match certain bits of text an not others. Regular expressions are very, very common in the computing world, and many programs understand them (`grep` also allows them). Regular expressions (or regexes) can take a long time to learn and use properly. You can learn about them [here](http://www.regular-expressions.info/) and test them out [here](http://regexr.com/).\n",
    "\n",
    "### Some (very) basic regular expressions\n",
    "\n",
    "* `/Volos/` matches the string `Volos`, as expected\n",
    "* `/Vo*los/` matches Volos with zero or more first `o`: `Volos`, `Vlos` `Voooooooolos`\n",
    "* `/Vo+los/` matches Volos with one or more first `o`: `Volos`,  `Voooooooolos` but not `Vlos`\n",
    "* `/V.los/` matches Volos, but the second letter can be anything (but not nothing): `Volos`, `Vylos`, `Vvlos` but not `Voolos`\n",
    "* `/$/` matches the end of the line\n",
    "* `/^/` matches the beginning of the line\n",
    "* `/^Volos$/` matches a line that contains only `Volos` but not if there is a space (or anything) before or after.\n",
    "* `s/o/i/` will replace `Volos` by `Vilos`, but `s/o/i/g` will replace all occurrences of the pattern: `Volos` will become `Vilis`.\n",
    "* etc...\n",
    "\n",
    "\n",
    "<br><br><br>\n",
    "\n",
    "<div class=\"alert alert-success\"><b>Question 8:</b> Using `tr`, replace every space character in the GWAS catalog by an underscore (`_`) and write it to `GWAS_catalog_no_spaces.txt`. Remember they are special characters, so need to be quoted.\n",
    "</div>\n",
    "\n",
    "<div class=\"alert alert-success\"><b>Question 9:</b> In the file `phenotype_SNP.txt` you generated before, some SNPs have several IDs separated by a semicolon. Find them and remove all alternate IDs, keeping only the first one; write the file to `duplicates_removed.txt`.\n",
    "</div>\n",
    "\n",
    "<button type=\"button\" class=\"btn btn-primary\" onClick=\"code_toggle()\">Click here to show/hide answers</button>\n"
   ]
  },
  {
   "cell_type": "code",
   "execution_count": 23,
   "metadata": {
    "collapsed": true
   },
   "outputs": [],
   "source": [
    "%%bash\n",
    "## Question 8\n",
    "cat GWAS_catalog.txt | tr ' ' '_' > GWAS_catalog_no_spaces.txt\n",
    "\n",
    "## Question 9\n",
    "grep ';' phenotype_SNP.txt | sed 's/;.*//' > duplicates_removed.txt"
   ]
  },
  {
   "cell_type": "markdown",
   "metadata": {},
   "source": [
    "### Step 6 : Advanced column manipulation using `awk`\n",
    "\n",
    "Here, we introduce another very powerful tool: `awk`. Like `sed`, entire programs can be written in awk, so we will show only a tiny fraction of what can be done with it.\n",
    "\n",
    "The great usefulness of `awk` is that it **automatically splits lines on whitespace**, allowing you to select specific columns and performing actions on them.\n",
    "\n",
    "<div class=\"alert alert-danger\"><b>Beware:</b> `awk` splits on **any whitespace**. What will happen in a file like ours, with both tabs and spaces? Try it out: run `awk '{print $2}' GWAS_catalog.txt | less`. Look at the first row. Is this what you would expect? What would you do to solve this problem?\n",
    "</div>\n",
    "\n",
    "### Some (very) basic examples\n",
    "\n",
    "\n",
    "* `'{print $2}'` prints the second field\n",
    "* `'{print $0}'` prints the whole line\n",
    "* `'$2==1'` prints the whole line if the second field is equal to 1 (equivalent to `'{if($2==1){print $0}}'`)\n",
    "* `'$3~/Volos/{print \"field 2 is: \", $2+1, \"field 3 is: \", $3}'` prints a custom string if the third field matches (contains) \"Volos\"\n",
    "* `'NF>2'` prints the line if it has more than 2 fields\n",
    "* `'$NF>2'` prints the line if the value of the last field is greater than 2\n",
    "* `'$10>$2+1 && $(NF-1)==\"yes\"'` prints the line if the 10th field is greater than the second + 1 **and** if the before-last field is equal to `yes`.\n",
    "\n",
    "\n",
    "<br><br>\n",
    "<div class=\"alert alert-info\"> AWK commands, like `sed` ones, are enclosed within quotes (`'`). If you want to print the whole line only if a condition is satisfied, just write the condition. If you want to print certain columns, or do more complex operations, you must include your code in curly brackets (`{...}`).\n",
    "</div>\n",
    "\n",
    "<br><br>\n",
    "<div class=\"alert alert-info\"> AWK merges consecutive delimiters into one. For example, in the string `a\\tb\\t\\tc`, `$2==\"b\"` and `$3==\"c\"`. Sometimes (as here) we might have empty fields, so we want to keep consecutive delimiters separated. To do that you have to tell awk specifically : `awk -F'\\t' '...'`\n",
    "</div>\n",
    "\n",
    "\n",
    "<div class=\"alert alert-success\"><b>Question 10:</b> Use the version of the GWAS catalog with no spaces we just created. How many fields does the GWAS catalog contain? Using `paste`, `tr` and `seq`, build a file named `column_indices.txt` that contains the column names and their numbers. With `grep`, locate the number of the columns `DISEASE/TRAIT`, `CHR_ID`, `CHR_POS`, `MAPPED_GENE`, `SNPS` in that file. Use awk to extract all records of the GWAS catalog that are on chromosome 11 between 5220000 and 5300000, and print only the fields above to a file called `Hemoglobin_region.txt`.\n",
    "</div>\n"
   ]
  },
  {
   "cell_type": "code",
   "execution_count": 6,
   "metadata": {
    "collapsed": false
   },
   "outputs": [
    {
     "name": "stdout",
     "output_type": "stream",
     "text": [
      "Number of fields\n",
      "34\n",
      "\n",
      "Column numbers\n",
      "DISEASE/TRAIT\t8\n",
      "CHR_ID\t12\n",
      "CHR_POS\t13\n",
      "MAPPED_GENE\t15\n",
      "SNPS\t22\n"
     ]
    }
   ],
   "source": [
    "%%bash\n",
    "\n",
    "# number of fields (=34)\n",
    "echo \"Number of fields\"\n",
    "head -1 GWAS_catalog.txt| tr ' ' '_' | awk '{print NF}'\n",
    "echo\n",
    "\n",
    "# building a file with column numbers\n",
    "head -1 GWAS_catalog_no_spaces.txt | tr '\\t' '\\n' > header.column\n",
    "seq 1 34 > indices.column\n",
    "paste header.column indices.column > header.columns\n",
    "\n",
    "# finding column IDs\n",
    "echo \"Column numbers\"\n",
    "grep -w -e DISEASE -e CHR_ID -e CHR_POS -e MAPPED_GENE -e SNPS header.columns\n",
    "\n",
    "# Printing only selected fields\n",
    "awk -F'\\t' '$12==11 && $13>5220000 && $13<5300000{print $8, $12, $13, $15, $22}' GWAS_catalog_no_spaces.txt > Hemoglobin_region.txt"
   ]
  },
  {
   "cell_type": "markdown",
   "metadata": {},
   "source": [
    "### Step 7:  Sorting\n",
    "\n",
    "Last but not least, we introduce the `sort` and `uniq` commands. Very often we need to sort files according to one or several columns, this is achieved using sort. Sort understands alphabetical, numerical and \"natural\" (i.e. scientific) orders and can compute unique values.\n",
    "\n",
    "#### Examples\n",
    "* `sort -k1,1 -k2,2n` sorts according to the first field (alphanumeric order) then the second field (numeric order)\n",
    "* `sort` sorts on the whole line according to alphanumeric order\n",
    "* `sort -r` sorts randomly\n",
    "\n",
    "<br>\n",
    "<div class=\"alert alert-info\"> `uniq` does not add much to sort, as `sort -u` is the same as `sort | uniq`. `uniq` is frequently used for its `-c` argument, which counts the number of occurrences of every unique line.\n",
    "</div>\n",
    "\n",
    "<div class=\"alert alert-success\"><b>Question 11:</b> How many unique genes are there in our previous query? How many times is each of them mentioned?\n",
    "</div>"
   ]
  },
  {
   "cell_type": "code",
   "execution_count": 7,
   "metadata": {
    "collapsed": false
   },
   "outputs": [
    {
     "name": "stdout",
     "output_type": "stream",
     "text": [
      "      6 HBB\n",
      "      4 HBBP1\n",
      "      1 HBD\n",
      "      1 HBE1\n",
      "      5 LCRB\n"
     ]
    }
   ],
   "source": [
    "%%bash\n",
    "cut -d' ' -f4 Hemoglobin_region.txt | sort | uniq -c"
   ]
  },
  {
   "cell_type": "markdown",
   "metadata": {},
   "source": [
    "## Step 8 : Variables and loops\n",
    "\n",
    "In bash, we can define variables to store temporary information:\n",
    "\n",
    "```bash\n",
    "city=Volos\n",
    "```\n",
    "\n",
    "To recall the value of the variable we have to prefix it with a dollar sign (`$`):\n",
    "```bash\n",
    "echo $city\n",
    "```\n",
    "\n",
    "\n",
    "\n",
    "### Variable operations\n",
    "\n",
    "#### Concatenation\n",
    "This is the easiest of all operations: in order to \"glue\" the value of 2 variables together, simply write them one after the other:"
   ]
  },
  {
   "cell_type": "code",
   "execution_count": 1,
   "metadata": {
    "collapsed": false
   },
   "outputs": [
    {
     "name": "stdout",
     "output_type": "stream",
     "text": [
      "12\n"
     ]
    }
   ],
   "source": [
    "%%bash\n",
    "a=1\n",
    "b=2\n",
    "echo $a$b"
   ]
  },
  {
   "cell_type": "markdown",
   "metadata": {},
   "source": [
    "You can also mix variables with text of your own:\n",
    "\n",
    "```bash\n",
    "Konstantinos lives in $city.\n",
    "```\n",
    "\n",
    "<div class=\"alert alert-danger\"><b>Beware:</b> The character that follows your variable name is important. Bash will think that some characters are part of the variable name, for example you cannot write `$a-$b`, although you can write `$a.$b`. If you encounter such characters, you should write `${a}-${b}`.\n",
    "</div>\n",
    "\n",
    "#### Mathematical operations\n",
    "* Addition `$(( a + b ))`, `$(( 1 + 2 ))`\n",
    "* Other arithmetic operators `$(( a * b ))`, `$(( a / 10 ))`\n"
   ]
  },
  {
   "cell_type": "code",
   "execution_count": null,
   "metadata": {
    "collapsed": true
   },
   "outputs": [],
   "source": []
  }
 ],
 "metadata": {
  "hide_input": false,
  "kernelspec": {
   "display_name": "Python 3",
   "language": "python",
   "name": "python3"
  },
  "language_info": {
   "codemirror_mode": {
    "name": "ipython",
    "version": 3
   },
   "file_extension": ".py",
   "mimetype": "text/x-python",
   "name": "python",
   "nbconvert_exporter": "python",
   "pygments_lexer": "ipython3",
   "version": "3.4.3"
  }
 },
 "nbformat": 4,
 "nbformat_minor": 2
}
