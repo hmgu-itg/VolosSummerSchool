{
 "cells": [
  {
   "cell_type": "markdown",
   "metadata": {
    "hide_input": true
   },
   "source": [
    "# Volos Summer School \n",
    "\n",
    "# Workshop: Meta-analysis\n",
    "\n",
    "## Objectives\n",
    "\n",
    "In this workshop, you will learn how to:\n",
    "- Access published summary statistics\n",
    "- Follow-up GWAS hits to obtain evidence of replication \n",
    "- Synthesize results using meta-analysis to obtain overall evidence of association\n",
    "\n",
    "## Why do we need this?\n",
    "\n",
    "- Reduces false-positive findings: validate genetic risk loci identified by your study and ensure reproducibility of results in independent datasets.\n",
    "\n",
    "- Increases power: Genetic effects due to common alleles are small, and detection of signals requires large sample sizes. \n",
    "\n",
    "- It is feasible: Larger samples have become available and researchers have recognised the value of collaborating to combine resources. \n",
    "\n",
    "- It can be readily available: The techniques developed for meta-analysis can use summary data, diminishing the limitations that are imposed by restrictions on sharing individual-level data. \n",
    "\n",
    "## Publically available resources\n",
    "\n",
    "### The European Genome-phenome Archive (EGA) \n",
    "https://www.ebi.ac.uk/ega/home\n",
    "\n",
    "- A permanent archive that promotes the distribution and sharing of genetic and phenotypic data consented for specific approved uses. \n",
    "- Includes major reference data collections for human genetics research, such as the Wellcome Trust Case Control Consortium and the UK10K project.\n",
    "- Studies and datasets can be browsed on the public website at the European Bioinformatics Institute (EBI).\n",
    "- Each study is assigned a stable accession that may be referenced in publications.\n",
    "- Controlled access policy via the Data Access Committee (DAC). \n",
    "- Each dataset is covered by a Data Access Agreement (DAA), which defines the terms and conditions of use for the specified dataset. \n",
    "- An EGA account is created by the DAC for an individual user, in response to a successful application.\n",
    "- Datasets are downloaded using the EGA Download Client, which provides instant access to all approved files.\n",
    "\n",
    "<img src=\"EGA1.png\" width=\"60%\"><img src=\"EGA2.png\" width=\"60%\">\n",
    "\n",
    "### The database of Genotypes and Phenotypes (dbGaP) \n",
    "https://www.ncbi.nlm.nih.gov/gap\n",
    "\n",
    "- Developed to archive and distribute the data and results from studies that have investigated the interaction of genotype and phenotype in humans.\n",
    "- Studies and datasets can be browsed on the public website at the National Center for Biotechnology Information (NCBI).\n",
    "- Controlled access via a management portal for individual-level data, which can be used to submit a data access request, manage access requests, and download approved data sets.\n",
    "\n",
    "<img src=\"dbgap.png\" width=\"60%\">\n",
    "\n",
    "### UK Biobank \n",
    "http://www.ukbiobank.ac.uk/\n",
    "\n",
    "- Major health resource with the aim of improving the prevention, diagnosis and treatment of a wide range of illnesses, including cancer, heart diseases, stroke, diabetes, arthritis, osteoporosis, eye disorders, depression and forms of dementia. \n",
    "- 500,000 people recruited aged between 40-69 years in 2006-2010 from across the UK. \n",
    "- Participants provided measures, blood, urine and saliva samples, detailed information (diet, cognitive function, work history, digestive health) and agreed to have their health followed. \n",
    "- Linking to a wide range of electronic health records (cancer, death, hospital episodes, general practice). \n",
    "- Currently genotyping and imputation data available for all participants.\n",
    "- GSK & Regeneron have successfully applied to exome sequence the samples. \n",
    "- Wellcome Sanger Institute have successfully appplied to whole genome sequencing of 50,000 samples. =O \n",
    "- UK Biobank is open to bona fide researchers anywhere in the world, including those funded by academia and industry.\n",
    "\n",
    "<img src=\"ukbb1.png\" width=\"60%\"><img src=\"ukbb2.png\" width=\"60%\">\n",
    "\n",
    "### International consortia home pages\n",
    "\n",
    "#### Meta-Analyses of Glucose and Insulin-related traits Consortium (MAGIC) \n",
    "https://www.magicinvestigators.org/\n",
    "\n",
    "- Glycemic and metabolic traits: fasting glucose, fasting insulin, 2h glucose, HBA1c, measures of insulin secretion and sensitivity.\n",
    "- Meta-analysis summary statistics genome-wide can be accessed through an FTP site.\n",
    "- Users are asked to acknowledge the source of the data and cite the relevant publication.\n",
    "\n",
    "<img src=\"magic2.png\" width=\"60%\">\n",
    "\n",
    "#### Genetic Investigation of ANthropometric Traits (GIANT)\n",
    "http://portals.broadinstitute.org/collaboration/giant/index.php/Main_Page\n",
    "\n",
    "- International collaboration studying the genetics of human body size and shape.\n",
    "- Anthropometric traits include body mass index (BMI), height, waist and hip circumference, and waist-hip ratio.\n",
    "\n",
    "<img src=\"giant1.png\" width=\"70%\"><img src=\"giant2.png\" width=\"60%\">\n",
    "\n",
    "\n",
    "## Part 1: Replication\n",
    "\n",
    "- We have now analysed our BMI data and wish to follow up our top signals in independent studies.\n",
    "- GIANT is the largest consortium that studies anthropometric traits.    \n",
    "- We are interested in European samples across both sexes.  \n",
    "- We therefore download the respective summary statistics from their latest publication \"Locke AE, Kahali B, Berndt SI, Justice AE, Pers TH, Day FR, Powell C, Vedantam S, Buchkovich ML, Yang J, Croteau-Chonka DC, Esko T et al. (2015). Genetic studies of body mass index yield new insights for obesity biology. Nature 518, 197-206.\".",
"\n",
"\n",
"## MAKE SURE TO COPY DIR data into your own  HOME"
   ]
  },
  {
   "cell_type": "code",
   "execution_count": 21,
   "metadata": {
    "collapsed": false,
    "scrolled": true
   },
   "outputs": [
    {
     "name": "stdout",
     "output_type": "stream",
     "text": [
      "SNP\tA1\tA2\tFreq1.Hapmap\tb\tse\tp\tN\tchr\tstart\tend\n",
      "rs3802985\tC\tT\t0.95\t-0.0043\t0.0128\t0.7369\t217214\t11\t198510\t198510\n",
      "rs3741411\tG\tA\t0.725\t9e-04\t0.0052\t0.8626\t209341\t11\t199256\t199256\n",
      "rs7114102\tT\tA\t0.9083\t-0.0043\t0.0075\t0.5664\t208875\t11\t200289\t200289\n",
      "rs939917\tC\tT\t0.65\t-0.0048\t0.0044\t0.2753\t207656\t11\t202547\t202547\n",
      "rs11245990\tC\tT\t0.9333\t-0.0044\t0.01\t0.6599\t229741\t11\t202565\t202565\n",
      "rs11602954\tA\tG\t0.2333\t-5e-04\t0.0038\t0.8868\t310304\t11\t202856\t202856\n",
      "rs2280543\tT\tC\t0.0667\t0.005\t0.0099\t0.6135\t229647\t11\t203788\t203788\n",
      "rs2280544\tC\tT\t0.675\t0.0011\t0.0037\t0.7603\t311432\t11\t204062\t204062\n",
      "rs12282672\tG\tA\t0.9833\t-0.0145\t0.0337\t0.667\t154747\t11\t204134\t204134\n"
     ]
    }
   ],
   "source": [
    "%%bash\n",
    "\n",
    "### Let's have a look at GIANT summary statistics\n",
    "DIR=/data/Workshop5_MetaAnalysis/part1\n",
    "zcat ${DIR}/GIANT_BMI_Locke_et_al_European_Ancestry_wposition.txt.gz | head"
   ]
  },
  {
   "cell_type": "code",
   "execution_count": 17,
   "metadata": {
    "collapsed": false
   },
   "outputs": [
    {
     "name": "stdout",
     "output_type": "stream",
     "text": [
      "SNP\tCHR\tBP\tNMISS\tBETA\tSE\tR2\tT\tP\tA1\tA2\tAF_A1\n",
      "10:100008436\t10\t100008436\t491\t0.04485\t0.07024\t0.0008329\t0.6385\t0.5235\tA\tG\t0.3223\n",
      "10:100016339\t10\t100016339\t491\t-0.07247\t0.06449\t0.002576\t-1.124\t0.2616\tT\tC\t0.4518\n",
      "10:100017453\t10\t100017453\t491\t-0.1013\t0.06898\t0.004387\t-1.468\t0.1428\tG\tT\t0.3434\n",
      "10:100025924\t10\t100025924\t491\t-0.08351\t0.06512\t0.003352\t-1.282\t0.2003\tG\tA\t0.4518\n"
     ]
    }
   ],
   "source": [
    "%%bash\n",
    "\n",
    "### Let's remind ourselves how the summary statistics from our study look like\n",
    "DIR=/data/Workshop5_MetaAnalysis/part1\n",
    "head -5 ${DIR}/cohort1_assoc.qassoc"
   ]
  },
  {
   "cell_type": "code",
   "execution_count": 22,
   "metadata": {
    "collapsed": false
   },
   "outputs": [
    {
     "name": "stdout",
     "output_type": "stream",
     "text": [
      "rs9641123\t7\t93197732\t491\t0.3703\t0.06204\t0.06791\t5.969\t4.596e-09\tC\tG\t0.4026\n",
      "rs9641123\tG\tC\t0.6083\t-0.0191\t0.0038\t5e-07\t233515\t7\t93197732\t93197732\n"
     ]
    }
   ],
   "source": [
    "%%bash\n",
    "\n",
    "### Now let's find the variant we wish to replicate in our dataset & GIANT\n",
    "DIR=/data/Workshop5_MetaAnalysis/part1\n",
    "grep -w rs9641123 ${DIR}/cohort1_assoc.qassoc\n",
    "zgrep -w rs9641123 ${DIR}/GIANT_BMI_Locke_et_al_European_Ancestry_wposition.txt.gz"
   ]
  },
  {
   "cell_type": "code",
   "execution_count": 29,
   "metadata": {
    "collapsed": false
   },
   "outputs": [
    {
     "name": "stdout",
     "output_type": "stream",
     "text": [
      "rsID CHR POS EA NEA EAF beta se pval N\n",
      "rs9641123 7 93197732 C G 0.4026 0.3703 0.06204 4.596e-09 491\n",
      "rsID CHR POS EA NEA EAF beta se pval N\n",
      "rs9641123 7 93197732 G C 0.6083 -0.0191 0.0038 5e-07 233515\n"
     ]
    }
   ],
   "source": [
    "%%bash\n",
    "\n",
    "### Subset both files to the variants you are interested in and reformat them for METAL\n",
    "DIR=/data/Workshop5_MetaAnalysis/part1\n",
    "\n",
    "echo \"rsID CHR POS EA NEA EAF beta se pval N\" > ${DIR}/cohort1_replication\n",
    "grep -w rs9641123 ${DIR}/cohort1_assoc.qassoc | awk 'BEGIN { FS = \"\\t\" } ; {print $1,$2,$3,$10,$11,$12,$5,$6,$9,$4}' >> ${DIR}/cohort1_replication\n",
    "cat ${DIR}/cohort1_replication\n",
    "\n",
    "echo \"rsID CHR POS EA NEA EAF beta se pval N\" > ${DIR}/GIANT_replication\n",
    "zgrep -w rs9641123 ${DIR}/GIANT_BMI_Locke_et_al_European_Ancestry_wposition.txt.gz | awk 'BEGIN { FS = \"\\t\" } ; {print $1,$9,$10,$2,$3,$4,$5,$6,$7,$8}' >> ${DIR}/GIANT_replication\n",
    "cat ${DIR}/GIANT_replication"
   ]
  },
  {
   "cell_type": "code",
   "execution_count": 3,
   "metadata": {
    "collapsed": false
   },
   "outputs": [
    {
     "name": "stdout",
     "output_type": "stream",
     "text": [
      "# This file contains a short description of the columns in the\n",
      "# meta-analysis summary file, named 'BMI1.TBL'\n",
      "\n",
      "# Marker    - this is the marker name\n",
      "# Allele1   - the first allele for this marker in the first file where it occurs\n",
      "# Allele2   - the second allele for this marker in the first file where it occurs\n",
      "# Freq1       - weighted average of frequency for allele 1 across all studies\n",
      "# FreqSE      - corresponding standard error for allele frequency estimate\n",
      "# MinFreq     - minimum frequency for allele 1 across all studies\n",
      "# MaxFreq     - maximum frequency for allele 1 across all studies\n",
      "# Effect    - overall estimated effect size for allele1\n",
      "# StdErr    - overall standard error for effect size estimate\n",
      "# P-value   - meta-analysis p-value\n",
      "# Direction - summary of effect direction for each study, with one '+' or '-' per study\n",
      "# HetISq    - I^2 statistic which measures heterogeneity on scale of 0-100%\n",
      "# HetChiSq  - chi-squared statistic in simple test of heterogeneity\n",
      "# df        - degrees of freedom for heterogeneity statistic\n",
      "# HetPVal   - P-value for heterogeneity statistic\n",
      "# N_total   - custom variable 1\n",
      "\n",
      "# Input for this meta-analysis was stored in the files:\n",
      "# --> Input File 1 : /data/Workshop5_MetaAnalysis/part1/cohort1_replication\n",
      "# --> Input File 2 : /data/Workshop5_MetaAnalysis/part1/GIANT_replication\n",
      "\n",
      "MarkerName\tAllele1\tAllele2\tFreq1\tFreqSE\tMinFreq\tMaxFreq\tEffect\tStdErr\tP-value\tDirection\tHetISq\tHetChiSq\tHetDf\tHetPVal\tN_total\n",
      "rs9641123\tc\tg\t0.3917\t0.0007\t0.3917\t0.4026\t0.0204\t0.0038\t7.374e-08\t++\t96.9\t31.926\t1\t1.602e-08\t234006\n"
     ]
    }
   ],
   "source": [
    "%%bash\n",
    "\n",
    "### We are now ready to run METAL \n",
    "DIR=/data/Workshop5_MetaAnalysis/part1\n",
    "DIRcode=/data/Workshop5_MetaAnalysis/code\n",
    "\n",
    "trait=BMI\n",
    "${DIRcode}/RUN_METAL.sh ${DIR} ${trait}\n",
    "\n",
    "### Check out results\n",
    "cat ${DIR}/${trait}1.TBL.info\n",
    "cat ${DIR}/${trait}1.TBL"
   ]
  },
  {
   "cell_type": "markdown",
   "metadata": {},
   "source": [
    "### Questions:\n",
    "\n",
    "- What evidence of association is there across the two studies?\n",
    "- What does ‘++’ mean in the ‘Direction’ column?  \n",
    "- How much of a difference did the inclusion of our cohort did to the GIANT results? Why?\n",
    "- The I^2 value is quite high. How would you explain it? What would you do next?\n",
    "\n",
    "\n",
    "## Part 2: Discovery\n",
    "\n",
    "- We now wish to meta-analyze the results of our BMI study genome-wide with publically available data.\n",
    "- We do this to boost our power for discovery."
   ]
  },
  {
   "cell_type": "code",
   "execution_count": 48,
   "metadata": {
    "collapsed": false
   },
   "outputs": [
    {
     "name": "stdout",
     "output_type": "stream",
     "text": [
      "247227 /data/Workshop5_MetaAnalysis/part2/GIANT_EUR_bothsexes\n",
      "11:202856 rs11602954 A G 0.2333 -5e-04 0.0038 0.8868 310304 11 202856\n",
      "11:204228 rs1045454 A G 0.1667 -0.0067 0.0043 0.1192 223459 11 204228\n",
      "11:205198 rs3782123 A C 0.575 0.0016 0.0035 0.6605 309345 11 205198\n",
      "11:206767 rs7930823 A G 0.2333 -0.0062 0.0042 0.1399 225302 11 206767\n",
      "11:230368 rs536715 C T 0.85 -0.0052 0.0058 0.37 233282 11 230368\n",
      "11:233067 rs11246020 C T 0.8333 -0.0048 0.0047 0.3071 224131 11 233067\n",
      "11:237087 rs1045288 A G 0.1667 -0.0073 0.0043 0.08957 225769 11 237087\n",
      "11:244106 rs10902112 A G 0.1667 -0.006 0.0049 0.2208 176827 11 244106\n",
      "11:244108 rs7107362 A G 0.1638 -0.006 0.0051 0.2394 171540 11 244108\n",
      "11:244129 rs7116130 C T 0.1667 -0.0075 0.0043 0.08113 225862 11 244129\n"
     ]
    }
   ],
   "source": [
    "%%bash\n",
    "\n",
    "### Subsample GIANT to the variants in your study\n",
    "### This is not necessary, we only do it here for practicality\n",
    "INDIR=/data/Workshop5_MetaAnalysis/part1\n",
    "OUTDIR=/data/Workshop5_MetaAnalysis/part2\n",
    "DIRcode=/data/Workshop5_MetaAnalysis/code\n",
    "\n",
    "### First I need to make sure that SNP identifiers are compatible between the cohorts \n",
    "bigfile=${INDIR}/GIANT_BMI_Locke_et_al_European_Ancestry_wposition.txt.gz\n",
    "echo \"SNP rsID A1 A2 Freq1.Hapmap b se p N chr pos\" > ${OUTDIR}/bigfile.txt\n",
    "zcat ${bigfile} | sed 's/X/23/g' | awk 'BEGIN { FS = \"\\t\" } ; {if(NR>1){print $9\":\"$10,$1,$2,$3,$4,$5,$6,$7,$8,$9,$10}}' >> ${OUTDIR}/bigfile.txt\n",
    "\n",
    "sed 's/rs9641123/7:93197732/g' ${INDIR}/cohort1_assoc.qassoc > ${OUTDIR}/cohort1.summarystats\n",
    "\n",
    "### Subsample GIANT\n",
    "awk '{if(NR>1) print $1}' ${OUTDIR}/cohort1.summarystats > ${OUTDIR}/smallfile.txt\n",
    "perl ${DIRcode}/grep.pl ${OUTDIR}/bigfile.txt ${OUTDIR}/smallfile.txt ${OUTDIR}/GIANT_EUR_bothsexes\n",
    "wc -l ${OUTDIR}/GIANT_EUR_bothsexes\n",
    "head ${OUTDIR}/GIANT_EUR_bothsexes"
   ]
  },
  {
   "cell_type": "code",
   "execution_count": 46,
   "metadata": {
    "collapsed": false
   },
   "outputs": [
    {
     "name": "stdout",
     "output_type": "stream",
     "text": [
      "SNPID rsID CHR POS EA NEA EAF beta se pval N\n",
      "11:202856 rs11602954 11 202856 A G 0.2333 -5e-04 0.0038 0.8868 310304\n",
      "11:204228 rs1045454 11 204228 A G 0.1667 -0.0067 0.0043 0.1192 223459\n",
      "11:205198 rs3782123 11 205198 A C 0.575 0.0016 0.0035 0.6605 309345\n",
      "11:206767 rs7930823 11 206767 A G 0.2333 -0.0062 0.0042 0.1399 225302\n",
      "11:230368 rs536715 11 230368 C T 0.85 -0.0052 0.0058 0.37 233282\n",
      "11:233067 rs11246020 11 233067 C T 0.8333 -0.0048 0.0047 0.3071 224131\n",
      "11:237087 rs1045288 11 237087 A G 0.1667 -0.0073 0.0043 0.08957 225769\n",
      "11:244106 rs10902112 11 244106 A G 0.1667 -0.006 0.0049 0.2208 176827\n",
      "11:244108 rs7107362 11 244108 A G 0.1638 -0.006 0.0051 0.2394 171540\n",
      "SNPID CHR POS EA NEA EAF beta se pval N\n",
      "10:100008436 10 100008436 A G 0.3223 0.04485 0.07024 0.5235 491\n",
      "10:100016339 10 100016339 T C 0.4518 -0.07247 0.06449 0.2616 491\n",
      "10:100017453 10 100017453 G T 0.3434 -0.1013 0.06898 0.1428 491\n",
      "10:100025924 10 100025924 G A 0.4518 -0.08351 0.06512 0.2003 491\n",
      "10:100044136 10 100044136 G A 0.01104 0.08482 0.3043 0.7806 491\n",
      "10:100046078 10 100046078 T G 0.1616 -0.04947 0.08779 0.5734 491\n",
      "10:100055644 10 100055644 T C 0.4448 -0.07369 0.06477 0.2558 491\n",
      "10:100077732 10 100077732 T C 0.3343 0.1168 0.0713 0.102 491\n",
      "10:100085888 10 100085888 C A 0.3263 0.07939 0.06827 0.2454 491\n"
     ]
    }
   ],
   "source": [
    "%%bash\n",
    "\n",
    "### Reformat both files for METAL genome-wide\n",
    "OUT=/data/Workshop5_MetaAnalysis/part2\n",
    "\n",
    "echo \"SNPID rsID CHR POS EA NEA EAF beta se pval N\" > ${OUT}/GIANT_EUR_bothsexes_reformatted\n",
    "awk '{print $1,$2,$10,$11,$3,$4,$5,$6,$7,$8,$9}' ${OUT}/GIANT_EUR_bothsexes >> ${OUT}/GIANT_EUR_bothsexes_reformatted\n",
    "head ${OUT}/GIANT_EUR_bothsexes_reformatted\n",
    "\n",
    "echo \"SNPID CHR POS EA NEA EAF beta se pval N\" > ${OUT}/cohort1_reformatted\n",
    "awk 'BEGIN { FS = \"\\t\" } ; {if(NR>1){print $1,$2,$3,$10,$11,$12,$5,$6,$9,$4}}' ${OUT}/cohort1.summarystats >> ${OUT}/cohort1_reformatted\n",
    "head ${OUT}/cohort1_reformatted"
   ]
  },
  {
   "cell_type": "code",
   "execution_count": 4,
   "metadata": {
    "collapsed": false,
    "hide_input": false,
    "scrolled": false
   },
   "outputs": [
    {
     "name": "stdout",
     "output_type": "stream",
     "text": [
      "# This file contains a short description of the columns in the\n",
      "# meta-analysis summary file, named 'BMI1.TBL'\n",
      "\n",
      "# Marker    - this is the marker name\n",
      "# Allele1   - the first allele for this marker in the first file where it occurs\n",
      "# Allele2   - the second allele for this marker in the first file where it occurs\n",
      "# Freq1       - weighted average of frequency for allele 1 across all studies\n",
      "# FreqSE      - corresponding standard error for allele frequency estimate\n",
      "# MinFreq     - minimum frequency for allele 1 across all studies\n",
      "# MaxFreq     - maximum frequency for allele 1 across all studies\n",
      "# Effect    - overall estimated effect size for allele1\n",
      "# StdErr    - overall standard error for effect size estimate\n",
      "# P-value   - meta-analysis p-value\n",
      "# Direction - summary of effect direction for each study, with one '+' or '-' per study\n",
      "# HetISq    - I^2 statistic which measures heterogeneity on scale of 0-100%\n",
      "# HetChiSq  - chi-squared statistic in simple test of heterogeneity\n",
      "# df        - degrees of freedom for heterogeneity statistic\n",
      "# HetPVal   - P-value for heterogeneity statistic\n",
      "# N_total   - custom variable 1\n",
      "\n",
      "# Input for this meta-analysis was stored in the files:\n",
      "# --> Input File 1 : /data/Workshop5_MetaAnalysis/part2/cohort1_reformatted\n",
      "# --> Input File 2 : /data/Workshop5_MetaAnalysis/part2/GIANT_EUR_bothsexes_reformatted\n",
      "\n",
      "280010 /data/Workshop5_MetaAnalysis/part2/BMI1.TBL\n",
      "MarkerName\tAllele1\tAllele2\tFreq1\tFreqSE\tMinFreq\tMaxFreq\tEffect\tStdErr\tP-value\tDirection\tHetISq\tHetChiSq\tHetDf\tHetPVal\tN_total\n",
      "8:132292590\tt\tc\t0.7248\t0.0031\t0.6717\t0.7250\t-0.0042\t0.0040\t0.2935\t+-\t0.0\t0.768\t1\t0.3807\t234274\n",
      "16:86515199\tt\tg\t0.5000\t0.0001\t0.5000\t0.5020\t0.0018\t0.0037\t0.6286\t++\t0.0\t0.761\t1\t0.3831\t233772\n",
      "12:110132304\tt\tg\t0.0169\t0.0029\t0.0167\t0.0512\t0.0218\t0.0120\t0.06817\t++\t32.5\t1.481\t1\t0.2236\t153987\n",
      "14:91896534\ta\tc\t0.3583\t0.0005\t0.3583\t0.3675\t-0.0037\t0.0038\t0.3336\t--\t64.2\t2.790\t1\t0.09488\t233600\n",
      "2:66602521\tt\tg\t0.6167\t0.0002\t0.6167\t0.6205\t0.0063\t0.0040\t0.1166\t++\t0.0\t0.062\t1\t0.8035\t234279\n",
      "7:114918175\tt\tc\t0.3335\t0.0038\t0.3333\t0.3956\t-0.0016\t0.0040\t0.6881\t--\t0.0\t0.000\t1\t0.9908\t233659\n",
      "7:671687\tt\tc\t0.3163\t0.0000\t0.3163\t0.3163\t-0.0067\t0.0690\t0.9223\t-?\t0.0\t0.000\t0\t1\t491\n",
      "11:132237417\tt\tg\t0.6250\t0.0003\t0.6250\t0.6305\t0.0007\t0.0038\t0.853\t++\t0.0\t0.000\t1\t0.9893\t234476\n",
      "5:85961838\tt\tg\t0.0583\t0.0006\t0.0482\t0.0583\t0.0010\t0.0082\t0.906\t-+\t0.0\t0.265\t1\t0.6067\t233935\n"
     ]
    }
   ],
   "source": [
    "%%bash\n",
    "\n",
    "### Run METAL with per-study MAF>=0.01\n",
    "OUT=/data/Workshop5_MetaAnalysis/part2\n",
    "DIRcode=/data/Workshop5_MetaAnalysis/code\n",
    "\n",
    "trait=BMI\n",
    "${DIRcode}/RUN_METAL_genomewide.sh ${OUT} ${trait}\n",
    "\n",
    "### Check if run completed successfully\n",
    "cat ${OUT}/${trait}1.TBL.info\n",
    "wc -l ${OUT}/${trait}1.TBL\n",
    "head ${OUT}/${trait}1.TBL"
   ]
  },
  {
   "cell_type": "code",
   "execution_count": 51,
   "metadata": {
    "collapsed": false,
    "hide_input": true,
    "scrolled": true
   },
   "outputs": [
    {
     "name": "stdout",
     "output_type": "stream",
     "text": [
      "chromosome position pvalue\n",
      "8 132292590 0.2935\n",
      "16 86515199 0.6286\n",
      "12 110132304 0.06817\n",
      "14 91896534 0.3336\n",
      "2 66602521 0.1166\n",
      "7 114918175 0.6881\n",
      "7 671687 0.9223\n",
      "11 132237417 0.853\n",
      "5 85961838 0.906\n"
     ]
    }
   ],
   "source": [
    "%%bash\n",
    "\n",
    "### Prepare meta-analysis results for plotting\n",
    "OUT=/data/Workshop5_MetaAnalysis/part2\n",
    "trait=BMI\n",
    "echo \"chromosome position pvalue\" > ${OUT}/${trait}_forplotting\n",
    "sed 's/:/ /g' ${OUT}/${trait}1.TBL | awk '{if(NR>1)print $1,$2,$11}' >> ${OUT}/${trait}_forplotting\n",
    "head ${OUT}/${trait}_forplotting"
   ]
  },
  {
   "cell_type": "code",
   "execution_count": 40,
   "metadata": {
    "collapsed": false
   },
   "outputs": [
    {
     "name": "stdout",
     "output_type": "stream",
     "text": [
      "The rpy2.ipython extension is already loaded. To reload it, use:\n",
      "  %reload_ext rpy2.ipython\n"
     ]
    }
   ],
   "source": [
    "%reload_ext rpy2.ipython"
   ]
  },
  {
   "cell_type": "code",
   "execution_count": 53,
   "metadata": {
    "collapsed": false
   },
   "outputs": [
    {
     "data": {
      "image/png": "[encoded data removed]"
     },
     "metadata": {},
     "output_type": "display_data"
    }
   ],
   "source": [
    "%%R\n",
    "\n",
    "### Manhattan plot\n",
    "\n",
    "input=\"/data/Workshop5_MetaAnalysis/part2/BMI_forplotting\"\n",
    "#out=\"/data/Workshop5_MetaAnalysis/part2/Manhattan_BMI.png\"\n",
    "\n",
    "data<-read.table(input,stringsAsFactors=FALSE,header=TRUE)\n",
    "#png(out,height=600,width=800)\n",
    "\n",
    "obspval <- as.numeric(data$pvalue)\n",
    "chr <- as.numeric(data$chromosome)\n",
    "pos <- as.numeric(data$position)\n",
    "obsmax <- trunc(max(-log10(obspval)))+1\n",
    "\n",
    "sort.ind <- order(chr, pos) \n",
    "chr <- chr[sort.ind]\n",
    "pos <- pos[sort.ind]\n",
    "obspval <- obspval[sort.ind]\n",
    "\n",
    "x <- 1:23\n",
    "x2<- 1:23\n",
    "\n",
    "for (i in 1:23){\n",
    "\tcurchr=which(chr==i)\n",
    "\tx[i] <- trunc((max(pos[curchr]))/100) +100000\n",
    "\tx2[i] <- trunc((min(pos[curchr]))/100) -100000\n",
    "}\n",
    "\n",
    "x[1]=x[1]-x2[1]\n",
    "x2[1]=0-x2[1]\n",
    "\n",
    "for (i in 2:24){\n",
    "\tx[i] <- x[i-1]-x2[i]+x[i]\n",
    "\tx2[i] <- x[i-1]-x2[i]\n",
    "}\n",
    "\n",
    "locX = trunc(pos/100) + x2[chr]\n",
    "locY = -log10(obspval)\n",
    "col1=rgb(0,0,108,maxColorValue=255)\n",
    "col2=rgb(100,149,237,maxColorValue=255)\n",
    "col3=rgb(0,205,102,maxColorValue=255)\n",
    "col4 <- ifelse (chr%%2==0, col1, col2)\n",
    "curcol <- ifelse (obspval<5e-8, col3, col4) \n",
    "plot(locX,locY,pch=20,col=curcol,axes=F,ylab=\"-log10 p-value\",xlab=\"\",bty=\"n\",ylim=c(0,obsmax),cex=0.8)\n",
    "axis(2,las=1)\n",
    "for (i in 1:23){\n",
    "\tlabpos = (x[i] + x2[i]) / 2\n",
    "\tmtext(i,1,at=labpos,cex=0.8,line=0)\n",
    "}\n",
    "mtext(\"Chromosome\",1,at=x[23]/2,cex=1,line=1)\n",
    "#dev.off()"
   ]
  },
  {
   "cell_type": "code",
   "execution_count": 56,
   "metadata": {
    "collapsed": false
   },
   "outputs": [
    {
     "data": {
      "image/png": "[encoded data removed]"
     },
     "metadata": {},
     "output_type": "display_data"
    }
   ],
   "source": [
    "%%R\n",
    "\n",
    "### Q-Q plot\n",
    "\n",
    "input=\"/data/Workshop5_MetaAnalysis/part2/BMI_forplotting\"\n",
    "#out=\"/data/Workshop5_MetaAnalysis/part2/QQ_BMI.png\"\n",
    "\n",
    "data<-read.table(input,stringsAsFactors=FALSE,header=TRUE)\n",
    "#png(out,height=600,width=600)\n",
    "obspval <- sort(data$pvalue)\n",
    "lambda<-median(qchisq(as.numeric(obspval),1,lower=F))/qchisq(0.5,1)\n",
    "logobspval <- -(log10(obspval))\n",
    "exppval <- c(1:length(obspval))\n",
    "logexppval <- -(log10( (exppval-0.5)/length(exppval)))\n",
    "obsmax <- trunc(max(logobspval))+1\n",
    "expmax <- trunc(max(logexppval))+1\n",
    "plot(c(0,expmax), c(0,expmax), col=\"gray\", lwd=1, type=\"l\", xlab=\"Expected -log10 P-value\", ylab=\"Observed -log10 P-value\", xlim=c(0,expmax), ylim=c(0,obsmax), las=1, xaxs=\"i\", yaxs=\"i\", bty=\"l\")\n",
    "points(logexppval, logobspval, pch=23, cex=.4, bg=\"black\")\n",
    "text(1,obsmax - 10,adj = c(0,0),labels=c(paste(\"Lambda =\",lambda)),cex=1)\n",
    "#dev.off()"
   ]
  },
  {
   "cell_type": "code",
   "execution_count": 58,
   "metadata": {
    "collapsed": false
   },
   "outputs": [
    {
     "data": {
      "image/png": "[encoded data removed]"
     },
     "metadata": {},
     "output_type": "display_data"
    }
   ],
   "source": [
    "%%R\n",
    "\n",
    "### Q-Q plot after excluding known BMI variants (and all variants within 500kb of them)\n",
    "\n",
    "input=\"/data/Workshop5_MetaAnalysis/part2/BMI_forplotting\"\n",
    "#out=\"/data/Workshop5_MetaAnalysis/part2/QQ_BMI_multi.png\"\n",
    "\n",
    "data<-read.table(input,stringsAsFactors=FALSE,header=TRUE)\n",
    "poscons<-read.table(\"/data/Workshop5_MetaAnalysis/part2/Anthropometric_poscontrols_uk10k_GIANT_withObesity_BMIonly\",header=F,as.is=T)\n",
    "dim(poscons)\n",
    "poscons[1:10,]\n",
    "table(poscons[,6])\n",
    "st_rm<-c()\n",
    "for(i in 1:nrow(poscons)){\n",
    "st=which(data$chromosome==poscons[i,4] & data$position>=(poscons[i,5]-500000) & data$position<=(poscons[i,5]+500000))\n",
    "st_rm<-c(st,st_rm)\n",
    "}\n",
    "\n",
    "st_rm=sort(unique(st_rm))\n",
    "pvalues_all<-data$pvalue\n",
    "pvalues_novel<-data$pvalue[-st_rm]\n",
    "\n",
    "name<-c(\"All markers\", \"Excluding known loci\")\n",
    "color<-c(\"black\", \"blue\")\n",
    "zoomed<-0 # indicates if you want to zoom into the QQplot\n",
    "\n",
    "### SNP set 1  ##\n",
    "num.snps <- length(na.omit(pvalues_all)) \n",
    "expected1<-c(1:num.snps)/(num.snps + 1)\n",
    "lambda<-round(median(qchisq(as.numeric(pvalues_all),1,lower=F))/qchisq(0.5,1), digits=4)\n",
    "\n",
    "### Expected values and limits  ###\n",
    "expected1.b<-xmax<- -1*log10(sort(expected1))\n",
    "pvals1.b<-ymax<- -1*log10(sort(as.numeric(pvalues_all)))\n",
    "leg_name_out<-c(paste(name[1], \" (n=\", num.snps, \")\", sep=\"\"), paste(\"     lambda = \", lambda, sep=\"\"))\n",
    "\n",
    "# novel\n",
    "num.snps <- length(na.omit(pvalues_novel)) \n",
    "expected<-c(1:num.snps)/(num.snps + 1)\n",
    "expected.b<- -1*log10(sort(expected))\n",
    "pvals.b<- -1*log10(sort(as.numeric(pvalues_novel)))\n",
    "xmax<-max(xmax, expected.b)\n",
    "ymax<-max(ymax, pvals.b)\n",
    "\n",
    "if(zoomed==1){\n",
    "\txlimit<-c(xmax+.5) \n",
    "\tylimit<-c(4)\n",
    "}\n",
    "\n",
    "if(zoomed==0){\n",
    "\txlimit<-c(xmax+.5)\n",
    "\tylimit<-c(ymax+.5)\n",
    "} \n",
    "\n",
    "#png(out,height=600,width=600)\n",
    "plot(expected1.b, pvals1.b,xlim=c(-.3,xlimit),ylim=c(0,ylimit),col=color[1],type=\"p\", pch=\".\", cex=3,xlab=\"Expected -log10(p)\", ylab=\"Observed -log10(p)\",cex.lab=1.5) \n",
    "\n",
    "# novel\n",
    "num.snps <- length(na.omit(pvalues_novel)) \n",
    "expected<-c(1:num.snps)/(num.snps + 1)\n",
    "expected.b<- -1*log10(sort(expected))\n",
    "pvals.b<- -1*log10(sort(as.numeric(pvalues_novel)))\n",
    "lambda<-round(median(qchisq(as.numeric(pvalues_novel),1,lower=F))/qchisq(0.5,1), digits=4)\n",
    "points(expected.b, pvals.b,col=color[2],type=\"p\", pch=\".\", cex=3)  \n",
    "abline(0,1,col=\"black\")  \n",
    "leg_name<-c(paste(name[2], \" (n=\", num.snps, \")\", sep=\"\"), paste(\"     lambda = \", lambda, sep=\"\"))\n",
    "leg_name_out<-c(leg_name_out, leg_name)\n",
    "\n",
    "legend(\"topleft\", leg_name_out,text.col=rep(color, each=2), bty=\"n\", cex=1.1, inset=-0.01) \n",
    "#dev.off()"
   ]
  },
  {
   "cell_type": "markdown",
   "metadata": {},
   "source": [
    "### Questions: Look at the summary results [here](https://docs.google.com/spreadsheets/d/1GZCU3Rb-L7tSffl9A5rWPfMjJP1GjmLB13h4vMagsAA/edit?usp=sharing)\n",
    "\n",
    "- How many signals are genome-wide significant?\n",
    "- For how many signals were the results of our study nominally significant and in the same direction of effect?\n",
    "- How do the results of the meta-analysis compare to the GIANT ones? Why?\n",
    "- Is there evidence of heterogeneity?\n",
    "\n",
    "\n"
   ]
  },
  {
   "cell_type": "code",
   "execution_count": null,
   "metadata": {
    "collapsed": true
   },
   "outputs": [],
   "source": []
  }
 ],
 "metadata": {
  "hide_input": false,
  "kernelspec": {
   "display_name": "Python 3",
   "language": "python",
   "name": "python3"
  },
  "language_info": {
   "codemirror_mode": {
    "name": "ipython",
    "version": 3
   },
   "file_extension": ".py",
   "mimetype": "text/x-python",
   "name": "python",
   "nbconvert_exporter": "python",
   "pygments_lexer": "ipython3",
   "version": "3.4.3"
  }
 },
 "nbformat": 4,
 "nbformat_minor": 0
}
